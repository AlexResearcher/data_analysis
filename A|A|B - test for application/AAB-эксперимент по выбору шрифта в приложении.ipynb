{
 "cells": [
  {
   "cell_type": "markdown",
   "metadata": {},
   "source": [
    "# A/A/B-эксперимент для приложения стартапа, который продаёт продукты питания"
   ]
  },
  {
   "cell_type": "markdown",
   "metadata": {},
   "source": [
    "### Введение"
   ]
  },
  {
   "cell_type": "markdown",
   "metadata": {},
   "source": [
    "#### Краткое описание, цели и задачи проекта"
   ]
  },
  {
   "cell_type": "markdown",
   "metadata": {},
   "source": [
    "Краткое описание: поступила идея от дизайнеров поменять шрифты во всём приложении, решение будет принято по результатам A/A/B-теста. Пользователей разбили на 3 группы: 2 контрольные со старыми шрифтами и одну экспериментальную — с новыми.\n",
    "\n",
    "Есть две основные задачи, которые можно разбить на промежуточные:\n",
    "\n",
    "1) Нужно изучить, как ведут себя пользователи мобильного приложения. Для этого рассмотрим:\n",
    "* Воронку продаж. \n",
    "* Как пользователи доходят до покупки. \n",
    "* Сколько пользователей доходит до покупки, а сколько — «застревает» на предыдущих шагах? На каких именно?\n",
    "\n",
    "2) Исследуем результаты A/A/B-эксперимента по изменению шрифта\n",
    "* Проверим, находят ли статистические критерии разницу между выборками 246 и 247. Таким образом мы проверим корректность формирования контрольных групп для А/А теста.\n",
    "* Проверим есть ли статистически значимые различия между контрольными группами и группой с измененным шрифтом.\n",
    "\n",
    "Цель проекта - выяснить, какой шрифт лучше."
   ]
  },
  {
   "cell_type": "markdown",
   "metadata": {},
   "source": [
    "#### Описание данных"
   ]
  },
  {
   "cell_type": "markdown",
   "metadata": {},
   "source": [
    "Каждая запись в логе — это действие пользователя, или событие. \n",
    "* EventName — название события;\n",
    "* DeviceIDHash — уникальный идентификатор пользователя;\n",
    "* EventTimestamp — время события;\n",
    "* ExpId — номер эксперимента: 246 и 247 — контрольные группы, а 248 — экспериментальная."
   ]
  },
  {
   "cell_type": "markdown",
   "metadata": {},
   "source": [
    "### Откроем файл с данными и изучим общую информацию"
   ]
  },
  {
   "cell_type": "markdown",
   "metadata": {},
   "source": [
    "Загрузим нужные библиотеки."
   ]
  },
  {
   "cell_type": "code",
   "execution_count": 1,
   "metadata": {},
   "outputs": [],
   "source": [
    "import pandas as pd\n",
    "import matplotlib.pyplot as plt\n",
    "import numpy as np\n",
    "import datetime as dt\n",
    "from plotly import graph_objects as go\n",
    "import math as mth\n",
    "from scipy import stats as st"
   ]
  },
  {
   "cell_type": "markdown",
   "metadata": {},
   "source": [
    "Изучим общую информацию."
   ]
  },
  {
   "cell_type": "code",
   "execution_count": 2,
   "metadata": {},
   "outputs": [],
   "source": [
    "data = pd.read_csv('logs_exp.csv', sep='\\t')"
   ]
  },
  {
   "cell_type": "code",
   "execution_count": 3,
   "metadata": {},
   "outputs": [
    {
     "data": {
      "text/html": [
       "<div>\n",
       "<style scoped>\n",
       "    .dataframe tbody tr th:only-of-type {\n",
       "        vertical-align: middle;\n",
       "    }\n",
       "\n",
       "    .dataframe tbody tr th {\n",
       "        vertical-align: top;\n",
       "    }\n",
       "\n",
       "    .dataframe thead th {\n",
       "        text-align: right;\n",
       "    }\n",
       "</style>\n",
       "<table border=\"1\" class=\"dataframe\">\n",
       "  <thead>\n",
       "    <tr style=\"text-align: right;\">\n",
       "      <th></th>\n",
       "      <th>EventName</th>\n",
       "      <th>DeviceIDHash</th>\n",
       "      <th>EventTimestamp</th>\n",
       "      <th>ExpId</th>\n",
       "    </tr>\n",
       "  </thead>\n",
       "  <tbody>\n",
       "    <tr>\n",
       "      <th>0</th>\n",
       "      <td>MainScreenAppear</td>\n",
       "      <td>4575588528974610257</td>\n",
       "      <td>1564029816</td>\n",
       "      <td>246</td>\n",
       "    </tr>\n",
       "    <tr>\n",
       "      <th>1</th>\n",
       "      <td>MainScreenAppear</td>\n",
       "      <td>7416695313311560658</td>\n",
       "      <td>1564053102</td>\n",
       "      <td>246</td>\n",
       "    </tr>\n",
       "    <tr>\n",
       "      <th>2</th>\n",
       "      <td>PaymentScreenSuccessful</td>\n",
       "      <td>3518123091307005509</td>\n",
       "      <td>1564054127</td>\n",
       "      <td>248</td>\n",
       "    </tr>\n",
       "    <tr>\n",
       "      <th>3</th>\n",
       "      <td>CartScreenAppear</td>\n",
       "      <td>3518123091307005509</td>\n",
       "      <td>1564054127</td>\n",
       "      <td>248</td>\n",
       "    </tr>\n",
       "    <tr>\n",
       "      <th>4</th>\n",
       "      <td>PaymentScreenSuccessful</td>\n",
       "      <td>6217807653094995999</td>\n",
       "      <td>1564055322</td>\n",
       "      <td>248</td>\n",
       "    </tr>\n",
       "  </tbody>\n",
       "</table>\n",
       "</div>"
      ],
      "text/plain": [
       "                 EventName         DeviceIDHash  EventTimestamp  ExpId\n",
       "0         MainScreenAppear  4575588528974610257      1564029816    246\n",
       "1         MainScreenAppear  7416695313311560658      1564053102    246\n",
       "2  PaymentScreenSuccessful  3518123091307005509      1564054127    248\n",
       "3         CartScreenAppear  3518123091307005509      1564054127    248\n",
       "4  PaymentScreenSuccessful  6217807653094995999      1564055322    248"
      ]
     },
     "execution_count": 3,
     "metadata": {},
     "output_type": "execute_result"
    }
   ],
   "source": [
    "data.head()"
   ]
  },
  {
   "cell_type": "code",
   "execution_count": 4,
   "metadata": {},
   "outputs": [
    {
     "name": "stdout",
     "output_type": "stream",
     "text": [
      "<class 'pandas.core.frame.DataFrame'>\n",
      "RangeIndex: 244126 entries, 0 to 244125\n",
      "Data columns (total 4 columns):\n",
      " #   Column          Non-Null Count   Dtype \n",
      "---  ------          --------------   ----- \n",
      " 0   EventName       244126 non-null  object\n",
      " 1   DeviceIDHash    244126 non-null  int64 \n",
      " 2   EventTimestamp  244126 non-null  int64 \n",
      " 3   ExpId           244126 non-null  int64 \n",
      "dtypes: int64(3), object(1)\n",
      "memory usage: 7.5+ MB\n"
     ]
    }
   ],
   "source": [
    "data.info()"
   ]
  },
  {
   "cell_type": "markdown",
   "metadata": {},
   "source": [
    "Посмотрим какие есть события."
   ]
  },
  {
   "cell_type": "code",
   "execution_count": 5,
   "metadata": {},
   "outputs": [
    {
     "data": {
      "text/plain": [
       "array(['MainScreenAppear', 'PaymentScreenSuccessful', 'CartScreenAppear',\n",
       "       'OffersScreenAppear', 'Tutorial'], dtype=object)"
      ]
     },
     "execution_count": 5,
     "metadata": {},
     "output_type": "execute_result"
    }
   ],
   "source": [
    "data['EventName'].unique()"
   ]
  },
  {
   "cell_type": "markdown",
   "metadata": {},
   "source": [
    "Приступим к предобработке."
   ]
  },
  {
   "cell_type": "markdown",
   "metadata": {},
   "source": [
    "### Подготовим данные"
   ]
  },
  {
   "cell_type": "markdown",
   "metadata": {},
   "source": [
    "#### Переименуем колонки и посмотрим на общую информацию"
   ]
  },
  {
   "cell_type": "code",
   "execution_count": 6,
   "metadata": {},
   "outputs": [],
   "source": [
    "data = data.rename(\n",
    "columns={'EventName': 'event_name', 'DeviceIDHash': 'device_id_hash', 'EventTimestamp':'event_timestamp','ExpId':'exp_id'})"
   ]
  },
  {
   "cell_type": "markdown",
   "metadata": {},
   "source": [
    "Посмотрим на общую информацию."
   ]
  },
  {
   "cell_type": "code",
   "execution_count": 7,
   "metadata": {},
   "outputs": [
    {
     "name": "stdout",
     "output_type": "stream",
     "text": [
      "<class 'pandas.core.frame.DataFrame'>\n",
      "RangeIndex: 244126 entries, 0 to 244125\n",
      "Data columns (total 4 columns):\n",
      " #   Column           Non-Null Count   Dtype \n",
      "---  ------           --------------   ----- \n",
      " 0   event_name       244126 non-null  object\n",
      " 1   device_id_hash   244126 non-null  int64 \n",
      " 2   event_timestamp  244126 non-null  int64 \n",
      " 3   exp_id           244126 non-null  int64 \n",
      "dtypes: int64(3), object(1)\n",
      "memory usage: 7.5+ MB\n"
     ]
    }
   ],
   "source": [
    "data.info()"
   ]
  },
  {
   "cell_type": "code",
   "execution_count": 8,
   "metadata": {},
   "outputs": [
    {
     "data": {
      "text/plain": [
       "event_name         0\n",
       "device_id_hash     0\n",
       "event_timestamp    0\n",
       "exp_id             0\n",
       "dtype: int64"
      ]
     },
     "execution_count": 8,
     "metadata": {},
     "output_type": "execute_result"
    }
   ],
   "source": [
    "data.isna().sum()"
   ]
  },
  {
   "cell_type": "markdown",
   "metadata": {},
   "source": [
    "Пропусков нет. Типы данных впорядке, название столбцов подкорректировали."
   ]
  },
  {
   "cell_type": "markdown",
   "metadata": {},
   "source": [
    "#### Добавим столбец даты и времени, а также отдельный столбец дат"
   ]
  },
  {
   "cell_type": "code",
   "execution_count": 9,
   "metadata": {},
   "outputs": [],
   "source": [
    "# добавим столбец даты и времени\n",
    "data['date_time'] = pd.to_datetime(data['event_timestamp'], unit='s')"
   ]
  },
  {
   "cell_type": "code",
   "execution_count": 10,
   "metadata": {},
   "outputs": [],
   "source": [
    "# добавим столбец с датой\n",
    "data['date'] = data['date_time'].dt.date"
   ]
  },
  {
   "cell_type": "code",
   "execution_count": 11,
   "metadata": {},
   "outputs": [
    {
     "data": {
      "text/html": [
       "<div>\n",
       "<style scoped>\n",
       "    .dataframe tbody tr th:only-of-type {\n",
       "        vertical-align: middle;\n",
       "    }\n",
       "\n",
       "    .dataframe tbody tr th {\n",
       "        vertical-align: top;\n",
       "    }\n",
       "\n",
       "    .dataframe thead th {\n",
       "        text-align: right;\n",
       "    }\n",
       "</style>\n",
       "<table border=\"1\" class=\"dataframe\">\n",
       "  <thead>\n",
       "    <tr style=\"text-align: right;\">\n",
       "      <th></th>\n",
       "      <th>event_name</th>\n",
       "      <th>device_id_hash</th>\n",
       "      <th>event_timestamp</th>\n",
       "      <th>exp_id</th>\n",
       "      <th>date_time</th>\n",
       "      <th>date</th>\n",
       "    </tr>\n",
       "  </thead>\n",
       "  <tbody>\n",
       "    <tr>\n",
       "      <th>0</th>\n",
       "      <td>MainScreenAppear</td>\n",
       "      <td>4575588528974610257</td>\n",
       "      <td>1564029816</td>\n",
       "      <td>246</td>\n",
       "      <td>2019-07-25 04:43:36</td>\n",
       "      <td>2019-07-25</td>\n",
       "    </tr>\n",
       "    <tr>\n",
       "      <th>1</th>\n",
       "      <td>MainScreenAppear</td>\n",
       "      <td>7416695313311560658</td>\n",
       "      <td>1564053102</td>\n",
       "      <td>246</td>\n",
       "      <td>2019-07-25 11:11:42</td>\n",
       "      <td>2019-07-25</td>\n",
       "    </tr>\n",
       "    <tr>\n",
       "      <th>2</th>\n",
       "      <td>PaymentScreenSuccessful</td>\n",
       "      <td>3518123091307005509</td>\n",
       "      <td>1564054127</td>\n",
       "      <td>248</td>\n",
       "      <td>2019-07-25 11:28:47</td>\n",
       "      <td>2019-07-25</td>\n",
       "    </tr>\n",
       "    <tr>\n",
       "      <th>3</th>\n",
       "      <td>CartScreenAppear</td>\n",
       "      <td>3518123091307005509</td>\n",
       "      <td>1564054127</td>\n",
       "      <td>248</td>\n",
       "      <td>2019-07-25 11:28:47</td>\n",
       "      <td>2019-07-25</td>\n",
       "    </tr>\n",
       "    <tr>\n",
       "      <th>4</th>\n",
       "      <td>PaymentScreenSuccessful</td>\n",
       "      <td>6217807653094995999</td>\n",
       "      <td>1564055322</td>\n",
       "      <td>248</td>\n",
       "      <td>2019-07-25 11:48:42</td>\n",
       "      <td>2019-07-25</td>\n",
       "    </tr>\n",
       "  </tbody>\n",
       "</table>\n",
       "</div>"
      ],
      "text/plain": [
       "                event_name       device_id_hash  event_timestamp  exp_id  \\\n",
       "0         MainScreenAppear  4575588528974610257       1564029816     246   \n",
       "1         MainScreenAppear  7416695313311560658       1564053102     246   \n",
       "2  PaymentScreenSuccessful  3518123091307005509       1564054127     248   \n",
       "3         CartScreenAppear  3518123091307005509       1564054127     248   \n",
       "4  PaymentScreenSuccessful  6217807653094995999       1564055322     248   \n",
       "\n",
       "            date_time        date  \n",
       "0 2019-07-25 04:43:36  2019-07-25  \n",
       "1 2019-07-25 11:11:42  2019-07-25  \n",
       "2 2019-07-25 11:28:47  2019-07-25  \n",
       "3 2019-07-25 11:28:47  2019-07-25  \n",
       "4 2019-07-25 11:48:42  2019-07-25  "
      ]
     },
     "execution_count": 11,
     "metadata": {},
     "output_type": "execute_result"
    }
   ],
   "source": [
    "data.head()"
   ]
  },
  {
   "cell_type": "markdown",
   "metadata": {},
   "source": [
    "#### Посмотрим есть ли дубликаты"
   ]
  },
  {
   "cell_type": "code",
   "execution_count": 12,
   "metadata": {},
   "outputs": [
    {
     "data": {
      "text/plain": [
       "413"
      ]
     },
     "execution_count": 12,
     "metadata": {},
     "output_type": "execute_result"
    }
   ],
   "source": [
    "data.duplicated().sum()"
   ]
  },
  {
   "cell_type": "markdown",
   "metadata": {},
   "source": [
    "Дубликатов много, посмотрим, как распределены дубликаты по разным событиям и группам тестирования."
   ]
  },
  {
   "cell_type": "code",
   "execution_count": 13,
   "metadata": {},
   "outputs": [
    {
     "data": {
      "text/plain": [
       "event_name\n",
       "CartScreenAppear           0.147434\n",
       "MainScreenAppear           0.087245\n",
       "OffersScreenAppear         0.036305\n",
       "PaymentScreenSuccessful    0.568298\n",
       "Tutorial                   3.231939\n",
       "Name: event_name, dtype: float64"
      ]
     },
     "execution_count": 13,
     "metadata": {},
     "output_type": "execute_result"
    }
   ],
   "source": [
    "# посчитаем долю дубликатов в каждом событии\n",
    "(data[data.duplicated()].groupby('event_name')\n",
    "                         ['event_name'].count() / data.groupby('event_name')['event_name'].count() * 100)"
   ]
  },
  {
   "cell_type": "markdown",
   "metadata": {},
   "source": [
    "Наибольшая доля дубликатов у Tutorial. Это раздел или страница с инструкцией пользователя. Возможно, люди сразу открывают инструкцию в двух вкладках, чтобы в одной прочитать сразу, а в другой оставить, если чуть позже она понадобится. Но для построения воронки и A/A/B теста нам достаточно того, что человек открыл раздел 1 раз. "
   ]
  },
  {
   "cell_type": "code",
   "execution_count": 14,
   "metadata": {},
   "outputs": [
    {
     "data": {
      "text/plain": [
       "exp_id\n",
       "246    0.153168\n",
       "247    0.160102\n",
       "248    0.192427\n",
       "Name: exp_id, dtype: float64"
      ]
     },
     "execution_count": 14,
     "metadata": {},
     "output_type": "execute_result"
    }
   ],
   "source": [
    "# посчитаем долю дубликатов в каждой группе\n",
    "data[data.duplicated()].groupby('exp_id')['exp_id'].count() / data.groupby('exp_id')['exp_id'].count() * 100"
   ]
  },
  {
   "cell_type": "code",
   "execution_count": 15,
   "metadata": {},
   "outputs": [
    {
     "data": {
      "text/plain": [
       "0.16917493425526162"
      ]
     },
     "execution_count": 15,
     "metadata": {},
     "output_type": "execute_result"
    }
   ],
   "source": [
    "# доля дубликатов от общего количества строк маленькая\n",
    "data.duplicated().sum()/len(data)*100"
   ]
  },
  {
   "cell_type": "markdown",
   "metadata": {},
   "source": [
    "По группам доли очень маленькие и все примерно ровно.\\\n",
    "В целом, можно сделать вывод, что дубликаты можно удалить. Их доли не высокие, и нам будет достаточно того, что человек сделал определенное действие 1 раз."
   ]
  },
  {
   "cell_type": "code",
   "execution_count": 16,
   "metadata": {},
   "outputs": [],
   "source": [
    "data = data.drop_duplicates()"
   ]
  },
  {
   "cell_type": "markdown",
   "metadata": {},
   "source": [
    "### Изучим и проверим данные"
   ]
  },
  {
   "cell_type": "markdown",
   "metadata": {},
   "source": [
    "#### Соберем общую информацию о данных"
   ]
  },
  {
   "cell_type": "markdown",
   "metadata": {},
   "source": [
    "Ответим на три вопроса: \n",
    "* Сколько всего событий?\n",
    "* Сколько всего пользователей в логе?\n",
    "* Сколько в среднем событий приходится на пользователя?"
   ]
  },
  {
   "cell_type": "code",
   "execution_count": 17,
   "metadata": {},
   "outputs": [
    {
     "name": "stdout",
     "output_type": "stream",
     "text": [
      "Всего 243713 событий.\n"
     ]
    }
   ],
   "source": [
    "print(f'Всего {len(data)} событий.')"
   ]
  },
  {
   "cell_type": "code",
   "execution_count": 18,
   "metadata": {},
   "outputs": [],
   "source": [
    "users_count = data['device_id_hash'].nunique()"
   ]
  },
  {
   "cell_type": "code",
   "execution_count": 19,
   "metadata": {},
   "outputs": [
    {
     "name": "stdout",
     "output_type": "stream",
     "text": [
      "Всего 7551 уникальных пользователей.\n"
     ]
    }
   ],
   "source": [
    "print(f'Всего {users_count} уникальных пользователей.')"
   ]
  },
  {
   "cell_type": "code",
   "execution_count": 20,
   "metadata": {},
   "outputs": [],
   "source": [
    "even_per_user = len(data)/users_count "
   ]
  },
  {
   "cell_type": "code",
   "execution_count": 21,
   "metadata": {},
   "outputs": [
    {
     "name": "stdout",
     "output_type": "stream",
     "text": [
      "На одного пользователя приходится 32.28 событий.\n"
     ]
    }
   ],
   "source": [
    "print(f'На одного пользователя приходится {round(even_per_user,2)} событий.')"
   ]
  },
  {
   "cell_type": "markdown",
   "metadata": {},
   "source": [
    "#### Изучим данные и распределение событий по датам"
   ]
  },
  {
   "cell_type": "code",
   "execution_count": 22,
   "metadata": {},
   "outputs": [
    {
     "name": "stdout",
     "output_type": "stream",
     "text": [
      "Мы имеем данные с 2019-07-25 по 2019-08-07.\n"
     ]
    }
   ],
   "source": [
    "min_date = data['date'].min()\n",
    "max_date = data['date'].max()\n",
    "print(f'Мы имеем данные с {min_date} по {max_date}.')"
   ]
  },
  {
   "cell_type": "code",
   "execution_count": 23,
   "metadata": {},
   "outputs": [
    {
     "data": {
      "image/png": "[encoded data removed]",
      "text/plain": [
       "<Figure size 1700x500 with 1 Axes>"
      ]
     },
     "metadata": {},
     "output_type": "display_data"
    }
   ],
   "source": [
    "plt.figure(figsize=(17, 5))\n",
    "plt.title('Гистограмма по дате и времени')\n",
    "plt.xlabel('Даты')\n",
    "plt.ylabel('Частота появления даты')\n",
    "data['date_time'].hist(bins=30)\n",
    "plt.show()"
   ]
  },
  {
   "cell_type": "markdown",
   "metadata": {},
   "source": [
    "По графику видно, что до начала августа крайне мало событий приходилось на каждую дату. "
   ]
  },
  {
   "cell_type": "code",
   "execution_count": 24,
   "metadata": {},
   "outputs": [
    {
     "data": {
      "text/plain": [
       "count                           243713\n",
       "mean     2019-08-04 10:19:17.987665920\n",
       "min                2019-07-25 04:43:36\n",
       "25%                2019-08-02 14:36:45\n",
       "50%                2019-08-04 11:51:00\n",
       "75%                2019-08-06 06:56:24\n",
       "max                2019-08-07 21:15:17\n",
       "Name: date_time, dtype: object"
      ]
     },
     "execution_count": 24,
     "metadata": {},
     "output_type": "execute_result"
    }
   ],
   "source": [
    "data['date_time'].describe(datetime_is_numeric=True)"
   ]
  },
  {
   "cell_type": "markdown",
   "metadata": {},
   "source": [
    "Применив метод describe мы видим, что до обеденнного времени 2 августа было 25% событий."
   ]
  },
  {
   "cell_type": "markdown",
   "metadata": {},
   "source": [
    "Можно посчитать доли событий на каждую дату."
   ]
  },
  {
   "cell_type": "code",
   "execution_count": 25,
   "metadata": {},
   "outputs": [
    {
     "data": {
      "text/plain": [
       "date\n",
       "2019-08-01    14.829328\n",
       "2019-08-05    14.795271\n",
       "2019-08-06    14.684485\n",
       "2019-08-02    14.588471\n",
       "2019-08-03    13.656227\n",
       "2019-08-04    13.527387\n",
       "2019-08-07    12.759270\n",
       "2019-07-31     0.832947\n",
       "2019-07-30     0.169051\n",
       "2019-07-29     0.075499\n",
       "2019-07-28     0.043083\n",
       "2019-07-27     0.022568\n",
       "2019-07-26     0.012720\n",
       "2019-07-25     0.003693\n",
       "Name: date, dtype: float64"
      ]
     },
     "execution_count": 25,
     "metadata": {},
     "output_type": "execute_result"
    }
   ],
   "source": [
    "data.groupby('date')['date'].count().sort_values(ascending=False)/len(data)*100"
   ]
  },
  {
   "cell_type": "markdown",
   "metadata": {},
   "source": [
    "Тут мы также видим, что почти все события в августе."
   ]
  },
  {
   "cell_type": "markdown",
   "metadata": {},
   "source": [
    "Для точности счета долей, можно посмотреть до какой даты и времени было 5% событий и 1% событий."
   ]
  },
  {
   "cell_type": "code",
   "execution_count": 26,
   "metadata": {},
   "outputs": [
    {
     "data": {
      "text/plain": [
       "0.05   2019-08-01 09:28:05.000\n",
       "0.01   2019-07-31 22:02:31.120\n",
       "Name: date_time, dtype: datetime64[ns]"
      ]
     },
     "execution_count": 26,
     "metadata": {},
     "output_type": "execute_result"
    }
   ],
   "source": [
    "data['date_time'].quantile([0.05, 0.01])"
   ]
  },
  {
   "cell_type": "markdown",
   "metadata": {},
   "source": [
    "В итоге, вывод такой, что события в июле можно отбросить. Получается, что отбросим менее 5% данных."
   ]
  },
  {
   "cell_type": "code",
   "execution_count": 27,
   "metadata": {},
   "outputs": [],
   "source": [
    "data_filtered = data.loc[data['date_time'].dt.month > 7]"
   ]
  },
  {
   "cell_type": "code",
   "execution_count": 28,
   "metadata": {},
   "outputs": [
    {
     "name": "stdout",
     "output_type": "stream",
     "text": [
      "После фильтрации количество событий сократилось на -1.17 процентов.\n"
     ]
    }
   ],
   "source": [
    "print(f'После фильтрации количество событий сократилось на {round (100*(1 - len(data)/len(data_filtered)),2)} процентов.')"
   ]
  },
  {
   "cell_type": "markdown",
   "metadata": {},
   "source": [
    "Посмотрим на потери по уникальным пользователям в количественном и процентном соотношении."
   ]
  },
  {
   "cell_type": "code",
   "execution_count": 29,
   "metadata": {},
   "outputs": [],
   "source": [
    "unique_users_diff = round(100*(1 - data['device_id_hash'].nunique()/data_filtered['device_id_hash'].nunique()),2)"
   ]
  },
  {
   "cell_type": "code",
   "execution_count": 30,
   "metadata": {},
   "outputs": [
    {
     "name": "stdout",
     "output_type": "stream",
     "text": [
      "После фильтрации количество уникальных пользователей сократилось на -0.23 процентов.\n"
     ]
    }
   ],
   "source": [
    "print(f'После фильтрации количество уникальных пользователей сократилось на {unique_users_diff } процентов.')"
   ]
  },
  {
   "cell_type": "code",
   "execution_count": 31,
   "metadata": {},
   "outputs": [],
   "source": [
    "unique_users_diff = data['device_id_hash'].nunique() - data_filtered['device_id_hash'].nunique()"
   ]
  },
  {
   "cell_type": "code",
   "execution_count": 32,
   "metadata": {},
   "outputs": [
    {
     "name": "stdout",
     "output_type": "stream",
     "text": [
      "В абсолютном выражение уникальных пользователей после фильтрации стало меньше на 17 человек.\n"
     ]
    }
   ],
   "source": [
    "print(f'В абсолютном выражение уникальных пользователей после фильтрации стало меньше на {unique_users_diff } человек.')"
   ]
  },
  {
   "cell_type": "markdown",
   "metadata": {},
   "source": [
    "Потери небольшие, поэтому такая фильтрация допустима."
   ]
  },
  {
   "cell_type": "markdown",
   "metadata": {},
   "source": [
    "Проверим, как по экспериментальным группам распределно количество пользователей."
   ]
  },
  {
   "cell_type": "code",
   "execution_count": 33,
   "metadata": {},
   "outputs": [
    {
     "data": {
      "text/plain": [
       "exp_id\n",
       "246    79302\n",
       "247    77022\n",
       "248    84563\n",
       "Name: device_id_hash, dtype: int64"
      ]
     },
     "execution_count": 33,
     "metadata": {},
     "output_type": "execute_result"
    }
   ],
   "source": [
    "data_filtered.groupby('exp_id')['device_id_hash'].count()"
   ]
  },
  {
   "cell_type": "code",
   "execution_count": 34,
   "metadata": {},
   "outputs": [
    {
     "data": {
      "text/plain": [
       "exp_id\n",
       "246    32.539093\n",
       "247    31.603566\n",
       "248    34.697780\n",
       "Name: device_id_hash, dtype: float64"
      ]
     },
     "execution_count": 34,
     "metadata": {},
     "output_type": "execute_result"
    }
   ],
   "source": [
    "data_filtered.groupby('exp_id')['device_id_hash'].count() / len(data) * 100"
   ]
  },
  {
   "cell_type": "markdown",
   "metadata": {},
   "source": [
    "Доли пользователей в каждой группе от общего количества пользователей близки между собой."
   ]
  },
  {
   "cell_type": "markdown",
   "metadata": {},
   "source": [
    "### Изучим воронку событий"
   ]
  },
  {
   "cell_type": "markdown",
   "metadata": {},
   "source": [
    "#### Посмотрим, какие события есть в логах, как часто они встречаются"
   ]
  },
  {
   "cell_type": "code",
   "execution_count": 35,
   "metadata": {},
   "outputs": [
    {
     "data": {
      "text/plain": [
       "event_name\n",
       "MainScreenAppear           119101\n",
       "OffersScreenAppear          46808\n",
       "CartScreenAppear            42668\n",
       "PaymentScreenSuccessful     34118\n",
       "Tutorial                     1018\n",
       "Name: event_name, dtype: int64"
      ]
     },
     "execution_count": 35,
     "metadata": {},
     "output_type": "execute_result"
    }
   ],
   "source": [
    "data.groupby('event_name')['event_name'].count().sort_values(ascending = False)"
   ]
  },
  {
   "cell_type": "markdown",
   "metadata": {},
   "source": [
    "* Событие MainScreenAppear - это вход на главный раздел приложения. Логично, что это самое частое событие, так как с него все начинается.\n",
    "* Событие OffersScreenAppear - это,скорее всего, вход на раздел со списком товаров. Идет после главной страницы и до корзины.\n",
    "* Событие CartScreenAppear - это просмотр корзины, куда покупатели отложили товары перед оплатой.\n",
    "* Событие PaymentScreenSuccessful - это окно с уведомлением об успешной оплате.\n",
    "* Tutorial - это просмотр инструкции по работе приложения. Этот раздел наименее популярный, хотя идти он может после входа на главный раздел, если хочется начать формировать заказ, но не понятно как. Но это не обязательно, ведь открыть инструкцию можно на каком угодно шаге. Видимо приложение понятно пользователю и руководство чаще всего не нужно."
   ]
  },
  {
   "cell_type": "markdown",
   "metadata": {},
   "source": [
    "#### Посчитаем, сколько пользователей совершали каждое из этих событий хотябы раз"
   ]
  },
  {
   "cell_type": "code",
   "execution_count": 36,
   "metadata": {},
   "outputs": [
    {
     "data": {
      "text/html": [
       "<div>\n",
       "<style scoped>\n",
       "    .dataframe tbody tr th:only-of-type {\n",
       "        vertical-align: middle;\n",
       "    }\n",
       "\n",
       "    .dataframe tbody tr th {\n",
       "        vertical-align: top;\n",
       "    }\n",
       "\n",
       "    .dataframe thead th {\n",
       "        text-align: right;\n",
       "    }\n",
       "</style>\n",
       "<table border=\"1\" class=\"dataframe\">\n",
       "  <thead>\n",
       "    <tr style=\"text-align: right;\">\n",
       "      <th></th>\n",
       "      <th>event_name</th>\n",
       "      <th>device_id_hash</th>\n",
       "      <th>proportion</th>\n",
       "    </tr>\n",
       "  </thead>\n",
       "  <tbody>\n",
       "    <tr>\n",
       "      <th>0</th>\n",
       "      <td>MainScreenAppear</td>\n",
       "      <td>7419</td>\n",
       "      <td>98.47</td>\n",
       "    </tr>\n",
       "    <tr>\n",
       "      <th>1</th>\n",
       "      <td>OffersScreenAppear</td>\n",
       "      <td>4593</td>\n",
       "      <td>60.96</td>\n",
       "    </tr>\n",
       "    <tr>\n",
       "      <th>2</th>\n",
       "      <td>CartScreenAppear</td>\n",
       "      <td>3734</td>\n",
       "      <td>49.56</td>\n",
       "    </tr>\n",
       "    <tr>\n",
       "      <th>3</th>\n",
       "      <td>PaymentScreenSuccessful</td>\n",
       "      <td>3539</td>\n",
       "      <td>46.97</td>\n",
       "    </tr>\n",
       "    <tr>\n",
       "      <th>4</th>\n",
       "      <td>Tutorial</td>\n",
       "      <td>840</td>\n",
       "      <td>11.15</td>\n",
       "    </tr>\n",
       "  </tbody>\n",
       "</table>\n",
       "</div>"
      ],
      "text/plain": [
       "                event_name  device_id_hash  proportion\n",
       "0         MainScreenAppear            7419       98.47\n",
       "1       OffersScreenAppear            4593       60.96\n",
       "2         CartScreenAppear            3734       49.56\n",
       "3  PaymentScreenSuccessful            3539       46.97\n",
       "4                 Tutorial             840       11.15"
      ]
     },
     "execution_count": 36,
     "metadata": {},
     "output_type": "execute_result"
    }
   ],
   "source": [
    "sections = data_filtered.groupby('event_name')['device_id_hash'].nunique().sort_values(ascending = False).reset_index()\n",
    "sections['proportion'] = round(sections['device_id_hash'] / data_filtered['device_id_hash'].nunique() * 100,2)\n",
    "sections"
   ]
  },
  {
   "cell_type": "markdown",
   "metadata": {},
   "source": [
    "Исходя из логики, описанной в предыдущем параграфе можно составить такую цепочку событий:\\\n",
    "1)MainScreenAppear;\\\n",
    "2)OffersScreenAppear;\\\n",
    "3)CartScreenAppear;\\\n",
    "4)PaymentScreenSuccessful.\\\n",
    "Шаг Tutorial мы пропускаем, так как мало, кто заходит в этот раздел, а значит нет смысла при расчете воронки ставить его после первого шага. Более того, инструкцию могут открыть после любого шага."
   ]
  },
  {
   "cell_type": "markdown",
   "metadata": {},
   "source": [
    "#### Проанализируем воронку событий"
   ]
  },
  {
   "cell_type": "markdown",
   "metadata": {},
   "source": [
    "Для этого сперва избавимся от шага Tutorial."
   ]
  },
  {
   "cell_type": "code",
   "execution_count": 37,
   "metadata": {},
   "outputs": [
    {
     "data": {
      "text/html": [
       "<div>\n",
       "<style scoped>\n",
       "    .dataframe tbody tr th:only-of-type {\n",
       "        vertical-align: middle;\n",
       "    }\n",
       "\n",
       "    .dataframe tbody tr th {\n",
       "        vertical-align: top;\n",
       "    }\n",
       "\n",
       "    .dataframe thead th {\n",
       "        text-align: right;\n",
       "    }\n",
       "</style>\n",
       "<table border=\"1\" class=\"dataframe\">\n",
       "  <thead>\n",
       "    <tr style=\"text-align: right;\">\n",
       "      <th></th>\n",
       "      <th>event_name</th>\n",
       "      <th>device_id_hash</th>\n",
       "      <th>proportion</th>\n",
       "    </tr>\n",
       "  </thead>\n",
       "  <tbody>\n",
       "    <tr>\n",
       "      <th>0</th>\n",
       "      <td>MainScreenAppear</td>\n",
       "      <td>7419</td>\n",
       "      <td>98.47</td>\n",
       "    </tr>\n",
       "    <tr>\n",
       "      <th>1</th>\n",
       "      <td>OffersScreenAppear</td>\n",
       "      <td>4593</td>\n",
       "      <td>60.96</td>\n",
       "    </tr>\n",
       "    <tr>\n",
       "      <th>2</th>\n",
       "      <td>CartScreenAppear</td>\n",
       "      <td>3734</td>\n",
       "      <td>49.56</td>\n",
       "    </tr>\n",
       "    <tr>\n",
       "      <th>3</th>\n",
       "      <td>PaymentScreenSuccessful</td>\n",
       "      <td>3539</td>\n",
       "      <td>46.97</td>\n",
       "    </tr>\n",
       "  </tbody>\n",
       "</table>\n",
       "</div>"
      ],
      "text/plain": [
       "                event_name  device_id_hash  proportion\n",
       "0         MainScreenAppear            7419       98.47\n",
       "1       OffersScreenAppear            4593       60.96\n",
       "2         CartScreenAppear            3734       49.56\n",
       "3  PaymentScreenSuccessful            3539       46.97"
      ]
     },
     "execution_count": 37,
     "metadata": {},
     "output_type": "execute_result"
    }
   ],
   "source": [
    "sections = sections.drop([4])\n",
    "sections"
   ]
  },
  {
   "cell_type": "markdown",
   "metadata": {},
   "source": [
    "Сперва посмотрим воронку, где расчет каждой доли идет от шага \"MainScreenAppear\". "
   ]
  },
  {
   "cell_type": "code",
   "execution_count": 38,
   "metadata": {},
   "outputs": [
    {
     "data": {
      "image/png": "[encoded data removed]"
     },
     "metadata": {},
     "output_type": "display_data"
    }
   ],
   "source": [
    "fig = go.Figure(go.Funnel(\n",
    "    y = sections['event_name'],\n",
    "    x = sections['device_id_hash'],\n",
    "    textposition = \"inside\",\n",
    "    textinfo = \"value+percent initial\"),\n",
    "    )\n",
    "fig.update_layout(\n",
    "title={\n",
    "        'text': \"Воронка событий по общим данным\",\n",
    "        'y':0.9,\n",
    "        'x':0.54,\n",
    "        'xanchor': 'center',\n",
    "        'yanchor': 'top'})\n",
    "\n",
    "fig.show(\"png\")"
   ]
  },
  {
   "cell_type": "markdown",
   "metadata": {},
   "source": [
    "Уже тут ясно, что больше всего пользователей теряются на 1-ом шаге. Лишь 62% пользователей доходят до шага 2 `OffersScreenAppear`.\\\n",
    "Затем еще 12% от общего количества пользователей не доходят до шага `CartScreenAppear`.\\\n",
    "Почти все, кто дошли до шага просмотра корзины  в итоге что-то покупают. На шаге `CartScreenAppear` у нас 50% человек, а на шаге `PaymentScreenSuccessful` остается 48%, что является завершением воронки.\\\n",
    "Что-то приобрели хотябы раз 48% пользователей."
   ]
  },
  {
   "cell_type": "markdown",
   "metadata": {},
   "source": [
    "Теперь посчитаем воронку событий, где будем сравнивать количество пользователей текущего шага к предыдущему."
   ]
  },
  {
   "cell_type": "code",
   "execution_count": 39,
   "metadata": {
    "scrolled": true
   },
   "outputs": [
    {
     "data": {
      "text/plain": [
       "[100.0, 61.91, 81.3, 94.78]"
      ]
     },
     "execution_count": 39,
     "metadata": {},
     "output_type": "execute_result"
    }
   ],
   "source": [
    "funnel=[]\n",
    "for idx in range(len(sections['device_id_hash'])):\n",
    "    if idx == 0:\n",
    "        funnel.append(round(sections.loc[idx,'device_id_hash'] / sections.loc[idx,'device_id_hash'] * 100,2))\n",
    "    else:\n",
    "        funnel.append(round(sections.loc[idx,'device_id_hash'] / sections.loc[idx-1,'device_id_hash'] * 100,2))\n",
    "funnel"
   ]
  },
  {
   "cell_type": "code",
   "execution_count": 40,
   "metadata": {},
   "outputs": [
    {
     "data": {
      "text/html": [
       "<div>\n",
       "<style scoped>\n",
       "    .dataframe tbody tr th:only-of-type {\n",
       "        vertical-align: middle;\n",
       "    }\n",
       "\n",
       "    .dataframe tbody tr th {\n",
       "        vertical-align: top;\n",
       "    }\n",
       "\n",
       "    .dataframe thead th {\n",
       "        text-align: right;\n",
       "    }\n",
       "</style>\n",
       "<table border=\"1\" class=\"dataframe\">\n",
       "  <thead>\n",
       "    <tr style=\"text-align: right;\">\n",
       "      <th></th>\n",
       "      <th>event_name</th>\n",
       "      <th>device_id_hash</th>\n",
       "      <th>proportion</th>\n",
       "      <th>funnel</th>\n",
       "    </tr>\n",
       "  </thead>\n",
       "  <tbody>\n",
       "    <tr>\n",
       "      <th>0</th>\n",
       "      <td>MainScreenAppear</td>\n",
       "      <td>7419</td>\n",
       "      <td>98.47</td>\n",
       "      <td>100.00</td>\n",
       "    </tr>\n",
       "    <tr>\n",
       "      <th>1</th>\n",
       "      <td>OffersScreenAppear</td>\n",
       "      <td>4593</td>\n",
       "      <td>60.96</td>\n",
       "      <td>61.91</td>\n",
       "    </tr>\n",
       "    <tr>\n",
       "      <th>2</th>\n",
       "      <td>CartScreenAppear</td>\n",
       "      <td>3734</td>\n",
       "      <td>49.56</td>\n",
       "      <td>81.30</td>\n",
       "    </tr>\n",
       "    <tr>\n",
       "      <th>3</th>\n",
       "      <td>PaymentScreenSuccessful</td>\n",
       "      <td>3539</td>\n",
       "      <td>46.97</td>\n",
       "      <td>94.78</td>\n",
       "    </tr>\n",
       "  </tbody>\n",
       "</table>\n",
       "</div>"
      ],
      "text/plain": [
       "                event_name  device_id_hash  proportion  funnel\n",
       "0         MainScreenAppear            7419       98.47  100.00\n",
       "1       OffersScreenAppear            4593       60.96   61.91\n",
       "2         CartScreenAppear            3734       49.56   81.30\n",
       "3  PaymentScreenSuccessful            3539       46.97   94.78"
      ]
     },
     "execution_count": 40,
     "metadata": {},
     "output_type": "execute_result"
    }
   ],
   "source": [
    "sections['funnel'] = funnel\n",
    "sections"
   ]
  },
  {
   "cell_type": "code",
   "execution_count": 41,
   "metadata": {},
   "outputs": [
    {
     "data": {
      "image/png": "[encoded data removed]",
      "text/plain": [
       "<Figure size 1000x400 with 1 Axes>"
      ]
     },
     "metadata": {},
     "output_type": "display_data"
    }
   ],
   "source": [
    "plt.figure(figsize=(10, 4))\n",
    "plt.title('График воронки событий')\n",
    "plt.xlabel('Стадия воронки')\n",
    "plt.ylabel('Процент к предыдущей стадии')\n",
    "plt.plot(sections['event_name'], sections['funnel'])\n",
    "plt.show()"
   ]
  },
  {
   "cell_type": "code",
   "execution_count": 42,
   "metadata": {},
   "outputs": [
    {
     "data": {
      "image/png": "[encoded data removed]"
     },
     "metadata": {},
     "output_type": "display_data"
    }
   ],
   "source": [
    "fig = go.Figure(go.Funnel(\n",
    "    y = sections['event_name'],\n",
    "    x = sections['device_id_hash'],\n",
    "    textposition = \"inside\",\n",
    "    textinfo = \"value+percent previous\"))\n",
    "fig.update_layout(\n",
    "title={\n",
    "        'text': \"Воронка событий от текущего шага к предыдущему\",\n",
    "        'y':0.9,\n",
    "        'x':0.54,\n",
    "        'xanchor': 'center',\n",
    "        'yanchor': 'top'})\n",
    "fig.show(\"png\")"
   ]
  },
  {
   "cell_type": "markdown",
   "metadata": {},
   "source": [
    "Если сравнивать текущий шаг к предыдущему, то можно нагляднее увидеть, то, что мы выше написали.\\\n",
    "На 1 шаге приложение теряет 48% пользователей, до второго шага доходит 62% от 1-го шага.\\\n",
    "На 2 шаге уходят примерно 19% пользователей от оставшися.\n",
    "На 3 шаге как было ранее замечено почти нет потерь в числе пользователей."
   ]
  },
  {
   "cell_type": "markdown",
   "metadata": {},
   "source": [
    "#### Изучим результаты эксперимента"
   ]
  },
  {
   "cell_type": "markdown",
   "metadata": {},
   "source": [
    "##### Подготовка к A/A-тесту"
   ]
  },
  {
   "cell_type": "markdown",
   "metadata": {},
   "source": [
    "Посмотрим на количество пользователей в каждой группе."
   ]
  },
  {
   "cell_type": "code",
   "execution_count": 43,
   "metadata": {},
   "outputs": [
    {
     "data": {
      "text/plain": [
       "exp_id\n",
       "246    2484\n",
       "247    2513\n",
       "248    2537\n",
       "Name: device_id_hash, dtype: int64"
      ]
     },
     "execution_count": 43,
     "metadata": {},
     "output_type": "execute_result"
    }
   ],
   "source": [
    "data_filtered.groupby('exp_id')['device_id_hash'].nunique()"
   ]
  },
  {
   "cell_type": "markdown",
   "metadata": {},
   "source": [
    "Есть 2 контрольные группы для А/А-эксперимента: 246 и 247. Для А/А успешного теста желательно, чтобы различие в количестве пользователей было не более 1%. Наши группы этому критерию почти соответствуют."
   ]
  },
  {
   "cell_type": "code",
   "execution_count": 44,
   "metadata": {},
   "outputs": [],
   "source": [
    "diff = (data_filtered.loc[data['exp_id'] == 247, 'device_id_hash'].nunique()\n",
    "        /data_filtered.loc[data['exp_id'] == 246, 'device_id_hash'].nunique())"
   ]
  },
  {
   "cell_type": "code",
   "execution_count": 45,
   "metadata": {},
   "outputs": [
    {
     "name": "stdout",
     "output_type": "stream",
     "text": [
      "Группа 247 больше группы 246 на 1.2%.\n"
     ]
    }
   ],
   "source": [
    "print(f'Группа 247 больше группы 246 на {diff-1:.1%}.')"
   ]
  },
  {
   "cell_type": "markdown",
   "metadata": {},
   "source": [
    "До удаления данных за июль группа 246 была больше группы 247 почти на 3%. Так что фильтрация не испортила ситуацию."
   ]
  },
  {
   "cell_type": "code",
   "execution_count": 46,
   "metadata": {},
   "outputs": [],
   "source": [
    "diff = (data.loc[data['exp_id'] == 246, 'device_id_hash'].count()\n",
    "        /data.loc[data['exp_id'] == 247, 'device_id_hash'].count())"
   ]
  },
  {
   "cell_type": "code",
   "execution_count": 47,
   "metadata": {},
   "outputs": [
    {
     "name": "stdout",
     "output_type": "stream",
     "text": [
      " До фильтрации группа 246 больше группы 247 на 2.9%.\n"
     ]
    }
   ],
   "source": [
    "print(f' До фильтрации группа 246 больше группы 247 на {diff-1:.1%}.')"
   ]
  },
  {
   "cell_type": "markdown",
   "metadata": {},
   "source": [
    "Посмотрим есть ли те люди, которые попали в две или даже три группы одновременно."
   ]
  },
  {
   "cell_type": "code",
   "execution_count": 48,
   "metadata": {},
   "outputs": [
    {
     "data": {
      "text/plain": [
       "0"
      ]
     },
     "execution_count": 48,
     "metadata": {},
     "output_type": "execute_result"
    }
   ],
   "source": [
    "unique_group_count = (\n",
    "    data_filtered.groupby('device_id_hash', as_index=False)\n",
    "    .agg({'exp_id': 'nunique'}))\n",
    "\n",
    "unique_group_count = unique_group_count.loc[unique_group_count['exp_id']>1]\n",
    "\n",
    "unique_group_count['device_id_hash'].count()"
   ]
  },
  {
   "cell_type": "markdown",
   "metadata": {},
   "source": [
    "Таких нет. Можно сделать вывод, что контрольные группы сформированы корректно."
   ]
  },
  {
   "cell_type": "markdown",
   "metadata": {},
   "source": [
    "##### A/A-тест"
   ]
  },
  {
   "cell_type": "markdown",
   "metadata": {},
   "source": [
    "Проведем z-тест. Сравним долю пользователей на каждом шаге от общего числа уникальных пользователей для групп 246 и 247. \n",
    "Покажем воронки для обоих групп."
   ]
  },
  {
   "cell_type": "code",
   "execution_count": 49,
   "metadata": {},
   "outputs": [],
   "source": [
    "# воронка для группы 246\n",
    "sections_246 = data_filtered.loc[data_filtered['exp_id']==246].groupby(\n",
    "               'event_name')['device_id_hash'].nunique().sort_values(ascending = False).reset_index()"
   ]
  },
  {
   "cell_type": "code",
   "execution_count": 50,
   "metadata": {},
   "outputs": [],
   "source": [
    "funnel=[]\n",
    "for idx in range(len(sections_246['device_id_hash'])):\n",
    "        funnel.append(round(sections_246.loc[idx,'device_id_hash'] / sections_246.loc[0,'device_id_hash'] * 100,2))      "
   ]
  },
  {
   "cell_type": "code",
   "execution_count": 51,
   "metadata": {},
   "outputs": [
    {
     "data": {
      "text/html": [
       "<div>\n",
       "<style scoped>\n",
       "    .dataframe tbody tr th:only-of-type {\n",
       "        vertical-align: middle;\n",
       "    }\n",
       "\n",
       "    .dataframe tbody tr th {\n",
       "        vertical-align: top;\n",
       "    }\n",
       "\n",
       "    .dataframe thead th {\n",
       "        text-align: right;\n",
       "    }\n",
       "</style>\n",
       "<table border=\"1\" class=\"dataframe\">\n",
       "  <thead>\n",
       "    <tr style=\"text-align: right;\">\n",
       "      <th></th>\n",
       "      <th>event_name</th>\n",
       "      <th>device_id_hash</th>\n",
       "      <th>funnel</th>\n",
       "    </tr>\n",
       "  </thead>\n",
       "  <tbody>\n",
       "    <tr>\n",
       "      <th>0</th>\n",
       "      <td>MainScreenAppear</td>\n",
       "      <td>2450</td>\n",
       "      <td>100.00</td>\n",
       "    </tr>\n",
       "    <tr>\n",
       "      <th>1</th>\n",
       "      <td>OffersScreenAppear</td>\n",
       "      <td>1542</td>\n",
       "      <td>62.94</td>\n",
       "    </tr>\n",
       "    <tr>\n",
       "      <th>2</th>\n",
       "      <td>CartScreenAppear</td>\n",
       "      <td>1266</td>\n",
       "      <td>51.67</td>\n",
       "    </tr>\n",
       "    <tr>\n",
       "      <th>3</th>\n",
       "      <td>PaymentScreenSuccessful</td>\n",
       "      <td>1200</td>\n",
       "      <td>48.98</td>\n",
       "    </tr>\n",
       "  </tbody>\n",
       "</table>\n",
       "</div>"
      ],
      "text/plain": [
       "                event_name  device_id_hash  funnel\n",
       "0         MainScreenAppear            2450  100.00\n",
       "1       OffersScreenAppear            1542   62.94\n",
       "2         CartScreenAppear            1266   51.67\n",
       "3  PaymentScreenSuccessful            1200   48.98"
      ]
     },
     "execution_count": 51,
     "metadata": {},
     "output_type": "execute_result"
    }
   ],
   "source": [
    "#создаем столбец с воронкой\n",
    "sections_246['funnel'] = funnel\n",
    "\n",
    "#удаляем строку с событием Tutorail\n",
    "sections_246 = sections_246.drop([4])\n",
    "\n",
    "sections_246"
   ]
  },
  {
   "cell_type": "code",
   "execution_count": 52,
   "metadata": {},
   "outputs": [],
   "source": [
    "# воронка для группы 247\n",
    "sections_247 = data_filtered.loc[data_filtered['exp_id']==247].groupby(\n",
    "               'event_name')['device_id_hash'].nunique().sort_values(ascending = False).reset_index()"
   ]
  },
  {
   "cell_type": "code",
   "execution_count": 53,
   "metadata": {},
   "outputs": [],
   "source": [
    "funnel=[]\n",
    "for idx in range(len(sections_247['device_id_hash'])):\n",
    "        funnel.append(round(sections_247.loc[idx,'device_id_hash'] / sections_247.loc[0,'device_id_hash'] * 100,2))      "
   ]
  },
  {
   "cell_type": "code",
   "execution_count": 54,
   "metadata": {},
   "outputs": [
    {
     "data": {
      "text/html": [
       "<div>\n",
       "<style scoped>\n",
       "    .dataframe tbody tr th:only-of-type {\n",
       "        vertical-align: middle;\n",
       "    }\n",
       "\n",
       "    .dataframe tbody tr th {\n",
       "        vertical-align: top;\n",
       "    }\n",
       "\n",
       "    .dataframe thead th {\n",
       "        text-align: right;\n",
       "    }\n",
       "</style>\n",
       "<table border=\"1\" class=\"dataframe\">\n",
       "  <thead>\n",
       "    <tr style=\"text-align: right;\">\n",
       "      <th></th>\n",
       "      <th>event_name</th>\n",
       "      <th>device_id_hash</th>\n",
       "      <th>funnel</th>\n",
       "    </tr>\n",
       "  </thead>\n",
       "  <tbody>\n",
       "    <tr>\n",
       "      <th>0</th>\n",
       "      <td>MainScreenAppear</td>\n",
       "      <td>2476</td>\n",
       "      <td>100.00</td>\n",
       "    </tr>\n",
       "    <tr>\n",
       "      <th>1</th>\n",
       "      <td>OffersScreenAppear</td>\n",
       "      <td>1520</td>\n",
       "      <td>61.39</td>\n",
       "    </tr>\n",
       "    <tr>\n",
       "      <th>2</th>\n",
       "      <td>CartScreenAppear</td>\n",
       "      <td>1238</td>\n",
       "      <td>50.00</td>\n",
       "    </tr>\n",
       "    <tr>\n",
       "      <th>3</th>\n",
       "      <td>PaymentScreenSuccessful</td>\n",
       "      <td>1158</td>\n",
       "      <td>46.77</td>\n",
       "    </tr>\n",
       "  </tbody>\n",
       "</table>\n",
       "</div>"
      ],
      "text/plain": [
       "                event_name  device_id_hash  funnel\n",
       "0         MainScreenAppear            2476  100.00\n",
       "1       OffersScreenAppear            1520   61.39\n",
       "2         CartScreenAppear            1238   50.00\n",
       "3  PaymentScreenSuccessful            1158   46.77"
      ]
     },
     "execution_count": 54,
     "metadata": {},
     "output_type": "execute_result"
    }
   ],
   "source": [
    "#создаем столбец с воронкой\n",
    "sections_247['funnel'] = funnel\n",
    "\n",
    "#удаляем строку с событием Tutorail\n",
    "sections_247 = sections_247.drop([4])\n",
    "\n",
    "sections_247"
   ]
  },
  {
   "cell_type": "code",
   "execution_count": 55,
   "metadata": {},
   "outputs": [
    {
     "data": {
      "image/png": "[encoded data removed]"
     },
     "metadata": {},
     "output_type": "display_data"
    }
   ],
   "source": [
    "fig = go.Figure()\n",
    "\n",
    "fig.add_trace(go.Funnel(\n",
    "    name = '246',\n",
    "    y = sections_246['event_name'],\n",
    "    x = sections_246['device_id_hash'],\n",
    "    textinfo = \"value+percent initial\"))\n",
    "\n",
    "fig.add_trace(go.Funnel(\n",
    "    name = '247',\n",
    "    orientation = \"h\",\n",
    "    y = sections_247['event_name'],\n",
    "    x = sections_247['device_id_hash'],\n",
    "    textposition = \"inside\",\n",
    "    textinfo = \"value+percent initial\"))\n",
    "fig.update_layout(\n",
    "title={\n",
    "        'text': \"Воронка событий для группы 246 и 247\",\n",
    "        'y':0.9,\n",
    "        'x':0.54,\n",
    "        'xanchor': 'center',\n",
    "        'yanchor': 'top'})\n",
    "\n",
    "fig.show(\"png\")"
   ]
  },
  {
   "cell_type": "markdown",
   "metadata": {},
   "source": [
    "Уже замечаем, что воронки очень схожи. Начнем с того, что сравним доли людей, которые были на шаге MainScreenAppear. Создадим функцию, которую будем использовать для всех других долей. \n",
    "\n",
    "Применим поправку Бонферрони для корректировки уровня значимости. Так как у нас четыре теста по 4 гипотезы в каждом, то делим выбранный пороговый уровень 0.05 на 16."
   ]
  },
  {
   "cell_type": "markdown",
   "metadata": {},
   "source": [
    "* Нулевая гипотеза: доля пользователей перешедших на шаг MainScreenAppear одинаковая в обоих группах. Альтернативная гипотеза: доля пользователей разная в обоих группах."
   ]
  },
  {
   "cell_type": "code",
   "execution_count": 56,
   "metadata": {},
   "outputs": [],
   "source": [
    "def proportion_test(alpha, df_1_stage, df_1_initial, df_2_stage, df_2_initial ):\n",
    "\n",
    "    alpha = alpha  # критический уровень статистической значимости\n",
    "\n",
    "    stage = np.array([df_2_stage, df_1_stage])\n",
    "    initial = np.array([df_2_initial, df_1_initial])\n",
    "\n",
    "# пропорция успехов в первой группе:\n",
    "    p1 = stage[0]/initial[0]\n",
    "\n",
    "# пропорция успехов в второй группе:\n",
    "    p2 = stage[1]/initial[1]\n",
    "\n",
    "# пропорция успехов в комбинированном датасете:\n",
    "    p_combined = (stage[0] + stage[1]) / (initial[0] + initial[1])\n",
    "\n",
    "# разница пропорций в датасетах\n",
    "    difference = p1 - p2 \n",
    "\n",
    "# считаем статистику в ст.отклонениях стандартного нормального распределения\n",
    "    z_value = difference / mth.sqrt(p_combined * (1 - p_combined) * (1/initial[0] + 1/initial[1]))\n",
    "# задаем стандартное нормальное распределение (среднее 0, ст.отклонение 1)\n",
    "    distr = st.norm(0, 1)\n",
    "\n",
    "    p_value = (1 - distr.cdf(abs(z_value))) * 2\n",
    "    \n",
    "    print('p-значение: ', p_value)\n",
    "\n",
    "    if p_value < alpha: \n",
    "        print('Отвергаем нулевую гипотезу: между долями есть значимая разница')\n",
    "    else:\n",
    "        print('Не получилось отвергнуть нулевую гипотезу, нет оснований считать доли разными')"
   ]
  },
  {
   "cell_type": "code",
   "execution_count": 57,
   "metadata": {},
   "outputs": [
    {
     "name": "stdout",
     "output_type": "stream",
     "text": [
      "p-значение:  0.7570597232046099\n",
      "Не получилось отвергнуть нулевую гипотезу, нет оснований считать доли разными\n"
     ]
    }
   ],
   "source": [
    "proportion_test(0.05/16, \n",
    "                sections_246.loc[0,'device_id_hash'], \n",
    "                data_filtered.loc[data_filtered['exp_id']==246, 'device_id_hash'].nunique(), \n",
    "                sections_247.loc[0,'device_id_hash'], \n",
    "                data_filtered.loc[data_filtered['exp_id']==247, 'device_id_hash'].nunique())"
   ]
  },
  {
   "cell_type": "markdown",
   "metadata": {},
   "source": [
    "* Нулевая гипотеза: доля пользователей перешедших на шаг OffersScreenAppear одинаковая в обоих группах. Альтернативная гипотеза: доля пользователей разная в обоих группах."
   ]
  },
  {
   "cell_type": "code",
   "execution_count": 58,
   "metadata": {},
   "outputs": [
    {
     "name": "stdout",
     "output_type": "stream",
     "text": [
      "p-значение:  0.2480954578522181\n",
      "Не получилось отвергнуть нулевую гипотезу, нет оснований считать доли разными\n"
     ]
    }
   ],
   "source": [
    "proportion_test(0.05/16, \n",
    "                sections_246.loc[1,'device_id_hash'],\n",
    "                data_filtered.loc[data_filtered['exp_id']==246, 'device_id_hash'].nunique(), \n",
    "                sections_247.loc[1,'device_id_hash'],\n",
    "                data_filtered.loc[data_filtered['exp_id']==247, 'device_id_hash'].nunique())"
   ]
  },
  {
   "cell_type": "markdown",
   "metadata": {},
   "source": [
    "Разница в долях не оказалась статистически значимой."
   ]
  },
  {
   "cell_type": "markdown",
   "metadata": {},
   "source": [
    "Теперь посмотрим на следующий шаг.\n",
    "* Нулевая гипотеза: доля пользователей перешедших на шаг CartScreenAppear одинаковая в обоих группах. Альтернативная гипотеза: доля пользователей разная в обоих группах."
   ]
  },
  {
   "cell_type": "code",
   "execution_count": 59,
   "metadata": {},
   "outputs": [
    {
     "name": "stdout",
     "output_type": "stream",
     "text": [
      "p-значение:  0.22883372237997213\n",
      "Не получилось отвергнуть нулевую гипотезу, нет оснований считать доли разными\n"
     ]
    }
   ],
   "source": [
    "proportion_test(0.05/16, \n",
    "                sections_246.loc[2,'device_id_hash'],\n",
    "                data_filtered.loc[data_filtered['exp_id']==246, 'device_id_hash'].nunique(), \n",
    "                sections_247.loc[2,'device_id_hash'],\n",
    "                data_filtered.loc[data_filtered['exp_id']==247, 'device_id_hash'].nunique())"
   ]
  },
  {
   "cell_type": "markdown",
   "metadata": {},
   "source": [
    "Теперь сравним доли людей перешедших на шаг успешной оплаты.\n",
    "* Нулевая гипотеза: доля пользователей перешедших на шаг PaymentScreenSuccessful одинаковая в обоих группах. Альтернативная гипотеза: доля пользователей разная в обоих группах."
   ]
  },
  {
   "cell_type": "code",
   "execution_count": 60,
   "metadata": {},
   "outputs": [
    {
     "name": "stdout",
     "output_type": "stream",
     "text": [
      "p-значение:  0.11456679313141849\n",
      "Не получилось отвергнуть нулевую гипотезу, нет оснований считать доли разными\n"
     ]
    }
   ],
   "source": [
    "proportion_test(0.05/16, \n",
    "                sections_246.loc[3,'device_id_hash'],\n",
    "                data_filtered.loc[data_filtered['exp_id']==246, 'device_id_hash'].nunique(), \n",
    "                sections_247.loc[3,'device_id_hash'],\n",
    "                data_filtered.loc[data_filtered['exp_id']==247, 'device_id_hash'].nunique())"
   ]
  },
  {
   "cell_type": "markdown",
   "metadata": {},
   "source": [
    "Можно сделать вывод, что A/A-тест прошел успешно. При сравнении всех долей в группах 246 и 247 статистически значимых различий в долях обнаружено не было. Разница в количестве участников в группах составляет 1,2% и нет тех, кто попал в 2 или 3 группы сразу. Значит контрольные группы сформированы корректно. "
   ]
  },
  {
   "cell_type": "markdown",
   "metadata": {},
   "source": [
    "##### A/A/B-тест"
   ]
  },
  {
   "cell_type": "markdown",
   "metadata": {},
   "source": [
    "Для оценки результатов эксперимента сравним доли пользователей на каждом шаге у каждой контрольной группы с экспериментальной.\\\n",
    "Начнем с рассчета воронки для экспериментальной группы."
   ]
  },
  {
   "cell_type": "code",
   "execution_count": 61,
   "metadata": {},
   "outputs": [],
   "source": [
    "sections_248 = data_filtered.loc[data_filtered['exp_id']==248].groupby(\n",
    "               'event_name')['device_id_hash'].nunique().sort_values(ascending = False).reset_index()"
   ]
  },
  {
   "cell_type": "code",
   "execution_count": 62,
   "metadata": {},
   "outputs": [],
   "source": [
    "funnel=[]\n",
    "for idx in range(len(sections_248['device_id_hash'])):\n",
    "        funnel.append(round(sections_248.loc[idx,'device_id_hash'] / sections_248.loc[0,'device_id_hash'] * 100,2)) "
   ]
  },
  {
   "cell_type": "code",
   "execution_count": 63,
   "metadata": {},
   "outputs": [
    {
     "data": {
      "text/html": [
       "<div>\n",
       "<style scoped>\n",
       "    .dataframe tbody tr th:only-of-type {\n",
       "        vertical-align: middle;\n",
       "    }\n",
       "\n",
       "    .dataframe tbody tr th {\n",
       "        vertical-align: top;\n",
       "    }\n",
       "\n",
       "    .dataframe thead th {\n",
       "        text-align: right;\n",
       "    }\n",
       "</style>\n",
       "<table border=\"1\" class=\"dataframe\">\n",
       "  <thead>\n",
       "    <tr style=\"text-align: right;\">\n",
       "      <th></th>\n",
       "      <th>event_name</th>\n",
       "      <th>device_id_hash</th>\n",
       "      <th>funnel</th>\n",
       "    </tr>\n",
       "  </thead>\n",
       "  <tbody>\n",
       "    <tr>\n",
       "      <th>0</th>\n",
       "      <td>MainScreenAppear</td>\n",
       "      <td>2493</td>\n",
       "      <td>100.00</td>\n",
       "    </tr>\n",
       "    <tr>\n",
       "      <th>1</th>\n",
       "      <td>OffersScreenAppear</td>\n",
       "      <td>1531</td>\n",
       "      <td>61.41</td>\n",
       "    </tr>\n",
       "    <tr>\n",
       "      <th>2</th>\n",
       "      <td>CartScreenAppear</td>\n",
       "      <td>1230</td>\n",
       "      <td>49.34</td>\n",
       "    </tr>\n",
       "    <tr>\n",
       "      <th>3</th>\n",
       "      <td>PaymentScreenSuccessful</td>\n",
       "      <td>1181</td>\n",
       "      <td>47.37</td>\n",
       "    </tr>\n",
       "  </tbody>\n",
       "</table>\n",
       "</div>"
      ],
      "text/plain": [
       "                event_name  device_id_hash  funnel\n",
       "0         MainScreenAppear            2493  100.00\n",
       "1       OffersScreenAppear            1531   61.41\n",
       "2         CartScreenAppear            1230   49.34\n",
       "3  PaymentScreenSuccessful            1181   47.37"
      ]
     },
     "execution_count": 63,
     "metadata": {},
     "output_type": "execute_result"
    }
   ],
   "source": [
    "#создаем столбец с воронкой\n",
    "sections_248['funnel'] = funnel\n",
    "\n",
    "#удаляем строку с событием Tutorail\n",
    "sections_248 = sections_248.drop([4])\n",
    "\n",
    "sections_248"
   ]
  },
  {
   "cell_type": "code",
   "execution_count": 64,
   "metadata": {},
   "outputs": [
    {
     "data": {
      "image/png": "[encoded data removed]"
     },
     "metadata": {},
     "output_type": "display_data"
    }
   ],
   "source": [
    "fig = go.Figure()\n",
    "\n",
    "fig.add_trace(go.Funnel(\n",
    "    name = '246',\n",
    "    y = sections_246['event_name'],\n",
    "    x = sections_246['device_id_hash'],\n",
    "    textinfo = \"value+percent initial\"))\n",
    "\n",
    "fig.add_trace(go.Funnel(\n",
    "    name = '247',\n",
    "    orientation = \"h\",\n",
    "    y = sections_247['event_name'],\n",
    "    x = sections_247['device_id_hash'],\n",
    "    textposition = \"inside\",\n",
    "    textinfo = \"value+percent initial\"))\n",
    "\n",
    "fig.add_trace(go.Funnel(\n",
    "    name = '248',\n",
    "    orientation = \"h\",\n",
    "    y = sections_248['event_name'],\n",
    "    x = sections_248['device_id_hash'],\n",
    "    textposition = \"inside\",\n",
    "    textinfo = \"value+percent initial\"))\n",
    "\n",
    "fig.update_layout(\n",
    "title={\n",
    "        'text': \"Воронка событий каждой группы\",\n",
    "        'y':0.9,\n",
    "        'x':0.54,\n",
    "        'xanchor': 'center',\n",
    "        'yanchor': 'top'})\n",
    "\n",
    "fig.show(\"png\")"
   ]
  },
  {
   "cell_type": "markdown",
   "metadata": {},
   "source": [
    "Заметно, что большой разницы в долях у всех групп между собой нет."
   ]
  },
  {
   "cell_type": "markdown",
   "metadata": {},
   "source": [
    "**Сравним экспериментальную группу с группой 246.**\n",
    "* Нулевая гипотеза: доля пользователей перешедших на шаг MainScreen одинаковая в обоих группах. Альтернативная гипотеза: доля пользователей разная в обоих группах."
   ]
  },
  {
   "cell_type": "code",
   "execution_count": 65,
   "metadata": {},
   "outputs": [
    {
     "name": "stdout",
     "output_type": "stream",
     "text": [
      "p-значение:  0.2949721933554552\n",
      "Не получилось отвергнуть нулевую гипотезу, нет оснований считать доли разными\n"
     ]
    }
   ],
   "source": [
    "proportion_test(0.05/16, \n",
    "                sections_246.loc[0,'device_id_hash'],\n",
    "                data_filtered.loc[data_filtered['exp_id']==246, 'device_id_hash'].nunique(), \n",
    "                sections_248.loc[0,'device_id_hash'],\n",
    "                data_filtered.loc[data_filtered['exp_id']==248, 'device_id_hash'].nunique())"
   ]
  },
  {
   "cell_type": "markdown",
   "metadata": {},
   "source": [
    "* Нулевая гипотеза: доля пользователей перешедших на шаг OffersScreenAppear одинаковая в обоих группах. Альтернативная гипотеза: доля пользователей разная в обоих группах."
   ]
  },
  {
   "cell_type": "code",
   "execution_count": 66,
   "metadata": {},
   "outputs": [
    {
     "name": "stdout",
     "output_type": "stream",
     "text": [
      "p-значение:  0.20836205402738917\n",
      "Не получилось отвергнуть нулевую гипотезу, нет оснований считать доли разными\n"
     ]
    }
   ],
   "source": [
    "proportion_test(0.05/16, \n",
    "                sections_246.loc[1,'device_id_hash'],\n",
    "                data_filtered.loc[data_filtered['exp_id']==246, 'device_id_hash'].nunique(), \n",
    "                sections_248.loc[1,'device_id_hash'],\n",
    "                data_filtered.loc[data_filtered['exp_id']==248, 'device_id_hash'].nunique())"
   ]
  },
  {
   "cell_type": "markdown",
   "metadata": {},
   "source": [
    "* Нулевая гипотеза: доля пользователей перешедших на шаг CartScreenAppear одинаковая в обоих группах. Альтернативная гипотеза: доля пользователей разная в обоих группах."
   ]
  },
  {
   "cell_type": "code",
   "execution_count": 67,
   "metadata": {},
   "outputs": [
    {
     "name": "stdout",
     "output_type": "stream",
     "text": [
      "p-значение:  0.07842923237520116\n",
      "Не получилось отвергнуть нулевую гипотезу, нет оснований считать доли разными\n"
     ]
    }
   ],
   "source": [
    "proportion_test(0.05/16, \n",
    "                sections_246.loc[2,'device_id_hash'],\n",
    "                data_filtered.loc[data_filtered['exp_id']==246, 'device_id_hash'].nunique(), \n",
    "                sections_248.loc[2,'device_id_hash'],\n",
    "                data_filtered.loc[data_filtered['exp_id']==248, 'device_id_hash'].nunique())"
   ]
  },
  {
   "cell_type": "markdown",
   "metadata": {},
   "source": [
    "* Нулевая гипотеза: доля пользователей перешедших на шаг PaymentScreenSuccessful одинаковая в обоих группах. Альтернативная гипотеза: доля пользователей разная в обоих группах."
   ]
  },
  {
   "cell_type": "code",
   "execution_count": 68,
   "metadata": {},
   "outputs": [
    {
     "name": "stdout",
     "output_type": "stream",
     "text": [
      "p-значение:  0.2122553275697796\n",
      "Не получилось отвергнуть нулевую гипотезу, нет оснований считать доли разными\n"
     ]
    }
   ],
   "source": [
    "proportion_test(0.05/16, \n",
    "                sections_246.loc[3,'device_id_hash'],\n",
    "                data_filtered.loc[data_filtered['exp_id']==246, 'device_id_hash'].nunique(), \n",
    "                sections_248.loc[3,'device_id_hash'],\n",
    "                data_filtered.loc[data_filtered['exp_id']==248, 'device_id_hash'].nunique())"
   ]
  },
  {
   "cell_type": "markdown",
   "metadata": {},
   "source": [
    "Статистически значимой разницы в долях пользователей на каждом шаге воронке у групп 248 и 246 нет."
   ]
  },
  {
   "cell_type": "markdown",
   "metadata": {},
   "source": [
    "**Сравним экспериментальную группу с группой 247.**\n"
   ]
  },
  {
   "cell_type": "markdown",
   "metadata": {},
   "source": [
    "* Нулевая гипотеза: доля пользователей перешедших на шаг MainScreenAppear одинаковая в обоих группах. Альтернативная гипотеза: доля пользователей разная в обоих группах."
   ]
  },
  {
   "cell_type": "code",
   "execution_count": 69,
   "metadata": {},
   "outputs": [
    {
     "name": "stdout",
     "output_type": "stream",
     "text": [
      "p-значение:  0.4587053616621515\n",
      "Не получилось отвергнуть нулевую гипотезу, нет оснований считать доли разными\n"
     ]
    }
   ],
   "source": [
    "proportion_test(0.05/16, \n",
    "                sections_247.loc[0,'device_id_hash'],\n",
    "                data_filtered.loc[data_filtered['exp_id']==247, 'device_id_hash'].nunique(), \n",
    "                sections_248.loc[0,'device_id_hash'],\n",
    "                data_filtered.loc[data_filtered['exp_id']==248, 'device_id_hash'].nunique())"
   ]
  },
  {
   "cell_type": "markdown",
   "metadata": {},
   "source": [
    "* Нулевая гипотеза: доля пользователей перешедших на шаг OffersScreenAppear одинаковая в обоих группах. Альтернативная гипотеза: доля пользователей разная в обоих группах."
   ]
  },
  {
   "cell_type": "code",
   "execution_count": 70,
   "metadata": {},
   "outputs": [
    {
     "name": "stdout",
     "output_type": "stream",
     "text": [
      "p-значение:  0.9197817830592261\n",
      "Не получилось отвергнуть нулевую гипотезу, нет оснований считать доли разными\n"
     ]
    }
   ],
   "source": [
    "proportion_test(0.05/16, \n",
    "                sections_247.loc[1,'device_id_hash'],\n",
    "                data_filtered.loc[data_filtered['exp_id']==247, 'device_id_hash'].nunique(), \n",
    "                sections_248.loc[1,'device_id_hash'],\n",
    "                data_filtered.loc[data_filtered['exp_id']==248, 'device_id_hash'].nunique())"
   ]
  },
  {
   "cell_type": "markdown",
   "metadata": {},
   "source": [
    "* Нулевая гипотеза: доля пользователей перешедших на шаг CartScreenAppear одинаковая в обоих группах. Альтернативная гипотеза: доля пользователей разная в обоих группах."
   ]
  },
  {
   "cell_type": "code",
   "execution_count": 71,
   "metadata": {},
   "outputs": [
    {
     "name": "stdout",
     "output_type": "stream",
     "text": [
      "p-значение:  0.5786197879539783\n",
      "Не получилось отвергнуть нулевую гипотезу, нет оснований считать доли разными\n"
     ]
    }
   ],
   "source": [
    "proportion_test(0.05/16, \n",
    "                sections_247.loc[2,'device_id_hash'],\n",
    "                data_filtered.loc[data_filtered['exp_id']==247, 'device_id_hash'].nunique(), \n",
    "                sections_248.loc[2,'device_id_hash'],\n",
    "                data_filtered.loc[data_filtered['exp_id']==248, 'device_id_hash'].nunique())"
   ]
  },
  {
   "cell_type": "markdown",
   "metadata": {},
   "source": [
    "* Нулевая гипотеза: доля пользователей перешедших на шаг PaymentScreenSuccessful одинаковая в обоих группах. Альтернативная гипотеза: доля пользователей разная в обоих группах."
   ]
  },
  {
   "cell_type": "code",
   "execution_count": 72,
   "metadata": {},
   "outputs": [
    {
     "name": "stdout",
     "output_type": "stream",
     "text": [
      "p-значение:  0.7373415053803964\n",
      "Не получилось отвергнуть нулевую гипотезу, нет оснований считать доли разными\n"
     ]
    }
   ],
   "source": [
    "proportion_test(0.05/16, \n",
    "                sections_247.loc[3,'device_id_hash'],\n",
    "                data_filtered.loc[data_filtered['exp_id']==247, 'device_id_hash'].nunique(), \n",
    "                sections_248.loc[3,'device_id_hash'],\n",
    "                data_filtered.loc[data_filtered['exp_id']==248, 'device_id_hash'].nunique())"
   ]
  },
  {
   "cell_type": "markdown",
   "metadata": {},
   "source": [
    "Статистически значимой разницы в долях пользователей на каждом шаге воронке у групп 248 и 247 нет. Коэффициенты p-value всегда высокие. По результатам анализа можно сказать, что даже при пороговом значении 10%, все равно мы бы не нашли статистически значимой разницы."
   ]
  },
  {
   "cell_type": "markdown",
   "metadata": {},
   "source": [
    "**Сравним экспериментальную группу с объединенной экспериментальной группой, которая включает 246 и 247.**"
   ]
  },
  {
   "cell_type": "markdown",
   "metadata": {},
   "source": [
    "Для этого посчитаем количество уникальных пользователей объединенной группы по шагам и общее количество уникальных пользователей в группах 246 и 247."
   ]
  },
  {
   "cell_type": "code",
   "execution_count": 73,
   "metadata": {},
   "outputs": [
    {
     "data": {
      "text/html": [
       "<div>\n",
       "<style scoped>\n",
       "    .dataframe tbody tr th:only-of-type {\n",
       "        vertical-align: middle;\n",
       "    }\n",
       "\n",
       "    .dataframe tbody tr th {\n",
       "        vertical-align: top;\n",
       "    }\n",
       "\n",
       "    .dataframe thead th {\n",
       "        text-align: right;\n",
       "    }\n",
       "</style>\n",
       "<table border=\"1\" class=\"dataframe\">\n",
       "  <thead>\n",
       "    <tr style=\"text-align: right;\">\n",
       "      <th></th>\n",
       "      <th>event_name</th>\n",
       "      <th>device_id_hash</th>\n",
       "    </tr>\n",
       "  </thead>\n",
       "  <tbody>\n",
       "    <tr>\n",
       "      <th>0</th>\n",
       "      <td>MainScreenAppear</td>\n",
       "      <td>4926</td>\n",
       "    </tr>\n",
       "    <tr>\n",
       "      <th>1</th>\n",
       "      <td>OffersScreenAppear</td>\n",
       "      <td>3062</td>\n",
       "    </tr>\n",
       "    <tr>\n",
       "      <th>2</th>\n",
       "      <td>CartScreenAppear</td>\n",
       "      <td>2504</td>\n",
       "    </tr>\n",
       "    <tr>\n",
       "      <th>3</th>\n",
       "      <td>PaymentScreenSuccessful</td>\n",
       "      <td>2358</td>\n",
       "    </tr>\n",
       "  </tbody>\n",
       "</table>\n",
       "</div>"
      ],
      "text/plain": [
       "                event_name  device_id_hash\n",
       "0         MainScreenAppear            4926\n",
       "1       OffersScreenAppear            3062\n",
       "2         CartScreenAppear            2504\n",
       "3  PaymentScreenSuccessful            2358"
      ]
     },
     "execution_count": 73,
     "metadata": {},
     "output_type": "execute_result"
    }
   ],
   "source": [
    "# воронка для групп 246 и 247 в сумме\n",
    "sections_246_247 = sections_246\n",
    "sections_246_247['device_id_hash'] = sections_246['device_id_hash']+sections_247['device_id_hash']\n",
    "sections_246_247 = sections_246_247.drop('funnel', axis=1)\n",
    "sections_246_247"
   ]
  },
  {
   "cell_type": "code",
   "execution_count": 74,
   "metadata": {},
   "outputs": [
    {
     "data": {
      "text/plain": [
       "4997"
      ]
     },
     "execution_count": 74,
     "metadata": {},
     "output_type": "execute_result"
    }
   ],
   "source": [
    "# общее число уникальных пользователей\n",
    "unique_users_246_247 = (data_filtered.loc[data_filtered['exp_id']==246, 'device_id_hash'].nunique() + \n",
    "                        data_filtered.loc[data_filtered['exp_id']==247, 'device_id_hash'].nunique())\n",
    "unique_users_246_247"
   ]
  },
  {
   "cell_type": "markdown",
   "metadata": {},
   "source": [
    "Начнем с самого первого шага воронки. \n",
    "* Нулевая гипотеза: доля пользователей перешедших на шаг MainScreenAppear одинаковая в обоих группах. Альтернативная гипотеза: доля пользователей разная в обоих группах."
   ]
  },
  {
   "cell_type": "code",
   "execution_count": 75,
   "metadata": {},
   "outputs": [
    {
     "name": "stdout",
     "output_type": "stream",
     "text": [
      "p-значение:  0.29424526837179577\n",
      "Не получилось отвергнуть нулевую гипотезу, нет оснований считать доли разными\n"
     ]
    }
   ],
   "source": [
    "proportion_test(0.05/16, \n",
    "                sections_246_247.loc[0,'device_id_hash'],\n",
    "                unique_users_246_247, \n",
    "                sections_248.loc[0,'device_id_hash'],\n",
    "                data_filtered.loc[data_filtered['exp_id']==248, 'device_id_hash'].nunique())"
   ]
  },
  {
   "cell_type": "markdown",
   "metadata": {},
   "source": [
    "Теперь можем изучать различие в долях объединенной контрольной группы и экспериментальной.\n",
    "* Нулевая гипотеза: доля пользователей перешедших на шаг OffersScreenAppear одинаковая в обоих группах. Альтернативная гипотеза: доля пользователей разная в обоих группах."
   ]
  },
  {
   "cell_type": "code",
   "execution_count": 76,
   "metadata": {},
   "outputs": [
    {
     "name": "stdout",
     "output_type": "stream",
     "text": [
      "p-значение:  0.43425549655188256\n",
      "Не получилось отвергнуть нулевую гипотезу, нет оснований считать доли разными\n"
     ]
    }
   ],
   "source": [
    "proportion_test(0.05/16, \n",
    "                sections_246_247.loc[1,'device_id_hash'],\n",
    "                unique_users_246_247,  \n",
    "                sections_248.loc[1,'device_id_hash'],\n",
    "                data_filtered.loc[data_filtered['exp_id']==248, 'device_id_hash'].nunique())"
   ]
  },
  {
   "cell_type": "markdown",
   "metadata": {},
   "source": [
    "* Нулевая гипотеза: доля пользователей перешедших на шаг CartScreenAppear одинаковая в обоих группах. Альтернативная гипотеза: доля пользователей разная в обоих группах."
   ]
  },
  {
   "cell_type": "code",
   "execution_count": 77,
   "metadata": {},
   "outputs": [
    {
     "name": "stdout",
     "output_type": "stream",
     "text": [
      "p-значение:  0.18175875284404386\n",
      "Не получилось отвергнуть нулевую гипотезу, нет оснований считать доли разными\n"
     ]
    }
   ],
   "source": [
    "proportion_test(0.05/16, \n",
    "                sections_246_247.loc[2,'device_id_hash'],\n",
    "                unique_users_246_247, \n",
    "                sections_248.loc[2,'device_id_hash'],\n",
    "                data_filtered.loc[data_filtered['exp_id']==248, 'device_id_hash'].nunique())"
   ]
  },
  {
   "cell_type": "markdown",
   "metadata": {},
   "source": [
    "* Нулевая гипотеза: доля пользователей перешедших на шаг PaymentScreenSuccessful одинаковая в обоих группах. Альтернативная гипотеза: доля пользователей разная в обоих группах."
   ]
  },
  {
   "cell_type": "code",
   "execution_count": 78,
   "metadata": {},
   "outputs": [
    {
     "name": "stdout",
     "output_type": "stream",
     "text": [
      "p-значение:  0.6004294282308704\n",
      "Не получилось отвергнуть нулевую гипотезу, нет оснований считать доли разными\n"
     ]
    }
   ],
   "source": [
    "proportion_test(0.05/16, \n",
    "                sections_246_247.loc[3,'device_id_hash'],\n",
    "                unique_users_246_247, \n",
    "                sections_248.loc[3,'device_id_hash'],\n",
    "                data_filtered.loc[data_filtered['exp_id']==248, 'device_id_hash'].nunique())"
   ]
  },
  {
   "cell_type": "markdown",
   "metadata": {},
   "source": [
    "По результатам сравнения долей пользователей на каждом этапе экспериментальной группы и объединенной контрольной группы делаем вывод, что нет статистически значимых различий."
   ]
  },
  {
   "cell_type": "markdown",
   "metadata": {},
   "source": [
    "##### Вывод по результатам A/A/B-теста"
   ]
  },
  {
   "cell_type": "markdown",
   "metadata": {},
   "source": [
    "Мы провели A/A тест,сравнив четыре доли двух контрольных групп между собой. Проверили 4 гипотезы, получили 4 p-value, все оказались выше порога. Так что различий в контрольных группах мы не нашли. Контрольные группы сформированы корректно.\\\n",
    "Мы провели А/A/B, сравнив две контрольные группы по очереди с экспериментальной. Проверили 4 гипотезы для каждого сравнения. Итого 8 гипотез. Все 8 p-value оказались выше порога. Получается, что статистически значимой разницы между группами нет.\\\n",
    "Провели A/B тест, где сравнили экспериментальную группу с объединенной группой 246 и 247. Таким образом, проверены еще 4 гипотезы и оснований их отвергать нет, p-value высокие.\\\n",
    "Таким образом, было проверено 16 гипотез в 4 тестах.\\\n",
    "Не обнаружено значимого влияния измененного шрифта на воронку. Нет причин менять шрифт.\\\n",
    "P-value превысили порог в 5% с запасом, учитывая поправку Бонферрони. Даже если бы мы взяли порог в 10%, то ничего бы не поменялось ни для одной из гипотез.\\\n",
    "Выбор порогового значения в 0.05 обсуловлен тем, что если бы мы взяли уровень значимости 0.1, то, к примеру, p-value 0.09 оказалось бы ниже порога. Пришлось бы считать, что доли статистически различаются. Но это достаточно высокая вероятность. Вероятность получить одинаковые доли 9 раз из 100. Таким образом, уровень 0.1 не кажется подходящим, чтобы сказать, что новый шрифт действительно лучше или хуже текущего. "
   ]
  },
  {
   "cell_type": "markdown",
   "metadata": {},
   "source": [
    "### Общие выводы по результатам работы"
   ]
  },
  {
   "cell_type": "markdown",
   "metadata": {},
   "source": [
    "* Из данных для дальнейшего анализа были удалены логи за июль, так как таких событий крайне мало.\n",
    "* При расчете воронки, а значит и результатов теста, не использовался шаг Tutorial. Мы его не рассматриваем, так как он может идти после любого шага, и этот раздел имеет крайне мало посетителей по сравнению с другими событиями. \n",
    "* Воронки для всех трех рассматриваемых групп имеют примерно одинаковые доли на каждом шаге между группами.\n",
    "* A/A - тест пройден успешно:\n",
    "\n",
    "В группах 246 и 247 статистически значимых различий в долях обнаружено не было;\\\n",
    "Разница в количестве участников в группах составляет 1,2%;\\\n",
    "Нет тех, кто попал в 2 или 3 группы сразу. \n",
    "* A/A/B - тест показывает, что нет статистически значимых различий между группами 248 и 247, 248 и 246, а также 248 и 246+248.\n",
    "\n",
    "**Итоговый вывод заключается в том, что не обнаружено существенного различия в воронках экспериментальной и контрольных групп. Поэтому нет причин менять шрифт.**"
   ]
  },
  {
   "cell_type": "code",
   "execution_count": null,
   "metadata": {},
   "outputs": [],
   "source": []
  }
 ],
 "metadata": {
  "ExecuteTimeLog": [
   {
    "duration": 53,
    "start_time": "2023-05-22T19:02:33.885Z"
   },
   {
    "duration": 799,
    "start_time": "2023-05-22T19:03:07.572Z"
   },
   {
    "duration": 633,
    "start_time": "2023-05-22T19:03:08.373Z"
   },
   {
    "duration": 3,
    "start_time": "2023-05-22T19:03:12.123Z"
   },
   {
    "duration": 312,
    "start_time": "2023-05-22T19:03:12.689Z"
   },
   {
    "duration": 471,
    "start_time": "2023-05-22T19:03:48.348Z"
   },
   {
    "duration": 12,
    "start_time": "2023-05-22T19:06:01.947Z"
   },
   {
    "duration": 172,
    "start_time": "2023-05-22T19:15:45.766Z"
   },
   {
    "duration": 8,
    "start_time": "2023-05-22T19:15:48.494Z"
   },
   {
    "duration": 24,
    "start_time": "2023-05-22T20:23:02.324Z"
   },
   {
    "duration": 7,
    "start_time": "2023-05-22T20:26:40.697Z"
   },
   {
    "duration": 8,
    "start_time": "2023-05-22T20:37:03.642Z"
   },
   {
    "duration": 34,
    "start_time": "2023-05-22T20:37:04.653Z"
   },
   {
    "duration": 65,
    "start_time": "2023-05-22T20:41:20.720Z"
   },
   {
    "duration": 52,
    "start_time": "2023-05-22T20:41:40.515Z"
   },
   {
    "duration": 5,
    "start_time": "2023-05-22T20:42:05.296Z"
   },
   {
    "duration": 270,
    "start_time": "2023-05-22T20:43:27.919Z"
   },
   {
    "duration": 3,
    "start_time": "2023-05-22T20:43:52.858Z"
   },
   {
    "duration": 186,
    "start_time": "2023-05-22T20:43:54.252Z"
   },
   {
    "duration": 8,
    "start_time": "2023-05-22T20:43:54.694Z"
   },
   {
    "duration": 8,
    "start_time": "2023-05-22T20:43:56.098Z"
   },
   {
    "duration": 22,
    "start_time": "2023-05-22T20:43:57.062Z"
   },
   {
    "duration": 3,
    "start_time": "2023-05-22T20:43:59.399Z"
   },
   {
    "duration": 266,
    "start_time": "2023-05-22T20:44:00.226Z"
   },
   {
    "duration": 35,
    "start_time": "2023-05-22T20:45:59.464Z"
   },
   {
    "duration": 2,
    "start_time": "2023-05-22T20:46:06.868Z"
   },
   {
    "duration": 5,
    "start_time": "2023-05-22T20:46:07.724Z"
   },
   {
    "duration": 44,
    "start_time": "2023-05-22T20:50:41.160Z"
   },
   {
    "duration": 47,
    "start_time": "2023-05-22T20:50:46.913Z"
   },
   {
    "duration": 46,
    "start_time": "2023-05-22T20:54:42.806Z"
   },
   {
    "duration": 10,
    "start_time": "2023-05-22T21:04:25.787Z"
   },
   {
    "duration": 212,
    "start_time": "2023-05-22T21:06:12.997Z"
   },
   {
    "duration": 3,
    "start_time": "2023-05-22T21:11:07.895Z"
   },
   {
    "duration": 181,
    "start_time": "2023-05-22T21:11:07.900Z"
   },
   {
    "duration": 8,
    "start_time": "2023-05-22T21:11:08.084Z"
   },
   {
    "duration": 28,
    "start_time": "2023-05-22T21:11:08.094Z"
   },
   {
    "duration": 33,
    "start_time": "2023-05-22T21:11:08.124Z"
   },
   {
    "duration": 25,
    "start_time": "2023-05-22T21:11:08.159Z"
   },
   {
    "duration": 274,
    "start_time": "2023-05-22T21:11:08.186Z"
   },
   {
    "duration": 0,
    "start_time": "2023-05-22T21:11:08.461Z"
   },
   {
    "duration": 2,
    "start_time": "2023-05-22T21:11:36.027Z"
   },
   {
    "duration": 182,
    "start_time": "2023-05-22T21:11:36.031Z"
   },
   {
    "duration": 8,
    "start_time": "2023-05-22T21:11:36.215Z"
   },
   {
    "duration": 24,
    "start_time": "2023-05-22T21:11:36.225Z"
   },
   {
    "duration": 35,
    "start_time": "2023-05-22T21:11:36.251Z"
   },
   {
    "duration": 63,
    "start_time": "2023-05-22T21:11:36.288Z"
   },
   {
    "duration": 0,
    "start_time": "2023-05-22T21:11:36.353Z"
   },
   {
    "duration": 0,
    "start_time": "2023-05-22T21:11:36.355Z"
   },
   {
    "duration": 3,
    "start_time": "2023-05-22T21:11:49.012Z"
   },
   {
    "duration": 154,
    "start_time": "2023-05-22T21:11:49.017Z"
   },
   {
    "duration": 7,
    "start_time": "2023-05-22T21:11:49.173Z"
   },
   {
    "duration": 8,
    "start_time": "2023-05-22T21:11:49.182Z"
   },
   {
    "duration": 19,
    "start_time": "2023-05-22T21:11:49.192Z"
   },
   {
    "duration": 57,
    "start_time": "2023-05-22T21:11:49.213Z"
   },
   {
    "duration": 1445,
    "start_time": "2023-05-22T21:11:49.271Z"
   },
   {
    "duration": 0,
    "start_time": "2023-05-22T21:11:50.718Z"
   },
   {
    "duration": 11,
    "start_time": "2023-05-22T21:12:44.176Z"
   },
   {
    "duration": 482,
    "start_time": "2023-05-22T21:13:03.127Z"
   },
   {
    "duration": 344,
    "start_time": "2023-05-22T21:13:24.141Z"
   },
   {
    "duration": 40,
    "start_time": "2023-05-22T21:19:30.163Z"
   },
   {
    "duration": 12,
    "start_time": "2023-05-22T21:24:51.745Z"
   },
   {
    "duration": 3,
    "start_time": "2023-05-22T21:25:00.859Z"
   },
   {
    "duration": 188,
    "start_time": "2023-05-22T21:25:00.865Z"
   },
   {
    "duration": 8,
    "start_time": "2023-05-22T21:25:01.055Z"
   },
   {
    "duration": 36,
    "start_time": "2023-05-22T21:25:01.065Z"
   },
   {
    "duration": 64,
    "start_time": "2023-05-22T21:25:01.104Z"
   },
   {
    "duration": 49,
    "start_time": "2023-05-22T21:25:01.170Z"
   },
   {
    "duration": 0,
    "start_time": "2023-05-22T21:25:01.221Z"
   },
   {
    "duration": 0,
    "start_time": "2023-05-22T21:25:01.222Z"
   },
   {
    "duration": 11,
    "start_time": "2023-05-22T21:26:57.020Z"
   },
   {
    "duration": 4,
    "start_time": "2023-05-22T21:27:05.529Z"
   },
   {
    "duration": 199,
    "start_time": "2023-05-22T21:27:05.536Z"
   },
   {
    "duration": 10,
    "start_time": "2023-05-22T21:27:05.737Z"
   },
   {
    "duration": 23,
    "start_time": "2023-05-22T21:27:05.749Z"
   },
   {
    "duration": 38,
    "start_time": "2023-05-22T21:27:05.774Z"
   },
   {
    "duration": 13,
    "start_time": "2023-05-22T21:27:05.813Z"
   },
   {
    "duration": 0,
    "start_time": "2023-05-22T21:27:05.828Z"
   },
   {
    "duration": 0,
    "start_time": "2023-05-22T21:27:05.829Z"
   },
   {
    "duration": 178,
    "start_time": "2023-05-22T21:27:31.099Z"
   },
   {
    "duration": 7,
    "start_time": "2023-05-22T21:27:38.771Z"
   },
   {
    "duration": 6,
    "start_time": "2023-05-22T21:27:41.882Z"
   },
   {
    "duration": 9,
    "start_time": "2023-05-22T21:28:22.557Z"
   },
   {
    "duration": 3,
    "start_time": "2023-05-22T21:28:24.005Z"
   },
   {
    "duration": 5,
    "start_time": "2023-05-22T21:28:24.457Z"
   },
   {
    "duration": 5,
    "start_time": "2023-05-22T21:28:29.873Z"
   },
   {
    "duration": 3,
    "start_time": "2023-05-22T21:28:34.489Z"
   },
   {
    "duration": 174,
    "start_time": "2023-05-22T21:28:34.495Z"
   },
   {
    "duration": 7,
    "start_time": "2023-05-22T21:28:34.671Z"
   },
   {
    "duration": 16,
    "start_time": "2023-05-22T21:28:34.680Z"
   },
   {
    "duration": 22,
    "start_time": "2023-05-22T21:28:34.698Z"
   },
   {
    "duration": 7,
    "start_time": "2023-05-22T21:28:34.722Z"
   },
   {
    "duration": 5,
    "start_time": "2023-05-22T21:28:34.731Z"
   },
   {
    "duration": 719,
    "start_time": "2023-05-22T21:28:34.746Z"
   },
   {
    "duration": 1018,
    "start_time": "2023-05-22T21:28:55.643Z"
   },
   {
    "duration": 83,
    "start_time": "2023-05-22T21:32:26.908Z"
   },
   {
    "duration": 73,
    "start_time": "2023-05-22T21:33:55.808Z"
   },
   {
    "duration": 5,
    "start_time": "2023-05-22T21:34:00.445Z"
   },
   {
    "duration": 9,
    "start_time": "2023-05-22T21:34:17.383Z"
   },
   {
    "duration": 9,
    "start_time": "2023-05-22T21:37:01.420Z"
   },
   {
    "duration": 31,
    "start_time": "2023-05-22T21:38:17.373Z"
   },
   {
    "duration": 20,
    "start_time": "2023-05-22T21:38:42.001Z"
   },
   {
    "duration": 1327,
    "start_time": "2023-05-23T07:51:57.097Z"
   },
   {
    "duration": 542,
    "start_time": "2023-05-23T07:51:58.426Z"
   },
   {
    "duration": 13,
    "start_time": "2023-05-23T07:51:58.970Z"
   },
   {
    "duration": 23,
    "start_time": "2023-05-23T07:51:58.985Z"
   },
   {
    "duration": 893,
    "start_time": "2023-05-23T07:51:59.010Z"
   },
   {
    "duration": 0,
    "start_time": "2023-05-23T07:51:59.904Z"
   },
   {
    "duration": 0,
    "start_time": "2023-05-23T07:51:59.905Z"
   },
   {
    "duration": 0,
    "start_time": "2023-05-23T07:51:59.906Z"
   },
   {
    "duration": 0,
    "start_time": "2023-05-23T07:51:59.908Z"
   },
   {
    "duration": 0,
    "start_time": "2023-05-23T07:51:59.909Z"
   },
   {
    "duration": 0,
    "start_time": "2023-05-23T07:51:59.910Z"
   },
   {
    "duration": 21,
    "start_time": "2023-05-23T07:52:19.711Z"
   },
   {
    "duration": 9,
    "start_time": "2023-05-23T07:52:24.564Z"
   },
   {
    "duration": 20,
    "start_time": "2023-05-23T07:52:25.674Z"
   },
   {
    "duration": 10,
    "start_time": "2023-05-23T07:52:26.913Z"
   },
   {
    "duration": 73,
    "start_time": "2023-05-23T07:52:28.935Z"
   },
   {
    "duration": 10,
    "start_time": "2023-05-23T07:52:29.962Z"
   },
   {
    "duration": 9,
    "start_time": "2023-05-23T08:08:21.794Z"
   },
   {
    "duration": 10,
    "start_time": "2023-05-23T08:08:22.315Z"
   },
   {
    "duration": 104,
    "start_time": "2023-05-23T08:08:55.417Z"
   },
   {
    "duration": 174,
    "start_time": "2023-05-23T08:10:08.407Z"
   },
   {
    "duration": 107,
    "start_time": "2023-05-23T08:10:47.475Z"
   },
   {
    "duration": 100,
    "start_time": "2023-05-23T08:12:56.880Z"
   },
   {
    "duration": 91,
    "start_time": "2023-05-23T08:13:11.877Z"
   },
   {
    "duration": 146,
    "start_time": "2023-05-23T08:13:42.113Z"
   },
   {
    "duration": 150,
    "start_time": "2023-05-23T08:13:48.168Z"
   },
   {
    "duration": 111,
    "start_time": "2023-05-23T08:14:33.123Z"
   },
   {
    "duration": 98,
    "start_time": "2023-05-23T08:24:50.534Z"
   },
   {
    "duration": 87,
    "start_time": "2023-05-23T08:25:29.674Z"
   },
   {
    "duration": 105,
    "start_time": "2023-05-23T08:26:29.518Z"
   },
   {
    "duration": 131,
    "start_time": "2023-05-23T08:30:46.338Z"
   },
   {
    "duration": 78,
    "start_time": "2023-05-23T08:31:05.360Z"
   },
   {
    "duration": 102,
    "start_time": "2023-05-23T08:31:10.185Z"
   },
   {
    "duration": 98,
    "start_time": "2023-05-23T08:43:56.064Z"
   },
   {
    "duration": 113,
    "start_time": "2023-05-23T08:44:08.485Z"
   },
   {
    "duration": 111,
    "start_time": "2023-05-23T08:45:30.947Z"
   },
   {
    "duration": 102,
    "start_time": "2023-05-23T08:46:50.190Z"
   },
   {
    "duration": 93,
    "start_time": "2023-05-23T08:46:54.019Z"
   },
   {
    "duration": 101,
    "start_time": "2023-05-23T08:48:00.816Z"
   },
   {
    "duration": 89,
    "start_time": "2023-05-23T08:52:39.202Z"
   },
   {
    "duration": 90,
    "start_time": "2023-05-23T08:52:43.142Z"
   },
   {
    "duration": 96,
    "start_time": "2023-05-23T08:53:26.295Z"
   },
   {
    "duration": 9,
    "start_time": "2023-05-23T08:53:47.242Z"
   },
   {
    "duration": 106,
    "start_time": "2023-05-23T08:53:51.203Z"
   },
   {
    "duration": 111,
    "start_time": "2023-05-23T08:54:02.972Z"
   },
   {
    "duration": 9,
    "start_time": "2023-05-23T09:02:52.390Z"
   },
   {
    "duration": 25,
    "start_time": "2023-05-23T09:03:12.060Z"
   },
   {
    "duration": 103,
    "start_time": "2023-05-23T09:05:32.045Z"
   },
   {
    "duration": 4,
    "start_time": "2023-05-23T09:09:23.756Z"
   },
   {
    "duration": 3,
    "start_time": "2023-05-23T09:10:08.594Z"
   },
   {
    "duration": 82,
    "start_time": "2023-05-23T09:11:07.801Z"
   },
   {
    "duration": 40,
    "start_time": "2023-05-23T09:11:40.158Z"
   },
   {
    "duration": 7,
    "start_time": "2023-05-23T09:11:54.461Z"
   },
   {
    "duration": 9,
    "start_time": "2023-05-23T09:12:18.776Z"
   },
   {
    "duration": 7,
    "start_time": "2023-05-23T09:12:31.422Z"
   },
   {
    "duration": 3,
    "start_time": "2023-05-23T09:12:31.961Z"
   },
   {
    "duration": 4,
    "start_time": "2023-05-23T09:13:42.602Z"
   },
   {
    "duration": 3,
    "start_time": "2023-05-23T09:14:12.346Z"
   },
   {
    "duration": 3,
    "start_time": "2023-05-23T09:14:31.038Z"
   },
   {
    "duration": 35,
    "start_time": "2023-05-23T09:54:22.949Z"
   },
   {
    "duration": 30,
    "start_time": "2023-05-23T09:54:54.440Z"
   },
   {
    "duration": 249,
    "start_time": "2023-05-23T09:58:33.618Z"
   },
   {
    "duration": 207,
    "start_time": "2023-05-23T09:59:17.689Z"
   },
   {
    "duration": 57,
    "start_time": "2023-05-23T10:11:09.062Z"
   },
   {
    "duration": 249,
    "start_time": "2023-05-23T10:11:11.651Z"
   },
   {
    "duration": 238,
    "start_time": "2023-05-23T10:12:29.471Z"
   },
   {
    "duration": 337,
    "start_time": "2023-05-23T10:16:34.461Z"
   },
   {
    "duration": 3,
    "start_time": "2023-05-23T10:16:45.047Z"
   },
   {
    "duration": 197,
    "start_time": "2023-05-23T10:16:45.052Z"
   },
   {
    "duration": 7,
    "start_time": "2023-05-23T10:16:45.251Z"
   },
   {
    "duration": 38,
    "start_time": "2023-05-23T10:16:45.259Z"
   },
   {
    "duration": 31,
    "start_time": "2023-05-23T10:16:45.299Z"
   },
   {
    "duration": 56,
    "start_time": "2023-05-23T10:16:45.331Z"
   },
   {
    "duration": 43,
    "start_time": "2023-05-23T10:16:45.389Z"
   },
   {
    "duration": 17,
    "start_time": "2023-05-23T10:16:45.434Z"
   },
   {
    "duration": 24,
    "start_time": "2023-05-23T10:16:45.452Z"
   },
   {
    "duration": 97,
    "start_time": "2023-05-23T10:16:45.478Z"
   },
   {
    "duration": 9,
    "start_time": "2023-05-23T10:16:45.577Z"
   },
   {
    "duration": 117,
    "start_time": "2023-05-23T10:16:45.588Z"
   },
   {
    "duration": 150,
    "start_time": "2023-05-23T10:16:45.707Z"
   },
   {
    "duration": 97,
    "start_time": "2023-05-23T10:16:45.860Z"
   },
   {
    "duration": 114,
    "start_time": "2023-05-23T10:16:45.958Z"
   },
   {
    "duration": 112,
    "start_time": "2023-05-23T10:16:46.074Z"
   },
   {
    "duration": 96,
    "start_time": "2023-05-23T10:16:46.188Z"
   },
   {
    "duration": 138,
    "start_time": "2023-05-23T10:16:46.286Z"
   },
   {
    "duration": 3,
    "start_time": "2023-05-23T10:16:46.426Z"
   },
   {
    "duration": 18,
    "start_time": "2023-05-23T10:16:46.431Z"
   },
   {
    "duration": 4,
    "start_time": "2023-05-23T10:16:46.451Z"
   },
   {
    "duration": 7,
    "start_time": "2023-05-23T10:16:46.457Z"
   },
   {
    "duration": 7,
    "start_time": "2023-05-23T10:16:46.466Z"
   },
   {
    "duration": 38,
    "start_time": "2023-05-23T10:16:46.475Z"
   },
   {
    "duration": 374,
    "start_time": "2023-05-23T10:16:46.515Z"
   },
   {
    "duration": 316,
    "start_time": "2023-05-23T10:16:55.902Z"
   },
   {
    "duration": 18,
    "start_time": "2023-05-23T10:18:50.525Z"
   },
   {
    "duration": 19,
    "start_time": "2023-05-23T10:19:24.892Z"
   },
   {
    "duration": 127,
    "start_time": "2023-05-23T10:27:27.643Z"
   },
   {
    "duration": 15,
    "start_time": "2023-05-23T10:28:05.743Z"
   },
   {
    "duration": 128,
    "start_time": "2023-05-23T10:28:42.062Z"
   },
   {
    "duration": 3,
    "start_time": "2023-05-23T10:30:29.288Z"
   },
   {
    "duration": 27,
    "start_time": "2023-05-23T10:32:08.585Z"
   },
   {
    "duration": 12,
    "start_time": "2023-05-23T10:32:46.920Z"
   },
   {
    "duration": 32,
    "start_time": "2023-05-23T10:39:35.439Z"
   },
   {
    "duration": 9,
    "start_time": "2023-05-23T10:46:01.206Z"
   },
   {
    "duration": 7,
    "start_time": "2023-05-23T10:46:43.293Z"
   },
   {
    "duration": 9,
    "start_time": "2023-05-23T10:47:04.301Z"
   },
   {
    "duration": 33,
    "start_time": "2023-05-23T10:49:08.457Z"
   },
   {
    "duration": 33,
    "start_time": "2023-05-23T10:49:14.103Z"
   },
   {
    "duration": 68,
    "start_time": "2023-05-23T10:50:51.691Z"
   },
   {
    "duration": 3,
    "start_time": "2023-05-23T11:03:41.781Z"
   },
   {
    "duration": 241,
    "start_time": "2023-05-23T11:03:52.652Z"
   },
   {
    "duration": 431,
    "start_time": "2023-05-23T11:04:50.032Z"
   },
   {
    "duration": 4,
    "start_time": "2023-05-23T11:04:59.537Z"
   },
   {
    "duration": 4,
    "start_time": "2023-05-23T11:10:09.012Z"
   },
   {
    "duration": 106,
    "start_time": "2023-05-23T11:10:15.984Z"
   },
   {
    "duration": 520,
    "start_time": "2023-05-23T11:10:29.292Z"
   },
   {
    "duration": 3,
    "start_time": "2023-05-23T11:10:41.557Z"
   },
   {
    "duration": 1246,
    "start_time": "2023-05-23T11:20:02.648Z"
   },
   {
    "duration": 30,
    "start_time": "2023-05-23T11:20:33.437Z"
   },
   {
    "duration": 58,
    "start_time": "2023-05-23T11:20:47.138Z"
   },
   {
    "duration": 48,
    "start_time": "2023-05-23T11:21:08.244Z"
   },
   {
    "duration": 50,
    "start_time": "2023-05-23T11:29:48.504Z"
   },
   {
    "duration": 71,
    "start_time": "2023-05-23T11:30:16.088Z"
   },
   {
    "duration": 59,
    "start_time": "2023-05-23T11:30:51.577Z"
   },
   {
    "duration": 11,
    "start_time": "2023-05-23T11:37:46.878Z"
   },
   {
    "duration": 2,
    "start_time": "2023-05-23T11:37:57.564Z"
   },
   {
    "duration": 53,
    "start_time": "2023-05-23T11:39:02.393Z"
   },
   {
    "duration": 12,
    "start_time": "2023-05-23T11:39:08.635Z"
   },
   {
    "duration": 3,
    "start_time": "2023-05-23T11:58:14.404Z"
   },
   {
    "duration": 4,
    "start_time": "2023-05-23T11:59:09.590Z"
   },
   {
    "duration": 924,
    "start_time": "2023-05-23T11:59:19.368Z"
   },
   {
    "duration": 1855,
    "start_time": "2023-05-23T11:59:43.959Z"
   },
   {
    "duration": 983,
    "start_time": "2023-05-23T12:01:21.459Z"
   },
   {
    "duration": 687,
    "start_time": "2023-05-23T12:01:40.021Z"
   },
   {
    "duration": 74,
    "start_time": "2023-05-23T12:05:33.142Z"
   },
   {
    "duration": 27,
    "start_time": "2023-05-23T12:05:51.833Z"
   },
   {
    "duration": 13,
    "start_time": "2023-05-23T12:06:37.841Z"
   },
   {
    "duration": 3,
    "start_time": "2023-05-23T12:06:41.979Z"
   },
   {
    "duration": 11,
    "start_time": "2023-05-23T12:07:31.375Z"
   },
   {
    "duration": 4,
    "start_time": "2023-05-23T12:08:49.940Z"
   },
   {
    "duration": 193,
    "start_time": "2023-05-23T12:08:49.947Z"
   },
   {
    "duration": 8,
    "start_time": "2023-05-23T12:08:50.147Z"
   },
   {
    "duration": 49,
    "start_time": "2023-05-23T12:08:50.156Z"
   },
   {
    "duration": 25,
    "start_time": "2023-05-23T12:08:50.207Z"
   },
   {
    "duration": 13,
    "start_time": "2023-05-23T12:08:50.233Z"
   },
   {
    "duration": 39,
    "start_time": "2023-05-23T12:08:50.248Z"
   },
   {
    "duration": 29,
    "start_time": "2023-05-23T12:08:50.290Z"
   },
   {
    "duration": 30,
    "start_time": "2023-05-23T12:08:50.321Z"
   },
   {
    "duration": 86,
    "start_time": "2023-05-23T12:08:50.353Z"
   },
   {
    "duration": 10,
    "start_time": "2023-05-23T12:08:50.442Z"
   },
   {
    "duration": 117,
    "start_time": "2023-05-23T12:08:50.454Z"
   },
   {
    "duration": 142,
    "start_time": "2023-05-23T12:08:50.572Z"
   },
   {
    "duration": 104,
    "start_time": "2023-05-23T12:08:50.716Z"
   },
   {
    "duration": 117,
    "start_time": "2023-05-23T12:08:50.822Z"
   },
   {
    "duration": 111,
    "start_time": "2023-05-23T12:08:50.945Z"
   },
   {
    "duration": 106,
    "start_time": "2023-05-23T12:08:51.058Z"
   },
   {
    "duration": 116,
    "start_time": "2023-05-23T12:08:51.165Z"
   },
   {
    "duration": 4,
    "start_time": "2023-05-23T12:08:51.282Z"
   },
   {
    "duration": 28,
    "start_time": "2023-05-23T12:08:51.287Z"
   },
   {
    "duration": 20,
    "start_time": "2023-05-23T12:08:51.317Z"
   },
   {
    "duration": 13,
    "start_time": "2023-05-23T12:08:51.338Z"
   },
   {
    "duration": 9,
    "start_time": "2023-05-23T12:08:51.352Z"
   },
   {
    "duration": 43,
    "start_time": "2023-05-23T12:08:51.363Z"
   },
   {
    "duration": 252,
    "start_time": "2023-05-23T12:08:51.409Z"
   },
   {
    "duration": 13,
    "start_time": "2023-05-23T12:08:51.662Z"
   },
   {
    "duration": 70,
    "start_time": "2023-05-23T12:08:51.677Z"
   },
   {
    "duration": 0,
    "start_time": "2023-05-23T12:08:51.748Z"
   },
   {
    "duration": 0,
    "start_time": "2023-05-23T12:08:51.750Z"
   },
   {
    "duration": 0,
    "start_time": "2023-05-23T12:08:51.751Z"
   },
   {
    "duration": 0,
    "start_time": "2023-05-23T12:08:51.752Z"
   },
   {
    "duration": 0,
    "start_time": "2023-05-23T12:08:51.753Z"
   },
   {
    "duration": 0,
    "start_time": "2023-05-23T12:08:51.754Z"
   },
   {
    "duration": 3,
    "start_time": "2023-05-23T12:09:00.273Z"
   },
   {
    "duration": 192,
    "start_time": "2023-05-23T12:09:00.278Z"
   },
   {
    "duration": 7,
    "start_time": "2023-05-23T12:09:00.472Z"
   },
   {
    "duration": 31,
    "start_time": "2023-05-23T12:09:00.481Z"
   },
   {
    "duration": 25,
    "start_time": "2023-05-23T12:09:00.514Z"
   },
   {
    "duration": 29,
    "start_time": "2023-05-23T12:09:00.540Z"
   },
   {
    "duration": 30,
    "start_time": "2023-05-23T12:09:00.571Z"
   },
   {
    "duration": 38,
    "start_time": "2023-05-23T12:09:00.603Z"
   },
   {
    "duration": 29,
    "start_time": "2023-05-23T12:09:00.642Z"
   },
   {
    "duration": 71,
    "start_time": "2023-05-23T12:09:00.673Z"
   },
   {
    "duration": 67,
    "start_time": "2023-05-23T12:09:00.748Z"
   },
   {
    "duration": 111,
    "start_time": "2023-05-23T12:09:00.816Z"
   },
   {
    "duration": 147,
    "start_time": "2023-05-23T12:09:00.928Z"
   },
   {
    "duration": 111,
    "start_time": "2023-05-23T12:09:01.078Z"
   },
   {
    "duration": 107,
    "start_time": "2023-05-23T12:09:01.191Z"
   },
   {
    "duration": 101,
    "start_time": "2023-05-23T12:09:01.300Z"
   },
   {
    "duration": 92,
    "start_time": "2023-05-23T12:09:01.403Z"
   },
   {
    "duration": 108,
    "start_time": "2023-05-23T12:09:01.497Z"
   },
   {
    "duration": 3,
    "start_time": "2023-05-23T12:09:01.606Z"
   },
   {
    "duration": 71,
    "start_time": "2023-05-23T12:09:01.611Z"
   },
   {
    "duration": 57,
    "start_time": "2023-05-23T12:09:01.683Z"
   },
   {
    "duration": 48,
    "start_time": "2023-05-23T12:09:01.742Z"
   },
   {
    "duration": 42,
    "start_time": "2023-05-23T12:09:01.792Z"
   },
   {
    "duration": 94,
    "start_time": "2023-05-23T12:09:01.836Z"
   },
   {
    "duration": 297,
    "start_time": "2023-05-23T12:09:01.935Z"
   },
   {
    "duration": 19,
    "start_time": "2023-05-23T12:09:02.234Z"
   },
   {
    "duration": 34,
    "start_time": "2023-05-23T12:09:02.255Z"
   },
   {
    "duration": 89,
    "start_time": "2023-05-23T12:09:02.291Z"
   },
   {
    "duration": 0,
    "start_time": "2023-05-23T12:09:02.382Z"
   },
   {
    "duration": 0,
    "start_time": "2023-05-23T12:09:02.384Z"
   },
   {
    "duration": 0,
    "start_time": "2023-05-23T12:09:02.386Z"
   },
   {
    "duration": 0,
    "start_time": "2023-05-23T12:09:02.387Z"
   },
   {
    "duration": 3,
    "start_time": "2023-05-23T12:09:09.580Z"
   },
   {
    "duration": 185,
    "start_time": "2023-05-23T12:09:09.585Z"
   },
   {
    "duration": 7,
    "start_time": "2023-05-23T12:09:09.772Z"
   },
   {
    "duration": 26,
    "start_time": "2023-05-23T12:09:09.781Z"
   },
   {
    "duration": 20,
    "start_time": "2023-05-23T12:09:09.809Z"
   },
   {
    "duration": 18,
    "start_time": "2023-05-23T12:09:09.831Z"
   },
   {
    "duration": 21,
    "start_time": "2023-05-23T12:09:09.851Z"
   },
   {
    "duration": 16,
    "start_time": "2023-05-23T12:09:09.873Z"
   },
   {
    "duration": 23,
    "start_time": "2023-05-23T12:09:09.890Z"
   },
   {
    "duration": 198,
    "start_time": "2023-05-23T12:09:09.915Z"
   },
   {
    "duration": 9,
    "start_time": "2023-05-23T12:09:10.115Z"
   },
   {
    "duration": 105,
    "start_time": "2023-05-23T12:09:10.126Z"
   },
   {
    "duration": 131,
    "start_time": "2023-05-23T12:09:10.233Z"
   },
   {
    "duration": 103,
    "start_time": "2023-05-23T12:09:10.366Z"
   },
   {
    "duration": 99,
    "start_time": "2023-05-23T12:09:10.470Z"
   },
   {
    "duration": 100,
    "start_time": "2023-05-23T12:09:10.570Z"
   },
   {
    "duration": 104,
    "start_time": "2023-05-23T12:09:10.672Z"
   },
   {
    "duration": 91,
    "start_time": "2023-05-23T12:09:10.778Z"
   },
   {
    "duration": 4,
    "start_time": "2023-05-23T12:09:10.870Z"
   },
   {
    "duration": 12,
    "start_time": "2023-05-23T12:09:10.875Z"
   },
   {
    "duration": 3,
    "start_time": "2023-05-23T12:09:10.888Z"
   },
   {
    "duration": 8,
    "start_time": "2023-05-23T12:09:10.893Z"
   },
   {
    "duration": 6,
    "start_time": "2023-05-23T12:09:10.903Z"
   },
   {
    "duration": 45,
    "start_time": "2023-05-23T12:09:10.910Z"
   },
   {
    "duration": 260,
    "start_time": "2023-05-23T12:09:10.957Z"
   },
   {
    "duration": 13,
    "start_time": "2023-05-23T12:09:11.219Z"
   },
   {
    "duration": 33,
    "start_time": "2023-05-23T12:09:11.247Z"
   },
   {
    "duration": 9,
    "start_time": "2023-05-23T12:09:11.282Z"
   },
   {
    "duration": 10,
    "start_time": "2023-05-23T12:09:11.292Z"
   },
   {
    "duration": 8,
    "start_time": "2023-05-23T12:09:11.303Z"
   },
   {
    "duration": 34,
    "start_time": "2023-05-23T12:09:11.313Z"
   },
   {
    "duration": 25,
    "start_time": "2023-05-23T12:10:22.107Z"
   },
   {
    "duration": 52,
    "start_time": "2023-05-23T12:11:00.259Z"
   },
   {
    "duration": 38,
    "start_time": "2023-05-23T12:11:17.390Z"
   },
   {
    "duration": 43,
    "start_time": "2023-05-23T12:11:36.300Z"
   },
   {
    "duration": 3,
    "start_time": "2023-05-23T12:11:49.704Z"
   },
   {
    "duration": 12,
    "start_time": "2023-05-23T12:12:33.145Z"
   },
   {
    "duration": 4,
    "start_time": "2023-05-23T12:12:42.565Z"
   },
   {
    "duration": 14,
    "start_time": "2023-05-23T12:13:08.024Z"
   },
   {
    "duration": 164,
    "start_time": "2023-05-23T12:13:08.040Z"
   },
   {
    "duration": 8,
    "start_time": "2023-05-23T12:13:08.206Z"
   },
   {
    "duration": 35,
    "start_time": "2023-05-23T12:13:08.216Z"
   },
   {
    "duration": 29,
    "start_time": "2023-05-23T12:13:08.253Z"
   },
   {
    "duration": 12,
    "start_time": "2023-05-23T12:13:08.284Z"
   },
   {
    "duration": 21,
    "start_time": "2023-05-23T12:13:08.298Z"
   },
   {
    "duration": 17,
    "start_time": "2023-05-23T12:13:08.321Z"
   },
   {
    "duration": 7,
    "start_time": "2023-05-23T12:13:08.341Z"
   },
   {
    "duration": 76,
    "start_time": "2023-05-23T12:13:08.350Z"
   },
   {
    "duration": 12,
    "start_time": "2023-05-23T12:13:08.428Z"
   },
   {
    "duration": 107,
    "start_time": "2023-05-23T12:13:08.442Z"
   },
   {
    "duration": 147,
    "start_time": "2023-05-23T12:13:08.550Z"
   },
   {
    "duration": 178,
    "start_time": "2023-05-23T12:13:08.699Z"
   },
   {
    "duration": 121,
    "start_time": "2023-05-23T12:13:08.879Z"
   },
   {
    "duration": 108,
    "start_time": "2023-05-23T12:13:09.001Z"
   },
   {
    "duration": 97,
    "start_time": "2023-05-23T12:13:09.111Z"
   },
   {
    "duration": 103,
    "start_time": "2023-05-23T12:13:09.210Z"
   },
   {
    "duration": 3,
    "start_time": "2023-05-23T12:13:09.315Z"
   },
   {
    "duration": 25,
    "start_time": "2023-05-23T12:13:09.320Z"
   },
   {
    "duration": 9,
    "start_time": "2023-05-23T12:13:09.347Z"
   },
   {
    "duration": 30,
    "start_time": "2023-05-23T12:13:09.358Z"
   },
   {
    "duration": 25,
    "start_time": "2023-05-23T12:13:09.391Z"
   },
   {
    "duration": 43,
    "start_time": "2023-05-23T12:13:09.417Z"
   },
   {
    "duration": 228,
    "start_time": "2023-05-23T12:13:09.462Z"
   },
   {
    "duration": 12,
    "start_time": "2023-05-23T12:13:09.692Z"
   },
   {
    "duration": 45,
    "start_time": "2023-05-23T12:13:09.705Z"
   },
   {
    "duration": 7,
    "start_time": "2023-05-23T12:13:09.751Z"
   },
   {
    "duration": 3,
    "start_time": "2023-05-23T12:13:09.760Z"
   },
   {
    "duration": 5,
    "start_time": "2023-05-23T12:13:09.764Z"
   },
   {
    "duration": 13,
    "start_time": "2023-05-23T12:13:09.771Z"
   },
   {
    "duration": 35,
    "start_time": "2023-05-23T12:13:09.786Z"
   },
   {
    "duration": 24,
    "start_time": "2023-05-23T12:13:09.823Z"
   },
   {
    "duration": 3,
    "start_time": "2023-05-23T12:14:11.028Z"
   },
   {
    "duration": 3,
    "start_time": "2023-05-23T12:14:45.887Z"
   },
   {
    "duration": 3,
    "start_time": "2023-05-23T12:15:13.626Z"
   },
   {
    "duration": 4,
    "start_time": "2023-05-23T12:15:26.156Z"
   },
   {
    "duration": 4,
    "start_time": "2023-05-23T12:15:49.356Z"
   },
   {
    "duration": 5,
    "start_time": "2023-05-23T12:16:02.623Z"
   },
   {
    "duration": 8,
    "start_time": "2023-05-23T12:19:10.439Z"
   },
   {
    "duration": 9,
    "start_time": "2023-05-23T12:25:01.382Z"
   },
   {
    "duration": 8,
    "start_time": "2023-05-23T12:25:33.085Z"
   },
   {
    "duration": 9,
    "start_time": "2023-05-23T12:26:01.056Z"
   },
   {
    "duration": 10,
    "start_time": "2023-05-23T12:26:25.996Z"
   },
   {
    "duration": 10,
    "start_time": "2023-05-23T12:26:32.097Z"
   },
   {
    "duration": 50,
    "start_time": "2023-05-23T20:31:11.907Z"
   },
   {
    "duration": 1335,
    "start_time": "2023-05-23T20:31:16.390Z"
   },
   {
    "duration": 952,
    "start_time": "2023-05-23T20:31:17.727Z"
   },
   {
    "duration": 12,
    "start_time": "2023-05-23T20:31:18.681Z"
   },
   {
    "duration": 20,
    "start_time": "2023-05-23T20:31:18.695Z"
   },
   {
    "duration": 22,
    "start_time": "2023-05-23T20:31:18.717Z"
   },
   {
    "duration": 11,
    "start_time": "2023-05-23T20:31:18.740Z"
   },
   {
    "duration": 20,
    "start_time": "2023-05-23T20:31:18.753Z"
   },
   {
    "duration": 15,
    "start_time": "2023-05-23T20:31:18.774Z"
   },
   {
    "duration": 38,
    "start_time": "2023-05-23T20:31:18.791Z"
   },
   {
    "duration": 94,
    "start_time": "2023-05-23T20:31:18.833Z"
   },
   {
    "duration": 16,
    "start_time": "2023-05-23T20:31:18.929Z"
   },
   {
    "duration": 118,
    "start_time": "2023-05-23T20:31:18.946Z"
   },
   {
    "duration": 137,
    "start_time": "2023-05-23T20:31:19.065Z"
   },
   {
    "duration": 98,
    "start_time": "2023-05-23T20:31:19.204Z"
   },
   {
    "duration": 103,
    "start_time": "2023-05-23T20:31:19.303Z"
   },
   {
    "duration": 95,
    "start_time": "2023-05-23T20:31:19.408Z"
   },
   {
    "duration": 88,
    "start_time": "2023-05-23T20:31:19.505Z"
   },
   {
    "duration": 105,
    "start_time": "2023-05-23T20:31:19.594Z"
   },
   {
    "duration": 3,
    "start_time": "2023-05-23T20:31:19.701Z"
   },
   {
    "duration": 19,
    "start_time": "2023-05-23T20:31:19.706Z"
   },
   {
    "duration": 3,
    "start_time": "2023-05-23T20:31:19.727Z"
   },
   {
    "duration": 18,
    "start_time": "2023-05-23T20:31:19.732Z"
   },
   {
    "duration": 25,
    "start_time": "2023-05-23T20:31:19.752Z"
   },
   {
    "duration": 43,
    "start_time": "2023-05-23T20:31:19.779Z"
   },
   {
    "duration": 349,
    "start_time": "2023-05-23T20:31:19.824Z"
   },
   {
    "duration": 12,
    "start_time": "2023-05-23T20:31:20.175Z"
   },
   {
    "duration": 41,
    "start_time": "2023-05-23T20:31:20.189Z"
   },
   {
    "duration": 7,
    "start_time": "2023-05-23T20:31:20.233Z"
   },
   {
    "duration": 31,
    "start_time": "2023-05-23T20:31:20.241Z"
   },
   {
    "duration": 3,
    "start_time": "2023-05-23T20:31:20.274Z"
   },
   {
    "duration": 14,
    "start_time": "2023-05-23T20:31:20.278Z"
   },
   {
    "duration": 36,
    "start_time": "2023-05-23T20:31:20.293Z"
   },
   {
    "duration": 31,
    "start_time": "2023-05-23T20:31:20.330Z"
   },
   {
    "duration": 37,
    "start_time": "2023-05-23T20:31:57.186Z"
   },
   {
    "duration": 27,
    "start_time": "2023-05-23T20:52:26.762Z"
   },
   {
    "duration": 37,
    "start_time": "2023-05-23T20:57:41.586Z"
   },
   {
    "duration": 59,
    "start_time": "2023-05-23T20:59:16.295Z"
   },
   {
    "duration": 75,
    "start_time": "2023-05-23T21:28:13.105Z"
   },
   {
    "duration": 61,
    "start_time": "2023-05-23T21:28:21.205Z"
   },
   {
    "duration": 68,
    "start_time": "2023-05-23T21:28:26.794Z"
   },
   {
    "duration": 89,
    "start_time": "2023-05-23T21:30:23.562Z"
   },
   {
    "duration": 95,
    "start_time": "2023-05-23T21:30:52.774Z"
   },
   {
    "duration": 67,
    "start_time": "2023-05-23T21:34:01.936Z"
   },
   {
    "duration": 72,
    "start_time": "2023-05-23T21:34:32.695Z"
   },
   {
    "duration": 66,
    "start_time": "2023-05-23T21:34:38.871Z"
   },
   {
    "duration": 63,
    "start_time": "2023-05-23T21:34:46.244Z"
   },
   {
    "duration": 68,
    "start_time": "2023-05-23T21:34:57.246Z"
   },
   {
    "duration": 64,
    "start_time": "2023-05-23T21:35:18.203Z"
   },
   {
    "duration": 1275,
    "start_time": "2023-05-24T13:09:50.391Z"
   },
   {
    "duration": 484,
    "start_time": "2023-05-24T13:09:51.668Z"
   },
   {
    "duration": 12,
    "start_time": "2023-05-24T13:09:52.154Z"
   },
   {
    "duration": 41,
    "start_time": "2023-05-24T13:09:52.168Z"
   },
   {
    "duration": 18,
    "start_time": "2023-05-24T13:09:52.210Z"
   },
   {
    "duration": 21,
    "start_time": "2023-05-24T13:09:52.230Z"
   },
   {
    "duration": 20,
    "start_time": "2023-05-24T13:09:52.253Z"
   },
   {
    "duration": 35,
    "start_time": "2023-05-24T13:09:52.275Z"
   },
   {
    "duration": 8,
    "start_time": "2023-05-24T13:09:52.311Z"
   },
   {
    "duration": 61,
    "start_time": "2023-05-24T13:09:52.322Z"
   },
   {
    "duration": 24,
    "start_time": "2023-05-24T13:09:52.384Z"
   },
   {
    "duration": 120,
    "start_time": "2023-05-24T13:09:52.409Z"
   },
   {
    "duration": 146,
    "start_time": "2023-05-24T13:09:52.531Z"
   },
   {
    "duration": 88,
    "start_time": "2023-05-24T13:09:52.679Z"
   },
   {
    "duration": 96,
    "start_time": "2023-05-24T13:09:52.769Z"
   },
   {
    "duration": 102,
    "start_time": "2023-05-24T13:09:52.866Z"
   },
   {
    "duration": 88,
    "start_time": "2023-05-24T13:09:52.970Z"
   },
   {
    "duration": 99,
    "start_time": "2023-05-24T13:09:53.060Z"
   },
   {
    "duration": 3,
    "start_time": "2023-05-24T13:09:53.161Z"
   },
   {
    "duration": 22,
    "start_time": "2023-05-24T13:09:53.166Z"
   },
   {
    "duration": 17,
    "start_time": "2023-05-24T13:09:53.190Z"
   },
   {
    "duration": 9,
    "start_time": "2023-05-24T13:09:53.208Z"
   },
   {
    "duration": 8,
    "start_time": "2023-05-24T13:09:53.218Z"
   },
   {
    "duration": 32,
    "start_time": "2023-05-24T13:09:53.228Z"
   },
   {
    "duration": 313,
    "start_time": "2023-05-24T13:09:53.262Z"
   },
   {
    "duration": 17,
    "start_time": "2023-05-24T13:09:53.577Z"
   },
   {
    "duration": 26,
    "start_time": "2023-05-24T13:09:53.595Z"
   },
   {
    "duration": 7,
    "start_time": "2023-05-24T13:09:53.623Z"
   },
   {
    "duration": 39,
    "start_time": "2023-05-24T13:09:53.631Z"
   },
   {
    "duration": 3,
    "start_time": "2023-05-24T13:09:53.671Z"
   },
   {
    "duration": 26,
    "start_time": "2023-05-24T13:09:53.676Z"
   },
   {
    "duration": 12,
    "start_time": "2023-05-24T13:09:53.704Z"
   },
   {
    "duration": 29,
    "start_time": "2023-05-24T13:09:53.718Z"
   },
   {
    "duration": 66,
    "start_time": "2023-05-24T13:09:53.749Z"
   },
   {
    "duration": 104,
    "start_time": "2023-05-24T13:28:44.388Z"
   },
   {
    "duration": 21,
    "start_time": "2023-05-24T13:30:25.797Z"
   },
   {
    "duration": 22,
    "start_time": "2023-05-24T13:31:01.285Z"
   },
   {
    "duration": 253,
    "start_time": "2023-05-24T13:32:55.394Z"
   },
   {
    "duration": 26,
    "start_time": "2023-05-24T13:33:16.623Z"
   },
   {
    "duration": 196,
    "start_time": "2023-05-24T13:35:20.170Z"
   },
   {
    "duration": 458,
    "start_time": "2023-05-24T13:36:04.496Z"
   },
   {
    "duration": 29,
    "start_time": "2023-05-24T13:37:26.618Z"
   },
   {
    "duration": 19,
    "start_time": "2023-05-24T13:38:02.194Z"
   },
   {
    "duration": 2073,
    "start_time": "2023-05-24T13:38:27.670Z"
   },
   {
    "duration": 4,
    "start_time": "2023-05-24T13:38:58.662Z"
   },
   {
    "duration": 9,
    "start_time": "2023-05-24T13:39:06.521Z"
   },
   {
    "duration": 192,
    "start_time": "2023-05-24T14:27:21.669Z"
   },
   {
    "duration": 4,
    "start_time": "2023-05-24T14:28:07.911Z"
   },
   {
    "duration": 23,
    "start_time": "2023-05-24T14:34:00.512Z"
   },
   {
    "duration": 8,
    "start_time": "2023-05-24T14:34:07.317Z"
   },
   {
    "duration": 122,
    "start_time": "2023-05-24T15:08:23.909Z"
   },
   {
    "duration": 62,
    "start_time": "2023-05-24T15:08:42.415Z"
   },
   {
    "duration": 11,
    "start_time": "2023-05-24T15:08:51.262Z"
   },
   {
    "duration": 14,
    "start_time": "2023-05-24T15:09:18.615Z"
   },
   {
    "duration": 886,
    "start_time": "2023-05-24T15:10:04.550Z"
   },
   {
    "duration": 0,
    "start_time": "2023-05-24T15:10:05.438Z"
   },
   {
    "duration": 696,
    "start_time": "2023-05-24T15:13:30.063Z"
   },
   {
    "duration": 10,
    "start_time": "2023-05-24T15:13:52.864Z"
   },
   {
    "duration": 10,
    "start_time": "2023-05-24T15:14:17.458Z"
   },
   {
    "duration": 418,
    "start_time": "2023-05-24T15:14:52.714Z"
   },
   {
    "duration": 752,
    "start_time": "2023-05-24T15:15:31.073Z"
   },
   {
    "duration": 307,
    "start_time": "2023-05-24T15:15:45.879Z"
   },
   {
    "duration": 2,
    "start_time": "2023-05-24T15:19:09.561Z"
   },
   {
    "duration": 4,
    "start_time": "2023-05-24T15:20:10.947Z"
   },
   {
    "duration": 4,
    "start_time": "2023-05-24T15:22:06.811Z"
   },
   {
    "duration": 11,
    "start_time": "2023-05-24T15:23:21.911Z"
   },
   {
    "duration": 10,
    "start_time": "2023-05-24T15:24:27.842Z"
   },
   {
    "duration": 6,
    "start_time": "2023-05-24T15:25:07.872Z"
   },
   {
    "duration": 13,
    "start_time": "2023-05-24T15:34:50.148Z"
   },
   {
    "duration": 3,
    "start_time": "2023-05-24T15:36:56.660Z"
   },
   {
    "duration": 73,
    "start_time": "2023-05-24T15:47:55.353Z"
   },
   {
    "duration": 7,
    "start_time": "2023-05-24T15:49:57.616Z"
   },
   {
    "duration": 5,
    "start_time": "2023-05-24T15:50:52.178Z"
   },
   {
    "duration": 6,
    "start_time": "2023-05-24T15:51:02.312Z"
   },
   {
    "duration": 5,
    "start_time": "2023-05-24T15:51:19.513Z"
   },
   {
    "duration": 13,
    "start_time": "2023-05-24T15:51:29.482Z"
   },
   {
    "duration": 14,
    "start_time": "2023-05-24T15:51:36.511Z"
   },
   {
    "duration": 9,
    "start_time": "2023-05-24T15:51:47.549Z"
   },
   {
    "duration": 7,
    "start_time": "2023-05-24T15:59:26.753Z"
   },
   {
    "duration": 21,
    "start_time": "2023-05-24T15:59:34.521Z"
   },
   {
    "duration": 10,
    "start_time": "2023-05-24T16:00:02.427Z"
   },
   {
    "duration": 16,
    "start_time": "2023-05-24T16:00:11.429Z"
   },
   {
    "duration": 16,
    "start_time": "2023-05-24T16:00:31.053Z"
   },
   {
    "duration": 15,
    "start_time": "2023-05-24T16:04:35.153Z"
   },
   {
    "duration": 8,
    "start_time": "2023-05-24T16:08:14.011Z"
   },
   {
    "duration": 14,
    "start_time": "2023-05-24T16:08:21.741Z"
   },
   {
    "duration": 15,
    "start_time": "2023-05-24T16:08:35.320Z"
   },
   {
    "duration": 4,
    "start_time": "2023-05-24T16:08:52.626Z"
   },
   {
    "duration": 172,
    "start_time": "2023-05-24T16:08:52.631Z"
   },
   {
    "duration": 9,
    "start_time": "2023-05-24T16:08:52.819Z"
   },
   {
    "duration": 25,
    "start_time": "2023-05-24T16:08:52.829Z"
   },
   {
    "duration": 27,
    "start_time": "2023-05-24T16:08:52.856Z"
   },
   {
    "duration": 37,
    "start_time": "2023-05-24T16:08:52.884Z"
   },
   {
    "duration": 37,
    "start_time": "2023-05-24T16:08:52.923Z"
   },
   {
    "duration": 18,
    "start_time": "2023-05-24T16:08:52.962Z"
   },
   {
    "duration": 14,
    "start_time": "2023-05-24T16:08:52.981Z"
   },
   {
    "duration": 83,
    "start_time": "2023-05-24T16:08:52.996Z"
   },
   {
    "duration": 47,
    "start_time": "2023-05-24T16:08:53.081Z"
   },
   {
    "duration": 89,
    "start_time": "2023-05-24T16:08:53.130Z"
   },
   {
    "duration": 135,
    "start_time": "2023-05-24T16:08:53.221Z"
   },
   {
    "duration": 102,
    "start_time": "2023-05-24T16:08:53.359Z"
   },
   {
    "duration": 95,
    "start_time": "2023-05-24T16:08:53.462Z"
   },
   {
    "duration": 99,
    "start_time": "2023-05-24T16:08:53.559Z"
   },
   {
    "duration": 93,
    "start_time": "2023-05-24T16:08:53.661Z"
   },
   {
    "duration": 97,
    "start_time": "2023-05-24T16:08:53.756Z"
   },
   {
    "duration": 3,
    "start_time": "2023-05-24T16:08:53.855Z"
   },
   {
    "duration": 9,
    "start_time": "2023-05-24T16:08:53.859Z"
   },
   {
    "duration": 29,
    "start_time": "2023-05-24T16:08:53.869Z"
   },
   {
    "duration": 26,
    "start_time": "2023-05-24T16:08:53.899Z"
   },
   {
    "duration": 6,
    "start_time": "2023-05-24T16:08:53.926Z"
   },
   {
    "duration": 26,
    "start_time": "2023-05-24T16:08:53.933Z"
   },
   {
    "duration": 210,
    "start_time": "2023-05-24T16:08:53.960Z"
   },
   {
    "duration": 17,
    "start_time": "2023-05-24T16:08:54.172Z"
   },
   {
    "duration": 49,
    "start_time": "2023-05-24T16:08:54.190Z"
   },
   {
    "duration": 8,
    "start_time": "2023-05-24T16:08:54.241Z"
   },
   {
    "duration": 48,
    "start_time": "2023-05-24T16:08:54.251Z"
   },
   {
    "duration": 4,
    "start_time": "2023-05-24T16:08:54.301Z"
   },
   {
    "duration": 31,
    "start_time": "2023-05-24T16:08:54.306Z"
   },
   {
    "duration": 12,
    "start_time": "2023-05-24T16:08:54.339Z"
   },
   {
    "duration": 57,
    "start_time": "2023-05-24T16:08:54.353Z"
   },
   {
    "duration": 67,
    "start_time": "2023-05-24T16:08:54.412Z"
   },
   {
    "duration": 20,
    "start_time": "2023-05-24T16:08:54.480Z"
   },
   {
    "duration": 31,
    "start_time": "2023-05-24T16:08:54.502Z"
   },
   {
    "duration": 19,
    "start_time": "2023-05-24T16:08:54.534Z"
   },
   {
    "duration": 18,
    "start_time": "2023-05-24T16:08:54.554Z"
   },
   {
    "duration": 8,
    "start_time": "2023-05-24T16:08:54.573Z"
   },
   {
    "duration": 28,
    "start_time": "2023-05-24T16:09:41.172Z"
   },
   {
    "duration": 11,
    "start_time": "2023-05-24T16:12:13.864Z"
   },
   {
    "duration": 2,
    "start_time": "2023-05-24T16:19:02.109Z"
   },
   {
    "duration": 3,
    "start_time": "2023-05-24T16:19:24.934Z"
   },
   {
    "duration": 3,
    "start_time": "2023-05-24T16:20:02.567Z"
   },
   {
    "duration": 8,
    "start_time": "2023-05-24T16:20:12.107Z"
   },
   {
    "duration": 12,
    "start_time": "2023-05-24T16:20:16.299Z"
   },
   {
    "duration": 9,
    "start_time": "2023-05-24T16:23:58.713Z"
   },
   {
    "duration": 8,
    "start_time": "2023-05-24T16:24:11.564Z"
   },
   {
    "duration": 4,
    "start_time": "2023-05-24T16:40:58.416Z"
   },
   {
    "duration": 204,
    "start_time": "2023-05-24T16:40:58.421Z"
   },
   {
    "duration": 8,
    "start_time": "2023-05-24T16:40:58.627Z"
   },
   {
    "duration": 33,
    "start_time": "2023-05-24T16:40:58.637Z"
   },
   {
    "duration": 24,
    "start_time": "2023-05-24T16:40:58.672Z"
   },
   {
    "duration": 32,
    "start_time": "2023-05-24T16:40:58.697Z"
   },
   {
    "duration": 20,
    "start_time": "2023-05-24T16:40:58.731Z"
   },
   {
    "duration": 11,
    "start_time": "2023-05-24T16:40:58.752Z"
   },
   {
    "duration": 10,
    "start_time": "2023-05-24T16:40:58.765Z"
   },
   {
    "duration": 64,
    "start_time": "2023-05-24T16:40:58.776Z"
   },
   {
    "duration": 38,
    "start_time": "2023-05-24T16:40:58.842Z"
   },
   {
    "duration": 131,
    "start_time": "2023-05-24T16:40:58.881Z"
   },
   {
    "duration": 110,
    "start_time": "2023-05-24T16:40:59.014Z"
   },
   {
    "duration": 87,
    "start_time": "2023-05-24T16:40:59.127Z"
   },
   {
    "duration": 100,
    "start_time": "2023-05-24T16:40:59.216Z"
   },
   {
    "duration": 88,
    "start_time": "2023-05-24T16:40:59.318Z"
   },
   {
    "duration": 69,
    "start_time": "2023-05-24T16:40:59.407Z"
   },
   {
    "duration": 91,
    "start_time": "2023-05-24T16:40:59.477Z"
   },
   {
    "duration": 4,
    "start_time": "2023-05-24T16:40:59.569Z"
   },
   {
    "duration": 12,
    "start_time": "2023-05-24T16:40:59.574Z"
   },
   {
    "duration": 22,
    "start_time": "2023-05-24T16:40:59.599Z"
   },
   {
    "duration": 17,
    "start_time": "2023-05-24T16:40:59.623Z"
   },
   {
    "duration": 15,
    "start_time": "2023-05-24T16:40:59.641Z"
   },
   {
    "duration": 56,
    "start_time": "2023-05-24T16:40:59.658Z"
   },
   {
    "duration": 240,
    "start_time": "2023-05-24T16:40:59.716Z"
   },
   {
    "duration": 11,
    "start_time": "2023-05-24T16:40:59.957Z"
   },
   {
    "duration": 56,
    "start_time": "2023-05-24T16:40:59.970Z"
   },
   {
    "duration": 34,
    "start_time": "2023-05-24T16:41:00.028Z"
   },
   {
    "duration": 53,
    "start_time": "2023-05-24T16:41:00.063Z"
   },
   {
    "duration": 22,
    "start_time": "2023-05-24T16:41:00.118Z"
   },
   {
    "duration": 31,
    "start_time": "2023-05-24T16:41:00.141Z"
   },
   {
    "duration": 49,
    "start_time": "2023-05-24T16:41:00.173Z"
   },
   {
    "duration": 56,
    "start_time": "2023-05-24T16:41:00.223Z"
   },
   {
    "duration": 87,
    "start_time": "2023-05-24T16:41:00.281Z"
   },
   {
    "duration": 15,
    "start_time": "2023-05-24T16:41:00.369Z"
   },
   {
    "duration": 34,
    "start_time": "2023-05-24T16:41:00.392Z"
   },
   {
    "duration": 22,
    "start_time": "2023-05-24T16:41:00.427Z"
   },
   {
    "duration": 86,
    "start_time": "2023-05-24T16:41:00.451Z"
   },
   {
    "duration": 0,
    "start_time": "2023-05-24T16:41:00.538Z"
   },
   {
    "duration": 0,
    "start_time": "2023-05-24T16:41:00.539Z"
   },
   {
    "duration": 7,
    "start_time": "2023-05-24T16:41:07.707Z"
   },
   {
    "duration": 167,
    "start_time": "2023-05-24T16:41:07.716Z"
   },
   {
    "duration": 19,
    "start_time": "2023-05-24T16:41:07.884Z"
   },
   {
    "duration": 34,
    "start_time": "2023-05-24T16:41:07.904Z"
   },
   {
    "duration": 32,
    "start_time": "2023-05-24T16:41:07.940Z"
   },
   {
    "duration": 43,
    "start_time": "2023-05-24T16:41:07.973Z"
   },
   {
    "duration": 18,
    "start_time": "2023-05-24T16:41:08.017Z"
   },
   {
    "duration": 11,
    "start_time": "2023-05-24T16:41:08.036Z"
   },
   {
    "duration": 13,
    "start_time": "2023-05-24T16:41:08.049Z"
   },
   {
    "duration": 71,
    "start_time": "2023-05-24T16:41:08.063Z"
   },
   {
    "duration": 19,
    "start_time": "2023-05-24T16:41:08.136Z"
   },
   {
    "duration": 90,
    "start_time": "2023-05-24T16:41:08.156Z"
   },
   {
    "duration": 112,
    "start_time": "2023-05-24T16:41:08.248Z"
   },
   {
    "duration": 95,
    "start_time": "2023-05-24T16:41:08.363Z"
   },
   {
    "duration": 89,
    "start_time": "2023-05-24T16:41:08.459Z"
   },
   {
    "duration": 88,
    "start_time": "2023-05-24T16:41:08.549Z"
   },
   {
    "duration": 80,
    "start_time": "2023-05-24T16:41:08.639Z"
   },
   {
    "duration": 94,
    "start_time": "2023-05-24T16:41:08.720Z"
   },
   {
    "duration": 8,
    "start_time": "2023-05-24T16:41:08.815Z"
   },
   {
    "duration": 9,
    "start_time": "2023-05-24T16:41:08.825Z"
   },
   {
    "duration": 3,
    "start_time": "2023-05-24T16:41:08.836Z"
   },
   {
    "duration": 11,
    "start_time": "2023-05-24T16:41:08.841Z"
   },
   {
    "duration": 7,
    "start_time": "2023-05-24T16:41:08.854Z"
   },
   {
    "duration": 53,
    "start_time": "2023-05-24T16:41:08.863Z"
   },
   {
    "duration": 223,
    "start_time": "2023-05-24T16:41:08.918Z"
   },
   {
    "duration": 10,
    "start_time": "2023-05-24T16:41:09.143Z"
   },
   {
    "duration": 64,
    "start_time": "2023-05-24T16:41:09.154Z"
   },
   {
    "duration": 6,
    "start_time": "2023-05-24T16:41:09.220Z"
   },
   {
    "duration": 20,
    "start_time": "2023-05-24T16:41:09.228Z"
   },
   {
    "duration": 3,
    "start_time": "2023-05-24T16:41:09.249Z"
   },
   {
    "duration": 50,
    "start_time": "2023-05-24T16:41:09.254Z"
   },
   {
    "duration": 40,
    "start_time": "2023-05-24T16:41:09.305Z"
   },
   {
    "duration": 51,
    "start_time": "2023-05-24T16:41:09.347Z"
   },
   {
    "duration": 55,
    "start_time": "2023-05-24T16:41:09.407Z"
   },
   {
    "duration": 84,
    "start_time": "2023-05-24T16:41:09.463Z"
   },
   {
    "duration": 2,
    "start_time": "2023-05-24T16:41:09.549Z"
   },
   {
    "duration": 11,
    "start_time": "2023-05-24T16:41:09.553Z"
   },
   {
    "duration": 19,
    "start_time": "2023-05-24T16:41:09.565Z"
   },
   {
    "duration": 0,
    "start_time": "2023-05-24T16:41:09.602Z"
   },
   {
    "duration": 0,
    "start_time": "2023-05-24T16:41:09.603Z"
   },
   {
    "duration": 18,
    "start_time": "2023-05-24T16:41:59.722Z"
   },
   {
    "duration": 26,
    "start_time": "2023-05-24T16:43:04.176Z"
   },
   {
    "duration": 14,
    "start_time": "2023-05-24T16:44:14.480Z"
   },
   {
    "duration": 5,
    "start_time": "2023-05-24T16:44:28.855Z"
   },
   {
    "duration": 17,
    "start_time": "2023-05-24T16:45:00.936Z"
   },
   {
    "duration": 11,
    "start_time": "2023-05-24T16:45:11.312Z"
   },
   {
    "duration": 3,
    "start_time": "2023-05-24T16:45:47.439Z"
   },
   {
    "duration": 215,
    "start_time": "2023-05-24T16:45:47.444Z"
   },
   {
    "duration": 8,
    "start_time": "2023-05-24T16:45:47.661Z"
   },
   {
    "duration": 46,
    "start_time": "2023-05-24T16:45:47.671Z"
   },
   {
    "duration": 22,
    "start_time": "2023-05-24T16:45:47.719Z"
   },
   {
    "duration": 4,
    "start_time": "2023-05-24T16:45:47.742Z"
   },
   {
    "duration": 19,
    "start_time": "2023-05-24T16:45:47.747Z"
   },
   {
    "duration": 12,
    "start_time": "2023-05-24T16:45:47.767Z"
   },
   {
    "duration": 18,
    "start_time": "2023-05-24T16:45:47.780Z"
   },
   {
    "duration": 60,
    "start_time": "2023-05-24T16:45:47.806Z"
   },
   {
    "duration": 8,
    "start_time": "2023-05-24T16:45:47.867Z"
   },
   {
    "duration": 137,
    "start_time": "2023-05-24T16:45:47.877Z"
   },
   {
    "duration": 109,
    "start_time": "2023-05-24T16:45:48.015Z"
   },
   {
    "duration": 78,
    "start_time": "2023-05-24T16:45:48.126Z"
   },
   {
    "duration": 109,
    "start_time": "2023-05-24T16:45:48.205Z"
   },
   {
    "duration": 97,
    "start_time": "2023-05-24T16:45:48.316Z"
   },
   {
    "duration": 75,
    "start_time": "2023-05-24T16:45:48.415Z"
   },
   {
    "duration": 85,
    "start_time": "2023-05-24T16:45:48.497Z"
   },
   {
    "duration": 5,
    "start_time": "2023-05-24T16:45:48.584Z"
   },
   {
    "duration": 40,
    "start_time": "2023-05-24T16:45:48.594Z"
   },
   {
    "duration": 11,
    "start_time": "2023-05-24T16:45:48.635Z"
   },
   {
    "duration": 4,
    "start_time": "2023-05-24T16:45:48.647Z"
   },
   {
    "duration": 8,
    "start_time": "2023-05-24T16:45:48.652Z"
   },
   {
    "duration": 39,
    "start_time": "2023-05-24T16:45:48.661Z"
   },
   {
    "duration": 213,
    "start_time": "2023-05-24T16:45:48.703Z"
   },
   {
    "duration": 10,
    "start_time": "2023-05-24T16:45:48.919Z"
   },
   {
    "duration": 41,
    "start_time": "2023-05-24T16:45:48.931Z"
   },
   {
    "duration": 6,
    "start_time": "2023-05-24T16:45:48.974Z"
   },
   {
    "duration": 75,
    "start_time": "2023-05-24T16:45:48.981Z"
   },
   {
    "duration": 3,
    "start_time": "2023-05-24T16:45:49.059Z"
   },
   {
    "duration": 36,
    "start_time": "2023-05-24T16:45:49.064Z"
   },
   {
    "duration": 15,
    "start_time": "2023-05-24T16:45:49.103Z"
   },
   {
    "duration": 26,
    "start_time": "2023-05-24T16:45:49.119Z"
   },
   {
    "duration": 67,
    "start_time": "2023-05-24T16:45:49.147Z"
   },
   {
    "duration": 11,
    "start_time": "2023-05-24T16:45:49.219Z"
   },
   {
    "duration": 7,
    "start_time": "2023-05-24T16:45:49.231Z"
   },
   {
    "duration": 5,
    "start_time": "2023-05-24T16:45:49.239Z"
   },
   {
    "duration": 14,
    "start_time": "2023-05-24T16:45:49.246Z"
   },
   {
    "duration": 4,
    "start_time": "2023-05-24T16:45:49.262Z"
   },
   {
    "duration": 3,
    "start_time": "2023-05-24T16:46:12.954Z"
   },
   {
    "duration": 196,
    "start_time": "2023-05-24T16:46:12.959Z"
   },
   {
    "duration": 7,
    "start_time": "2023-05-24T16:46:13.157Z"
   },
   {
    "duration": 32,
    "start_time": "2023-05-24T16:46:13.166Z"
   },
   {
    "duration": 24,
    "start_time": "2023-05-24T16:46:13.200Z"
   },
   {
    "duration": 5,
    "start_time": "2023-05-24T16:46:13.225Z"
   },
   {
    "duration": 16,
    "start_time": "2023-05-24T16:46:13.231Z"
   },
   {
    "duration": 14,
    "start_time": "2023-05-24T16:46:13.249Z"
   },
   {
    "duration": 10,
    "start_time": "2023-05-24T16:46:13.265Z"
   },
   {
    "duration": 73,
    "start_time": "2023-05-24T16:46:13.289Z"
   },
   {
    "duration": 13,
    "start_time": "2023-05-24T16:46:13.364Z"
   },
   {
    "duration": 124,
    "start_time": "2023-05-24T16:46:13.378Z"
   },
   {
    "duration": 113,
    "start_time": "2023-05-24T16:46:13.511Z"
   },
   {
    "duration": 90,
    "start_time": "2023-05-24T16:46:13.626Z"
   },
   {
    "duration": 92,
    "start_time": "2023-05-24T16:46:13.718Z"
   },
   {
    "duration": 99,
    "start_time": "2023-05-24T16:46:13.811Z"
   },
   {
    "duration": 68,
    "start_time": "2023-05-24T16:46:13.912Z"
   },
   {
    "duration": 96,
    "start_time": "2023-05-24T16:46:13.981Z"
   },
   {
    "duration": 3,
    "start_time": "2023-05-24T16:46:14.079Z"
   },
   {
    "duration": 42,
    "start_time": "2023-05-24T16:46:14.083Z"
   },
   {
    "duration": 6,
    "start_time": "2023-05-24T16:46:14.126Z"
   },
   {
    "duration": 8,
    "start_time": "2023-05-24T16:46:14.133Z"
   },
   {
    "duration": 9,
    "start_time": "2023-05-24T16:46:14.142Z"
   },
   {
    "duration": 50,
    "start_time": "2023-05-24T16:46:14.153Z"
   },
   {
    "duration": 223,
    "start_time": "2023-05-24T16:46:14.204Z"
   },
   {
    "duration": 9,
    "start_time": "2023-05-24T16:46:14.429Z"
   },
   {
    "duration": 24,
    "start_time": "2023-05-24T16:46:14.439Z"
   },
   {
    "duration": 41,
    "start_time": "2023-05-24T16:46:14.465Z"
   },
   {
    "duration": 18,
    "start_time": "2023-05-24T16:46:14.517Z"
   },
   {
    "duration": 3,
    "start_time": "2023-05-24T16:46:14.537Z"
   },
   {
    "duration": 13,
    "start_time": "2023-05-24T16:46:14.541Z"
   },
   {
    "duration": 13,
    "start_time": "2023-05-24T16:46:14.555Z"
   },
   {
    "duration": 46,
    "start_time": "2023-05-24T16:46:14.569Z"
   },
   {
    "duration": 49,
    "start_time": "2023-05-24T16:46:14.616Z"
   },
   {
    "duration": 8,
    "start_time": "2023-05-24T16:46:14.666Z"
   },
   {
    "duration": 41,
    "start_time": "2023-05-24T16:46:14.676Z"
   },
   {
    "duration": 9,
    "start_time": "2023-05-24T16:46:14.718Z"
   },
   {
    "duration": 15,
    "start_time": "2023-05-24T16:46:14.728Z"
   },
   {
    "duration": 7,
    "start_time": "2023-05-24T16:46:14.745Z"
   },
   {
    "duration": 2,
    "start_time": "2023-05-24T16:46:20.439Z"
   },
   {
    "duration": 162,
    "start_time": "2023-05-24T16:46:20.443Z"
   },
   {
    "duration": 8,
    "start_time": "2023-05-24T16:46:20.607Z"
   },
   {
    "duration": 22,
    "start_time": "2023-05-24T16:46:20.617Z"
   },
   {
    "duration": 24,
    "start_time": "2023-05-24T16:46:20.642Z"
   },
   {
    "duration": 5,
    "start_time": "2023-05-24T16:46:20.667Z"
   },
   {
    "duration": 58,
    "start_time": "2023-05-24T16:46:20.673Z"
   },
   {
    "duration": 20,
    "start_time": "2023-05-24T16:46:20.732Z"
   },
   {
    "duration": 6,
    "start_time": "2023-05-24T16:46:20.754Z"
   },
   {
    "duration": 80,
    "start_time": "2023-05-24T16:46:20.762Z"
   },
   {
    "duration": 9,
    "start_time": "2023-05-24T16:46:20.843Z"
   },
   {
    "duration": 96,
    "start_time": "2023-05-24T16:46:20.853Z"
   },
   {
    "duration": 114,
    "start_time": "2023-05-24T16:46:20.951Z"
   },
   {
    "duration": 81,
    "start_time": "2023-05-24T16:46:21.068Z"
   },
   {
    "duration": 94,
    "start_time": "2023-05-24T16:46:21.151Z"
   },
   {
    "duration": 87,
    "start_time": "2023-05-24T16:46:21.246Z"
   },
   {
    "duration": 126,
    "start_time": "2023-05-24T16:46:21.335Z"
   },
   {
    "duration": 95,
    "start_time": "2023-05-24T16:46:21.463Z"
   },
   {
    "duration": 4,
    "start_time": "2023-05-24T16:46:21.559Z"
   },
   {
    "duration": 8,
    "start_time": "2023-05-24T16:46:21.564Z"
   },
   {
    "duration": 3,
    "start_time": "2023-05-24T16:46:21.573Z"
   },
   {
    "duration": 18,
    "start_time": "2023-05-24T16:46:21.577Z"
   },
   {
    "duration": 2,
    "start_time": "2023-05-24T16:46:21.596Z"
   },
   {
    "duration": 31,
    "start_time": "2023-05-24T16:46:21.611Z"
   },
   {
    "duration": 197,
    "start_time": "2023-05-24T16:46:21.644Z"
   },
   {
    "duration": 10,
    "start_time": "2023-05-24T16:46:21.842Z"
   },
   {
    "duration": 37,
    "start_time": "2023-05-24T16:46:21.853Z"
   },
   {
    "duration": 23,
    "start_time": "2023-05-24T16:46:21.892Z"
   },
   {
    "duration": 20,
    "start_time": "2023-05-24T16:46:21.916Z"
   },
   {
    "duration": 3,
    "start_time": "2023-05-24T16:46:21.937Z"
   },
   {
    "duration": 10,
    "start_time": "2023-05-24T16:46:21.941Z"
   },
   {
    "duration": 8,
    "start_time": "2023-05-24T16:46:21.952Z"
   },
   {
    "duration": 58,
    "start_time": "2023-05-24T16:46:21.961Z"
   },
   {
    "duration": 69,
    "start_time": "2023-05-24T16:46:22.021Z"
   },
   {
    "duration": 9,
    "start_time": "2023-05-24T16:46:22.091Z"
   },
   {
    "duration": 4,
    "start_time": "2023-05-24T16:46:22.102Z"
   },
   {
    "duration": 23,
    "start_time": "2023-05-24T16:46:22.107Z"
   },
   {
    "duration": 16,
    "start_time": "2023-05-24T16:46:22.132Z"
   },
   {
    "duration": 14,
    "start_time": "2023-05-24T16:46:22.149Z"
   },
   {
    "duration": 3,
    "start_time": "2023-05-24T16:46:38.826Z"
   },
   {
    "duration": 147,
    "start_time": "2023-05-24T16:46:38.831Z"
   },
   {
    "duration": 11,
    "start_time": "2023-05-24T16:46:38.979Z"
   },
   {
    "duration": 31,
    "start_time": "2023-05-24T16:46:39.013Z"
   },
   {
    "duration": 16,
    "start_time": "2023-05-24T16:46:39.045Z"
   },
   {
    "duration": 4,
    "start_time": "2023-05-24T16:46:39.062Z"
   },
   {
    "duration": 27,
    "start_time": "2023-05-24T16:46:39.067Z"
   },
   {
    "duration": 25,
    "start_time": "2023-05-24T16:46:39.095Z"
   },
   {
    "duration": 5,
    "start_time": "2023-05-24T16:46:39.121Z"
   },
   {
    "duration": 52,
    "start_time": "2023-05-24T16:46:39.128Z"
   },
   {
    "duration": 26,
    "start_time": "2023-05-24T16:46:39.182Z"
   },
   {
    "duration": 97,
    "start_time": "2023-05-24T16:46:39.209Z"
   },
   {
    "duration": 116,
    "start_time": "2023-05-24T16:46:39.307Z"
   },
   {
    "duration": 83,
    "start_time": "2023-05-24T16:46:39.425Z"
   },
   {
    "duration": 100,
    "start_time": "2023-05-24T16:46:39.510Z"
   },
   {
    "duration": 87,
    "start_time": "2023-05-24T16:46:39.611Z"
   },
   {
    "duration": 76,
    "start_time": "2023-05-24T16:46:39.699Z"
   },
   {
    "duration": 82,
    "start_time": "2023-05-24T16:46:39.777Z"
   },
   {
    "duration": 3,
    "start_time": "2023-05-24T16:46:39.861Z"
   },
   {
    "duration": 16,
    "start_time": "2023-05-24T16:46:39.865Z"
   },
   {
    "duration": 10,
    "start_time": "2023-05-24T16:46:39.884Z"
   },
   {
    "duration": 11,
    "start_time": "2023-05-24T16:46:39.908Z"
   },
   {
    "duration": 6,
    "start_time": "2023-05-24T16:46:39.920Z"
   },
   {
    "duration": 24,
    "start_time": "2023-05-24T16:46:39.927Z"
   },
   {
    "duration": 197,
    "start_time": "2023-05-24T16:46:39.952Z"
   },
   {
    "duration": 10,
    "start_time": "2023-05-24T16:46:40.151Z"
   },
   {
    "duration": 46,
    "start_time": "2023-05-24T16:46:40.162Z"
   },
   {
    "duration": 9,
    "start_time": "2023-05-24T16:46:40.211Z"
   },
   {
    "duration": 29,
    "start_time": "2023-05-24T16:46:40.221Z"
   },
   {
    "duration": 3,
    "start_time": "2023-05-24T16:46:40.251Z"
   },
   {
    "duration": 65,
    "start_time": "2023-05-24T16:46:40.256Z"
   },
   {
    "duration": 14,
    "start_time": "2023-05-24T16:46:40.323Z"
   },
   {
    "duration": 33,
    "start_time": "2023-05-24T16:46:40.339Z"
   },
   {
    "duration": 76,
    "start_time": "2023-05-24T16:46:40.373Z"
   },
   {
    "duration": 8,
    "start_time": "2023-05-24T16:46:40.450Z"
   },
   {
    "duration": 4,
    "start_time": "2023-05-24T16:46:40.459Z"
   },
   {
    "duration": 4,
    "start_time": "2023-05-24T16:46:40.464Z"
   },
   {
    "duration": 12,
    "start_time": "2023-05-24T16:46:40.470Z"
   },
   {
    "duration": 30,
    "start_time": "2023-05-24T16:46:40.483Z"
   },
   {
    "duration": 57,
    "start_time": "2023-05-24T16:53:29.699Z"
   },
   {
    "duration": 88,
    "start_time": "2023-05-24T16:53:35.859Z"
   },
   {
    "duration": 70,
    "start_time": "2023-05-24T16:53:42.395Z"
   },
   {
    "duration": 14,
    "start_time": "2023-05-24T16:53:57.105Z"
   },
   {
    "duration": 17,
    "start_time": "2023-05-24T16:54:29.281Z"
   },
   {
    "duration": 3,
    "start_time": "2023-05-24T16:54:34.238Z"
   },
   {
    "duration": 178,
    "start_time": "2023-05-24T16:54:34.243Z"
   },
   {
    "duration": 8,
    "start_time": "2023-05-24T16:54:34.422Z"
   },
   {
    "duration": 32,
    "start_time": "2023-05-24T16:54:34.432Z"
   },
   {
    "duration": 22,
    "start_time": "2023-05-24T16:54:34.466Z"
   },
   {
    "duration": 32,
    "start_time": "2023-05-24T16:54:34.491Z"
   },
   {
    "duration": 17,
    "start_time": "2023-05-24T16:54:34.525Z"
   },
   {
    "duration": 11,
    "start_time": "2023-05-24T16:54:34.543Z"
   },
   {
    "duration": 13,
    "start_time": "2023-05-24T16:54:34.556Z"
   },
   {
    "duration": 67,
    "start_time": "2023-05-24T16:54:34.570Z"
   },
   {
    "duration": 18,
    "start_time": "2023-05-24T16:54:34.639Z"
   },
   {
    "duration": 96,
    "start_time": "2023-05-24T16:54:34.658Z"
   },
   {
    "duration": 108,
    "start_time": "2023-05-24T16:54:34.755Z"
   },
   {
    "duration": 84,
    "start_time": "2023-05-24T16:54:34.865Z"
   },
   {
    "duration": 96,
    "start_time": "2023-05-24T16:54:34.950Z"
   },
   {
    "duration": 86,
    "start_time": "2023-05-24T16:54:35.048Z"
   },
   {
    "duration": 83,
    "start_time": "2023-05-24T16:54:35.135Z"
   },
   {
    "duration": 81,
    "start_time": "2023-05-24T16:54:35.219Z"
   },
   {
    "duration": 3,
    "start_time": "2023-05-24T16:54:35.311Z"
   },
   {
    "duration": 9,
    "start_time": "2023-05-24T16:54:35.316Z"
   },
   {
    "duration": 3,
    "start_time": "2023-05-24T16:54:35.327Z"
   },
   {
    "duration": 7,
    "start_time": "2023-05-24T16:54:35.331Z"
   },
   {
    "duration": 8,
    "start_time": "2023-05-24T16:54:35.339Z"
   },
   {
    "duration": 25,
    "start_time": "2023-05-24T16:54:35.348Z"
   },
   {
    "duration": 203,
    "start_time": "2023-05-24T16:54:35.374Z"
   },
   {
    "duration": 18,
    "start_time": "2023-05-24T16:54:35.578Z"
   },
   {
    "duration": 46,
    "start_time": "2023-05-24T16:54:35.607Z"
   },
   {
    "duration": 9,
    "start_time": "2023-05-24T16:54:35.655Z"
   },
   {
    "duration": 53,
    "start_time": "2023-05-24T16:54:35.665Z"
   },
   {
    "duration": 5,
    "start_time": "2023-05-24T16:54:35.720Z"
   },
   {
    "duration": 22,
    "start_time": "2023-05-24T16:54:35.726Z"
   },
   {
    "duration": 8,
    "start_time": "2023-05-24T16:54:35.750Z"
   },
   {
    "duration": 30,
    "start_time": "2023-05-24T16:54:35.760Z"
   },
   {
    "duration": 75,
    "start_time": "2023-05-24T16:54:35.791Z"
   },
   {
    "duration": 8,
    "start_time": "2023-05-24T16:54:35.867Z"
   },
   {
    "duration": 38,
    "start_time": "2023-05-24T16:54:35.876Z"
   },
   {
    "duration": 6,
    "start_time": "2023-05-24T16:54:35.916Z"
   },
   {
    "duration": 27,
    "start_time": "2023-05-24T16:54:35.923Z"
   },
   {
    "duration": 27,
    "start_time": "2023-05-24T16:54:35.952Z"
   },
   {
    "duration": 1034,
    "start_time": "2023-05-24T16:55:51.816Z"
   },
   {
    "duration": 4,
    "start_time": "2023-05-24T16:56:07.227Z"
   },
   {
    "duration": 2,
    "start_time": "2023-05-24T16:56:46.571Z"
   },
   {
    "duration": 6,
    "start_time": "2023-05-24T16:56:52.115Z"
   },
   {
    "duration": 10,
    "start_time": "2023-05-24T16:57:18.456Z"
   },
   {
    "duration": 8,
    "start_time": "2023-05-24T16:58:44.823Z"
   },
   {
    "duration": 9,
    "start_time": "2023-05-24T16:58:57.432Z"
   },
   {
    "duration": 5,
    "start_time": "2023-05-24T17:00:54.926Z"
   },
   {
    "duration": 4,
    "start_time": "2023-05-24T17:02:15.556Z"
   },
   {
    "duration": 5,
    "start_time": "2023-05-24T17:02:20.034Z"
   },
   {
    "duration": 8,
    "start_time": "2023-05-24T17:06:48.515Z"
   },
   {
    "duration": 16,
    "start_time": "2023-05-24T17:07:43.677Z"
   },
   {
    "duration": 1058,
    "start_time": "2023-05-24T17:07:52.300Z"
   },
   {
    "duration": 9,
    "start_time": "2023-05-24T17:08:06.303Z"
   },
   {
    "duration": 10,
    "start_time": "2023-05-24T17:08:24.507Z"
   },
   {
    "duration": 5,
    "start_time": "2023-05-24T17:08:58.315Z"
   },
   {
    "duration": 17,
    "start_time": "2023-05-24T17:09:15.479Z"
   },
   {
    "duration": 10,
    "start_time": "2023-05-24T17:09:28.884Z"
   },
   {
    "duration": 7,
    "start_time": "2023-05-24T17:09:38.008Z"
   },
   {
    "duration": 9,
    "start_time": "2023-05-24T17:09:43.131Z"
   },
   {
    "duration": 23,
    "start_time": "2023-05-24T17:22:52.782Z"
   },
   {
    "duration": 4,
    "start_time": "2023-05-24T17:24:30.256Z"
   },
   {
    "duration": 10,
    "start_time": "2023-05-24T17:24:37.170Z"
   },
   {
    "duration": 855,
    "start_time": "2023-05-24T18:42:06.021Z"
   },
   {
    "duration": 2,
    "start_time": "2023-05-24T18:42:14.566Z"
   },
   {
    "duration": 767,
    "start_time": "2023-05-24T18:43:33.900Z"
   },
   {
    "duration": 781,
    "start_time": "2023-05-24T18:45:13.946Z"
   },
   {
    "duration": 866,
    "start_time": "2023-05-24T18:45:34.202Z"
   },
   {
    "duration": 130,
    "start_time": "2023-05-24T18:55:02.797Z"
   },
   {
    "duration": 15,
    "start_time": "2023-05-24T18:58:13.710Z"
   },
   {
    "duration": 1052,
    "start_time": "2023-05-24T18:59:52.711Z"
   },
   {
    "duration": 14,
    "start_time": "2023-05-24T19:00:05.845Z"
   },
   {
    "duration": 868,
    "start_time": "2023-05-24T19:00:20.240Z"
   },
   {
    "duration": 8,
    "start_time": "2023-05-24T19:08:17.744Z"
   },
   {
    "duration": 3,
    "start_time": "2023-05-24T19:08:51.650Z"
   },
   {
    "duration": 174,
    "start_time": "2023-05-24T19:08:51.654Z"
   },
   {
    "duration": 7,
    "start_time": "2023-05-24T19:08:51.829Z"
   },
   {
    "duration": 17,
    "start_time": "2023-05-24T19:08:51.837Z"
   },
   {
    "duration": 32,
    "start_time": "2023-05-24T19:08:51.856Z"
   },
   {
    "duration": 13,
    "start_time": "2023-05-24T19:08:51.889Z"
   },
   {
    "duration": 30,
    "start_time": "2023-05-24T19:08:51.903Z"
   },
   {
    "duration": 13,
    "start_time": "2023-05-24T19:08:51.935Z"
   },
   {
    "duration": 20,
    "start_time": "2023-05-24T19:08:51.949Z"
   },
   {
    "duration": 64,
    "start_time": "2023-05-24T19:08:51.970Z"
   },
   {
    "duration": 8,
    "start_time": "2023-05-24T19:08:52.037Z"
   },
   {
    "duration": 99,
    "start_time": "2023-05-24T19:08:52.047Z"
   },
   {
    "duration": 108,
    "start_time": "2023-05-24T19:08:52.147Z"
   },
   {
    "duration": 88,
    "start_time": "2023-05-24T19:08:52.257Z"
   },
   {
    "duration": 93,
    "start_time": "2023-05-24T19:08:52.347Z"
   },
   {
    "duration": 88,
    "start_time": "2023-05-24T19:08:52.441Z"
   },
   {
    "duration": 88,
    "start_time": "2023-05-24T19:08:52.531Z"
   },
   {
    "duration": 91,
    "start_time": "2023-05-24T19:08:52.620Z"
   },
   {
    "duration": 4,
    "start_time": "2023-05-24T19:08:52.712Z"
   },
   {
    "duration": 11,
    "start_time": "2023-05-24T19:08:52.718Z"
   },
   {
    "duration": 9,
    "start_time": "2023-05-24T19:08:52.731Z"
   },
   {
    "duration": 10,
    "start_time": "2023-05-24T19:08:52.742Z"
   },
   {
    "duration": 21,
    "start_time": "2023-05-24T19:08:52.754Z"
   },
   {
    "duration": 51,
    "start_time": "2023-05-24T19:08:52.777Z"
   },
   {
    "duration": 207,
    "start_time": "2023-05-24T19:08:52.829Z"
   },
   {
    "duration": 13,
    "start_time": "2023-05-24T19:08:53.038Z"
   },
   {
    "duration": 59,
    "start_time": "2023-05-24T19:08:53.053Z"
   },
   {
    "duration": 7,
    "start_time": "2023-05-24T19:08:53.115Z"
   },
   {
    "duration": 23,
    "start_time": "2023-05-24T19:08:53.125Z"
   },
   {
    "duration": 3,
    "start_time": "2023-05-24T19:08:53.150Z"
   },
   {
    "duration": 20,
    "start_time": "2023-05-24T19:08:53.154Z"
   },
   {
    "duration": 32,
    "start_time": "2023-05-24T19:08:53.175Z"
   },
   {
    "duration": 40,
    "start_time": "2023-05-24T19:08:53.208Z"
   },
   {
    "duration": 58,
    "start_time": "2023-05-24T19:08:53.249Z"
   },
   {
    "duration": 7,
    "start_time": "2023-05-24T19:08:53.309Z"
   },
   {
    "duration": 15,
    "start_time": "2023-05-24T19:08:53.318Z"
   },
   {
    "duration": 19,
    "start_time": "2023-05-24T19:08:53.334Z"
   },
   {
    "duration": 7,
    "start_time": "2023-05-24T19:08:53.354Z"
   },
   {
    "duration": 17,
    "start_time": "2023-05-24T19:08:53.362Z"
   },
   {
    "duration": 26,
    "start_time": "2023-05-24T19:08:53.380Z"
   },
   {
    "duration": 104,
    "start_time": "2023-05-24T19:30:05.758Z"
   },
   {
    "duration": 8,
    "start_time": "2023-05-24T19:30:27.669Z"
   },
   {
    "duration": 121,
    "start_time": "2023-05-24T19:32:31.924Z"
   },
   {
    "duration": 187,
    "start_time": "2023-05-24T19:32:47.989Z"
   },
   {
    "duration": 136,
    "start_time": "2023-05-24T19:33:33.614Z"
   },
   {
    "duration": 119,
    "start_time": "2023-05-24T19:34:14.199Z"
   },
   {
    "duration": 3,
    "start_time": "2023-05-24T19:34:24.780Z"
   },
   {
    "duration": 136,
    "start_time": "2023-05-24T19:34:24.784Z"
   },
   {
    "duration": 6,
    "start_time": "2023-05-24T19:34:24.922Z"
   },
   {
    "duration": 17,
    "start_time": "2023-05-24T19:34:24.929Z"
   },
   {
    "duration": 20,
    "start_time": "2023-05-24T19:34:24.948Z"
   },
   {
    "duration": 16,
    "start_time": "2023-05-24T19:34:24.970Z"
   },
   {
    "duration": 17,
    "start_time": "2023-05-24T19:34:24.987Z"
   },
   {
    "duration": 21,
    "start_time": "2023-05-24T19:34:25.006Z"
   },
   {
    "duration": 6,
    "start_time": "2023-05-24T19:34:25.028Z"
   },
   {
    "duration": 97,
    "start_time": "2023-05-24T19:34:25.036Z"
   },
   {
    "duration": 9,
    "start_time": "2023-05-24T19:34:25.135Z"
   },
   {
    "duration": 88,
    "start_time": "2023-05-24T19:34:25.145Z"
   },
   {
    "duration": 102,
    "start_time": "2023-05-24T19:34:25.234Z"
   },
   {
    "duration": 77,
    "start_time": "2023-05-24T19:34:25.337Z"
   },
   {
    "duration": 83,
    "start_time": "2023-05-24T19:34:25.416Z"
   },
   {
    "duration": 86,
    "start_time": "2023-05-24T19:34:25.500Z"
   },
   {
    "duration": 69,
    "start_time": "2023-05-24T19:34:25.588Z"
   },
   {
    "duration": 84,
    "start_time": "2023-05-24T19:34:25.659Z"
   },
   {
    "duration": 3,
    "start_time": "2023-05-24T19:34:25.744Z"
   },
   {
    "duration": 10,
    "start_time": "2023-05-24T19:34:25.749Z"
   },
   {
    "duration": 5,
    "start_time": "2023-05-24T19:34:25.761Z"
   },
   {
    "duration": 17,
    "start_time": "2023-05-24T19:34:25.767Z"
   },
   {
    "duration": 3,
    "start_time": "2023-05-24T19:34:25.785Z"
   },
   {
    "duration": 25,
    "start_time": "2023-05-24T19:34:25.789Z"
   },
   {
    "duration": 213,
    "start_time": "2023-05-24T19:34:25.815Z"
   },
   {
    "duration": 14,
    "start_time": "2023-05-24T19:34:26.029Z"
   },
   {
    "duration": 58,
    "start_time": "2023-05-24T19:34:26.045Z"
   },
   {
    "duration": 10,
    "start_time": "2023-05-24T19:34:26.105Z"
   },
   {
    "duration": 23,
    "start_time": "2023-05-24T19:34:26.119Z"
   },
   {
    "duration": 3,
    "start_time": "2023-05-24T19:34:26.144Z"
   },
   {
    "duration": 16,
    "start_time": "2023-05-24T19:34:26.148Z"
   },
   {
    "duration": 9,
    "start_time": "2023-05-24T19:34:26.185Z"
   },
   {
    "duration": 27,
    "start_time": "2023-05-24T19:34:26.196Z"
   },
   {
    "duration": 68,
    "start_time": "2023-05-24T19:34:26.224Z"
   },
   {
    "duration": 6,
    "start_time": "2023-05-24T19:34:26.293Z"
   },
   {
    "duration": 9,
    "start_time": "2023-05-24T19:34:26.301Z"
   },
   {
    "duration": 5,
    "start_time": "2023-05-24T19:34:26.311Z"
   },
   {
    "duration": 141,
    "start_time": "2023-05-24T19:34:26.317Z"
   },
   {
    "duration": 7,
    "start_time": "2023-05-24T19:34:26.459Z"
   },
   {
    "duration": 136,
    "start_time": "2023-05-24T19:34:54.349Z"
   },
   {
    "duration": 117,
    "start_time": "2023-05-24T19:35:35.704Z"
   },
   {
    "duration": 115,
    "start_time": "2023-05-24T19:35:50.579Z"
   },
   {
    "duration": 115,
    "start_time": "2023-05-24T19:35:56.615Z"
   },
   {
    "duration": 115,
    "start_time": "2023-05-24T19:36:07.547Z"
   },
   {
    "duration": 7,
    "start_time": "2023-05-24T20:44:04.685Z"
   },
   {
    "duration": 112,
    "start_time": "2023-05-24T20:44:11.898Z"
   },
   {
    "duration": 51,
    "start_time": "2023-05-25T14:33:38.444Z"
   },
   {
    "duration": 1264,
    "start_time": "2023-05-25T14:33:43.275Z"
   },
   {
    "duration": 708,
    "start_time": "2023-05-25T14:33:44.541Z"
   },
   {
    "duration": 11,
    "start_time": "2023-05-25T14:33:45.250Z"
   },
   {
    "duration": 25,
    "start_time": "2023-05-25T14:33:45.263Z"
   },
   {
    "duration": 23,
    "start_time": "2023-05-25T14:33:45.289Z"
   },
   {
    "duration": 8,
    "start_time": "2023-05-25T14:33:45.313Z"
   },
   {
    "duration": 38,
    "start_time": "2023-05-25T14:33:45.323Z"
   },
   {
    "duration": 16,
    "start_time": "2023-05-25T14:33:45.363Z"
   },
   {
    "duration": 10,
    "start_time": "2023-05-25T14:33:45.381Z"
   },
   {
    "duration": 86,
    "start_time": "2023-05-25T14:33:45.394Z"
   },
   {
    "duration": 14,
    "start_time": "2023-05-25T14:33:45.481Z"
   },
   {
    "duration": 97,
    "start_time": "2023-05-25T14:33:45.497Z"
   },
   {
    "duration": 129,
    "start_time": "2023-05-25T14:33:45.595Z"
   },
   {
    "duration": 95,
    "start_time": "2023-05-25T14:33:45.725Z"
   },
   {
    "duration": 89,
    "start_time": "2023-05-25T14:33:45.821Z"
   },
   {
    "duration": 99,
    "start_time": "2023-05-25T14:33:45.912Z"
   },
   {
    "duration": 3,
    "start_time": "2023-05-25T14:33:46.013Z"
   },
   {
    "duration": 27,
    "start_time": "2023-05-25T14:33:46.018Z"
   },
   {
    "duration": 16,
    "start_time": "2023-05-25T14:33:46.046Z"
   },
   {
    "duration": 11,
    "start_time": "2023-05-25T14:33:46.064Z"
   },
   {
    "duration": 35,
    "start_time": "2023-05-25T14:33:46.077Z"
   },
   {
    "duration": 39,
    "start_time": "2023-05-25T14:33:46.114Z"
   },
   {
    "duration": 310,
    "start_time": "2023-05-25T14:33:46.155Z"
   },
   {
    "duration": 12,
    "start_time": "2023-05-25T14:33:46.467Z"
   },
   {
    "duration": 35,
    "start_time": "2023-05-25T14:33:46.481Z"
   },
   {
    "duration": 34,
    "start_time": "2023-05-25T14:33:46.517Z"
   },
   {
    "duration": 32,
    "start_time": "2023-05-25T14:33:46.553Z"
   },
   {
    "duration": 3,
    "start_time": "2023-05-25T14:33:46.588Z"
   },
   {
    "duration": 12,
    "start_time": "2023-05-25T14:33:46.592Z"
   },
   {
    "duration": 8,
    "start_time": "2023-05-25T14:33:46.606Z"
   },
   {
    "duration": 55,
    "start_time": "2023-05-25T14:33:46.615Z"
   },
   {
    "duration": 59,
    "start_time": "2023-05-25T14:33:46.671Z"
   },
   {
    "duration": 25,
    "start_time": "2023-05-25T14:33:46.731Z"
   },
   {
    "duration": 175,
    "start_time": "2023-05-25T14:33:46.757Z"
   },
   {
    "duration": 6,
    "start_time": "2023-05-25T14:33:46.934Z"
   },
   {
    "duration": 12,
    "start_time": "2023-05-25T14:33:46.941Z"
   },
   {
    "duration": 197,
    "start_time": "2023-05-25T14:33:46.955Z"
   },
   {
    "duration": 10,
    "start_time": "2023-05-25T14:33:47.154Z"
   },
   {
    "duration": 66,
    "start_time": "2023-05-25T14:45:41.511Z"
   },
   {
    "duration": 8,
    "start_time": "2023-05-25T14:45:45.118Z"
   },
   {
    "duration": 3,
    "start_time": "2023-05-25T14:45:45.607Z"
   },
   {
    "duration": 3,
    "start_time": "2023-05-25T14:47:43.656Z"
   },
   {
    "duration": 157,
    "start_time": "2023-05-25T14:47:43.661Z"
   },
   {
    "duration": 7,
    "start_time": "2023-05-25T14:47:43.820Z"
   },
   {
    "duration": 31,
    "start_time": "2023-05-25T14:47:43.829Z"
   },
   {
    "duration": 19,
    "start_time": "2023-05-25T14:47:43.862Z"
   },
   {
    "duration": 6,
    "start_time": "2023-05-25T14:47:43.882Z"
   },
   {
    "duration": 22,
    "start_time": "2023-05-25T14:47:43.889Z"
   },
   {
    "duration": 14,
    "start_time": "2023-05-25T14:47:43.913Z"
   },
   {
    "duration": 8,
    "start_time": "2023-05-25T14:47:43.951Z"
   },
   {
    "duration": 65,
    "start_time": "2023-05-25T14:47:43.962Z"
   },
   {
    "duration": 29,
    "start_time": "2023-05-25T14:47:44.030Z"
   },
   {
    "duration": 113,
    "start_time": "2023-05-25T14:47:44.061Z"
   },
   {
    "duration": 149,
    "start_time": "2023-05-25T14:47:44.176Z"
   },
   {
    "duration": 92,
    "start_time": "2023-05-25T14:47:44.326Z"
   },
   {
    "duration": 86,
    "start_time": "2023-05-25T14:47:44.419Z"
   },
   {
    "duration": 93,
    "start_time": "2023-05-25T14:47:44.516Z"
   },
   {
    "duration": 3,
    "start_time": "2023-05-25T14:47:44.611Z"
   },
   {
    "duration": 9,
    "start_time": "2023-05-25T14:47:44.616Z"
   },
   {
    "duration": 4,
    "start_time": "2023-05-25T14:47:44.626Z"
   },
   {
    "duration": 20,
    "start_time": "2023-05-25T14:47:44.631Z"
   },
   {
    "duration": 5,
    "start_time": "2023-05-25T14:47:44.652Z"
   },
   {
    "duration": 11,
    "start_time": "2023-05-25T14:47:44.658Z"
   },
   {
    "duration": 32,
    "start_time": "2023-05-25T14:47:44.670Z"
   },
   {
    "duration": 248,
    "start_time": "2023-05-25T14:47:44.704Z"
   },
   {
    "duration": 12,
    "start_time": "2023-05-25T14:47:44.954Z"
   },
   {
    "duration": 25,
    "start_time": "2023-05-25T14:47:44.968Z"
   },
   {
    "duration": 7,
    "start_time": "2023-05-25T14:47:44.995Z"
   },
   {
    "duration": 62,
    "start_time": "2023-05-25T14:47:45.005Z"
   },
   {
    "duration": 4,
    "start_time": "2023-05-25T14:47:45.068Z"
   },
   {
    "duration": 12,
    "start_time": "2023-05-25T14:47:45.073Z"
   },
   {
    "duration": 8,
    "start_time": "2023-05-25T14:47:45.087Z"
   },
   {
    "duration": 29,
    "start_time": "2023-05-25T14:47:45.097Z"
   },
   {
    "duration": 74,
    "start_time": "2023-05-25T14:47:45.128Z"
   },
   {
    "duration": 8,
    "start_time": "2023-05-25T14:47:45.204Z"
   },
   {
    "duration": 14,
    "start_time": "2023-05-25T14:47:45.213Z"
   },
   {
    "duration": 23,
    "start_time": "2023-05-25T14:47:45.228Z"
   },
   {
    "duration": 16,
    "start_time": "2023-05-25T14:47:45.253Z"
   },
   {
    "duration": 139,
    "start_time": "2023-05-25T14:47:45.271Z"
   },
   {
    "duration": 8,
    "start_time": "2023-05-25T14:47:45.411Z"
   },
   {
    "duration": 7,
    "start_time": "2023-05-25T14:47:45.421Z"
   },
   {
    "duration": 21,
    "start_time": "2023-05-25T14:47:45.429Z"
   },
   {
    "duration": 3,
    "start_time": "2023-05-25T14:50:00.925Z"
   },
   {
    "duration": 194,
    "start_time": "2023-05-25T14:50:00.930Z"
   },
   {
    "duration": 9,
    "start_time": "2023-05-25T14:50:01.125Z"
   },
   {
    "duration": 84,
    "start_time": "2023-05-25T14:50:01.135Z"
   },
   {
    "duration": 41,
    "start_time": "2023-05-25T14:50:01.220Z"
   },
   {
    "duration": 47,
    "start_time": "2023-05-25T14:50:01.262Z"
   },
   {
    "duration": 66,
    "start_time": "2023-05-25T14:50:01.311Z"
   },
   {
    "duration": 85,
    "start_time": "2023-05-25T14:50:01.379Z"
   },
   {
    "duration": 51,
    "start_time": "2023-05-25T14:50:01.466Z"
   },
   {
    "duration": 87,
    "start_time": "2023-05-25T14:50:01.520Z"
   },
   {
    "duration": 10,
    "start_time": "2023-05-25T14:50:01.609Z"
   },
   {
    "duration": 121,
    "start_time": "2023-05-25T14:50:01.621Z"
   },
   {
    "duration": 131,
    "start_time": "2023-05-25T14:50:01.744Z"
   },
   {
    "duration": 102,
    "start_time": "2023-05-25T14:50:01.878Z"
   },
   {
    "duration": 92,
    "start_time": "2023-05-25T14:50:01.982Z"
   },
   {
    "duration": 96,
    "start_time": "2023-05-25T14:50:02.076Z"
   },
   {
    "duration": 3,
    "start_time": "2023-05-25T14:50:02.174Z"
   },
   {
    "duration": 57,
    "start_time": "2023-05-25T14:50:02.179Z"
   },
   {
    "duration": 18,
    "start_time": "2023-05-25T14:50:02.238Z"
   },
   {
    "duration": 35,
    "start_time": "2023-05-25T14:50:02.258Z"
   },
   {
    "duration": 19,
    "start_time": "2023-05-25T14:50:02.295Z"
   },
   {
    "duration": 24,
    "start_time": "2023-05-25T14:50:02.316Z"
   },
   {
    "duration": 28,
    "start_time": "2023-05-25T14:50:02.342Z"
   },
   {
    "duration": 288,
    "start_time": "2023-05-25T14:50:02.371Z"
   },
   {
    "duration": 12,
    "start_time": "2023-05-25T14:50:02.661Z"
   },
   {
    "duration": 50,
    "start_time": "2023-05-25T14:50:02.674Z"
   },
   {
    "duration": 42,
    "start_time": "2023-05-25T14:50:02.726Z"
   },
   {
    "duration": 72,
    "start_time": "2023-05-25T14:50:02.771Z"
   },
   {
    "duration": 3,
    "start_time": "2023-05-25T14:50:02.845Z"
   },
   {
    "duration": 53,
    "start_time": "2023-05-25T14:50:02.850Z"
   },
   {
    "duration": 9,
    "start_time": "2023-05-25T14:50:02.904Z"
   },
   {
    "duration": 40,
    "start_time": "2023-05-25T14:50:02.915Z"
   },
   {
    "duration": 58,
    "start_time": "2023-05-25T14:50:02.957Z"
   },
   {
    "duration": 10,
    "start_time": "2023-05-25T14:50:03.017Z"
   },
   {
    "duration": 86,
    "start_time": "2023-05-25T14:50:03.028Z"
   },
   {
    "duration": 50,
    "start_time": "2023-05-25T14:50:03.115Z"
   },
   {
    "duration": 53,
    "start_time": "2023-05-25T14:50:03.166Z"
   },
   {
    "duration": 159,
    "start_time": "2023-05-25T14:50:03.221Z"
   },
   {
    "duration": 8,
    "start_time": "2023-05-25T14:50:03.382Z"
   },
   {
    "duration": 55,
    "start_time": "2023-05-25T14:50:03.392Z"
   },
   {
    "duration": 4,
    "start_time": "2023-05-25T14:50:03.448Z"
   },
   {
    "duration": 17,
    "start_time": "2023-05-25T14:55:31.365Z"
   },
   {
    "duration": 4,
    "start_time": "2023-05-25T14:55:31.855Z"
   },
   {
    "duration": 8,
    "start_time": "2023-05-25T14:55:32.812Z"
   },
   {
    "duration": 3,
    "start_time": "2023-05-25T14:55:33.305Z"
   },
   {
    "duration": 10,
    "start_time": "2023-05-25T17:25:07.792Z"
   },
   {
    "duration": 44,
    "start_time": "2023-05-25T17:25:22.332Z"
   },
   {
    "duration": 39,
    "start_time": "2023-05-25T18:27:42.714Z"
   },
   {
    "duration": 20,
    "start_time": "2023-05-25T18:29:43.274Z"
   },
   {
    "duration": 21,
    "start_time": "2023-05-25T18:29:46.444Z"
   },
   {
    "duration": 33,
    "start_time": "2023-05-25T18:32:01.146Z"
   },
   {
    "duration": 20,
    "start_time": "2023-05-25T18:32:04.928Z"
   },
   {
    "duration": 3,
    "start_time": "2023-05-25T18:32:05.627Z"
   },
   {
    "duration": 31,
    "start_time": "2023-05-25T18:32:10.858Z"
   },
   {
    "duration": 18,
    "start_time": "2023-05-25T18:32:12.400Z"
   },
   {
    "duration": 4,
    "start_time": "2023-05-25T18:32:12.916Z"
   },
   {
    "duration": 10,
    "start_time": "2023-05-25T18:32:14.245Z"
   },
   {
    "duration": 32,
    "start_time": "2023-05-25T18:32:30.783Z"
   },
   {
    "duration": 24,
    "start_time": "2023-05-25T18:32:31.910Z"
   },
   {
    "duration": 4,
    "start_time": "2023-05-25T18:32:32.451Z"
   },
   {
    "duration": 8,
    "start_time": "2023-05-25T18:32:34.413Z"
   },
   {
    "duration": 3,
    "start_time": "2023-05-25T18:32:35.044Z"
   },
   {
    "duration": 22,
    "start_time": "2023-05-25T18:33:02.342Z"
   },
   {
    "duration": 6,
    "start_time": "2023-05-25T18:33:02.832Z"
   },
   {
    "duration": 24,
    "start_time": "2023-05-25T18:33:16.105Z"
   },
   {
    "duration": 3,
    "start_time": "2023-05-25T18:33:16.746Z"
   },
   {
    "duration": 38,
    "start_time": "2023-05-25T18:33:38.825Z"
   },
   {
    "duration": 42,
    "start_time": "2023-05-25T18:33:41.979Z"
   },
   {
    "duration": 3,
    "start_time": "2023-05-25T20:04:55.221Z"
   },
   {
    "duration": 161,
    "start_time": "2023-05-25T20:04:55.228Z"
   },
   {
    "duration": 8,
    "start_time": "2023-05-25T20:04:55.391Z"
   },
   {
    "duration": 18,
    "start_time": "2023-05-25T20:04:55.400Z"
   },
   {
    "duration": 47,
    "start_time": "2023-05-25T20:04:55.419Z"
   },
   {
    "duration": 5,
    "start_time": "2023-05-25T20:04:55.467Z"
   },
   {
    "duration": 17,
    "start_time": "2023-05-25T20:04:55.474Z"
   },
   {
    "duration": 25,
    "start_time": "2023-05-25T20:04:55.493Z"
   },
   {
    "duration": 6,
    "start_time": "2023-05-25T20:04:55.520Z"
   },
   {
    "duration": 176,
    "start_time": "2023-05-25T20:04:55.528Z"
   },
   {
    "duration": 9,
    "start_time": "2023-05-25T20:04:55.707Z"
   },
   {
    "duration": 92,
    "start_time": "2023-05-25T20:04:55.718Z"
   },
   {
    "duration": 108,
    "start_time": "2023-05-25T20:04:55.811Z"
   },
   {
    "duration": 89,
    "start_time": "2023-05-25T20:04:55.920Z"
   },
   {
    "duration": 85,
    "start_time": "2023-05-25T20:04:56.011Z"
   },
   {
    "duration": 89,
    "start_time": "2023-05-25T20:04:56.098Z"
   },
   {
    "duration": 3,
    "start_time": "2023-05-25T20:04:56.189Z"
   },
   {
    "duration": 9,
    "start_time": "2023-05-25T20:04:56.194Z"
   },
   {
    "duration": 3,
    "start_time": "2023-05-25T20:04:56.204Z"
   },
   {
    "duration": 4,
    "start_time": "2023-05-25T20:04:56.209Z"
   },
   {
    "duration": 5,
    "start_time": "2023-05-25T20:04:56.214Z"
   },
   {
    "duration": 43,
    "start_time": "2023-05-25T20:04:56.221Z"
   },
   {
    "duration": 226,
    "start_time": "2023-05-25T20:04:56.265Z"
   },
   {
    "duration": 13,
    "start_time": "2023-05-25T20:04:56.492Z"
   },
   {
    "duration": 44,
    "start_time": "2023-05-25T20:04:56.507Z"
   },
   {
    "duration": 8,
    "start_time": "2023-05-25T20:04:56.552Z"
   },
   {
    "duration": 32,
    "start_time": "2023-05-25T20:04:56.561Z"
   },
   {
    "duration": 3,
    "start_time": "2023-05-25T20:04:56.595Z"
   },
   {
    "duration": 9,
    "start_time": "2023-05-25T20:04:56.601Z"
   },
   {
    "duration": 8,
    "start_time": "2023-05-25T20:04:56.611Z"
   },
   {
    "duration": 60,
    "start_time": "2023-05-25T20:04:56.620Z"
   },
   {
    "duration": 71,
    "start_time": "2023-05-25T20:04:56.682Z"
   },
   {
    "duration": 8,
    "start_time": "2023-05-25T20:04:56.755Z"
   },
   {
    "duration": 11,
    "start_time": "2023-05-25T20:04:56.765Z"
   },
   {
    "duration": 7,
    "start_time": "2023-05-25T20:04:56.777Z"
   },
   {
    "duration": 10,
    "start_time": "2023-05-25T20:04:56.785Z"
   },
   {
    "duration": 149,
    "start_time": "2023-05-25T20:04:56.796Z"
   },
   {
    "duration": 30,
    "start_time": "2023-05-25T20:04:56.950Z"
   },
   {
    "duration": 23,
    "start_time": "2023-05-25T20:04:56.981Z"
   },
   {
    "duration": 3,
    "start_time": "2023-05-25T20:04:57.005Z"
   },
   {
    "duration": 12,
    "start_time": "2023-05-25T20:04:57.010Z"
   },
   {
    "duration": 3,
    "start_time": "2023-05-25T20:04:57.024Z"
   },
   {
    "duration": 58,
    "start_time": "2023-05-25T20:04:57.028Z"
   },
   {
    "duration": 10,
    "start_time": "2023-05-25T20:04:57.088Z"
   },
   {
    "duration": 29,
    "start_time": "2023-05-25T20:11:10.154Z"
   },
   {
    "duration": 28,
    "start_time": "2023-05-25T20:11:49.777Z"
   },
   {
    "duration": 61,
    "start_time": "2023-05-25T20:16:31.391Z"
   },
   {
    "duration": 3,
    "start_time": "2023-05-25T20:19:20.443Z"
   },
   {
    "duration": 3559,
    "start_time": "2023-05-25T20:19:27.901Z"
   },
   {
    "duration": 3,
    "start_time": "2023-05-25T20:20:53.860Z"
   },
   {
    "duration": 140,
    "start_time": "2023-05-25T20:20:53.866Z"
   },
   {
    "duration": 7,
    "start_time": "2023-05-25T20:20:54.008Z"
   },
   {
    "duration": 40,
    "start_time": "2023-05-25T20:20:54.016Z"
   },
   {
    "duration": 24,
    "start_time": "2023-05-25T20:20:54.059Z"
   },
   {
    "duration": 6,
    "start_time": "2023-05-25T20:20:54.085Z"
   },
   {
    "duration": 58,
    "start_time": "2023-05-25T20:20:54.092Z"
   },
   {
    "duration": 16,
    "start_time": "2023-05-25T20:20:54.153Z"
   },
   {
    "duration": 8,
    "start_time": "2023-05-25T20:20:54.171Z"
   },
   {
    "duration": 99,
    "start_time": "2023-05-25T20:20:54.181Z"
   },
   {
    "duration": 10,
    "start_time": "2023-05-25T20:20:54.285Z"
   },
   {
    "duration": 87,
    "start_time": "2023-05-25T20:20:54.297Z"
   },
   {
    "duration": 109,
    "start_time": "2023-05-25T20:20:54.385Z"
   },
   {
    "duration": 83,
    "start_time": "2023-05-25T20:20:54.496Z"
   },
   {
    "duration": 78,
    "start_time": "2023-05-25T20:20:54.581Z"
   },
   {
    "duration": 78,
    "start_time": "2023-05-25T20:20:54.660Z"
   },
   {
    "duration": 4,
    "start_time": "2023-05-25T20:20:54.750Z"
   },
   {
    "duration": 7,
    "start_time": "2023-05-25T20:20:54.756Z"
   },
   {
    "duration": 4,
    "start_time": "2023-05-25T20:20:54.765Z"
   },
   {
    "duration": 11,
    "start_time": "2023-05-25T20:20:54.770Z"
   },
   {
    "duration": 6,
    "start_time": "2023-05-25T20:20:54.783Z"
   },
   {
    "duration": 24,
    "start_time": "2023-05-25T20:20:54.791Z"
   },
   {
    "duration": 253,
    "start_time": "2023-05-25T20:20:54.817Z"
   },
   {
    "duration": 12,
    "start_time": "2023-05-25T20:20:55.072Z"
   },
   {
    "duration": 28,
    "start_time": "2023-05-25T20:20:55.086Z"
   },
   {
    "duration": 8,
    "start_time": "2023-05-25T20:20:55.116Z"
   },
   {
    "duration": 30,
    "start_time": "2023-05-25T20:20:55.150Z"
   },
   {
    "duration": 4,
    "start_time": "2023-05-25T20:20:55.182Z"
   },
   {
    "duration": 12,
    "start_time": "2023-05-25T20:20:55.189Z"
   },
   {
    "duration": 13,
    "start_time": "2023-05-25T20:20:55.203Z"
   },
   {
    "duration": 48,
    "start_time": "2023-05-25T20:20:55.218Z"
   },
   {
    "duration": 51,
    "start_time": "2023-05-25T20:20:55.268Z"
   },
   {
    "duration": 7,
    "start_time": "2023-05-25T20:20:55.321Z"
   },
   {
    "duration": 107,
    "start_time": "2023-05-25T20:20:55.330Z"
   },
   {
    "duration": 6,
    "start_time": "2023-05-25T20:20:55.449Z"
   },
   {
    "duration": 9,
    "start_time": "2023-05-25T20:20:55.456Z"
   },
   {
    "duration": 137,
    "start_time": "2023-05-25T20:20:55.466Z"
   },
   {
    "duration": 29,
    "start_time": "2023-05-25T20:20:55.605Z"
   },
   {
    "duration": 32,
    "start_time": "2023-05-25T20:20:55.636Z"
   },
   {
    "duration": 3,
    "start_time": "2023-05-25T20:20:55.670Z"
   },
   {
    "duration": 10,
    "start_time": "2023-05-25T20:20:55.675Z"
   },
   {
    "duration": 3,
    "start_time": "2023-05-25T20:20:55.687Z"
   },
   {
    "duration": 62,
    "start_time": "2023-05-25T20:20:55.691Z"
   },
   {
    "duration": 27,
    "start_time": "2023-05-25T20:20:55.755Z"
   },
   {
    "duration": 28,
    "start_time": "2023-05-25T20:20:55.783Z"
   },
   {
    "duration": 3797,
    "start_time": "2023-05-25T20:20:55.813Z"
   },
   {
    "duration": 143,
    "start_time": "2023-05-25T20:20:59.613Z"
   },
   {
    "duration": 11,
    "start_time": "2023-05-25T20:20:59.758Z"
   },
   {
    "duration": 9,
    "start_time": "2023-05-25T20:21:05.186Z"
   },
   {
    "duration": 2,
    "start_time": "2023-05-25T20:21:50.134Z"
   },
   {
    "duration": 8,
    "start_time": "2023-05-25T20:21:55.361Z"
   },
   {
    "duration": 11,
    "start_time": "2023-05-25T20:25:45.403Z"
   },
   {
    "duration": 4,
    "start_time": "2023-05-25T20:25:50.293Z"
   },
   {
    "duration": 166,
    "start_time": "2023-05-25T20:25:50.298Z"
   },
   {
    "duration": 11,
    "start_time": "2023-05-25T20:25:50.466Z"
   },
   {
    "duration": 35,
    "start_time": "2023-05-25T20:25:50.479Z"
   },
   {
    "duration": 46,
    "start_time": "2023-05-25T20:25:50.517Z"
   },
   {
    "duration": 6,
    "start_time": "2023-05-25T20:25:50.565Z"
   },
   {
    "duration": 17,
    "start_time": "2023-05-25T20:25:50.573Z"
   },
   {
    "duration": 14,
    "start_time": "2023-05-25T20:25:50.592Z"
   },
   {
    "duration": 16,
    "start_time": "2023-05-25T20:25:50.608Z"
   },
   {
    "duration": 77,
    "start_time": "2023-05-25T20:25:50.626Z"
   },
   {
    "duration": 13,
    "start_time": "2023-05-25T20:25:50.705Z"
   },
   {
    "duration": 87,
    "start_time": "2023-05-25T20:25:50.719Z"
   },
   {
    "duration": 112,
    "start_time": "2023-05-25T20:25:50.808Z"
   },
   {
    "duration": 82,
    "start_time": "2023-05-25T20:25:50.921Z"
   },
   {
    "duration": 84,
    "start_time": "2023-05-25T20:25:51.004Z"
   },
   {
    "duration": 97,
    "start_time": "2023-05-25T20:25:51.090Z"
   },
   {
    "duration": 4,
    "start_time": "2023-05-25T20:25:51.189Z"
   },
   {
    "duration": 8,
    "start_time": "2023-05-25T20:25:51.195Z"
   },
   {
    "duration": 3,
    "start_time": "2023-05-25T20:25:51.205Z"
   },
   {
    "duration": 8,
    "start_time": "2023-05-25T20:25:51.210Z"
   },
   {
    "duration": 5,
    "start_time": "2023-05-25T20:25:51.220Z"
   },
   {
    "duration": 51,
    "start_time": "2023-05-25T20:25:51.227Z"
   },
   {
    "duration": 239,
    "start_time": "2023-05-25T20:25:51.280Z"
   },
   {
    "duration": 12,
    "start_time": "2023-05-25T20:25:51.521Z"
   },
   {
    "duration": 46,
    "start_time": "2023-05-25T20:25:51.535Z"
   },
   {
    "duration": 7,
    "start_time": "2023-05-25T20:25:51.582Z"
   },
   {
    "duration": 29,
    "start_time": "2023-05-25T20:25:51.591Z"
   },
   {
    "duration": 3,
    "start_time": "2023-05-25T20:25:51.622Z"
   },
   {
    "duration": 35,
    "start_time": "2023-05-25T20:25:51.628Z"
   },
   {
    "duration": 8,
    "start_time": "2023-05-25T20:25:51.665Z"
   },
   {
    "duration": 37,
    "start_time": "2023-05-25T20:25:51.675Z"
   },
   {
    "duration": 58,
    "start_time": "2023-05-25T20:25:51.714Z"
   },
   {
    "duration": 8,
    "start_time": "2023-05-25T20:25:51.774Z"
   },
   {
    "duration": 9,
    "start_time": "2023-05-25T20:25:51.783Z"
   },
   {
    "duration": 6,
    "start_time": "2023-05-25T20:25:51.793Z"
   },
   {
    "duration": 8,
    "start_time": "2023-05-25T20:25:51.801Z"
   },
   {
    "duration": 163,
    "start_time": "2023-05-25T20:25:51.811Z"
   },
   {
    "duration": 31,
    "start_time": "2023-05-25T20:25:51.976Z"
   },
   {
    "duration": 54,
    "start_time": "2023-05-25T20:25:52.009Z"
   },
   {
    "duration": 4,
    "start_time": "2023-05-25T20:25:52.065Z"
   },
   {
    "duration": 16,
    "start_time": "2023-05-25T20:25:52.070Z"
   },
   {
    "duration": 3,
    "start_time": "2023-05-25T20:25:52.088Z"
   },
   {
    "duration": 37,
    "start_time": "2023-05-25T20:25:52.092Z"
   },
   {
    "duration": 36,
    "start_time": "2023-05-25T20:25:52.131Z"
   },
   {
    "duration": 26,
    "start_time": "2023-05-25T20:25:52.169Z"
   },
   {
    "duration": 10,
    "start_time": "2023-05-25T20:25:52.196Z"
   },
   {
    "duration": 11,
    "start_time": "2023-05-25T20:25:52.207Z"
   },
   {
    "duration": 45,
    "start_time": "2023-05-25T20:25:52.219Z"
   },
   {
    "duration": 3,
    "start_time": "2023-05-25T20:27:06.412Z"
   },
   {
    "duration": 155,
    "start_time": "2023-05-25T20:27:06.417Z"
   },
   {
    "duration": 9,
    "start_time": "2023-05-25T20:27:06.574Z"
   },
   {
    "duration": 19,
    "start_time": "2023-05-25T20:27:06.585Z"
   },
   {
    "duration": 45,
    "start_time": "2023-05-25T20:27:06.606Z"
   },
   {
    "duration": 5,
    "start_time": "2023-05-25T20:27:06.653Z"
   },
   {
    "duration": 26,
    "start_time": "2023-05-25T20:27:06.659Z"
   },
   {
    "duration": 18,
    "start_time": "2023-05-25T20:27:06.686Z"
   },
   {
    "duration": 15,
    "start_time": "2023-05-25T20:27:06.705Z"
   },
   {
    "duration": 77,
    "start_time": "2023-05-25T20:27:06.721Z"
   },
   {
    "duration": 9,
    "start_time": "2023-05-25T20:27:06.801Z"
   },
   {
    "duration": 84,
    "start_time": "2023-05-25T20:27:06.812Z"
   },
   {
    "duration": 109,
    "start_time": "2023-05-25T20:27:06.897Z"
   },
   {
    "duration": 86,
    "start_time": "2023-05-25T20:27:07.008Z"
   },
   {
    "duration": 76,
    "start_time": "2023-05-25T20:27:07.096Z"
   },
   {
    "duration": 82,
    "start_time": "2023-05-25T20:27:07.173Z"
   },
   {
    "duration": 3,
    "start_time": "2023-05-25T20:27:07.257Z"
   },
   {
    "duration": 8,
    "start_time": "2023-05-25T20:27:07.262Z"
   },
   {
    "duration": 5,
    "start_time": "2023-05-25T20:27:07.272Z"
   },
   {
    "duration": 7,
    "start_time": "2023-05-25T20:27:07.279Z"
   },
   {
    "duration": 9,
    "start_time": "2023-05-25T20:27:07.288Z"
   },
   {
    "duration": 25,
    "start_time": "2023-05-25T20:27:07.298Z"
   },
   {
    "duration": 230,
    "start_time": "2023-05-25T20:27:07.349Z"
   },
   {
    "duration": 11,
    "start_time": "2023-05-25T20:27:07.580Z"
   },
   {
    "duration": 28,
    "start_time": "2023-05-25T20:27:07.593Z"
   },
   {
    "duration": 7,
    "start_time": "2023-05-25T20:27:07.622Z"
   },
   {
    "duration": 29,
    "start_time": "2023-05-25T20:27:07.651Z"
   },
   {
    "duration": 3,
    "start_time": "2023-05-25T20:27:07.682Z"
   },
   {
    "duration": 8,
    "start_time": "2023-05-25T20:27:07.689Z"
   },
   {
    "duration": 9,
    "start_time": "2023-05-25T20:27:07.699Z"
   },
   {
    "duration": 53,
    "start_time": "2023-05-25T20:27:07.709Z"
   },
   {
    "duration": 51,
    "start_time": "2023-05-25T20:27:07.764Z"
   },
   {
    "duration": 7,
    "start_time": "2023-05-25T20:27:07.817Z"
   },
   {
    "duration": 29,
    "start_time": "2023-05-25T20:27:07.826Z"
   },
   {
    "duration": 5,
    "start_time": "2023-05-25T20:27:07.857Z"
   },
   {
    "duration": 9,
    "start_time": "2023-05-25T20:27:07.863Z"
   },
   {
    "duration": 152,
    "start_time": "2023-05-25T20:27:07.873Z"
   },
   {
    "duration": 49,
    "start_time": "2023-05-25T20:27:08.027Z"
   },
   {
    "duration": 26,
    "start_time": "2023-05-25T20:27:08.077Z"
   },
   {
    "duration": 3,
    "start_time": "2023-05-25T20:27:08.105Z"
   },
   {
    "duration": 9,
    "start_time": "2023-05-25T20:27:08.110Z"
   },
   {
    "duration": 4,
    "start_time": "2023-05-25T20:27:08.121Z"
   },
   {
    "duration": 60,
    "start_time": "2023-05-25T20:27:08.126Z"
   },
   {
    "duration": 31,
    "start_time": "2023-05-25T20:27:08.188Z"
   },
   {
    "duration": 53,
    "start_time": "2023-05-25T20:27:08.220Z"
   },
   {
    "duration": 14,
    "start_time": "2023-05-25T20:27:08.275Z"
   },
   {
    "duration": 4,
    "start_time": "2023-05-25T20:27:08.290Z"
   },
   {
    "duration": 16,
    "start_time": "2023-05-25T20:27:08.296Z"
   },
   {
    "duration": 3,
    "start_time": "2023-05-25T20:42:48.885Z"
   },
   {
    "duration": 140,
    "start_time": "2023-05-25T20:42:48.891Z"
   },
   {
    "duration": 21,
    "start_time": "2023-05-25T20:42:49.033Z"
   },
   {
    "duration": 20,
    "start_time": "2023-05-25T20:42:49.056Z"
   },
   {
    "duration": 17,
    "start_time": "2023-05-25T20:42:49.078Z"
   },
   {
    "duration": 5,
    "start_time": "2023-05-25T20:42:49.096Z"
   },
   {
    "duration": 47,
    "start_time": "2023-05-25T20:42:49.103Z"
   },
   {
    "duration": 13,
    "start_time": "2023-05-25T20:42:49.152Z"
   },
   {
    "duration": 11,
    "start_time": "2023-05-25T20:42:49.167Z"
   },
   {
    "duration": 76,
    "start_time": "2023-05-25T20:42:49.179Z"
   },
   {
    "duration": 9,
    "start_time": "2023-05-25T20:42:49.257Z"
   },
   {
    "duration": 87,
    "start_time": "2023-05-25T20:42:49.268Z"
   },
   {
    "duration": 112,
    "start_time": "2023-05-25T20:42:49.357Z"
   },
   {
    "duration": 81,
    "start_time": "2023-05-25T20:42:49.470Z"
   },
   {
    "duration": 70,
    "start_time": "2023-05-25T20:42:49.553Z"
   },
   {
    "duration": 86,
    "start_time": "2023-05-25T20:42:49.625Z"
   },
   {
    "duration": 3,
    "start_time": "2023-05-25T20:42:49.713Z"
   },
   {
    "duration": 22,
    "start_time": "2023-05-25T20:42:49.717Z"
   },
   {
    "duration": 23,
    "start_time": "2023-05-25T20:42:49.740Z"
   },
   {
    "duration": 13,
    "start_time": "2023-05-25T20:42:49.765Z"
   },
   {
    "duration": 5,
    "start_time": "2023-05-25T20:42:49.780Z"
   },
   {
    "duration": 25,
    "start_time": "2023-05-25T20:42:49.786Z"
   },
   {
    "duration": 218,
    "start_time": "2023-05-25T20:42:49.813Z"
   },
   {
    "duration": 20,
    "start_time": "2023-05-25T20:42:50.032Z"
   },
   {
    "duration": 27,
    "start_time": "2023-05-25T20:42:50.053Z"
   },
   {
    "duration": 9,
    "start_time": "2023-05-25T20:42:50.082Z"
   },
   {
    "duration": 32,
    "start_time": "2023-05-25T20:42:50.092Z"
   },
   {
    "duration": 24,
    "start_time": "2023-05-25T20:42:50.126Z"
   },
   {
    "duration": 21,
    "start_time": "2023-05-25T20:42:50.153Z"
   },
   {
    "duration": 23,
    "start_time": "2023-05-25T20:42:50.176Z"
   },
   {
    "duration": 44,
    "start_time": "2023-05-25T20:42:50.201Z"
   },
   {
    "duration": 54,
    "start_time": "2023-05-25T20:42:50.247Z"
   },
   {
    "duration": 9,
    "start_time": "2023-05-25T20:42:50.302Z"
   },
   {
    "duration": 24,
    "start_time": "2023-05-25T20:42:50.313Z"
   },
   {
    "duration": 6,
    "start_time": "2023-05-25T20:42:50.350Z"
   },
   {
    "duration": 12,
    "start_time": "2023-05-25T20:42:50.358Z"
   },
   {
    "duration": 152,
    "start_time": "2023-05-25T20:42:50.371Z"
   },
   {
    "duration": 38,
    "start_time": "2023-05-25T20:42:50.525Z"
   },
   {
    "duration": 27,
    "start_time": "2023-05-25T20:42:50.565Z"
   },
   {
    "duration": 3,
    "start_time": "2023-05-25T20:42:50.594Z"
   },
   {
    "duration": 9,
    "start_time": "2023-05-25T20:42:50.599Z"
   },
   {
    "duration": 4,
    "start_time": "2023-05-25T20:42:50.609Z"
   },
   {
    "duration": 67,
    "start_time": "2023-05-25T20:42:50.614Z"
   },
   {
    "duration": 28,
    "start_time": "2023-05-25T20:42:50.682Z"
   },
   {
    "duration": 42,
    "start_time": "2023-05-25T20:42:50.712Z"
   },
   {
    "duration": 11,
    "start_time": "2023-05-25T20:42:50.755Z"
   },
   {
    "duration": 6,
    "start_time": "2023-05-25T20:42:50.767Z"
   },
   {
    "duration": 32,
    "start_time": "2023-05-25T20:42:50.774Z"
   },
   {
    "duration": 8,
    "start_time": "2023-05-25T20:44:55.354Z"
   },
   {
    "duration": 25,
    "start_time": "2023-05-25T20:46:08.365Z"
   },
   {
    "duration": 36,
    "start_time": "2023-05-25T20:46:16.123Z"
   },
   {
    "duration": 5,
    "start_time": "2023-05-25T20:46:16.565Z"
   },
   {
    "duration": 9,
    "start_time": "2023-05-25T20:46:17.484Z"
   },
   {
    "duration": 36,
    "start_time": "2023-05-25T20:48:21.861Z"
   },
   {
    "duration": 6,
    "start_time": "2023-05-25T20:48:22.466Z"
   },
   {
    "duration": 4,
    "start_time": "2023-05-25T20:48:29.300Z"
   },
   {
    "duration": 9,
    "start_time": "2023-05-25T20:48:30.084Z"
   },
   {
    "duration": 3,
    "start_time": "2023-05-25T20:49:41.395Z"
   },
   {
    "duration": 24,
    "start_time": "2023-05-25T20:50:46.562Z"
   },
   {
    "duration": 4,
    "start_time": "2023-05-25T20:50:47.074Z"
   },
   {
    "duration": 8,
    "start_time": "2023-05-25T20:50:47.654Z"
   },
   {
    "duration": 4,
    "start_time": "2023-05-25T20:51:01.091Z"
   },
   {
    "duration": 23,
    "start_time": "2023-05-25T20:51:01.660Z"
   },
   {
    "duration": 22,
    "start_time": "2023-05-25T20:51:05.396Z"
   },
   {
    "duration": 25,
    "start_time": "2023-05-25T20:51:12.699Z"
   },
   {
    "duration": 3,
    "start_time": "2023-05-25T20:51:13.162Z"
   },
   {
    "duration": 8,
    "start_time": "2023-05-25T20:51:13.569Z"
   },
   {
    "duration": 1200,
    "start_time": "2023-05-25T20:58:45.862Z"
   },
   {
    "duration": 1172,
    "start_time": "2023-05-25T20:59:54.911Z"
   },
   {
    "duration": 14,
    "start_time": "2023-05-25T21:00:44.831Z"
   },
   {
    "duration": 8,
    "start_time": "2023-05-25T21:02:10.369Z"
   },
   {
    "duration": 4,
    "start_time": "2023-05-25T21:02:40.743Z"
   },
   {
    "duration": 142,
    "start_time": "2023-05-25T21:02:40.748Z"
   },
   {
    "duration": 7,
    "start_time": "2023-05-25T21:02:40.891Z"
   },
   {
    "duration": 17,
    "start_time": "2023-05-25T21:02:40.900Z"
   },
   {
    "duration": 32,
    "start_time": "2023-05-25T21:02:40.919Z"
   },
   {
    "duration": 6,
    "start_time": "2023-05-25T21:02:40.952Z"
   },
   {
    "duration": 19,
    "start_time": "2023-05-25T21:02:40.960Z"
   },
   {
    "duration": 13,
    "start_time": "2023-05-25T21:02:40.980Z"
   },
   {
    "duration": 6,
    "start_time": "2023-05-25T21:02:40.994Z"
   },
   {
    "duration": 89,
    "start_time": "2023-05-25T21:02:41.002Z"
   },
   {
    "duration": 10,
    "start_time": "2023-05-25T21:02:41.093Z"
   },
   {
    "duration": 92,
    "start_time": "2023-05-25T21:02:41.105Z"
   },
   {
    "duration": 107,
    "start_time": "2023-05-25T21:02:41.198Z"
   },
   {
    "duration": 99,
    "start_time": "2023-05-25T21:02:41.308Z"
   },
   {
    "duration": 73,
    "start_time": "2023-05-25T21:02:41.409Z"
   },
   {
    "duration": 79,
    "start_time": "2023-05-25T21:02:41.483Z"
   },
   {
    "duration": 3,
    "start_time": "2023-05-25T21:02:41.563Z"
   },
   {
    "duration": 10,
    "start_time": "2023-05-25T21:02:41.567Z"
   },
   {
    "duration": 4,
    "start_time": "2023-05-25T21:02:41.578Z"
   },
   {
    "duration": 9,
    "start_time": "2023-05-25T21:02:41.583Z"
   },
   {
    "duration": 5,
    "start_time": "2023-05-25T21:02:41.594Z"
   },
   {
    "duration": 25,
    "start_time": "2023-05-25T21:02:41.600Z"
   },
   {
    "duration": 238,
    "start_time": "2023-05-25T21:02:41.626Z"
   },
   {
    "duration": 13,
    "start_time": "2023-05-25T21:02:41.866Z"
   },
   {
    "duration": 27,
    "start_time": "2023-05-25T21:02:41.880Z"
   },
   {
    "duration": 8,
    "start_time": "2023-05-25T21:02:41.908Z"
   },
   {
    "duration": 61,
    "start_time": "2023-05-25T21:02:41.918Z"
   },
   {
    "duration": 4,
    "start_time": "2023-05-25T21:02:41.980Z"
   },
   {
    "duration": 16,
    "start_time": "2023-05-25T21:02:41.985Z"
   },
   {
    "duration": 15,
    "start_time": "2023-05-25T21:02:42.002Z"
   },
   {
    "duration": 37,
    "start_time": "2023-05-25T21:02:42.018Z"
   },
   {
    "duration": 50,
    "start_time": "2023-05-25T21:02:42.056Z"
   },
   {
    "duration": 9,
    "start_time": "2023-05-25T21:02:42.108Z"
   },
   {
    "duration": 32,
    "start_time": "2023-05-25T21:02:42.118Z"
   },
   {
    "duration": 5,
    "start_time": "2023-05-25T21:02:42.152Z"
   },
   {
    "duration": 12,
    "start_time": "2023-05-25T21:02:42.158Z"
   },
   {
    "duration": 128,
    "start_time": "2023-05-25T21:02:42.172Z"
   },
   {
    "duration": 30,
    "start_time": "2023-05-25T21:02:42.302Z"
   },
   {
    "duration": 29,
    "start_time": "2023-05-25T21:02:42.350Z"
   },
   {
    "duration": 3,
    "start_time": "2023-05-25T21:02:42.381Z"
   },
   {
    "duration": 11,
    "start_time": "2023-05-25T21:02:42.386Z"
   },
   {
    "duration": 3,
    "start_time": "2023-05-25T21:02:42.399Z"
   },
   {
    "duration": 57,
    "start_time": "2023-05-25T21:02:42.403Z"
   },
   {
    "duration": 24,
    "start_time": "2023-05-25T21:02:42.462Z"
   },
   {
    "duration": 4,
    "start_time": "2023-05-25T21:02:42.488Z"
   },
   {
    "duration": 26,
    "start_time": "2023-05-25T21:02:42.494Z"
   },
   {
    "duration": 31,
    "start_time": "2023-05-25T21:02:42.522Z"
   },
   {
    "duration": 3,
    "start_time": "2023-05-25T21:02:42.555Z"
   },
   {
    "duration": 20,
    "start_time": "2023-05-25T21:02:42.560Z"
   },
   {
    "duration": 10,
    "start_time": "2023-05-25T21:02:42.581Z"
   },
   {
    "duration": 17,
    "start_time": "2023-05-25T21:02:42.593Z"
   },
   {
    "duration": 100,
    "start_time": "2023-05-25T21:07:21.714Z"
   },
   {
    "duration": 7,
    "start_time": "2023-05-25T21:15:27.388Z"
   },
   {
    "duration": 5,
    "start_time": "2023-05-25T21:15:54.813Z"
   },
   {
    "duration": 5,
    "start_time": "2023-05-25T21:16:36.906Z"
   },
   {
    "duration": 10,
    "start_time": "2023-05-25T21:17:23.764Z"
   },
   {
    "duration": 9,
    "start_time": "2023-05-25T21:19:05.028Z"
   },
   {
    "duration": 9,
    "start_time": "2023-05-25T21:19:13.921Z"
   },
   {
    "duration": 3,
    "start_time": "2023-05-25T21:19:18.758Z"
   },
   {
    "duration": 145,
    "start_time": "2023-05-25T21:19:18.763Z"
   },
   {
    "duration": 8,
    "start_time": "2023-05-25T21:19:18.910Z"
   },
   {
    "duration": 38,
    "start_time": "2023-05-25T21:19:18.919Z"
   },
   {
    "duration": 16,
    "start_time": "2023-05-25T21:19:18.959Z"
   },
   {
    "duration": 5,
    "start_time": "2023-05-25T21:19:18.977Z"
   },
   {
    "duration": 17,
    "start_time": "2023-05-25T21:19:18.984Z"
   },
   {
    "duration": 13,
    "start_time": "2023-05-25T21:19:19.002Z"
   },
   {
    "duration": 35,
    "start_time": "2023-05-25T21:19:19.016Z"
   },
   {
    "duration": 64,
    "start_time": "2023-05-25T21:19:19.052Z"
   },
   {
    "duration": 9,
    "start_time": "2023-05-25T21:19:19.119Z"
   },
   {
    "duration": 97,
    "start_time": "2023-05-25T21:19:19.129Z"
   },
   {
    "duration": 111,
    "start_time": "2023-05-25T21:19:19.228Z"
   },
   {
    "duration": 80,
    "start_time": "2023-05-25T21:19:19.349Z"
   },
   {
    "duration": 84,
    "start_time": "2023-05-25T21:19:19.431Z"
   },
   {
    "duration": 95,
    "start_time": "2023-05-25T21:19:19.517Z"
   },
   {
    "duration": 3,
    "start_time": "2023-05-25T21:19:19.614Z"
   },
   {
    "duration": 8,
    "start_time": "2023-05-25T21:19:19.619Z"
   },
   {
    "duration": 4,
    "start_time": "2023-05-25T21:19:19.628Z"
   },
   {
    "duration": 3,
    "start_time": "2023-05-25T21:19:19.650Z"
   },
   {
    "duration": 4,
    "start_time": "2023-05-25T21:19:19.655Z"
   },
   {
    "duration": 26,
    "start_time": "2023-05-25T21:19:19.661Z"
   },
   {
    "duration": 236,
    "start_time": "2023-05-25T21:19:19.688Z"
   },
   {
    "duration": 25,
    "start_time": "2023-05-25T21:19:19.926Z"
   },
   {
    "duration": 25,
    "start_time": "2023-05-25T21:19:19.952Z"
   },
   {
    "duration": 7,
    "start_time": "2023-05-25T21:19:19.978Z"
   },
   {
    "duration": 30,
    "start_time": "2023-05-25T21:19:19.986Z"
   },
   {
    "duration": 4,
    "start_time": "2023-05-25T21:19:20.018Z"
   },
   {
    "duration": 9,
    "start_time": "2023-05-25T21:19:20.052Z"
   },
   {
    "duration": 9,
    "start_time": "2023-05-25T21:19:20.063Z"
   },
   {
    "duration": 27,
    "start_time": "2023-05-25T21:19:20.074Z"
   },
   {
    "duration": 81,
    "start_time": "2023-05-25T21:19:20.103Z"
   },
   {
    "duration": 8,
    "start_time": "2023-05-25T21:19:20.186Z"
   },
   {
    "duration": 11,
    "start_time": "2023-05-25T21:19:20.196Z"
   },
   {
    "duration": 9,
    "start_time": "2023-05-25T21:19:20.209Z"
   },
   {
    "duration": 31,
    "start_time": "2023-05-25T21:19:20.220Z"
   },
   {
    "duration": 142,
    "start_time": "2023-05-25T21:19:20.253Z"
   },
   {
    "duration": 31,
    "start_time": "2023-05-25T21:19:20.397Z"
   },
   {
    "duration": 46,
    "start_time": "2023-05-25T21:19:20.430Z"
   },
   {
    "duration": 3,
    "start_time": "2023-05-25T21:19:20.478Z"
   },
   {
    "duration": 12,
    "start_time": "2023-05-25T21:19:20.483Z"
   },
   {
    "duration": 4,
    "start_time": "2023-05-25T21:19:20.496Z"
   },
   {
    "duration": 60,
    "start_time": "2023-05-25T21:19:20.502Z"
   },
   {
    "duration": 24,
    "start_time": "2023-05-25T21:19:20.564Z"
   },
   {
    "duration": 3,
    "start_time": "2023-05-25T21:19:20.589Z"
   },
   {
    "duration": 19,
    "start_time": "2023-05-25T21:19:20.594Z"
   },
   {
    "duration": 35,
    "start_time": "2023-05-25T21:19:20.615Z"
   },
   {
    "duration": 4,
    "start_time": "2023-05-25T21:19:20.651Z"
   },
   {
    "duration": 14,
    "start_time": "2023-05-25T21:19:20.657Z"
   },
   {
    "duration": 11,
    "start_time": "2023-05-25T21:19:20.672Z"
   },
   {
    "duration": 13,
    "start_time": "2023-05-25T21:19:20.684Z"
   },
   {
    "duration": 10,
    "start_time": "2023-05-25T21:19:20.699Z"
   },
   {
    "duration": 5,
    "start_time": "2023-05-25T21:19:20.710Z"
   },
   {
    "duration": 9,
    "start_time": "2023-05-25T21:19:49.851Z"
   },
   {
    "duration": 25,
    "start_time": "2023-05-25T21:19:50.555Z"
   },
   {
    "duration": 4,
    "start_time": "2023-05-25T21:19:51.194Z"
   },
   {
    "duration": 10,
    "start_time": "2023-05-25T21:19:51.742Z"
   },
   {
    "duration": 12,
    "start_time": "2023-05-25T21:19:52.944Z"
   },
   {
    "duration": 9,
    "start_time": "2023-05-25T21:19:56.310Z"
   },
   {
    "duration": 5,
    "start_time": "2023-05-25T21:20:00.954Z"
   },
   {
    "duration": 5,
    "start_time": "2023-05-25T21:20:02.915Z"
   },
   {
    "duration": 11,
    "start_time": "2023-05-25T21:20:22.991Z"
   },
   {
    "duration": 11,
    "start_time": "2023-05-25T21:20:23.686Z"
   },
   {
    "duration": 9,
    "start_time": "2023-05-25T21:20:26.355Z"
   },
   {
    "duration": 6,
    "start_time": "2023-05-25T21:20:28.582Z"
   },
   {
    "duration": 5,
    "start_time": "2023-05-25T21:20:29.808Z"
   },
   {
    "duration": 3,
    "start_time": "2023-05-25T21:22:46.789Z"
   },
   {
    "duration": 158,
    "start_time": "2023-05-25T21:22:46.794Z"
   },
   {
    "duration": 7,
    "start_time": "2023-05-25T21:22:46.954Z"
   },
   {
    "duration": 18,
    "start_time": "2023-05-25T21:22:46.963Z"
   },
   {
    "duration": 16,
    "start_time": "2023-05-25T21:22:46.983Z"
   },
   {
    "duration": 6,
    "start_time": "2023-05-25T21:22:47.001Z"
   },
   {
    "duration": 50,
    "start_time": "2023-05-25T21:22:47.009Z"
   },
   {
    "duration": 13,
    "start_time": "2023-05-25T21:22:47.061Z"
   },
   {
    "duration": 8,
    "start_time": "2023-05-25T21:22:47.076Z"
   },
   {
    "duration": 88,
    "start_time": "2023-05-25T21:22:47.085Z"
   },
   {
    "duration": 10,
    "start_time": "2023-05-25T21:22:47.176Z"
   },
   {
    "duration": 91,
    "start_time": "2023-05-25T21:22:47.188Z"
   },
   {
    "duration": 109,
    "start_time": "2023-05-25T21:22:47.280Z"
   },
   {
    "duration": 90,
    "start_time": "2023-05-25T21:22:47.391Z"
   },
   {
    "duration": 73,
    "start_time": "2023-05-25T21:22:47.482Z"
   },
   {
    "duration": 73,
    "start_time": "2023-05-25T21:22:47.557Z"
   },
   {
    "duration": 4,
    "start_time": "2023-05-25T21:22:47.631Z"
   },
   {
    "duration": 17,
    "start_time": "2023-05-25T21:22:47.637Z"
   },
   {
    "duration": 3,
    "start_time": "2023-05-25T21:22:47.656Z"
   },
   {
    "duration": 5,
    "start_time": "2023-05-25T21:22:47.660Z"
   },
   {
    "duration": 5,
    "start_time": "2023-05-25T21:22:47.666Z"
   },
   {
    "duration": 24,
    "start_time": "2023-05-25T21:22:47.672Z"
   },
   {
    "duration": 244,
    "start_time": "2023-05-25T21:22:47.697Z"
   },
   {
    "duration": 16,
    "start_time": "2023-05-25T21:22:47.943Z"
   },
   {
    "duration": 26,
    "start_time": "2023-05-25T21:22:47.961Z"
   },
   {
    "duration": 7,
    "start_time": "2023-05-25T21:22:47.988Z"
   },
   {
    "duration": 64,
    "start_time": "2023-05-25T21:22:47.997Z"
   },
   {
    "duration": 4,
    "start_time": "2023-05-25T21:22:48.063Z"
   },
   {
    "duration": 9,
    "start_time": "2023-05-25T21:22:48.071Z"
   },
   {
    "duration": 9,
    "start_time": "2023-05-25T21:22:48.082Z"
   },
   {
    "duration": 59,
    "start_time": "2023-05-25T21:22:48.093Z"
   },
   {
    "duration": 52,
    "start_time": "2023-05-25T21:22:48.154Z"
   },
   {
    "duration": 10,
    "start_time": "2023-05-25T21:22:48.207Z"
   },
   {
    "duration": 10,
    "start_time": "2023-05-25T21:22:48.219Z"
   },
   {
    "duration": 7,
    "start_time": "2023-05-25T21:22:48.250Z"
   },
   {
    "duration": 9,
    "start_time": "2023-05-25T21:22:48.258Z"
   },
   {
    "duration": 146,
    "start_time": "2023-05-25T21:22:48.269Z"
   },
   {
    "duration": 41,
    "start_time": "2023-05-25T21:22:48.417Z"
   },
   {
    "duration": 27,
    "start_time": "2023-05-25T21:22:48.460Z"
   },
   {
    "duration": 4,
    "start_time": "2023-05-25T21:22:48.489Z"
   },
   {
    "duration": 8,
    "start_time": "2023-05-25T21:22:48.495Z"
   },
   {
    "duration": 3,
    "start_time": "2023-05-25T21:22:48.505Z"
   },
   {
    "duration": 65,
    "start_time": "2023-05-25T21:22:48.510Z"
   },
   {
    "duration": 23,
    "start_time": "2023-05-25T21:22:48.576Z"
   },
   {
    "duration": 3,
    "start_time": "2023-05-25T21:22:48.601Z"
   },
   {
    "duration": 12,
    "start_time": "2023-05-25T21:22:48.605Z"
   },
   {
    "duration": 42,
    "start_time": "2023-05-25T21:22:48.618Z"
   },
   {
    "duration": 3,
    "start_time": "2023-05-25T21:22:48.662Z"
   },
   {
    "duration": 17,
    "start_time": "2023-05-25T21:22:48.667Z"
   },
   {
    "duration": 26,
    "start_time": "2023-05-25T21:22:48.685Z"
   },
   {
    "duration": 8,
    "start_time": "2023-05-25T21:22:48.712Z"
   },
   {
    "duration": 14,
    "start_time": "2023-05-25T21:22:48.721Z"
   },
   {
    "duration": 6,
    "start_time": "2023-05-25T21:22:48.736Z"
   },
   {
    "duration": 1365,
    "start_time": "2023-05-26T08:40:49.567Z"
   },
   {
    "duration": 492,
    "start_time": "2023-05-26T08:40:50.934Z"
   },
   {
    "duration": 12,
    "start_time": "2023-05-26T08:40:51.428Z"
   },
   {
    "duration": 36,
    "start_time": "2023-05-26T08:40:51.442Z"
   },
   {
    "duration": 21,
    "start_time": "2023-05-26T08:40:51.480Z"
   },
   {
    "duration": 9,
    "start_time": "2023-05-26T08:40:51.502Z"
   },
   {
    "duration": 45,
    "start_time": "2023-05-26T08:40:51.513Z"
   },
   {
    "duration": 26,
    "start_time": "2023-05-26T08:40:51.560Z"
   },
   {
    "duration": 35,
    "start_time": "2023-05-26T08:40:51.587Z"
   },
   {
    "duration": 80,
    "start_time": "2023-05-26T08:40:51.625Z"
   },
   {
    "duration": 14,
    "start_time": "2023-05-26T08:40:51.708Z"
   },
   {
    "duration": 113,
    "start_time": "2023-05-26T08:40:51.724Z"
   },
   {
    "duration": 141,
    "start_time": "2023-05-26T08:40:51.839Z"
   },
   {
    "duration": 109,
    "start_time": "2023-05-26T08:40:51.982Z"
   },
   {
    "duration": 102,
    "start_time": "2023-05-26T08:40:52.093Z"
   },
   {
    "duration": 107,
    "start_time": "2023-05-26T08:40:52.197Z"
   },
   {
    "duration": 3,
    "start_time": "2023-05-26T08:40:52.306Z"
   },
   {
    "duration": 12,
    "start_time": "2023-05-26T08:40:52.311Z"
   },
   {
    "duration": 37,
    "start_time": "2023-05-26T08:40:52.325Z"
   },
   {
    "duration": 22,
    "start_time": "2023-05-26T08:40:52.363Z"
   },
   {
    "duration": 17,
    "start_time": "2023-05-26T08:40:52.388Z"
   },
   {
    "duration": 48,
    "start_time": "2023-05-26T08:40:52.408Z"
   },
   {
    "duration": 376,
    "start_time": "2023-05-26T08:40:52.458Z"
   },
   {
    "duration": 15,
    "start_time": "2023-05-26T08:40:52.836Z"
   },
   {
    "duration": 38,
    "start_time": "2023-05-26T08:40:52.852Z"
   },
   {
    "duration": 8,
    "start_time": "2023-05-26T08:40:52.891Z"
   },
   {
    "duration": 52,
    "start_time": "2023-05-26T08:40:52.901Z"
   },
   {
    "duration": 3,
    "start_time": "2023-05-26T08:40:52.956Z"
   },
   {
    "duration": 21,
    "start_time": "2023-05-26T08:40:52.960Z"
   },
   {
    "duration": 22,
    "start_time": "2023-05-26T08:40:52.983Z"
   },
   {
    "duration": 46,
    "start_time": "2023-05-26T08:40:53.007Z"
   },
   {
    "duration": 73,
    "start_time": "2023-05-26T08:40:53.056Z"
   },
   {
    "duration": 16,
    "start_time": "2023-05-26T08:40:53.131Z"
   },
   {
    "duration": 277,
    "start_time": "2023-05-26T08:40:53.149Z"
   },
   {
    "duration": 5,
    "start_time": "2023-05-26T08:40:53.428Z"
   },
   {
    "duration": 32,
    "start_time": "2023-05-26T08:40:53.435Z"
   },
   {
    "duration": 195,
    "start_time": "2023-05-26T08:40:53.469Z"
   },
   {
    "duration": 38,
    "start_time": "2023-05-26T08:40:53.666Z"
   },
   {
    "duration": 51,
    "start_time": "2023-05-26T08:40:53.706Z"
   },
   {
    "duration": 3,
    "start_time": "2023-05-26T08:40:53.759Z"
   },
   {
    "duration": 28,
    "start_time": "2023-05-26T08:40:53.764Z"
   },
   {
    "duration": 7,
    "start_time": "2023-05-26T08:40:53.794Z"
   },
   {
    "duration": 49,
    "start_time": "2023-05-26T08:40:53.803Z"
   },
   {
    "duration": 26,
    "start_time": "2023-05-26T08:40:53.853Z"
   },
   {
    "duration": 4,
    "start_time": "2023-05-26T08:40:53.881Z"
   },
   {
    "duration": 23,
    "start_time": "2023-05-26T08:40:53.886Z"
   },
   {
    "duration": 39,
    "start_time": "2023-05-26T08:40:53.911Z"
   },
   {
    "duration": 4,
    "start_time": "2023-05-26T08:40:53.952Z"
   },
   {
    "duration": 40,
    "start_time": "2023-05-26T08:40:53.957Z"
   },
   {
    "duration": 19,
    "start_time": "2023-05-26T08:40:53.999Z"
   },
   {
    "duration": 9,
    "start_time": "2023-05-26T08:40:54.019Z"
   },
   {
    "duration": 15,
    "start_time": "2023-05-26T08:40:54.030Z"
   },
   {
    "duration": 20,
    "start_time": "2023-05-26T08:40:54.047Z"
   },
   {
    "duration": 60,
    "start_time": "2023-05-26T09:09:54.126Z"
   },
   {
    "duration": 3,
    "start_time": "2023-05-26T09:10:13.429Z"
   },
   {
    "duration": 181,
    "start_time": "2023-05-26T09:10:13.434Z"
   },
   {
    "duration": 8,
    "start_time": "2023-05-26T09:10:13.617Z"
   },
   {
    "duration": 38,
    "start_time": "2023-05-26T09:10:13.627Z"
   },
   {
    "duration": 34,
    "start_time": "2023-05-26T09:10:13.667Z"
   },
   {
    "duration": 7,
    "start_time": "2023-05-26T09:10:13.703Z"
   },
   {
    "duration": 28,
    "start_time": "2023-05-26T09:10:13.711Z"
   },
   {
    "duration": 20,
    "start_time": "2023-05-26T09:10:13.741Z"
   },
   {
    "duration": 28,
    "start_time": "2023-05-26T09:10:13.763Z"
   },
   {
    "duration": 84,
    "start_time": "2023-05-26T09:10:13.794Z"
   },
   {
    "duration": 13,
    "start_time": "2023-05-26T09:10:13.879Z"
   },
   {
    "duration": 110,
    "start_time": "2023-05-26T09:10:13.894Z"
   },
   {
    "duration": 139,
    "start_time": "2023-05-26T09:10:14.007Z"
   },
   {
    "duration": 99,
    "start_time": "2023-05-26T09:10:14.148Z"
   },
   {
    "duration": 98,
    "start_time": "2023-05-26T09:10:14.249Z"
   },
   {
    "duration": 99,
    "start_time": "2023-05-26T09:10:14.349Z"
   },
   {
    "duration": 4,
    "start_time": "2023-05-26T09:10:14.449Z"
   },
   {
    "duration": 44,
    "start_time": "2023-05-26T09:10:14.454Z"
   },
   {
    "duration": 29,
    "start_time": "2023-05-26T09:10:14.499Z"
   },
   {
    "duration": 34,
    "start_time": "2023-05-26T09:10:14.530Z"
   },
   {
    "duration": 20,
    "start_time": "2023-05-26T09:10:14.566Z"
   },
   {
    "duration": 49,
    "start_time": "2023-05-26T09:10:14.588Z"
   },
   {
    "duration": 236,
    "start_time": "2023-05-26T09:10:14.639Z"
   },
   {
    "duration": 13,
    "start_time": "2023-05-26T09:10:14.877Z"
   },
   {
    "duration": 45,
    "start_time": "2023-05-26T09:10:14.892Z"
   },
   {
    "duration": 8,
    "start_time": "2023-05-26T09:10:14.945Z"
   },
   {
    "duration": 59,
    "start_time": "2023-05-26T09:10:14.954Z"
   },
   {
    "duration": 4,
    "start_time": "2023-05-26T09:10:15.017Z"
   },
   {
    "duration": 74,
    "start_time": "2023-05-26T09:10:15.023Z"
   },
   {
    "duration": 32,
    "start_time": "2023-05-26T09:10:15.098Z"
   },
   {
    "duration": 60,
    "start_time": "2023-05-26T09:10:15.132Z"
   },
   {
    "duration": 59,
    "start_time": "2023-05-26T09:10:15.193Z"
   },
   {
    "duration": 8,
    "start_time": "2023-05-26T09:10:15.254Z"
   },
   {
    "duration": 32,
    "start_time": "2023-05-26T09:10:15.263Z"
   },
   {
    "duration": 21,
    "start_time": "2023-05-26T09:10:15.296Z"
   },
   {
    "duration": 33,
    "start_time": "2023-05-26T09:10:15.318Z"
   },
   {
    "duration": 172,
    "start_time": "2023-05-26T09:10:15.353Z"
   },
   {
    "duration": 34,
    "start_time": "2023-05-26T09:10:15.527Z"
   },
   {
    "duration": 27,
    "start_time": "2023-05-26T09:10:15.562Z"
   },
   {
    "duration": 3,
    "start_time": "2023-05-26T09:10:15.591Z"
   },
   {
    "duration": 15,
    "start_time": "2023-05-26T09:10:15.596Z"
   },
   {
    "duration": 16,
    "start_time": "2023-05-26T09:10:15.613Z"
   },
   {
    "duration": 61,
    "start_time": "2023-05-26T09:10:15.631Z"
   },
   {
    "duration": 24,
    "start_time": "2023-05-26T09:10:15.694Z"
   },
   {
    "duration": 4,
    "start_time": "2023-05-26T09:10:15.720Z"
   },
   {
    "duration": 26,
    "start_time": "2023-05-26T09:10:15.726Z"
   },
   {
    "duration": 41,
    "start_time": "2023-05-26T09:10:15.755Z"
   },
   {
    "duration": 22,
    "start_time": "2023-05-26T09:10:15.798Z"
   },
   {
    "duration": 66,
    "start_time": "2023-05-26T09:10:15.822Z"
   },
   {
    "duration": 127,
    "start_time": "2023-05-26T09:10:15.889Z"
   },
   {
    "duration": 42,
    "start_time": "2023-05-26T09:10:16.018Z"
   },
   {
    "duration": 47,
    "start_time": "2023-05-26T09:10:16.062Z"
   },
   {
    "duration": 33,
    "start_time": "2023-05-26T09:10:16.110Z"
   },
   {
    "duration": 28,
    "start_time": "2023-05-26T09:33:20.344Z"
   },
   {
    "duration": 4,
    "start_time": "2023-05-26T09:33:20.884Z"
   },
   {
    "duration": 27,
    "start_time": "2023-05-26T09:33:34.590Z"
   },
   {
    "duration": 4,
    "start_time": "2023-05-26T09:33:35.198Z"
   },
   {
    "duration": 115,
    "start_time": "2023-05-26T09:33:35.677Z"
   },
   {
    "duration": 10,
    "start_time": "2023-05-26T09:33:46.892Z"
   },
   {
    "duration": 3,
    "start_time": "2023-05-26T09:36:29.983Z"
   },
   {
    "duration": 216,
    "start_time": "2023-05-26T09:36:29.988Z"
   },
   {
    "duration": 9,
    "start_time": "2023-05-26T09:36:30.206Z"
   },
   {
    "duration": 48,
    "start_time": "2023-05-26T09:36:30.217Z"
   },
   {
    "duration": 77,
    "start_time": "2023-05-26T09:36:30.267Z"
   },
   {
    "duration": 49,
    "start_time": "2023-05-26T09:36:30.346Z"
   },
   {
    "duration": 52,
    "start_time": "2023-05-26T09:36:30.396Z"
   },
   {
    "duration": 49,
    "start_time": "2023-05-26T09:36:30.449Z"
   },
   {
    "duration": 69,
    "start_time": "2023-05-26T09:36:30.501Z"
   },
   {
    "duration": 142,
    "start_time": "2023-05-26T09:36:30.572Z"
   },
   {
    "duration": 9,
    "start_time": "2023-05-26T09:36:30.716Z"
   },
   {
    "duration": 111,
    "start_time": "2023-05-26T09:36:30.726Z"
   },
   {
    "duration": 133,
    "start_time": "2023-05-26T09:36:30.839Z"
   },
   {
    "duration": 108,
    "start_time": "2023-05-26T09:36:30.974Z"
   },
   {
    "duration": 92,
    "start_time": "2023-05-26T09:36:31.084Z"
   },
   {
    "duration": 106,
    "start_time": "2023-05-26T09:36:31.179Z"
   },
   {
    "duration": 4,
    "start_time": "2023-05-26T09:36:31.287Z"
   },
   {
    "duration": 30,
    "start_time": "2023-05-26T09:36:31.292Z"
   },
   {
    "duration": 19,
    "start_time": "2023-05-26T09:36:31.324Z"
   },
   {
    "duration": 32,
    "start_time": "2023-05-26T09:36:31.345Z"
   },
   {
    "duration": 27,
    "start_time": "2023-05-26T09:36:31.379Z"
   },
   {
    "duration": 63,
    "start_time": "2023-05-26T09:36:31.408Z"
   },
   {
    "duration": 257,
    "start_time": "2023-05-26T09:36:31.473Z"
   },
   {
    "duration": 23,
    "start_time": "2023-05-26T09:36:31.734Z"
   },
   {
    "duration": 38,
    "start_time": "2023-05-26T09:36:31.760Z"
   },
   {
    "duration": 9,
    "start_time": "2023-05-26T09:36:31.800Z"
   },
   {
    "duration": 67,
    "start_time": "2023-05-26T09:36:31.810Z"
   },
   {
    "duration": 4,
    "start_time": "2023-05-26T09:36:31.879Z"
   },
   {
    "duration": 15,
    "start_time": "2023-05-26T09:36:31.884Z"
   },
   {
    "duration": 29,
    "start_time": "2023-05-26T09:36:31.901Z"
   },
   {
    "duration": 49,
    "start_time": "2023-05-26T09:36:31.933Z"
   },
   {
    "duration": 78,
    "start_time": "2023-05-26T09:36:31.984Z"
   },
   {
    "duration": 9,
    "start_time": "2023-05-26T09:36:32.063Z"
   },
   {
    "duration": 12,
    "start_time": "2023-05-26T09:36:32.073Z"
   },
   {
    "duration": 6,
    "start_time": "2023-05-26T09:36:32.087Z"
   },
   {
    "duration": 21,
    "start_time": "2023-05-26T09:36:32.094Z"
   },
   {
    "duration": 159,
    "start_time": "2023-05-26T09:36:32.117Z"
   },
   {
    "duration": 33,
    "start_time": "2023-05-26T09:36:32.278Z"
   },
   {
    "duration": 52,
    "start_time": "2023-05-26T09:36:32.313Z"
   },
   {
    "duration": 4,
    "start_time": "2023-05-26T09:36:32.367Z"
   },
   {
    "duration": 56,
    "start_time": "2023-05-26T09:36:32.373Z"
   },
   {
    "duration": 12,
    "start_time": "2023-05-26T09:36:32.431Z"
   },
   {
    "duration": 73,
    "start_time": "2023-05-26T09:36:32.445Z"
   },
   {
    "duration": 35,
    "start_time": "2023-05-26T09:36:32.521Z"
   },
   {
    "duration": 10,
    "start_time": "2023-05-26T09:36:32.558Z"
   },
   {
    "duration": 22,
    "start_time": "2023-05-26T09:36:32.571Z"
   },
   {
    "duration": 53,
    "start_time": "2023-05-26T09:36:32.595Z"
   },
   {
    "duration": 5,
    "start_time": "2023-05-26T09:36:32.650Z"
   },
   {
    "duration": 21,
    "start_time": "2023-05-26T09:36:32.658Z"
   },
   {
    "duration": 11,
    "start_time": "2023-05-26T09:36:32.681Z"
   },
   {
    "duration": 18,
    "start_time": "2023-05-26T09:36:32.694Z"
   },
   {
    "duration": 9,
    "start_time": "2023-05-26T09:36:32.714Z"
   },
   {
    "duration": 18,
    "start_time": "2023-05-26T09:36:32.725Z"
   },
   {
    "duration": 32,
    "start_time": "2023-05-26T09:36:32.746Z"
   },
   {
    "duration": 3,
    "start_time": "2023-05-26T09:36:32.780Z"
   },
   {
    "duration": 17,
    "start_time": "2023-05-26T09:36:32.785Z"
   },
   {
    "duration": 15,
    "start_time": "2023-05-26T09:36:32.804Z"
   },
   {
    "duration": 5,
    "start_time": "2023-05-26T09:36:32.821Z"
   },
   {
    "duration": 21,
    "start_time": "2023-05-26T09:36:32.828Z"
   },
   {
    "duration": 6,
    "start_time": "2023-05-26T09:43:13.691Z"
   },
   {
    "duration": 6,
    "start_time": "2023-05-26T09:43:19.768Z"
   },
   {
    "duration": 4,
    "start_time": "2023-05-26T09:43:21.072Z"
   },
   {
    "duration": 5,
    "start_time": "2023-05-26T09:45:25.271Z"
   },
   {
    "duration": 6,
    "start_time": "2023-05-26T09:46:21.573Z"
   },
   {
    "duration": 4,
    "start_time": "2023-05-26T09:49:51.162Z"
   },
   {
    "duration": 209,
    "start_time": "2023-05-26T09:49:51.167Z"
   },
   {
    "duration": 8,
    "start_time": "2023-05-26T09:49:51.379Z"
   },
   {
    "duration": 42,
    "start_time": "2023-05-26T09:49:51.388Z"
   },
   {
    "duration": 29,
    "start_time": "2023-05-26T09:49:51.432Z"
   },
   {
    "duration": 37,
    "start_time": "2023-05-26T09:49:51.463Z"
   },
   {
    "duration": 41,
    "start_time": "2023-05-26T09:49:51.501Z"
   },
   {
    "duration": 29,
    "start_time": "2023-05-26T09:49:51.544Z"
   },
   {
    "duration": 26,
    "start_time": "2023-05-26T09:49:51.575Z"
   },
   {
    "duration": 78,
    "start_time": "2023-05-26T09:49:51.603Z"
   },
   {
    "duration": 33,
    "start_time": "2023-05-26T09:49:51.684Z"
   },
   {
    "duration": 113,
    "start_time": "2023-05-26T09:49:51.719Z"
   },
   {
    "duration": 156,
    "start_time": "2023-05-26T09:49:51.834Z"
   },
   {
    "duration": 109,
    "start_time": "2023-05-26T09:49:51.993Z"
   },
   {
    "duration": 98,
    "start_time": "2023-05-26T09:49:52.104Z"
   },
   {
    "duration": 119,
    "start_time": "2023-05-26T09:49:52.204Z"
   },
   {
    "duration": 3,
    "start_time": "2023-05-26T09:49:52.326Z"
   },
   {
    "duration": 28,
    "start_time": "2023-05-26T09:49:52.331Z"
   },
   {
    "duration": 19,
    "start_time": "2023-05-26T09:49:52.360Z"
   },
   {
    "duration": 10,
    "start_time": "2023-05-26T09:49:52.381Z"
   },
   {
    "duration": 17,
    "start_time": "2023-05-26T09:49:52.392Z"
   },
   {
    "duration": 56,
    "start_time": "2023-05-26T09:49:52.412Z"
   },
   {
    "duration": 290,
    "start_time": "2023-05-26T09:49:52.470Z"
   },
   {
    "duration": 12,
    "start_time": "2023-05-26T09:49:52.761Z"
   },
   {
    "duration": 35,
    "start_time": "2023-05-26T09:49:52.775Z"
   },
   {
    "duration": 15,
    "start_time": "2023-05-26T09:49:52.812Z"
   },
   {
    "duration": 47,
    "start_time": "2023-05-26T09:49:52.829Z"
   },
   {
    "duration": 3,
    "start_time": "2023-05-26T09:49:52.878Z"
   },
   {
    "duration": 22,
    "start_time": "2023-05-26T09:49:52.885Z"
   },
   {
    "duration": 14,
    "start_time": "2023-05-26T09:49:52.908Z"
   },
   {
    "duration": 40,
    "start_time": "2023-05-26T09:49:52.924Z"
   },
   {
    "duration": 81,
    "start_time": "2023-05-26T09:49:52.967Z"
   },
   {
    "duration": 10,
    "start_time": "2023-05-26T09:49:53.050Z"
   },
   {
    "duration": 27,
    "start_time": "2023-05-26T09:49:53.062Z"
   },
   {
    "duration": 39,
    "start_time": "2023-05-26T09:49:53.092Z"
   },
   {
    "duration": 26,
    "start_time": "2023-05-26T09:49:53.133Z"
   },
   {
    "duration": 141,
    "start_time": "2023-05-26T09:49:53.161Z"
   },
   {
    "duration": 30,
    "start_time": "2023-05-26T09:49:53.304Z"
   },
   {
    "duration": 38,
    "start_time": "2023-05-26T09:49:53.336Z"
   },
   {
    "duration": 4,
    "start_time": "2023-05-26T09:49:53.376Z"
   },
   {
    "duration": 31,
    "start_time": "2023-05-26T09:49:53.381Z"
   },
   {
    "duration": 3,
    "start_time": "2023-05-26T09:49:53.414Z"
   },
   {
    "duration": 62,
    "start_time": "2023-05-26T09:49:53.419Z"
   },
   {
    "duration": 24,
    "start_time": "2023-05-26T09:49:53.483Z"
   },
   {
    "duration": 4,
    "start_time": "2023-05-26T09:49:53.509Z"
   },
   {
    "duration": 32,
    "start_time": "2023-05-26T09:49:53.515Z"
   },
   {
    "duration": 28,
    "start_time": "2023-05-26T09:49:53.549Z"
   },
   {
    "duration": 4,
    "start_time": "2023-05-26T09:49:53.579Z"
   },
   {
    "duration": 28,
    "start_time": "2023-05-26T09:49:53.585Z"
   },
   {
    "duration": 32,
    "start_time": "2023-05-26T09:49:53.615Z"
   },
   {
    "duration": 35,
    "start_time": "2023-05-26T09:49:53.649Z"
   },
   {
    "duration": 47,
    "start_time": "2023-05-26T09:49:53.686Z"
   },
   {
    "duration": 27,
    "start_time": "2023-05-26T09:49:53.735Z"
   },
   {
    "duration": 72,
    "start_time": "2023-05-26T09:49:53.764Z"
   },
   {
    "duration": 7,
    "start_time": "2023-05-26T09:49:53.838Z"
   },
   {
    "duration": 31,
    "start_time": "2023-05-26T09:49:53.846Z"
   },
   {
    "duration": 37,
    "start_time": "2023-05-26T09:49:53.879Z"
   },
   {
    "duration": 37,
    "start_time": "2023-05-26T09:49:53.917Z"
   },
   {
    "duration": 58,
    "start_time": "2023-05-26T09:49:53.956Z"
   },
   {
    "duration": 24,
    "start_time": "2023-05-26T09:49:54.016Z"
   },
   {
    "duration": 0,
    "start_time": "2023-05-26T09:49:54.041Z"
   },
   {
    "duration": 5,
    "start_time": "2023-05-26T09:50:24.679Z"
   },
   {
    "duration": 6,
    "start_time": "2023-05-26T09:50:26.771Z"
   },
   {
    "duration": 5,
    "start_time": "2023-05-26T09:50:56.061Z"
   },
   {
    "duration": 5,
    "start_time": "2023-05-26T09:53:31.551Z"
   },
   {
    "duration": 5,
    "start_time": "2023-05-26T09:55:19.065Z"
   },
   {
    "duration": 49,
    "start_time": "2023-05-26T09:57:28.414Z"
   },
   {
    "duration": 74,
    "start_time": "2023-05-26T10:06:49.009Z"
   },
   {
    "duration": 9,
    "start_time": "2023-05-26T10:15:41.427Z"
   },
   {
    "duration": 12,
    "start_time": "2023-05-26T10:16:52.620Z"
   },
   {
    "duration": 19,
    "start_time": "2023-05-26T10:19:06.276Z"
   },
   {
    "duration": 15,
    "start_time": "2023-05-26T10:19:12.025Z"
   },
   {
    "duration": 4,
    "start_time": "2023-05-26T10:19:19.223Z"
   },
   {
    "duration": 238,
    "start_time": "2023-05-26T10:19:19.230Z"
   },
   {
    "duration": 9,
    "start_time": "2023-05-26T10:19:19.470Z"
   },
   {
    "duration": 39,
    "start_time": "2023-05-26T10:19:19.482Z"
   },
   {
    "duration": 47,
    "start_time": "2023-05-26T10:19:19.523Z"
   },
   {
    "duration": 6,
    "start_time": "2023-05-26T10:19:19.573Z"
   },
   {
    "duration": 42,
    "start_time": "2023-05-26T10:19:19.581Z"
   },
   {
    "duration": 29,
    "start_time": "2023-05-26T10:19:19.645Z"
   },
   {
    "duration": 11,
    "start_time": "2023-05-26T10:19:19.677Z"
   },
   {
    "duration": 94,
    "start_time": "2023-05-26T10:19:19.690Z"
   },
   {
    "duration": 14,
    "start_time": "2023-05-26T10:19:19.786Z"
   },
   {
    "duration": 124,
    "start_time": "2023-05-26T10:19:19.802Z"
   },
   {
    "duration": 175,
    "start_time": "2023-05-26T10:19:19.928Z"
   },
   {
    "duration": 114,
    "start_time": "2023-05-26T10:19:20.105Z"
   },
   {
    "duration": 99,
    "start_time": "2023-05-26T10:19:20.221Z"
   },
   {
    "duration": 124,
    "start_time": "2023-05-26T10:19:20.323Z"
   },
   {
    "duration": 4,
    "start_time": "2023-05-26T10:19:20.449Z"
   },
   {
    "duration": 11,
    "start_time": "2023-05-26T10:19:20.454Z"
   },
   {
    "duration": 12,
    "start_time": "2023-05-26T10:19:20.467Z"
   },
   {
    "duration": 20,
    "start_time": "2023-05-26T10:19:20.482Z"
   },
   {
    "duration": 13,
    "start_time": "2023-05-26T10:19:20.504Z"
   },
   {
    "duration": 69,
    "start_time": "2023-05-26T10:19:20.518Z"
   },
   {
    "duration": 297,
    "start_time": "2023-05-26T10:19:20.589Z"
   },
   {
    "duration": 15,
    "start_time": "2023-05-26T10:19:20.890Z"
   },
   {
    "duration": 58,
    "start_time": "2023-05-26T10:19:20.907Z"
   },
   {
    "duration": 14,
    "start_time": "2023-05-26T10:19:20.967Z"
   },
   {
    "duration": 65,
    "start_time": "2023-05-26T10:19:20.983Z"
   },
   {
    "duration": 8,
    "start_time": "2023-05-26T10:19:21.051Z"
   },
   {
    "duration": 20,
    "start_time": "2023-05-26T10:19:21.062Z"
   },
   {
    "duration": 16,
    "start_time": "2023-05-26T10:19:21.084Z"
   },
   {
    "duration": 71,
    "start_time": "2023-05-26T10:19:21.104Z"
   },
   {
    "duration": 86,
    "start_time": "2023-05-26T10:19:21.178Z"
   },
   {
    "duration": 14,
    "start_time": "2023-05-26T10:19:21.266Z"
   },
   {
    "duration": 19,
    "start_time": "2023-05-26T10:19:21.282Z"
   },
   {
    "duration": 13,
    "start_time": "2023-05-26T10:19:21.303Z"
   },
   {
    "duration": 38,
    "start_time": "2023-05-26T10:19:21.318Z"
   },
   {
    "duration": 170,
    "start_time": "2023-05-26T10:19:21.359Z"
   },
   {
    "duration": 69,
    "start_time": "2023-05-26T10:19:21.531Z"
   },
   {
    "duration": 41,
    "start_time": "2023-05-26T10:19:21.603Z"
   },
   {
    "duration": 6,
    "start_time": "2023-05-26T10:19:21.646Z"
   },
   {
    "duration": 17,
    "start_time": "2023-05-26T10:19:21.654Z"
   },
   {
    "duration": 5,
    "start_time": "2023-05-26T10:19:21.673Z"
   },
   {
    "duration": 73,
    "start_time": "2023-05-26T10:19:21.680Z"
   },
   {
    "duration": 33,
    "start_time": "2023-05-26T10:19:21.755Z"
   },
   {
    "duration": 4,
    "start_time": "2023-05-26T10:19:21.790Z"
   },
   {
    "duration": 30,
    "start_time": "2023-05-26T10:19:21.796Z"
   },
   {
    "duration": 36,
    "start_time": "2023-05-26T10:19:21.828Z"
   },
   {
    "duration": 4,
    "start_time": "2023-05-26T10:19:21.866Z"
   },
   {
    "duration": 21,
    "start_time": "2023-05-26T10:19:21.872Z"
   },
   {
    "duration": 18,
    "start_time": "2023-05-26T10:19:21.895Z"
   },
   {
    "duration": 16,
    "start_time": "2023-05-26T10:19:21.915Z"
   },
   {
    "duration": 12,
    "start_time": "2023-05-26T10:19:21.945Z"
   },
   {
    "duration": 28,
    "start_time": "2023-05-26T10:19:21.960Z"
   },
   {
    "duration": 52,
    "start_time": "2023-05-26T10:19:21.989Z"
   },
   {
    "duration": 5,
    "start_time": "2023-05-26T10:19:22.043Z"
   },
   {
    "duration": 14,
    "start_time": "2023-05-26T10:19:22.050Z"
   },
   {
    "duration": 19,
    "start_time": "2023-05-26T10:19:22.066Z"
   },
   {
    "duration": 9,
    "start_time": "2023-05-26T10:19:22.087Z"
   },
   {
    "duration": 21,
    "start_time": "2023-05-26T10:19:22.097Z"
   },
   {
    "duration": 9,
    "start_time": "2023-05-26T10:19:22.119Z"
   },
   {
    "duration": 19,
    "start_time": "2023-05-26T10:19:22.129Z"
   },
   {
    "duration": 6,
    "start_time": "2023-05-26T10:19:22.150Z"
   },
   {
    "duration": 28,
    "start_time": "2023-05-26T10:19:22.158Z"
   },
   {
    "duration": 10,
    "start_time": "2023-05-26T10:19:22.189Z"
   },
   {
    "duration": 33,
    "start_time": "2023-05-26T10:19:22.201Z"
   },
   {
    "duration": 9,
    "start_time": "2023-05-26T10:21:16.288Z"
   },
   {
    "duration": 19,
    "start_time": "2023-05-26T10:22:08.588Z"
   },
   {
    "duration": 4,
    "start_time": "2023-05-26T10:23:21.512Z"
   },
   {
    "duration": 11,
    "start_time": "2023-05-26T10:23:31.727Z"
   },
   {
    "duration": 4,
    "start_time": "2023-05-26T10:23:46.183Z"
   },
   {
    "duration": 249,
    "start_time": "2023-05-26T10:23:46.189Z"
   },
   {
    "duration": 13,
    "start_time": "2023-05-26T10:23:46.440Z"
   },
   {
    "duration": 35,
    "start_time": "2023-05-26T10:23:46.456Z"
   },
   {
    "duration": 25,
    "start_time": "2023-05-26T10:23:46.493Z"
   },
   {
    "duration": 14,
    "start_time": "2023-05-26T10:23:46.520Z"
   },
   {
    "duration": 38,
    "start_time": "2023-05-26T10:23:46.536Z"
   },
   {
    "duration": 18,
    "start_time": "2023-05-26T10:23:46.576Z"
   },
   {
    "duration": 13,
    "start_time": "2023-05-26T10:23:46.597Z"
   },
   {
    "duration": 132,
    "start_time": "2023-05-26T10:23:46.614Z"
   },
   {
    "duration": 56,
    "start_time": "2023-05-26T10:23:46.749Z"
   },
   {
    "duration": 150,
    "start_time": "2023-05-26T10:23:46.806Z"
   },
   {
    "duration": 201,
    "start_time": "2023-05-26T10:23:46.958Z"
   },
   {
    "duration": 153,
    "start_time": "2023-05-26T10:23:47.162Z"
   },
   {
    "duration": 122,
    "start_time": "2023-05-26T10:23:47.317Z"
   },
   {
    "duration": 145,
    "start_time": "2023-05-26T10:23:47.445Z"
   },
   {
    "duration": 4,
    "start_time": "2023-05-26T10:23:47.593Z"
   },
   {
    "duration": 22,
    "start_time": "2023-05-26T10:23:47.599Z"
   },
   {
    "duration": 9,
    "start_time": "2023-05-26T10:23:47.623Z"
   },
   {
    "duration": 14,
    "start_time": "2023-05-26T10:23:47.634Z"
   },
   {
    "duration": 22,
    "start_time": "2023-05-26T10:23:47.651Z"
   },
   {
    "duration": 79,
    "start_time": "2023-05-26T10:23:47.675Z"
   },
   {
    "duration": 360,
    "start_time": "2023-05-26T10:23:47.756Z"
   },
   {
    "duration": 13,
    "start_time": "2023-05-26T10:23:48.121Z"
   },
   {
    "duration": 56,
    "start_time": "2023-05-26T10:23:48.147Z"
   },
   {
    "duration": 127,
    "start_time": "2023-05-26T10:23:48.206Z"
   },
   {
    "duration": 49,
    "start_time": "2023-05-26T10:23:48.335Z"
   },
   {
    "duration": 4,
    "start_time": "2023-05-26T10:23:48.387Z"
   },
   {
    "duration": 46,
    "start_time": "2023-05-26T10:23:48.393Z"
   },
   {
    "duration": 30,
    "start_time": "2023-05-26T10:23:48.441Z"
   },
   {
    "duration": 53,
    "start_time": "2023-05-26T10:23:48.473Z"
   },
   {
    "duration": 78,
    "start_time": "2023-05-26T10:23:48.529Z"
   },
   {
    "duration": 10,
    "start_time": "2023-05-26T10:23:48.611Z"
   },
   {
    "duration": 28,
    "start_time": "2023-05-26T10:23:48.623Z"
   },
   {
    "duration": 12,
    "start_time": "2023-05-26T10:23:48.652Z"
   },
   {
    "duration": 21,
    "start_time": "2023-05-26T10:23:48.671Z"
   },
   {
    "duration": 173,
    "start_time": "2023-05-26T10:23:48.694Z"
   },
   {
    "duration": 40,
    "start_time": "2023-05-26T10:23:48.869Z"
   },
   {
    "duration": 55,
    "start_time": "2023-05-26T10:23:48.921Z"
   },
   {
    "duration": 4,
    "start_time": "2023-05-26T10:23:48.979Z"
   },
   {
    "duration": 37,
    "start_time": "2023-05-26T10:23:48.985Z"
   },
   {
    "duration": 18,
    "start_time": "2023-05-26T10:23:49.024Z"
   },
   {
    "duration": 111,
    "start_time": "2023-05-26T10:23:49.044Z"
   },
   {
    "duration": 36,
    "start_time": "2023-05-26T10:23:49.157Z"
   },
   {
    "duration": 5,
    "start_time": "2023-05-26T10:23:49.195Z"
   },
   {
    "duration": 32,
    "start_time": "2023-05-26T10:23:49.203Z"
   },
   {
    "duration": 40,
    "start_time": "2023-05-26T10:23:49.237Z"
   },
   {
    "duration": 5,
    "start_time": "2023-05-26T10:23:49.279Z"
   },
   {
    "duration": 28,
    "start_time": "2023-05-26T10:23:49.286Z"
   },
   {
    "duration": 24,
    "start_time": "2023-05-26T10:23:49.316Z"
   },
   {
    "duration": 17,
    "start_time": "2023-05-26T10:23:49.342Z"
   },
   {
    "duration": 15,
    "start_time": "2023-05-26T10:23:49.361Z"
   },
   {
    "duration": 19,
    "start_time": "2023-05-26T10:23:49.377Z"
   },
   {
    "duration": 70,
    "start_time": "2023-05-26T10:23:49.399Z"
   },
   {
    "duration": 4,
    "start_time": "2023-05-26T10:23:49.472Z"
   },
   {
    "duration": 31,
    "start_time": "2023-05-26T10:23:49.479Z"
   },
   {
    "duration": 18,
    "start_time": "2023-05-26T10:23:49.514Z"
   },
   {
    "duration": 7,
    "start_time": "2023-05-26T10:23:49.535Z"
   },
   {
    "duration": 23,
    "start_time": "2023-05-26T10:23:49.546Z"
   },
   {
    "duration": 17,
    "start_time": "2023-05-26T10:23:49.570Z"
   },
   {
    "duration": 9,
    "start_time": "2023-05-26T10:23:49.589Z"
   },
   {
    "duration": 25,
    "start_time": "2023-05-26T10:23:49.600Z"
   },
   {
    "duration": 14,
    "start_time": "2023-05-26T10:23:49.627Z"
   },
   {
    "duration": 10,
    "start_time": "2023-05-26T10:23:49.643Z"
   },
   {
    "duration": 21,
    "start_time": "2023-05-26T10:23:49.655Z"
   },
   {
    "duration": 6,
    "start_time": "2023-05-26T10:29:23.243Z"
   },
   {
    "duration": 6,
    "start_time": "2023-05-26T10:30:12.319Z"
   },
   {
    "duration": 5,
    "start_time": "2023-05-26T10:31:09.012Z"
   },
   {
    "duration": 3,
    "start_time": "2023-05-26T10:36:56.925Z"
   },
   {
    "duration": 174,
    "start_time": "2023-05-26T10:36:56.930Z"
   },
   {
    "duration": 8,
    "start_time": "2023-05-26T10:36:57.107Z"
   },
   {
    "duration": 55,
    "start_time": "2023-05-26T10:36:57.117Z"
   },
   {
    "duration": 21,
    "start_time": "2023-05-26T10:36:57.174Z"
   },
   {
    "duration": 6,
    "start_time": "2023-05-26T10:36:57.196Z"
   },
   {
    "duration": 55,
    "start_time": "2023-05-26T10:36:57.203Z"
   },
   {
    "duration": 22,
    "start_time": "2023-05-26T10:36:57.260Z"
   },
   {
    "duration": 10,
    "start_time": "2023-05-26T10:36:57.284Z"
   },
   {
    "duration": 96,
    "start_time": "2023-05-26T10:36:57.296Z"
   },
   {
    "duration": 20,
    "start_time": "2023-05-26T10:36:57.396Z"
   },
   {
    "duration": 113,
    "start_time": "2023-05-26T10:36:57.418Z"
   },
   {
    "duration": 141,
    "start_time": "2023-05-26T10:36:57.533Z"
   },
   {
    "duration": 115,
    "start_time": "2023-05-26T10:36:57.676Z"
   },
   {
    "duration": 105,
    "start_time": "2023-05-26T10:36:57.793Z"
   },
   {
    "duration": 146,
    "start_time": "2023-05-26T10:36:57.900Z"
   },
   {
    "duration": 3,
    "start_time": "2023-05-26T10:36:58.048Z"
   },
   {
    "duration": 22,
    "start_time": "2023-05-26T10:36:58.053Z"
   },
   {
    "duration": 6,
    "start_time": "2023-05-26T10:36:58.077Z"
   },
   {
    "duration": 6,
    "start_time": "2023-05-26T10:36:58.085Z"
   },
   {
    "duration": 8,
    "start_time": "2023-05-26T10:36:58.092Z"
   },
   {
    "duration": 38,
    "start_time": "2023-05-26T10:36:58.102Z"
   },
   {
    "duration": 247,
    "start_time": "2023-05-26T10:36:58.146Z"
   },
   {
    "duration": 13,
    "start_time": "2023-05-26T10:36:58.394Z"
   },
   {
    "duration": 53,
    "start_time": "2023-05-26T10:36:58.409Z"
   },
   {
    "duration": 9,
    "start_time": "2023-05-26T10:36:58.464Z"
   },
   {
    "duration": 37,
    "start_time": "2023-05-26T10:36:58.475Z"
   },
   {
    "duration": 4,
    "start_time": "2023-05-26T10:36:58.514Z"
   },
   {
    "duration": 31,
    "start_time": "2023-05-26T10:36:58.521Z"
   },
   {
    "duration": 17,
    "start_time": "2023-05-26T10:36:58.554Z"
   },
   {
    "duration": 45,
    "start_time": "2023-05-26T10:36:58.573Z"
   },
   {
    "duration": 74,
    "start_time": "2023-05-26T10:36:58.620Z"
   },
   {
    "duration": 8,
    "start_time": "2023-05-26T10:36:58.696Z"
   },
   {
    "duration": 23,
    "start_time": "2023-05-26T10:36:58.705Z"
   },
   {
    "duration": 5,
    "start_time": "2023-05-26T10:36:58.730Z"
   },
   {
    "duration": 8,
    "start_time": "2023-05-26T10:36:58.747Z"
   },
   {
    "duration": 150,
    "start_time": "2023-05-26T10:36:58.757Z"
   },
   {
    "duration": 45,
    "start_time": "2023-05-26T10:36:58.910Z"
   },
   {
    "duration": 36,
    "start_time": "2023-05-26T10:36:58.957Z"
   },
   {
    "duration": 7,
    "start_time": "2023-05-26T10:36:58.995Z"
   },
   {
    "duration": 19,
    "start_time": "2023-05-26T10:36:59.004Z"
   },
   {
    "duration": 5,
    "start_time": "2023-05-26T10:36:59.024Z"
   },
   {
    "duration": 58,
    "start_time": "2023-05-26T10:36:59.030Z"
   },
   {
    "duration": 28,
    "start_time": "2023-05-26T10:36:59.090Z"
   },
   {
    "duration": 4,
    "start_time": "2023-05-26T10:36:59.120Z"
   },
   {
    "duration": 10,
    "start_time": "2023-05-26T10:36:59.147Z"
   },
   {
    "duration": 42,
    "start_time": "2023-05-26T10:36:59.159Z"
   },
   {
    "duration": 4,
    "start_time": "2023-05-26T10:36:59.203Z"
   },
   {
    "duration": 18,
    "start_time": "2023-05-26T10:36:59.209Z"
   },
   {
    "duration": 26,
    "start_time": "2023-05-26T10:36:59.229Z"
   },
   {
    "duration": 17,
    "start_time": "2023-05-26T10:36:59.258Z"
   },
   {
    "duration": 23,
    "start_time": "2023-05-26T10:36:59.277Z"
   },
   {
    "duration": 22,
    "start_time": "2023-05-26T10:36:59.301Z"
   },
   {
    "duration": 68,
    "start_time": "2023-05-26T10:36:59.324Z"
   },
   {
    "duration": 5,
    "start_time": "2023-05-26T10:36:59.394Z"
   },
   {
    "duration": 23,
    "start_time": "2023-05-26T10:36:59.401Z"
   },
   {
    "duration": 16,
    "start_time": "2023-05-26T10:36:59.426Z"
   },
   {
    "duration": 5,
    "start_time": "2023-05-26T10:36:59.444Z"
   },
   {
    "duration": 28,
    "start_time": "2023-05-26T10:36:59.450Z"
   },
   {
    "duration": 35,
    "start_time": "2023-05-26T10:36:59.479Z"
   },
   {
    "duration": 15,
    "start_time": "2023-05-26T10:36:59.516Z"
   },
   {
    "duration": 13,
    "start_time": "2023-05-26T10:36:59.532Z"
   },
   {
    "duration": 18,
    "start_time": "2023-05-26T10:36:59.547Z"
   },
   {
    "duration": 15,
    "start_time": "2023-05-26T10:36:59.567Z"
   },
   {
    "duration": 23,
    "start_time": "2023-05-26T10:36:59.584Z"
   },
   {
    "duration": 8,
    "start_time": "2023-05-26T10:36:59.609Z"
   },
   {
    "duration": 9,
    "start_time": "2023-05-26T10:36:59.618Z"
   },
   {
    "duration": 15,
    "start_time": "2023-05-26T10:36:59.628Z"
   },
   {
    "duration": 9,
    "start_time": "2023-05-26T10:45:00.101Z"
   },
   {
    "duration": 4,
    "start_time": "2023-05-26T10:47:40.593Z"
   },
   {
    "duration": 7,
    "start_time": "2023-05-26T10:51:51.593Z"
   },
   {
    "duration": 6,
    "start_time": "2023-05-26T10:51:54.225Z"
   },
   {
    "duration": 3,
    "start_time": "2023-05-26T11:45:00.720Z"
   },
   {
    "duration": 235,
    "start_time": "2023-05-26T11:45:00.728Z"
   },
   {
    "duration": 8,
    "start_time": "2023-05-26T11:45:00.965Z"
   },
   {
    "duration": 58,
    "start_time": "2023-05-26T11:45:00.974Z"
   },
   {
    "duration": 56,
    "start_time": "2023-05-26T11:45:01.034Z"
   },
   {
    "duration": 74,
    "start_time": "2023-05-26T11:45:01.092Z"
   },
   {
    "duration": 59,
    "start_time": "2023-05-26T11:45:01.168Z"
   },
   {
    "duration": 50,
    "start_time": "2023-05-26T11:45:01.229Z"
   },
   {
    "duration": 56,
    "start_time": "2023-05-26T11:45:01.282Z"
   },
   {
    "duration": 135,
    "start_time": "2023-05-26T11:45:01.340Z"
   },
   {
    "duration": 92,
    "start_time": "2023-05-26T11:45:01.479Z"
   },
   {
    "duration": 300,
    "start_time": "2023-05-26T11:45:01.573Z"
   },
   {
    "duration": 169,
    "start_time": "2023-05-26T11:45:01.875Z"
   },
   {
    "duration": 147,
    "start_time": "2023-05-26T11:45:02.046Z"
   },
   {
    "duration": 122,
    "start_time": "2023-05-26T11:45:02.195Z"
   },
   {
    "duration": 123,
    "start_time": "2023-05-26T11:45:02.319Z"
   },
   {
    "duration": 4,
    "start_time": "2023-05-26T11:45:02.448Z"
   },
   {
    "duration": 246,
    "start_time": "2023-05-26T11:45:02.455Z"
   },
   {
    "duration": 22,
    "start_time": "2023-05-26T11:45:02.704Z"
   },
   {
    "duration": 31,
    "start_time": "2023-05-26T11:45:02.729Z"
   },
   {
    "duration": 27,
    "start_time": "2023-05-26T11:45:02.763Z"
   },
   {
    "duration": 48,
    "start_time": "2023-05-26T11:45:02.793Z"
   },
   {
    "duration": 326,
    "start_time": "2023-05-26T11:45:02.843Z"
   },
   {
    "duration": 15,
    "start_time": "2023-05-26T11:45:03.172Z"
   },
   {
    "duration": 48,
    "start_time": "2023-05-26T11:45:03.190Z"
   },
   {
    "duration": 27,
    "start_time": "2023-05-26T11:45:03.247Z"
   },
   {
    "duration": 39,
    "start_time": "2023-05-26T11:45:03.276Z"
   },
   {
    "duration": 3,
    "start_time": "2023-05-26T11:45:03.317Z"
   },
   {
    "duration": 23,
    "start_time": "2023-05-26T11:45:03.324Z"
   },
   {
    "duration": 34,
    "start_time": "2023-05-26T11:45:03.349Z"
   },
   {
    "duration": 49,
    "start_time": "2023-05-26T11:45:03.385Z"
   },
   {
    "duration": 73,
    "start_time": "2023-05-26T11:45:03.435Z"
   },
   {
    "duration": 9,
    "start_time": "2023-05-26T11:45:03.510Z"
   },
   {
    "duration": 32,
    "start_time": "2023-05-26T11:45:03.520Z"
   },
   {
    "duration": 21,
    "start_time": "2023-05-26T11:45:03.554Z"
   },
   {
    "duration": 21,
    "start_time": "2023-05-26T11:45:03.577Z"
   },
   {
    "duration": 176,
    "start_time": "2023-05-26T11:45:03.601Z"
   },
   {
    "duration": 13,
    "start_time": "2023-05-26T11:45:03.780Z"
   },
   {
    "duration": 57,
    "start_time": "2023-05-26T11:45:03.794Z"
   },
   {
    "duration": 27,
    "start_time": "2023-05-26T11:45:03.852Z"
   },
   {
    "duration": 4,
    "start_time": "2023-05-26T11:45:03.881Z"
   },
   {
    "duration": 22,
    "start_time": "2023-05-26T11:45:03.886Z"
   },
   {
    "duration": 25,
    "start_time": "2023-05-26T11:45:03.910Z"
   },
   {
    "duration": 65,
    "start_time": "2023-05-26T11:45:03.937Z"
   },
   {
    "duration": 26,
    "start_time": "2023-05-26T11:45:04.004Z"
   },
   {
    "duration": 4,
    "start_time": "2023-05-26T11:45:04.031Z"
   },
   {
    "duration": 27,
    "start_time": "2023-05-26T11:45:04.037Z"
   },
   {
    "duration": 44,
    "start_time": "2023-05-26T11:45:04.066Z"
   },
   {
    "duration": 6,
    "start_time": "2023-05-26T11:45:04.111Z"
   },
   {
    "duration": 25,
    "start_time": "2023-05-26T11:45:04.119Z"
   },
   {
    "duration": 39,
    "start_time": "2023-05-26T11:45:04.146Z"
   },
   {
    "duration": 59,
    "start_time": "2023-05-26T11:45:04.187Z"
   },
   {
    "duration": 54,
    "start_time": "2023-05-26T11:45:04.248Z"
   },
   {
    "duration": 0,
    "start_time": "2023-05-26T11:45:04.303Z"
   },
   {
    "duration": 0,
    "start_time": "2023-05-26T11:45:04.305Z"
   },
   {
    "duration": 0,
    "start_time": "2023-05-26T11:45:04.306Z"
   },
   {
    "duration": 0,
    "start_time": "2023-05-26T11:45:04.308Z"
   },
   {
    "duration": 0,
    "start_time": "2023-05-26T11:45:04.309Z"
   },
   {
    "duration": 0,
    "start_time": "2023-05-26T11:45:04.310Z"
   },
   {
    "duration": 0,
    "start_time": "2023-05-26T11:45:04.311Z"
   },
   {
    "duration": 0,
    "start_time": "2023-05-26T11:45:04.312Z"
   },
   {
    "duration": 0,
    "start_time": "2023-05-26T11:45:04.313Z"
   },
   {
    "duration": 0,
    "start_time": "2023-05-26T11:45:04.315Z"
   },
   {
    "duration": 0,
    "start_time": "2023-05-26T11:45:04.316Z"
   },
   {
    "duration": 0,
    "start_time": "2023-05-26T11:45:04.318Z"
   },
   {
    "duration": 0,
    "start_time": "2023-05-26T11:45:04.320Z"
   },
   {
    "duration": 0,
    "start_time": "2023-05-26T11:45:04.321Z"
   },
   {
    "duration": 0,
    "start_time": "2023-05-26T11:45:04.322Z"
   },
   {
    "duration": 0,
    "start_time": "2023-05-26T11:45:04.323Z"
   },
   {
    "duration": 0,
    "start_time": "2023-05-26T11:45:04.325Z"
   },
   {
    "duration": 6,
    "start_time": "2023-05-26T11:46:41.416Z"
   },
   {
    "duration": 58,
    "start_time": "2023-05-26T11:46:42.061Z"
   },
   {
    "duration": 9,
    "start_time": "2023-05-26T11:48:06.285Z"
   },
   {
    "duration": 45,
    "start_time": "2023-05-26T11:48:06.905Z"
   },
   {
    "duration": 7,
    "start_time": "2023-05-26T11:48:52.471Z"
   },
   {
    "duration": 7,
    "start_time": "2023-05-26T11:48:52.898Z"
   },
   {
    "duration": 6,
    "start_time": "2023-05-26T11:50:03.664Z"
   },
   {
    "duration": 7,
    "start_time": "2023-05-26T11:50:04.349Z"
   },
   {
    "duration": 6,
    "start_time": "2023-05-26T11:50:52.039Z"
   },
   {
    "duration": 8,
    "start_time": "2023-05-26T11:50:52.812Z"
   },
   {
    "duration": 6,
    "start_time": "2023-05-26T11:51:02.340Z"
   },
   {
    "duration": 7,
    "start_time": "2023-05-26T11:51:02.943Z"
   },
   {
    "duration": 7,
    "start_time": "2023-05-26T11:51:03.760Z"
   },
   {
    "duration": 4,
    "start_time": "2023-05-26T11:51:14.945Z"
   },
   {
    "duration": 217,
    "start_time": "2023-05-26T11:51:14.951Z"
   },
   {
    "duration": 8,
    "start_time": "2023-05-26T11:51:15.169Z"
   },
   {
    "duration": 47,
    "start_time": "2023-05-26T11:51:15.180Z"
   },
   {
    "duration": 40,
    "start_time": "2023-05-26T11:51:15.229Z"
   },
   {
    "duration": 5,
    "start_time": "2023-05-26T11:51:15.272Z"
   },
   {
    "duration": 37,
    "start_time": "2023-05-26T11:51:15.279Z"
   },
   {
    "duration": 41,
    "start_time": "2023-05-26T11:51:15.318Z"
   },
   {
    "duration": 8,
    "start_time": "2023-05-26T11:51:15.362Z"
   },
   {
    "duration": 111,
    "start_time": "2023-05-26T11:51:15.371Z"
   },
   {
    "duration": 10,
    "start_time": "2023-05-26T11:51:15.485Z"
   },
   {
    "duration": 102,
    "start_time": "2023-05-26T11:51:15.497Z"
   },
   {
    "duration": 119,
    "start_time": "2023-05-26T11:51:15.601Z"
   },
   {
    "duration": 102,
    "start_time": "2023-05-26T11:51:15.722Z"
   },
   {
    "duration": 84,
    "start_time": "2023-05-26T11:51:15.826Z"
   },
   {
    "duration": 96,
    "start_time": "2023-05-26T11:51:15.912Z"
   },
   {
    "duration": 4,
    "start_time": "2023-05-26T11:51:16.011Z"
   },
   {
    "duration": 20,
    "start_time": "2023-05-26T11:51:16.016Z"
   },
   {
    "duration": 15,
    "start_time": "2023-05-26T11:51:16.038Z"
   },
   {
    "duration": 8,
    "start_time": "2023-05-26T11:51:16.055Z"
   },
   {
    "duration": 13,
    "start_time": "2023-05-26T11:51:16.065Z"
   },
   {
    "duration": 46,
    "start_time": "2023-05-26T11:51:16.080Z"
   },
   {
    "duration": 274,
    "start_time": "2023-05-26T11:51:16.128Z"
   },
   {
    "duration": 12,
    "start_time": "2023-05-26T11:51:16.406Z"
   },
   {
    "duration": 49,
    "start_time": "2023-05-26T11:51:16.420Z"
   },
   {
    "duration": 11,
    "start_time": "2023-05-26T11:51:16.471Z"
   },
   {
    "duration": 44,
    "start_time": "2023-05-26T11:51:16.484Z"
   },
   {
    "duration": 4,
    "start_time": "2023-05-26T11:51:16.530Z"
   },
   {
    "duration": 19,
    "start_time": "2023-05-26T11:51:16.547Z"
   },
   {
    "duration": 20,
    "start_time": "2023-05-26T11:51:16.568Z"
   },
   {
    "duration": 36,
    "start_time": "2023-05-26T11:51:16.590Z"
   },
   {
    "duration": 77,
    "start_time": "2023-05-26T11:51:16.628Z"
   },
   {
    "duration": 9,
    "start_time": "2023-05-26T11:51:16.707Z"
   },
   {
    "duration": 28,
    "start_time": "2023-05-26T11:51:16.718Z"
   },
   {
    "duration": 37,
    "start_time": "2023-05-26T11:51:16.748Z"
   },
   {
    "duration": 28,
    "start_time": "2023-05-26T11:51:16.788Z"
   },
   {
    "duration": 152,
    "start_time": "2023-05-26T11:51:16.818Z"
   },
   {
    "duration": 11,
    "start_time": "2023-05-26T11:51:16.972Z"
   },
   {
    "duration": 67,
    "start_time": "2023-05-26T11:51:16.985Z"
   },
   {
    "duration": 46,
    "start_time": "2023-05-26T11:51:17.054Z"
   },
   {
    "duration": 4,
    "start_time": "2023-05-26T11:51:17.101Z"
   },
   {
    "duration": 29,
    "start_time": "2023-05-26T11:51:17.107Z"
   },
   {
    "duration": 29,
    "start_time": "2023-05-26T11:51:17.138Z"
   },
   {
    "duration": 74,
    "start_time": "2023-05-26T11:51:17.169Z"
   },
   {
    "duration": 37,
    "start_time": "2023-05-26T11:51:17.244Z"
   },
   {
    "duration": 5,
    "start_time": "2023-05-26T11:51:17.283Z"
   },
   {
    "duration": 28,
    "start_time": "2023-05-26T11:51:17.293Z"
   },
   {
    "duration": 46,
    "start_time": "2023-05-26T11:51:17.323Z"
   },
   {
    "duration": 7,
    "start_time": "2023-05-26T11:51:17.371Z"
   },
   {
    "duration": 46,
    "start_time": "2023-05-26T11:51:17.380Z"
   },
   {
    "duration": 35,
    "start_time": "2023-05-26T11:51:17.428Z"
   },
   {
    "duration": 30,
    "start_time": "2023-05-26T11:51:17.465Z"
   },
   {
    "duration": 57,
    "start_time": "2023-05-26T11:51:17.497Z"
   },
   {
    "duration": 38,
    "start_time": "2023-05-26T11:51:17.556Z"
   },
   {
    "duration": 46,
    "start_time": "2023-05-26T11:51:17.596Z"
   },
   {
    "duration": 0,
    "start_time": "2023-05-26T11:51:17.644Z"
   },
   {
    "duration": 0,
    "start_time": "2023-05-26T11:51:17.645Z"
   },
   {
    "duration": 0,
    "start_time": "2023-05-26T11:51:17.648Z"
   },
   {
    "duration": 0,
    "start_time": "2023-05-26T11:51:17.649Z"
   },
   {
    "duration": 0,
    "start_time": "2023-05-26T11:51:17.651Z"
   },
   {
    "duration": 0,
    "start_time": "2023-05-26T11:51:17.652Z"
   },
   {
    "duration": 0,
    "start_time": "2023-05-26T11:51:17.653Z"
   },
   {
    "duration": 0,
    "start_time": "2023-05-26T11:51:17.655Z"
   },
   {
    "duration": 0,
    "start_time": "2023-05-26T11:51:17.657Z"
   },
   {
    "duration": 0,
    "start_time": "2023-05-26T11:51:17.659Z"
   },
   {
    "duration": 0,
    "start_time": "2023-05-26T11:51:17.660Z"
   },
   {
    "duration": 0,
    "start_time": "2023-05-26T11:51:17.661Z"
   },
   {
    "duration": 1,
    "start_time": "2023-05-26T11:51:17.662Z"
   },
   {
    "duration": 0,
    "start_time": "2023-05-26T11:51:17.664Z"
   },
   {
    "duration": 0,
    "start_time": "2023-05-26T11:51:17.665Z"
   },
   {
    "duration": 0,
    "start_time": "2023-05-26T11:51:17.667Z"
   },
   {
    "duration": 10,
    "start_time": "2023-05-26T11:51:44.058Z"
   },
   {
    "duration": 5,
    "start_time": "2023-05-26T11:51:44.560Z"
   },
   {
    "duration": 7,
    "start_time": "2023-05-26T11:51:47.949Z"
   },
   {
    "duration": 4,
    "start_time": "2023-05-26T11:55:03.876Z"
   },
   {
    "duration": 228,
    "start_time": "2023-05-26T11:55:03.882Z"
   },
   {
    "duration": 8,
    "start_time": "2023-05-26T11:55:04.112Z"
   },
   {
    "duration": 21,
    "start_time": "2023-05-26T11:55:04.145Z"
   },
   {
    "duration": 45,
    "start_time": "2023-05-26T11:55:04.169Z"
   },
   {
    "duration": 14,
    "start_time": "2023-05-26T11:55:04.216Z"
   },
   {
    "duration": 33,
    "start_time": "2023-05-26T11:55:04.232Z"
   },
   {
    "duration": 25,
    "start_time": "2023-05-26T11:55:04.267Z"
   },
   {
    "duration": 17,
    "start_time": "2023-05-26T11:55:04.294Z"
   },
   {
    "duration": 90,
    "start_time": "2023-05-26T11:55:04.313Z"
   },
   {
    "duration": 10,
    "start_time": "2023-05-26T11:55:04.406Z"
   },
   {
    "duration": 136,
    "start_time": "2023-05-26T11:55:04.418Z"
   },
   {
    "duration": 140,
    "start_time": "2023-05-26T11:55:04.556Z"
   },
   {
    "duration": 122,
    "start_time": "2023-05-26T11:55:04.699Z"
   },
   {
    "duration": 92,
    "start_time": "2023-05-26T11:55:04.823Z"
   },
   {
    "duration": 119,
    "start_time": "2023-05-26T11:55:04.917Z"
   },
   {
    "duration": 8,
    "start_time": "2023-05-26T11:55:05.038Z"
   },
   {
    "duration": 14,
    "start_time": "2023-05-26T11:55:05.048Z"
   },
   {
    "duration": 21,
    "start_time": "2023-05-26T11:55:05.064Z"
   },
   {
    "duration": 15,
    "start_time": "2023-05-26T11:55:05.088Z"
   },
   {
    "duration": 39,
    "start_time": "2023-05-26T11:55:05.105Z"
   },
   {
    "duration": 61,
    "start_time": "2023-05-26T11:55:05.147Z"
   },
   {
    "duration": 357,
    "start_time": "2023-05-26T11:55:05.210Z"
   },
   {
    "duration": 15,
    "start_time": "2023-05-26T11:55:05.570Z"
   },
   {
    "duration": 41,
    "start_time": "2023-05-26T11:55:05.587Z"
   },
   {
    "duration": 22,
    "start_time": "2023-05-26T11:55:05.630Z"
   },
   {
    "duration": 40,
    "start_time": "2023-05-26T11:55:05.654Z"
   },
   {
    "duration": 4,
    "start_time": "2023-05-26T11:55:05.696Z"
   },
   {
    "duration": 13,
    "start_time": "2023-05-26T11:55:05.704Z"
   },
   {
    "duration": 31,
    "start_time": "2023-05-26T11:55:05.719Z"
   },
   {
    "duration": 41,
    "start_time": "2023-05-26T11:55:05.751Z"
   },
   {
    "duration": 85,
    "start_time": "2023-05-26T11:55:05.795Z"
   },
   {
    "duration": 11,
    "start_time": "2023-05-26T11:55:05.882Z"
   },
   {
    "duration": 46,
    "start_time": "2023-05-26T11:55:05.896Z"
   },
   {
    "duration": 15,
    "start_time": "2023-05-26T11:55:05.944Z"
   },
   {
    "duration": 25,
    "start_time": "2023-05-26T11:55:05.961Z"
   },
   {
    "duration": 175,
    "start_time": "2023-05-26T11:55:05.988Z"
   },
   {
    "duration": 13,
    "start_time": "2023-05-26T11:55:06.166Z"
   },
   {
    "duration": 87,
    "start_time": "2023-05-26T11:55:06.181Z"
   },
   {
    "duration": 40,
    "start_time": "2023-05-26T11:55:06.270Z"
   },
   {
    "duration": 4,
    "start_time": "2023-05-26T11:55:06.311Z"
   },
   {
    "duration": 31,
    "start_time": "2023-05-26T11:55:06.318Z"
   },
   {
    "duration": 4,
    "start_time": "2023-05-26T11:55:06.351Z"
   },
   {
    "duration": 60,
    "start_time": "2023-05-26T11:55:06.357Z"
   },
   {
    "duration": 48,
    "start_time": "2023-05-26T11:55:06.419Z"
   },
   {
    "duration": 4,
    "start_time": "2023-05-26T11:55:06.470Z"
   },
   {
    "duration": 21,
    "start_time": "2023-05-26T11:55:06.475Z"
   },
   {
    "duration": 30,
    "start_time": "2023-05-26T11:55:06.499Z"
   },
   {
    "duration": 15,
    "start_time": "2023-05-26T11:55:06.531Z"
   },
   {
    "duration": 10,
    "start_time": "2023-05-26T11:55:06.548Z"
   },
   {
    "duration": 21,
    "start_time": "2023-05-26T11:55:06.560Z"
   },
   {
    "duration": 16,
    "start_time": "2023-05-26T11:55:06.583Z"
   },
   {
    "duration": 24,
    "start_time": "2023-05-26T11:55:06.601Z"
   },
   {
    "duration": 17,
    "start_time": "2023-05-26T11:55:06.627Z"
   },
   {
    "duration": 9,
    "start_time": "2023-05-26T11:55:06.646Z"
   },
   {
    "duration": 15,
    "start_time": "2023-05-26T11:55:06.657Z"
   },
   {
    "duration": 31,
    "start_time": "2023-05-26T11:55:06.674Z"
   },
   {
    "duration": 4,
    "start_time": "2023-05-26T11:55:06.707Z"
   },
   {
    "duration": 21,
    "start_time": "2023-05-26T11:55:06.712Z"
   },
   {
    "duration": 14,
    "start_time": "2023-05-26T11:55:06.745Z"
   },
   {
    "duration": 19,
    "start_time": "2023-05-26T11:55:06.761Z"
   },
   {
    "duration": 15,
    "start_time": "2023-05-26T11:55:06.782Z"
   },
   {
    "duration": 14,
    "start_time": "2023-05-26T11:55:06.799Z"
   },
   {
    "duration": 12,
    "start_time": "2023-05-26T11:55:06.815Z"
   },
   {
    "duration": 19,
    "start_time": "2023-05-26T11:55:06.829Z"
   },
   {
    "duration": 6,
    "start_time": "2023-05-26T11:55:06.850Z"
   },
   {
    "duration": 21,
    "start_time": "2023-05-26T11:55:06.858Z"
   },
   {
    "duration": 23,
    "start_time": "2023-05-26T11:55:06.881Z"
   },
   {
    "duration": 18,
    "start_time": "2023-05-26T11:55:06.906Z"
   },
   {
    "duration": 11,
    "start_time": "2023-05-26T11:55:06.926Z"
   },
   {
    "duration": 23,
    "start_time": "2023-05-26T11:55:06.939Z"
   },
   {
    "duration": 3,
    "start_time": "2023-05-26T11:56:49.865Z"
   },
   {
    "duration": 115,
    "start_time": "2023-05-26T12:20:47.504Z"
   },
   {
    "duration": 69,
    "start_time": "2023-05-26T12:23:10.371Z"
   },
   {
    "duration": 3,
    "start_time": "2023-05-26T12:41:40.436Z"
   },
   {
    "duration": 160,
    "start_time": "2023-05-26T12:41:40.441Z"
   },
   {
    "duration": 7,
    "start_time": "2023-05-26T12:41:40.603Z"
   },
   {
    "duration": 46,
    "start_time": "2023-05-26T12:41:40.612Z"
   },
   {
    "duration": 20,
    "start_time": "2023-05-26T12:41:40.661Z"
   },
   {
    "duration": 6,
    "start_time": "2023-05-26T12:41:40.683Z"
   },
   {
    "duration": 23,
    "start_time": "2023-05-26T12:41:40.690Z"
   },
   {
    "duration": 39,
    "start_time": "2023-05-26T12:41:40.715Z"
   },
   {
    "duration": 17,
    "start_time": "2023-05-26T12:41:40.756Z"
   },
   {
    "duration": 87,
    "start_time": "2023-05-26T12:41:40.775Z"
   },
   {
    "duration": 16,
    "start_time": "2023-05-26T12:41:40.864Z"
   },
   {
    "duration": 94,
    "start_time": "2023-05-26T12:41:40.882Z"
   },
   {
    "duration": 117,
    "start_time": "2023-05-26T12:41:40.978Z"
   },
   {
    "duration": 93,
    "start_time": "2023-05-26T12:41:41.097Z"
   },
   {
    "duration": 94,
    "start_time": "2023-05-26T12:41:41.191Z"
   },
   {
    "duration": 98,
    "start_time": "2023-05-26T12:41:41.288Z"
   },
   {
    "duration": 3,
    "start_time": "2023-05-26T12:41:41.388Z"
   },
   {
    "duration": 13,
    "start_time": "2023-05-26T12:41:41.393Z"
   },
   {
    "duration": 8,
    "start_time": "2023-05-26T12:41:41.408Z"
   },
   {
    "duration": 8,
    "start_time": "2023-05-26T12:41:41.417Z"
   },
   {
    "duration": 7,
    "start_time": "2023-05-26T12:41:41.427Z"
   },
   {
    "duration": 32,
    "start_time": "2023-05-26T12:41:41.445Z"
   },
   {
    "duration": 240,
    "start_time": "2023-05-26T12:41:41.479Z"
   },
   {
    "duration": 11,
    "start_time": "2023-05-26T12:41:41.723Z"
   },
   {
    "duration": 41,
    "start_time": "2023-05-26T12:41:41.735Z"
   },
   {
    "duration": 8,
    "start_time": "2023-05-26T12:41:41.778Z"
   },
   {
    "duration": 58,
    "start_time": "2023-05-26T12:41:41.788Z"
   },
   {
    "duration": 4,
    "start_time": "2023-05-26T12:41:41.848Z"
   },
   {
    "duration": 15,
    "start_time": "2023-05-26T12:41:41.853Z"
   },
   {
    "duration": 25,
    "start_time": "2023-05-26T12:41:41.871Z"
   },
   {
    "duration": 37,
    "start_time": "2023-05-26T12:41:41.898Z"
   },
   {
    "duration": 70,
    "start_time": "2023-05-26T12:41:41.937Z"
   },
   {
    "duration": 8,
    "start_time": "2023-05-26T12:41:42.009Z"
   },
   {
    "duration": 33,
    "start_time": "2023-05-26T12:41:42.019Z"
   },
   {
    "duration": 8,
    "start_time": "2023-05-26T12:41:42.054Z"
   },
   {
    "duration": 19,
    "start_time": "2023-05-26T12:41:42.063Z"
   },
   {
    "duration": 162,
    "start_time": "2023-05-26T12:41:42.084Z"
   },
   {
    "duration": 9,
    "start_time": "2023-05-26T12:41:42.248Z"
   },
   {
    "duration": 51,
    "start_time": "2023-05-26T12:41:42.259Z"
   },
   {
    "duration": 55,
    "start_time": "2023-05-26T12:41:42.312Z"
   },
   {
    "duration": 3,
    "start_time": "2023-05-26T12:41:42.369Z"
   },
   {
    "duration": 16,
    "start_time": "2023-05-26T12:41:42.374Z"
   },
   {
    "duration": 41,
    "start_time": "2023-05-26T12:41:42.393Z"
   },
   {
    "duration": 78,
    "start_time": "2023-05-26T12:41:42.436Z"
   },
   {
    "duration": 31,
    "start_time": "2023-05-26T12:41:42.516Z"
   },
   {
    "duration": 6,
    "start_time": "2023-05-26T12:41:42.549Z"
   },
   {
    "duration": 43,
    "start_time": "2023-05-26T12:41:42.557Z"
   },
   {
    "duration": 48,
    "start_time": "2023-05-26T12:41:42.602Z"
   },
   {
    "duration": 4,
    "start_time": "2023-05-26T12:41:42.652Z"
   },
   {
    "duration": 37,
    "start_time": "2023-05-26T12:41:42.658Z"
   },
   {
    "duration": 36,
    "start_time": "2023-05-26T12:41:42.697Z"
   },
   {
    "duration": 50,
    "start_time": "2023-05-26T12:41:42.735Z"
   },
   {
    "duration": 30,
    "start_time": "2023-05-26T12:41:42.787Z"
   },
   {
    "duration": 29,
    "start_time": "2023-05-26T12:41:42.819Z"
   },
   {
    "duration": 23,
    "start_time": "2023-05-26T12:41:42.850Z"
   },
   {
    "duration": 34,
    "start_time": "2023-05-26T12:41:42.874Z"
   },
   {
    "duration": 34,
    "start_time": "2023-05-26T12:41:42.910Z"
   },
   {
    "duration": 4,
    "start_time": "2023-05-26T12:41:42.946Z"
   },
   {
    "duration": 39,
    "start_time": "2023-05-26T12:41:42.951Z"
   },
   {
    "duration": 32,
    "start_time": "2023-05-26T12:41:42.991Z"
   },
   {
    "duration": 24,
    "start_time": "2023-05-26T12:41:43.025Z"
   },
   {
    "duration": 39,
    "start_time": "2023-05-26T12:41:43.051Z"
   },
   {
    "duration": 35,
    "start_time": "2023-05-26T12:41:43.094Z"
   },
   {
    "duration": 32,
    "start_time": "2023-05-26T12:41:43.131Z"
   },
   {
    "duration": 25,
    "start_time": "2023-05-26T12:41:43.164Z"
   },
   {
    "duration": 16,
    "start_time": "2023-05-26T12:41:43.191Z"
   },
   {
    "duration": 37,
    "start_time": "2023-05-26T12:41:43.209Z"
   },
   {
    "duration": 6,
    "start_time": "2023-05-26T12:41:43.248Z"
   },
   {
    "duration": 25,
    "start_time": "2023-05-26T12:41:43.261Z"
   },
   {
    "duration": 57,
    "start_time": "2023-05-26T12:41:43.289Z"
   },
   {
    "duration": 4,
    "start_time": "2023-05-26T12:49:32.293Z"
   },
   {
    "duration": 233,
    "start_time": "2023-05-26T12:49:32.299Z"
   },
   {
    "duration": 12,
    "start_time": "2023-05-26T12:49:32.534Z"
   },
   {
    "duration": 47,
    "start_time": "2023-05-26T12:49:32.548Z"
   },
   {
    "duration": 49,
    "start_time": "2023-05-26T12:49:32.598Z"
   },
   {
    "duration": 10,
    "start_time": "2023-05-26T12:49:32.649Z"
   },
   {
    "duration": 57,
    "start_time": "2023-05-26T12:49:32.662Z"
   },
   {
    "duration": 36,
    "start_time": "2023-05-26T12:49:32.722Z"
   },
   {
    "duration": 12,
    "start_time": "2023-05-26T12:49:32.761Z"
   },
   {
    "duration": 84,
    "start_time": "2023-05-26T12:49:32.776Z"
   },
   {
    "duration": 30,
    "start_time": "2023-05-26T12:49:32.863Z"
   },
   {
    "duration": 117,
    "start_time": "2023-05-26T12:49:32.895Z"
   },
   {
    "duration": 146,
    "start_time": "2023-05-26T12:49:33.014Z"
   },
   {
    "duration": 101,
    "start_time": "2023-05-26T12:49:33.164Z"
   },
   {
    "duration": 89,
    "start_time": "2023-05-26T12:49:33.267Z"
   },
   {
    "duration": 99,
    "start_time": "2023-05-26T12:49:33.358Z"
   },
   {
    "duration": 3,
    "start_time": "2023-05-26T12:49:33.459Z"
   },
   {
    "duration": 14,
    "start_time": "2023-05-26T12:49:33.465Z"
   },
   {
    "duration": 6,
    "start_time": "2023-05-26T12:49:33.481Z"
   },
   {
    "duration": 13,
    "start_time": "2023-05-26T12:49:33.489Z"
   },
   {
    "duration": 17,
    "start_time": "2023-05-26T12:49:33.504Z"
   },
   {
    "duration": 38,
    "start_time": "2023-05-26T12:49:33.522Z"
   },
   {
    "duration": 256,
    "start_time": "2023-05-26T12:49:33.562Z"
   },
   {
    "duration": 12,
    "start_time": "2023-05-26T12:49:33.820Z"
   },
   {
    "duration": 44,
    "start_time": "2023-05-26T12:49:33.833Z"
   },
   {
    "duration": 7,
    "start_time": "2023-05-26T12:49:33.878Z"
   },
   {
    "duration": 40,
    "start_time": "2023-05-26T12:49:33.887Z"
   },
   {
    "duration": 5,
    "start_time": "2023-05-26T12:49:33.945Z"
   },
   {
    "duration": 18,
    "start_time": "2023-05-26T12:49:33.952Z"
   },
   {
    "duration": 26,
    "start_time": "2023-05-26T12:49:33.972Z"
   },
   {
    "duration": 45,
    "start_time": "2023-05-26T12:49:33.999Z"
   },
   {
    "duration": 73,
    "start_time": "2023-05-26T12:49:34.046Z"
   },
   {
    "duration": 9,
    "start_time": "2023-05-26T12:49:34.120Z"
   },
   {
    "duration": 23,
    "start_time": "2023-05-26T12:49:34.130Z"
   },
   {
    "duration": 11,
    "start_time": "2023-05-26T12:49:34.155Z"
   },
   {
    "duration": 27,
    "start_time": "2023-05-26T12:49:34.167Z"
   },
   {
    "duration": 173,
    "start_time": "2023-05-26T12:49:34.196Z"
   },
   {
    "duration": 12,
    "start_time": "2023-05-26T12:49:34.372Z"
   },
   {
    "duration": 44,
    "start_time": "2023-05-26T12:49:34.386Z"
   },
   {
    "duration": 46,
    "start_time": "2023-05-26T12:49:34.432Z"
   },
   {
    "duration": 4,
    "start_time": "2023-05-26T12:49:34.484Z"
   },
   {
    "duration": 32,
    "start_time": "2023-05-26T12:49:34.489Z"
   },
   {
    "duration": 9,
    "start_time": "2023-05-26T12:49:34.523Z"
   },
   {
    "duration": 75,
    "start_time": "2023-05-26T12:49:34.534Z"
   },
   {
    "duration": 33,
    "start_time": "2023-05-26T12:49:34.611Z"
   },
   {
    "duration": 5,
    "start_time": "2023-05-26T12:49:34.647Z"
   },
   {
    "duration": 24,
    "start_time": "2023-05-26T12:49:34.657Z"
   },
   {
    "duration": 39,
    "start_time": "2023-05-26T12:49:34.684Z"
   },
   {
    "duration": 4,
    "start_time": "2023-05-26T12:49:34.725Z"
   },
   {
    "duration": 27,
    "start_time": "2023-05-26T12:49:34.730Z"
   },
   {
    "duration": 27,
    "start_time": "2023-05-26T12:49:34.759Z"
   },
   {
    "duration": 18,
    "start_time": "2023-05-26T12:49:34.788Z"
   },
   {
    "duration": 10,
    "start_time": "2023-05-26T12:49:34.809Z"
   },
   {
    "duration": 22,
    "start_time": "2023-05-26T12:49:34.821Z"
   },
   {
    "duration": 30,
    "start_time": "2023-05-26T12:49:34.846Z"
   },
   {
    "duration": 38,
    "start_time": "2023-05-26T12:49:34.879Z"
   },
   {
    "duration": 50,
    "start_time": "2023-05-26T12:49:34.919Z"
   },
   {
    "duration": 9,
    "start_time": "2023-05-26T12:49:34.971Z"
   },
   {
    "duration": 31,
    "start_time": "2023-05-26T12:49:34.982Z"
   },
   {
    "duration": 33,
    "start_time": "2023-05-26T12:49:35.015Z"
   },
   {
    "duration": 29,
    "start_time": "2023-05-26T12:49:35.050Z"
   },
   {
    "duration": 42,
    "start_time": "2023-05-26T12:49:35.081Z"
   },
   {
    "duration": 22,
    "start_time": "2023-05-26T12:49:35.125Z"
   },
   {
    "duration": 32,
    "start_time": "2023-05-26T12:49:35.148Z"
   },
   {
    "duration": 18,
    "start_time": "2023-05-26T12:49:35.183Z"
   },
   {
    "duration": 21,
    "start_time": "2023-05-26T12:49:35.203Z"
   },
   {
    "duration": 29,
    "start_time": "2023-05-26T12:49:35.226Z"
   },
   {
    "duration": 27,
    "start_time": "2023-05-26T12:49:35.257Z"
   },
   {
    "duration": 25,
    "start_time": "2023-05-26T12:49:35.286Z"
   },
   {
    "duration": 18,
    "start_time": "2023-05-26T12:49:35.314Z"
   },
   {
    "duration": 246,
    "start_time": "2023-05-26T12:50:26.975Z"
   },
   {
    "duration": 4,
    "start_time": "2023-05-26T12:50:37.686Z"
   },
   {
    "duration": 193,
    "start_time": "2023-05-26T12:50:37.692Z"
   },
   {
    "duration": 8,
    "start_time": "2023-05-26T12:50:37.887Z"
   },
   {
    "duration": 31,
    "start_time": "2023-05-26T12:50:37.896Z"
   },
   {
    "duration": 33,
    "start_time": "2023-05-26T12:50:37.930Z"
   },
   {
    "duration": 5,
    "start_time": "2023-05-26T12:50:37.965Z"
   },
   {
    "duration": 39,
    "start_time": "2023-05-26T12:50:37.972Z"
   },
   {
    "duration": 36,
    "start_time": "2023-05-26T12:50:38.013Z"
   },
   {
    "duration": 7,
    "start_time": "2023-05-26T12:50:38.051Z"
   },
   {
    "duration": 86,
    "start_time": "2023-05-26T12:50:38.060Z"
   },
   {
    "duration": 10,
    "start_time": "2023-05-26T12:50:38.148Z"
   },
   {
    "duration": 116,
    "start_time": "2023-05-26T12:50:38.160Z"
   },
   {
    "duration": 156,
    "start_time": "2023-05-26T12:50:38.280Z"
   },
   {
    "duration": 112,
    "start_time": "2023-05-26T12:50:38.438Z"
   },
   {
    "duration": 112,
    "start_time": "2023-05-26T12:50:38.552Z"
   },
   {
    "duration": 126,
    "start_time": "2023-05-26T12:50:38.666Z"
   },
   {
    "duration": 4,
    "start_time": "2023-05-26T12:50:38.794Z"
   },
   {
    "duration": 17,
    "start_time": "2023-05-26T12:50:38.800Z"
   },
   {
    "duration": 9,
    "start_time": "2023-05-26T12:50:38.819Z"
   },
   {
    "duration": 11,
    "start_time": "2023-05-26T12:50:38.830Z"
   },
   {
    "duration": 7,
    "start_time": "2023-05-26T12:50:38.842Z"
   },
   {
    "duration": 48,
    "start_time": "2023-05-26T12:50:38.851Z"
   },
   {
    "duration": 234,
    "start_time": "2023-05-26T12:50:38.901Z"
   },
   {
    "duration": 20,
    "start_time": "2023-05-26T12:50:39.136Z"
   },
   {
    "duration": 34,
    "start_time": "2023-05-26T12:50:39.158Z"
   },
   {
    "duration": 8,
    "start_time": "2023-05-26T12:50:39.193Z"
   },
   {
    "duration": 57,
    "start_time": "2023-05-26T12:50:39.204Z"
   },
   {
    "duration": 5,
    "start_time": "2023-05-26T12:50:39.263Z"
   },
   {
    "duration": 13,
    "start_time": "2023-05-26T12:50:39.270Z"
   },
   {
    "duration": 9,
    "start_time": "2023-05-26T12:50:39.285Z"
   },
   {
    "duration": 67,
    "start_time": "2023-05-26T12:50:39.296Z"
   },
   {
    "duration": 64,
    "start_time": "2023-05-26T12:50:39.365Z"
   },
   {
    "duration": 19,
    "start_time": "2023-05-26T12:50:39.430Z"
   },
   {
    "duration": 118,
    "start_time": "2023-05-26T12:50:39.452Z"
   },
   {
    "duration": 10,
    "start_time": "2023-05-26T12:50:39.572Z"
   },
   {
    "duration": 13,
    "start_time": "2023-05-26T12:50:39.585Z"
   },
   {
    "duration": 167,
    "start_time": "2023-05-26T12:50:39.603Z"
   },
   {
    "duration": 10,
    "start_time": "2023-05-26T12:50:39.772Z"
   },
   {
    "duration": 34,
    "start_time": "2023-05-26T12:50:39.784Z"
   },
   {
    "duration": 53,
    "start_time": "2023-05-26T12:50:39.820Z"
   },
   {
    "duration": 4,
    "start_time": "2023-05-26T12:50:39.875Z"
   },
   {
    "duration": 15,
    "start_time": "2023-05-26T12:50:39.881Z"
   },
   {
    "duration": 7,
    "start_time": "2023-05-26T12:50:39.898Z"
   },
   {
    "duration": 55,
    "start_time": "2023-05-26T12:50:39.907Z"
   },
   {
    "duration": 24,
    "start_time": "2023-05-26T12:50:39.964Z"
   },
   {
    "duration": 4,
    "start_time": "2023-05-26T12:50:39.989Z"
   },
   {
    "duration": 15,
    "start_time": "2023-05-26T12:50:39.995Z"
   },
   {
    "duration": 45,
    "start_time": "2023-05-26T12:50:40.012Z"
   },
   {
    "duration": 3,
    "start_time": "2023-05-26T12:50:40.059Z"
   },
   {
    "duration": 28,
    "start_time": "2023-05-26T12:50:40.064Z"
   },
   {
    "duration": 34,
    "start_time": "2023-05-26T12:50:40.093Z"
   },
   {
    "duration": 7,
    "start_time": "2023-05-26T12:50:40.129Z"
   },
   {
    "duration": 20,
    "start_time": "2023-05-26T12:50:40.138Z"
   },
   {
    "duration": 11,
    "start_time": "2023-05-26T12:50:40.159Z"
   },
   {
    "duration": 10,
    "start_time": "2023-05-26T12:50:40.172Z"
   },
   {
    "duration": 28,
    "start_time": "2023-05-26T12:50:40.184Z"
   },
   {
    "duration": 53,
    "start_time": "2023-05-26T12:50:40.213Z"
   },
   {
    "duration": 6,
    "start_time": "2023-05-26T12:50:40.269Z"
   },
   {
    "duration": 37,
    "start_time": "2023-05-26T12:50:40.277Z"
   },
   {
    "duration": 13,
    "start_time": "2023-05-26T12:50:40.316Z"
   },
   {
    "duration": 7,
    "start_time": "2023-05-26T12:50:40.330Z"
   },
   {
    "duration": 8,
    "start_time": "2023-05-26T12:50:40.339Z"
   },
   {
    "duration": 11,
    "start_time": "2023-05-26T12:50:40.349Z"
   },
   {
    "duration": 12,
    "start_time": "2023-05-26T12:50:40.361Z"
   },
   {
    "duration": 9,
    "start_time": "2023-05-26T12:50:40.375Z"
   },
   {
    "duration": 20,
    "start_time": "2023-05-26T12:50:40.385Z"
   },
   {
    "duration": 16,
    "start_time": "2023-05-26T12:50:40.407Z"
   },
   {
    "duration": 22,
    "start_time": "2023-05-26T12:50:40.425Z"
   },
   {
    "duration": 21,
    "start_time": "2023-05-26T12:50:40.449Z"
   },
   {
    "duration": 10,
    "start_time": "2023-05-26T12:50:40.471Z"
   },
   {
    "duration": 7,
    "start_time": "2023-05-26T12:52:21.781Z"
   },
   {
    "duration": 217,
    "start_time": "2023-05-26T12:52:21.791Z"
   },
   {
    "duration": 8,
    "start_time": "2023-05-26T12:52:22.011Z"
   },
   {
    "duration": 43,
    "start_time": "2023-05-26T12:52:22.021Z"
   },
   {
    "duration": 38,
    "start_time": "2023-05-26T12:52:22.067Z"
   },
   {
    "duration": 35,
    "start_time": "2023-05-26T12:52:22.106Z"
   },
   {
    "duration": 52,
    "start_time": "2023-05-26T12:52:22.142Z"
   },
   {
    "duration": 52,
    "start_time": "2023-05-26T12:52:22.196Z"
   },
   {
    "duration": 29,
    "start_time": "2023-05-26T12:52:22.250Z"
   },
   {
    "duration": 108,
    "start_time": "2023-05-26T12:52:22.280Z"
   },
   {
    "duration": 13,
    "start_time": "2023-05-26T12:52:22.391Z"
   },
   {
    "duration": 130,
    "start_time": "2023-05-26T12:52:22.406Z"
   },
   {
    "duration": 145,
    "start_time": "2023-05-26T12:52:22.537Z"
   },
   {
    "duration": 132,
    "start_time": "2023-05-26T12:52:22.686Z"
   },
   {
    "duration": 94,
    "start_time": "2023-05-26T12:52:22.819Z"
   },
   {
    "duration": 123,
    "start_time": "2023-05-26T12:52:22.914Z"
   },
   {
    "duration": 5,
    "start_time": "2023-05-26T12:52:23.038Z"
   },
   {
    "duration": 55,
    "start_time": "2023-05-26T12:52:23.047Z"
   },
   {
    "duration": 43,
    "start_time": "2023-05-26T12:52:23.105Z"
   },
   {
    "duration": 11,
    "start_time": "2023-05-26T12:52:23.150Z"
   },
   {
    "duration": 14,
    "start_time": "2023-05-26T12:52:23.163Z"
   },
   {
    "duration": 69,
    "start_time": "2023-05-26T12:52:23.179Z"
   },
   {
    "duration": 270,
    "start_time": "2023-05-26T12:52:23.250Z"
   },
   {
    "duration": 11,
    "start_time": "2023-05-26T12:52:23.521Z"
   },
   {
    "duration": 53,
    "start_time": "2023-05-26T12:52:23.534Z"
   },
   {
    "duration": 30,
    "start_time": "2023-05-26T12:52:23.589Z"
   },
   {
    "duration": 54,
    "start_time": "2023-05-26T12:52:23.621Z"
   },
   {
    "duration": 4,
    "start_time": "2023-05-26T12:52:23.677Z"
   },
   {
    "duration": 47,
    "start_time": "2023-05-26T12:52:23.683Z"
   },
   {
    "duration": 32,
    "start_time": "2023-05-26T12:52:23.731Z"
   },
   {
    "duration": 50,
    "start_time": "2023-05-26T12:52:23.765Z"
   },
   {
    "duration": 65,
    "start_time": "2023-05-26T12:52:23.817Z"
   },
   {
    "duration": 9,
    "start_time": "2023-05-26T12:52:23.884Z"
   },
   {
    "duration": 61,
    "start_time": "2023-05-26T12:52:23.894Z"
   },
   {
    "duration": 38,
    "start_time": "2023-05-26T12:52:23.957Z"
   },
   {
    "duration": 44,
    "start_time": "2023-05-26T12:52:23.997Z"
   },
   {
    "duration": 159,
    "start_time": "2023-05-26T12:52:24.043Z"
   },
   {
    "duration": 9,
    "start_time": "2023-05-26T12:52:24.204Z"
   },
   {
    "duration": 55,
    "start_time": "2023-05-26T12:52:24.214Z"
   },
   {
    "duration": 36,
    "start_time": "2023-05-26T12:52:24.271Z"
   },
   {
    "duration": 17,
    "start_time": "2023-05-26T12:52:24.312Z"
   },
   {
    "duration": 41,
    "start_time": "2023-05-26T12:52:24.331Z"
   },
   {
    "duration": 59,
    "start_time": "2023-05-26T12:52:24.374Z"
   },
   {
    "duration": 73,
    "start_time": "2023-05-26T12:52:24.435Z"
   },
   {
    "duration": 24,
    "start_time": "2023-05-26T12:52:24.510Z"
   },
   {
    "duration": 31,
    "start_time": "2023-05-26T12:52:24.535Z"
   },
   {
    "duration": 34,
    "start_time": "2023-05-26T12:52:24.568Z"
   },
   {
    "duration": 61,
    "start_time": "2023-05-26T12:52:24.604Z"
   },
   {
    "duration": 4,
    "start_time": "2023-05-26T12:52:24.667Z"
   },
   {
    "duration": 87,
    "start_time": "2023-05-26T12:52:24.673Z"
   },
   {
    "duration": 75,
    "start_time": "2023-05-26T12:52:24.762Z"
   },
   {
    "duration": 38,
    "start_time": "2023-05-26T12:52:24.839Z"
   },
   {
    "duration": 23,
    "start_time": "2023-05-26T12:52:24.879Z"
   },
   {
    "duration": 38,
    "start_time": "2023-05-26T12:52:24.904Z"
   },
   {
    "duration": 85,
    "start_time": "2023-05-26T12:52:24.944Z"
   },
   {
    "duration": 31,
    "start_time": "2023-05-26T12:52:25.030Z"
   },
   {
    "duration": 53,
    "start_time": "2023-05-26T12:52:25.063Z"
   },
   {
    "duration": 4,
    "start_time": "2023-05-26T12:52:25.118Z"
   },
   {
    "duration": 20,
    "start_time": "2023-05-26T12:52:25.123Z"
   },
   {
    "duration": 26,
    "start_time": "2023-05-26T12:52:25.145Z"
   },
   {
    "duration": 10,
    "start_time": "2023-05-26T12:52:25.173Z"
   },
   {
    "duration": 18,
    "start_time": "2023-05-26T12:52:25.185Z"
   },
   {
    "duration": 18,
    "start_time": "2023-05-26T12:52:25.205Z"
   },
   {
    "duration": 7,
    "start_time": "2023-05-26T12:52:25.225Z"
   },
   {
    "duration": 9,
    "start_time": "2023-05-26T12:52:25.233Z"
   },
   {
    "duration": 10,
    "start_time": "2023-05-26T12:52:25.243Z"
   },
   {
    "duration": 19,
    "start_time": "2023-05-26T12:52:25.255Z"
   },
   {
    "duration": 12,
    "start_time": "2023-05-26T12:52:25.276Z"
   },
   {
    "duration": 14,
    "start_time": "2023-05-26T12:52:25.290Z"
   },
   {
    "duration": 12,
    "start_time": "2023-05-26T12:52:25.307Z"
   },
   {
    "duration": 1102,
    "start_time": "2023-05-26T12:54:20.401Z"
   },
   {
    "duration": 194,
    "start_time": "2023-05-26T12:54:21.505Z"
   },
   {
    "duration": 13,
    "start_time": "2023-05-26T12:54:21.701Z"
   },
   {
    "duration": 55,
    "start_time": "2023-05-26T12:54:21.716Z"
   },
   {
    "duration": 30,
    "start_time": "2023-05-26T12:54:21.773Z"
   },
   {
    "duration": 10,
    "start_time": "2023-05-26T12:54:21.805Z"
   },
   {
    "duration": 45,
    "start_time": "2023-05-26T12:54:21.817Z"
   },
   {
    "duration": 18,
    "start_time": "2023-05-26T12:54:21.864Z"
   },
   {
    "duration": 25,
    "start_time": "2023-05-26T12:54:21.883Z"
   },
   {
    "duration": 82,
    "start_time": "2023-05-26T12:54:21.912Z"
   },
   {
    "duration": 30,
    "start_time": "2023-05-26T12:54:21.996Z"
   },
   {
    "duration": 131,
    "start_time": "2023-05-26T12:54:22.028Z"
   },
   {
    "duration": 159,
    "start_time": "2023-05-26T12:54:22.161Z"
   },
   {
    "duration": 130,
    "start_time": "2023-05-26T12:54:22.322Z"
   },
   {
    "duration": 125,
    "start_time": "2023-05-26T12:54:22.454Z"
   },
   {
    "duration": 143,
    "start_time": "2023-05-26T12:54:22.581Z"
   },
   {
    "duration": 4,
    "start_time": "2023-05-26T12:54:22.727Z"
   },
   {
    "duration": 8,
    "start_time": "2023-05-26T12:54:22.746Z"
   },
   {
    "duration": 16,
    "start_time": "2023-05-26T12:54:22.756Z"
   },
   {
    "duration": 25,
    "start_time": "2023-05-26T12:54:22.775Z"
   },
   {
    "duration": 14,
    "start_time": "2023-05-26T12:54:22.802Z"
   },
   {
    "duration": 54,
    "start_time": "2023-05-26T12:54:22.818Z"
   },
   {
    "duration": 399,
    "start_time": "2023-05-26T12:54:22.874Z"
   },
   {
    "duration": 14,
    "start_time": "2023-05-26T12:54:23.275Z"
   },
   {
    "duration": 54,
    "start_time": "2023-05-26T12:54:23.291Z"
   },
   {
    "duration": 13,
    "start_time": "2023-05-26T12:54:23.347Z"
   },
   {
    "duration": 56,
    "start_time": "2023-05-26T12:54:23.362Z"
   },
   {
    "duration": 4,
    "start_time": "2023-05-26T12:54:23.423Z"
   },
   {
    "duration": 18,
    "start_time": "2023-05-26T12:54:23.429Z"
   },
   {
    "duration": 19,
    "start_time": "2023-05-26T12:54:23.449Z"
   },
   {
    "duration": 41,
    "start_time": "2023-05-26T12:54:23.470Z"
   },
   {
    "duration": 83,
    "start_time": "2023-05-26T12:54:23.513Z"
   },
   {
    "duration": 8,
    "start_time": "2023-05-26T12:54:23.598Z"
   },
   {
    "duration": 184,
    "start_time": "2023-05-26T12:54:23.608Z"
   },
   {
    "duration": 7,
    "start_time": "2023-05-26T12:54:23.795Z"
   },
   {
    "duration": 48,
    "start_time": "2023-05-26T12:54:23.804Z"
   },
   {
    "duration": 221,
    "start_time": "2023-05-26T12:54:23.854Z"
   },
   {
    "duration": 8,
    "start_time": "2023-05-26T12:54:24.077Z"
   },
   {
    "duration": 87,
    "start_time": "2023-05-26T12:54:24.087Z"
   },
   {
    "duration": 36,
    "start_time": "2023-05-26T12:54:24.175Z"
   },
   {
    "duration": 34,
    "start_time": "2023-05-26T12:54:24.212Z"
   },
   {
    "duration": 22,
    "start_time": "2023-05-26T12:54:24.248Z"
   },
   {
    "duration": 9,
    "start_time": "2023-05-26T12:54:24.271Z"
   },
   {
    "duration": 53,
    "start_time": "2023-05-26T12:54:24.282Z"
   },
   {
    "duration": 24,
    "start_time": "2023-05-26T12:54:24.337Z"
   },
   {
    "duration": 5,
    "start_time": "2023-05-26T12:54:24.363Z"
   },
   {
    "duration": 20,
    "start_time": "2023-05-26T12:54:24.370Z"
   },
   {
    "duration": 42,
    "start_time": "2023-05-26T12:54:24.392Z"
   },
   {
    "duration": 4,
    "start_time": "2023-05-26T12:54:24.436Z"
   },
   {
    "duration": 31,
    "start_time": "2023-05-26T12:54:24.442Z"
   },
   {
    "duration": 39,
    "start_time": "2023-05-26T12:54:24.475Z"
   },
   {
    "duration": 9,
    "start_time": "2023-05-26T12:54:24.516Z"
   },
   {
    "duration": 20,
    "start_time": "2023-05-26T12:54:24.527Z"
   },
   {
    "duration": 19,
    "start_time": "2023-05-26T12:54:24.550Z"
   },
   {
    "duration": 14,
    "start_time": "2023-05-26T12:54:24.570Z"
   },
   {
    "duration": 28,
    "start_time": "2023-05-26T12:54:24.586Z"
   },
   {
    "duration": 39,
    "start_time": "2023-05-26T12:54:24.616Z"
   },
   {
    "duration": 5,
    "start_time": "2023-05-26T12:54:24.656Z"
   },
   {
    "duration": 16,
    "start_time": "2023-05-26T12:54:24.662Z"
   },
   {
    "duration": 24,
    "start_time": "2023-05-26T12:54:24.679Z"
   },
   {
    "duration": 11,
    "start_time": "2023-05-26T12:54:24.705Z"
   },
   {
    "duration": 15,
    "start_time": "2023-05-26T12:54:24.717Z"
   },
   {
    "duration": 10,
    "start_time": "2023-05-26T12:54:24.734Z"
   },
   {
    "duration": 26,
    "start_time": "2023-05-26T12:54:24.746Z"
   },
   {
    "duration": 18,
    "start_time": "2023-05-26T12:54:24.774Z"
   },
   {
    "duration": 22,
    "start_time": "2023-05-26T12:54:24.794Z"
   },
   {
    "duration": 20,
    "start_time": "2023-05-26T12:54:24.818Z"
   },
   {
    "duration": 24,
    "start_time": "2023-05-26T12:54:24.840Z"
   },
   {
    "duration": 11,
    "start_time": "2023-05-26T12:54:24.866Z"
   },
   {
    "duration": 9,
    "start_time": "2023-05-26T12:54:24.879Z"
   },
   {
    "duration": 1359,
    "start_time": "2023-05-26T14:41:15.261Z"
   },
   {
    "duration": 737,
    "start_time": "2023-05-26T14:41:16.622Z"
   },
   {
    "duration": 16,
    "start_time": "2023-05-26T14:41:17.361Z"
   },
   {
    "duration": 61,
    "start_time": "2023-05-26T14:41:17.379Z"
   },
   {
    "duration": 26,
    "start_time": "2023-05-26T14:41:17.452Z"
   },
   {
    "duration": 9,
    "start_time": "2023-05-26T14:41:17.480Z"
   },
   {
    "duration": 21,
    "start_time": "2023-05-26T14:41:17.490Z"
   },
   {
    "duration": 39,
    "start_time": "2023-05-26T14:41:17.513Z"
   },
   {
    "duration": 11,
    "start_time": "2023-05-26T14:41:17.558Z"
   },
   {
    "duration": 108,
    "start_time": "2023-05-26T14:41:17.571Z"
   },
   {
    "duration": 14,
    "start_time": "2023-05-26T14:41:17.681Z"
   },
   {
    "duration": 117,
    "start_time": "2023-05-26T14:41:17.697Z"
   },
   {
    "duration": 152,
    "start_time": "2023-05-26T14:41:17.816Z"
   },
   {
    "duration": 104,
    "start_time": "2023-05-26T14:41:17.971Z"
   },
   {
    "duration": 124,
    "start_time": "2023-05-26T14:41:18.077Z"
   },
   {
    "duration": 122,
    "start_time": "2023-05-26T14:41:18.202Z"
   },
   {
    "duration": 6,
    "start_time": "2023-05-26T14:41:18.326Z"
   },
   {
    "duration": 43,
    "start_time": "2023-05-26T14:41:18.334Z"
   },
   {
    "duration": 30,
    "start_time": "2023-05-26T14:41:18.379Z"
   },
   {
    "duration": 11,
    "start_time": "2023-05-26T14:41:18.411Z"
   },
   {
    "duration": 15,
    "start_time": "2023-05-26T14:41:18.424Z"
   },
   {
    "duration": 70,
    "start_time": "2023-05-26T14:41:18.441Z"
   },
   {
    "duration": 395,
    "start_time": "2023-05-26T14:41:18.513Z"
   },
   {
    "duration": 14,
    "start_time": "2023-05-26T14:41:18.910Z"
   },
   {
    "duration": 48,
    "start_time": "2023-05-26T14:41:18.926Z"
   },
   {
    "duration": 8,
    "start_time": "2023-05-26T14:41:18.976Z"
   },
   {
    "duration": 32,
    "start_time": "2023-05-26T14:41:18.986Z"
   },
   {
    "duration": 24,
    "start_time": "2023-05-26T14:41:19.020Z"
   },
   {
    "duration": 26,
    "start_time": "2023-05-26T14:41:19.046Z"
   },
   {
    "duration": 8,
    "start_time": "2023-05-26T14:41:19.074Z"
   },
   {
    "duration": 35,
    "start_time": "2023-05-26T14:41:19.084Z"
   },
   {
    "duration": 84,
    "start_time": "2023-05-26T14:41:19.120Z"
   },
   {
    "duration": 9,
    "start_time": "2023-05-26T14:41:19.205Z"
   },
   {
    "duration": 362,
    "start_time": "2023-05-26T14:41:19.216Z"
   },
   {
    "duration": 7,
    "start_time": "2023-05-26T14:41:19.580Z"
   },
   {
    "duration": 16,
    "start_time": "2023-05-26T14:41:19.588Z"
   },
   {
    "duration": 245,
    "start_time": "2023-05-26T14:41:19.605Z"
   },
   {
    "duration": 13,
    "start_time": "2023-05-26T14:41:19.852Z"
   },
   {
    "duration": 48,
    "start_time": "2023-05-26T14:41:19.866Z"
   },
   {
    "duration": 51,
    "start_time": "2023-05-26T14:41:19.916Z"
   },
   {
    "duration": 3,
    "start_time": "2023-05-26T14:41:19.971Z"
   },
   {
    "duration": 11,
    "start_time": "2023-05-26T14:41:19.976Z"
   },
   {
    "duration": 3,
    "start_time": "2023-05-26T14:41:19.989Z"
   },
   {
    "duration": 66,
    "start_time": "2023-05-26T14:41:19.994Z"
   },
   {
    "duration": 25,
    "start_time": "2023-05-26T14:41:20.062Z"
   },
   {
    "duration": 4,
    "start_time": "2023-05-26T14:41:20.089Z"
   },
   {
    "duration": 15,
    "start_time": "2023-05-26T14:41:20.095Z"
   },
   {
    "duration": 58,
    "start_time": "2023-05-26T14:41:20.113Z"
   },
   {
    "duration": 6,
    "start_time": "2023-05-26T14:41:20.173Z"
   },
   {
    "duration": 12,
    "start_time": "2023-05-26T14:41:20.181Z"
   },
   {
    "duration": 17,
    "start_time": "2023-05-26T14:41:20.194Z"
   },
   {
    "duration": 18,
    "start_time": "2023-05-26T14:41:20.212Z"
   },
   {
    "duration": 17,
    "start_time": "2023-05-26T14:41:20.244Z"
   },
   {
    "duration": 7,
    "start_time": "2023-05-26T14:41:20.262Z"
   },
   {
    "duration": 6,
    "start_time": "2023-05-26T14:41:20.271Z"
   },
   {
    "duration": 9,
    "start_time": "2023-05-26T14:41:20.279Z"
   },
   {
    "duration": 46,
    "start_time": "2023-05-26T14:41:20.290Z"
   },
   {
    "duration": 13,
    "start_time": "2023-05-26T14:41:20.338Z"
   },
   {
    "duration": 21,
    "start_time": "2023-05-26T14:41:20.352Z"
   },
   {
    "duration": 14,
    "start_time": "2023-05-26T14:41:20.374Z"
   },
   {
    "duration": 22,
    "start_time": "2023-05-26T14:41:20.390Z"
   },
   {
    "duration": 14,
    "start_time": "2023-05-26T14:41:20.414Z"
   },
   {
    "duration": 8,
    "start_time": "2023-05-26T14:41:20.430Z"
   },
   {
    "duration": 27,
    "start_time": "2023-05-26T14:41:20.440Z"
   },
   {
    "duration": 9,
    "start_time": "2023-05-26T14:41:20.469Z"
   },
   {
    "duration": 14,
    "start_time": "2023-05-26T14:41:20.480Z"
   },
   {
    "duration": 12,
    "start_time": "2023-05-26T14:41:20.496Z"
   },
   {
    "duration": 11,
    "start_time": "2023-05-26T14:41:20.510Z"
   },
   {
    "duration": 12,
    "start_time": "2023-05-26T14:41:20.522Z"
   },
   {
    "duration": 14,
    "start_time": "2023-05-26T14:41:20.536Z"
   },
   {
    "duration": 47,
    "start_time": "2023-05-26T17:27:47.248Z"
   },
   {
    "duration": 43,
    "start_time": "2023-05-26T17:28:54.522Z"
   },
   {
    "duration": 73,
    "start_time": "2023-05-26T17:33:29.742Z"
   },
   {
    "duration": 58,
    "start_time": "2023-05-26T17:33:45.308Z"
   },
   {
    "duration": 49,
    "start_time": "2023-05-26T17:33:58.503Z"
   },
   {
    "duration": 79,
    "start_time": "2023-05-26T17:35:07.401Z"
   },
   {
    "duration": 88,
    "start_time": "2023-05-26T17:35:31.574Z"
   },
   {
    "duration": 46,
    "start_time": "2023-05-26T17:36:40.832Z"
   },
   {
    "duration": 1370,
    "start_time": "2023-05-26T17:36:45.302Z"
   },
   {
    "duration": 936,
    "start_time": "2023-05-26T17:36:46.673Z"
   },
   {
    "duration": 14,
    "start_time": "2023-05-26T17:36:47.611Z"
   },
   {
    "duration": 31,
    "start_time": "2023-05-26T17:36:47.627Z"
   },
   {
    "duration": 16,
    "start_time": "2023-05-26T17:36:47.660Z"
   },
   {
    "duration": 18,
    "start_time": "2023-05-26T17:36:47.677Z"
   },
   {
    "duration": 30,
    "start_time": "2023-05-26T17:36:47.696Z"
   },
   {
    "duration": 24,
    "start_time": "2023-05-26T17:36:47.728Z"
   },
   {
    "duration": 12,
    "start_time": "2023-05-26T17:36:47.754Z"
   },
   {
    "duration": 84,
    "start_time": "2023-05-26T17:36:47.767Z"
   },
   {
    "duration": 18,
    "start_time": "2023-05-26T17:36:47.853Z"
   },
   {
    "duration": 119,
    "start_time": "2023-05-26T17:36:47.872Z"
   },
   {
    "duration": 155,
    "start_time": "2023-05-26T17:36:47.993Z"
   },
   {
    "duration": 99,
    "start_time": "2023-05-26T17:36:48.151Z"
   },
   {
    "duration": 100,
    "start_time": "2023-05-26T17:36:48.252Z"
   },
   {
    "duration": 117,
    "start_time": "2023-05-26T17:36:48.353Z"
   },
   {
    "duration": 3,
    "start_time": "2023-05-26T17:36:48.472Z"
   },
   {
    "duration": 57,
    "start_time": "2023-05-26T17:36:48.477Z"
   },
   {
    "duration": 15,
    "start_time": "2023-05-26T17:36:48.535Z"
   },
   {
    "duration": 5,
    "start_time": "2023-05-26T17:36:48.551Z"
   },
   {
    "duration": 5,
    "start_time": "2023-05-26T17:36:48.558Z"
   },
   {
    "duration": 37,
    "start_time": "2023-05-26T17:36:48.564Z"
   },
   {
    "duration": 349,
    "start_time": "2023-05-26T17:36:48.603Z"
   },
   {
    "duration": 10,
    "start_time": "2023-05-26T17:36:48.953Z"
   },
   {
    "duration": 34,
    "start_time": "2023-05-26T17:36:48.964Z"
   },
   {
    "duration": 25,
    "start_time": "2023-05-26T17:36:49.000Z"
   },
   {
    "duration": 34,
    "start_time": "2023-05-26T17:36:49.027Z"
   },
   {
    "duration": 52,
    "start_time": "2023-05-26T17:36:49.062Z"
   },
   {
    "duration": 98,
    "start_time": "2023-05-26T17:36:49.116Z"
   },
   {
    "duration": 0,
    "start_time": "2023-05-26T17:36:49.216Z"
   },
   {
    "duration": 0,
    "start_time": "2023-05-26T17:36:49.217Z"
   },
   {
    "duration": 0,
    "start_time": "2023-05-26T17:36:49.219Z"
   },
   {
    "duration": 0,
    "start_time": "2023-05-26T17:36:49.219Z"
   },
   {
    "duration": 0,
    "start_time": "2023-05-26T17:36:49.220Z"
   },
   {
    "duration": 0,
    "start_time": "2023-05-26T17:36:49.221Z"
   },
   {
    "duration": 0,
    "start_time": "2023-05-26T17:36:49.222Z"
   },
   {
    "duration": 0,
    "start_time": "2023-05-26T17:36:49.222Z"
   },
   {
    "duration": 0,
    "start_time": "2023-05-26T17:36:49.226Z"
   },
   {
    "duration": 0,
    "start_time": "2023-05-26T17:36:49.228Z"
   },
   {
    "duration": 0,
    "start_time": "2023-05-26T17:36:49.230Z"
   },
   {
    "duration": 0,
    "start_time": "2023-05-26T17:36:49.231Z"
   },
   {
    "duration": 0,
    "start_time": "2023-05-26T17:36:49.232Z"
   },
   {
    "duration": 0,
    "start_time": "2023-05-26T17:36:49.233Z"
   },
   {
    "duration": 0,
    "start_time": "2023-05-26T17:36:49.235Z"
   },
   {
    "duration": 0,
    "start_time": "2023-05-26T17:36:49.235Z"
   },
   {
    "duration": 0,
    "start_time": "2023-05-26T17:36:49.236Z"
   },
   {
    "duration": 0,
    "start_time": "2023-05-26T17:36:49.237Z"
   },
   {
    "duration": 0,
    "start_time": "2023-05-26T17:36:49.238Z"
   },
   {
    "duration": 0,
    "start_time": "2023-05-26T17:36:49.239Z"
   },
   {
    "duration": 0,
    "start_time": "2023-05-26T17:36:49.239Z"
   },
   {
    "duration": 0,
    "start_time": "2023-05-26T17:36:49.240Z"
   },
   {
    "duration": 0,
    "start_time": "2023-05-26T17:36:49.241Z"
   },
   {
    "duration": 0,
    "start_time": "2023-05-26T17:36:49.242Z"
   },
   {
    "duration": 0,
    "start_time": "2023-05-26T17:36:49.242Z"
   },
   {
    "duration": 0,
    "start_time": "2023-05-26T17:36:49.243Z"
   },
   {
    "duration": 0,
    "start_time": "2023-05-26T17:36:49.244Z"
   },
   {
    "duration": 0,
    "start_time": "2023-05-26T17:36:49.244Z"
   },
   {
    "duration": 0,
    "start_time": "2023-05-26T17:36:49.245Z"
   },
   {
    "duration": 0,
    "start_time": "2023-05-26T17:36:49.246Z"
   },
   {
    "duration": 0,
    "start_time": "2023-05-26T17:36:49.247Z"
   },
   {
    "duration": 0,
    "start_time": "2023-05-26T17:36:49.248Z"
   },
   {
    "duration": 0,
    "start_time": "2023-05-26T17:36:49.249Z"
   },
   {
    "duration": 0,
    "start_time": "2023-05-26T17:36:49.250Z"
   },
   {
    "duration": 0,
    "start_time": "2023-05-26T17:36:49.250Z"
   },
   {
    "duration": 0,
    "start_time": "2023-05-26T17:36:49.295Z"
   },
   {
    "duration": 0,
    "start_time": "2023-05-26T17:36:49.296Z"
   },
   {
    "duration": 0,
    "start_time": "2023-05-26T17:36:49.297Z"
   },
   {
    "duration": 1,
    "start_time": "2023-05-26T17:36:49.298Z"
   },
   {
    "duration": 0,
    "start_time": "2023-05-26T17:36:49.300Z"
   },
   {
    "duration": 0,
    "start_time": "2023-05-26T17:36:49.301Z"
   },
   {
    "duration": 0,
    "start_time": "2023-05-26T17:36:49.302Z"
   },
   {
    "duration": 0,
    "start_time": "2023-05-26T17:36:49.303Z"
   },
   {
    "duration": 15,
    "start_time": "2023-05-26T17:38:22.878Z"
   },
   {
    "duration": 86,
    "start_time": "2023-05-26T17:38:39.079Z"
   },
   {
    "duration": 102,
    "start_time": "2023-05-26T17:39:01.638Z"
   },
   {
    "duration": 11,
    "start_time": "2023-05-26T17:39:27.409Z"
   },
   {
    "duration": 3,
    "start_time": "2023-05-26T17:39:35.854Z"
   },
   {
    "duration": 9,
    "start_time": "2023-05-26T17:41:10.235Z"
   },
   {
    "duration": 3,
    "start_time": "2023-05-26T17:41:10.910Z"
   },
   {
    "duration": 3,
    "start_time": "2023-05-26T17:41:35.962Z"
   },
   {
    "duration": 3,
    "start_time": "2023-05-26T17:41:55.264Z"
   },
   {
    "duration": 224,
    "start_time": "2023-05-26T17:41:55.270Z"
   },
   {
    "duration": 8,
    "start_time": "2023-05-26T17:41:55.496Z"
   },
   {
    "duration": 48,
    "start_time": "2023-05-26T17:41:55.505Z"
   },
   {
    "duration": 18,
    "start_time": "2023-05-26T17:41:55.555Z"
   },
   {
    "duration": 4,
    "start_time": "2023-05-26T17:41:55.574Z"
   },
   {
    "duration": 47,
    "start_time": "2023-05-26T17:41:55.579Z"
   },
   {
    "duration": 18,
    "start_time": "2023-05-26T17:41:55.628Z"
   },
   {
    "duration": 7,
    "start_time": "2023-05-26T17:41:55.647Z"
   },
   {
    "duration": 83,
    "start_time": "2023-05-26T17:41:55.655Z"
   },
   {
    "duration": 8,
    "start_time": "2023-05-26T17:41:55.741Z"
   },
   {
    "duration": 115,
    "start_time": "2023-05-26T17:41:55.751Z"
   },
   {
    "duration": 141,
    "start_time": "2023-05-26T17:41:55.867Z"
   },
   {
    "duration": 137,
    "start_time": "2023-05-26T17:41:56.010Z"
   },
   {
    "duration": 107,
    "start_time": "2023-05-26T17:41:56.149Z"
   },
   {
    "duration": 141,
    "start_time": "2023-05-26T17:41:56.258Z"
   },
   {
    "duration": 4,
    "start_time": "2023-05-26T17:41:56.401Z"
   },
   {
    "duration": 54,
    "start_time": "2023-05-26T17:41:56.406Z"
   },
   {
    "duration": 18,
    "start_time": "2023-05-26T17:41:56.461Z"
   },
   {
    "duration": 58,
    "start_time": "2023-05-26T17:41:56.481Z"
   },
   {
    "duration": 23,
    "start_time": "2023-05-26T17:41:56.541Z"
   },
   {
    "duration": 66,
    "start_time": "2023-05-26T17:41:56.565Z"
   },
   {
    "duration": 261,
    "start_time": "2023-05-26T17:41:56.632Z"
   },
   {
    "duration": 12,
    "start_time": "2023-05-26T17:41:56.895Z"
   },
   {
    "duration": 54,
    "start_time": "2023-05-26T17:41:56.908Z"
   },
   {
    "duration": 7,
    "start_time": "2023-05-26T17:41:56.964Z"
   },
   {
    "duration": 31,
    "start_time": "2023-05-26T17:41:56.972Z"
   },
   {
    "duration": 4,
    "start_time": "2023-05-26T17:41:57.004Z"
   },
   {
    "duration": 44,
    "start_time": "2023-05-26T17:41:57.012Z"
   },
   {
    "duration": 4,
    "start_time": "2023-05-26T17:41:57.057Z"
   },
   {
    "duration": 17,
    "start_time": "2023-05-26T17:41:57.062Z"
   },
   {
    "duration": 8,
    "start_time": "2023-05-26T17:41:57.081Z"
   },
   {
    "duration": 53,
    "start_time": "2023-05-26T17:41:57.099Z"
   },
   {
    "duration": 11,
    "start_time": "2023-05-26T17:41:57.153Z"
   },
   {
    "duration": 48,
    "start_time": "2023-05-26T17:41:57.166Z"
   },
   {
    "duration": 79,
    "start_time": "2023-05-26T17:41:57.216Z"
   },
   {
    "duration": 20,
    "start_time": "2023-05-26T17:41:57.303Z"
   },
   {
    "duration": 206,
    "start_time": "2023-05-26T17:41:57.329Z"
   },
   {
    "duration": 5,
    "start_time": "2023-05-26T17:41:57.536Z"
   },
   {
    "duration": 14,
    "start_time": "2023-05-26T17:41:57.542Z"
   },
   {
    "duration": 204,
    "start_time": "2023-05-26T17:41:57.557Z"
   },
   {
    "duration": 10,
    "start_time": "2023-05-26T17:41:57.762Z"
   },
   {
    "duration": 41,
    "start_time": "2023-05-26T17:41:57.774Z"
   },
   {
    "duration": 28,
    "start_time": "2023-05-26T17:41:57.817Z"
   },
   {
    "duration": 3,
    "start_time": "2023-05-26T17:41:57.847Z"
   },
   {
    "duration": 10,
    "start_time": "2023-05-26T17:41:57.851Z"
   },
   {
    "duration": 33,
    "start_time": "2023-05-26T17:41:57.862Z"
   },
   {
    "duration": 56,
    "start_time": "2023-05-26T17:41:57.896Z"
   },
   {
    "duration": 22,
    "start_time": "2023-05-26T17:41:57.953Z"
   },
   {
    "duration": 4,
    "start_time": "2023-05-26T17:41:57.976Z"
   },
   {
    "duration": 52,
    "start_time": "2023-05-26T17:41:57.981Z"
   },
   {
    "duration": 27,
    "start_time": "2023-05-26T17:41:58.035Z"
   },
   {
    "duration": 4,
    "start_time": "2023-05-26T17:41:58.063Z"
   },
   {
    "duration": 28,
    "start_time": "2023-05-26T17:41:58.068Z"
   },
   {
    "duration": 49,
    "start_time": "2023-05-26T17:41:58.097Z"
   },
   {
    "duration": 8,
    "start_time": "2023-05-26T17:41:58.148Z"
   },
   {
    "duration": 9,
    "start_time": "2023-05-26T17:41:58.157Z"
   },
   {
    "duration": 11,
    "start_time": "2023-05-26T17:41:58.167Z"
   },
   {
    "duration": 49,
    "start_time": "2023-05-26T17:41:58.179Z"
   },
   {
    "duration": 7,
    "start_time": "2023-05-26T17:41:58.230Z"
   },
   {
    "duration": 27,
    "start_time": "2023-05-26T17:41:58.238Z"
   },
   {
    "duration": 4,
    "start_time": "2023-05-26T17:41:58.266Z"
   },
   {
    "duration": 12,
    "start_time": "2023-05-26T17:41:58.271Z"
   },
   {
    "duration": 52,
    "start_time": "2023-05-26T17:41:58.284Z"
   },
   {
    "duration": 7,
    "start_time": "2023-05-26T17:41:58.337Z"
   },
   {
    "duration": 14,
    "start_time": "2023-05-26T17:41:58.345Z"
   },
   {
    "duration": 11,
    "start_time": "2023-05-26T17:41:58.360Z"
   },
   {
    "duration": 68,
    "start_time": "2023-05-26T17:41:58.372Z"
   },
   {
    "duration": 7,
    "start_time": "2023-05-26T17:41:58.441Z"
   },
   {
    "duration": 6,
    "start_time": "2023-05-26T17:41:58.449Z"
   },
   {
    "duration": 10,
    "start_time": "2023-05-26T17:41:58.456Z"
   },
   {
    "duration": 6,
    "start_time": "2023-05-26T17:41:58.467Z"
   },
   {
    "duration": 6,
    "start_time": "2023-05-26T17:41:58.474Z"
   },
   {
    "duration": 54,
    "start_time": "2023-05-26T17:41:58.481Z"
   },
   {
    "duration": 4,
    "start_time": "2023-05-26T17:42:48.510Z"
   },
   {
    "duration": 106,
    "start_time": "2023-05-26T18:02:22.607Z"
   },
   {
    "duration": 109,
    "start_time": "2023-05-26T18:03:01.315Z"
   },
   {
    "duration": 155,
    "start_time": "2023-05-26T18:03:11.036Z"
   },
   {
    "duration": 11,
    "start_time": "2023-05-26T18:03:16.619Z"
   },
   {
    "duration": 61,
    "start_time": "2023-05-26T18:04:20.207Z"
   },
   {
    "duration": 56,
    "start_time": "2023-05-26T18:04:30.625Z"
   },
   {
    "duration": 12,
    "start_time": "2023-05-26T18:04:42.837Z"
   },
   {
    "duration": 16,
    "start_time": "2023-05-26T18:04:53.998Z"
   },
   {
    "duration": 12,
    "start_time": "2023-05-26T18:05:04.456Z"
   },
   {
    "duration": 3,
    "start_time": "2023-05-26T18:05:27.860Z"
   },
   {
    "duration": 12,
    "start_time": "2023-05-26T18:05:33.136Z"
   },
   {
    "duration": 13,
    "start_time": "2023-05-26T18:07:25.180Z"
   },
   {
    "duration": 17,
    "start_time": "2023-05-26T18:08:25.748Z"
   },
   {
    "duration": 9,
    "start_time": "2023-05-26T18:09:13.408Z"
   },
   {
    "duration": 16,
    "start_time": "2023-05-26T18:09:54.556Z"
   },
   {
    "duration": 14,
    "start_time": "2023-05-26T18:10:33.457Z"
   },
   {
    "duration": 11,
    "start_time": "2023-05-26T18:10:41.515Z"
   },
   {
    "duration": 11,
    "start_time": "2023-05-26T18:11:11.838Z"
   },
   {
    "duration": 10,
    "start_time": "2023-05-26T18:11:15.665Z"
   },
   {
    "duration": 52,
    "start_time": "2023-05-26T18:11:58.188Z"
   },
   {
    "duration": 58,
    "start_time": "2023-05-26T18:13:06.881Z"
   },
   {
    "duration": 48,
    "start_time": "2023-05-26T18:13:09.617Z"
   },
   {
    "duration": 52,
    "start_time": "2023-05-26T18:13:17.756Z"
   },
   {
    "duration": 41,
    "start_time": "2023-05-26T18:13:22.223Z"
   },
   {
    "duration": 9,
    "start_time": "2023-05-26T18:13:27.601Z"
   },
   {
    "duration": 41,
    "start_time": "2023-05-26T18:13:59.221Z"
   },
   {
    "duration": 16,
    "start_time": "2023-05-26T18:14:15.932Z"
   },
   {
    "duration": 11,
    "start_time": "2023-05-26T18:14:38.018Z"
   },
   {
    "duration": 13,
    "start_time": "2023-05-26T18:14:46.119Z"
   },
   {
    "duration": 12,
    "start_time": "2023-05-26T18:14:52.526Z"
   },
   {
    "duration": 15,
    "start_time": "2023-05-26T18:14:55.597Z"
   },
   {
    "duration": 16,
    "start_time": "2023-05-26T18:15:01.785Z"
   },
   {
    "duration": 11,
    "start_time": "2023-05-26T18:15:26.828Z"
   },
   {
    "duration": 14,
    "start_time": "2023-05-26T18:17:33.656Z"
   },
   {
    "duration": 14,
    "start_time": "2023-05-26T19:01:07.557Z"
   },
   {
    "duration": 129,
    "start_time": "2023-05-26T19:01:49.683Z"
   },
   {
    "duration": 59,
    "start_time": "2023-05-26T19:17:10.021Z"
   },
   {
    "duration": 58,
    "start_time": "2023-05-26T19:17:14.701Z"
   },
   {
    "duration": 16,
    "start_time": "2023-05-26T19:26:23.009Z"
   },
   {
    "duration": 4,
    "start_time": "2023-05-26T19:26:36.737Z"
   },
   {
    "duration": 299,
    "start_time": "2023-05-26T19:26:36.744Z"
   },
   {
    "duration": 23,
    "start_time": "2023-05-26T19:26:37.047Z"
   },
   {
    "duration": 67,
    "start_time": "2023-05-26T19:26:37.076Z"
   },
   {
    "duration": 33,
    "start_time": "2023-05-26T19:26:37.149Z"
   },
   {
    "duration": 5,
    "start_time": "2023-05-26T19:26:37.186Z"
   },
   {
    "duration": 98,
    "start_time": "2023-05-26T19:26:37.193Z"
   },
   {
    "duration": 37,
    "start_time": "2023-05-26T19:26:37.307Z"
   },
   {
    "duration": 22,
    "start_time": "2023-05-26T19:26:37.346Z"
   },
   {
    "duration": 141,
    "start_time": "2023-05-26T19:26:37.372Z"
   },
   {
    "duration": 206,
    "start_time": "2023-05-26T19:26:37.515Z"
   },
   {
    "duration": 156,
    "start_time": "2023-05-26T19:26:37.722Z"
   },
   {
    "duration": 163,
    "start_time": "2023-05-26T19:26:37.880Z"
   },
   {
    "duration": 142,
    "start_time": "2023-05-26T19:26:38.046Z"
   },
   {
    "duration": 128,
    "start_time": "2023-05-26T19:26:38.190Z"
   },
   {
    "duration": 146,
    "start_time": "2023-05-26T19:26:38.320Z"
   },
   {
    "duration": 3,
    "start_time": "2023-05-26T19:26:38.468Z"
   },
   {
    "duration": 29,
    "start_time": "2023-05-26T19:26:38.473Z"
   },
   {
    "duration": 13,
    "start_time": "2023-05-26T19:26:38.504Z"
   },
   {
    "duration": 14,
    "start_time": "2023-05-26T19:26:38.519Z"
   },
   {
    "duration": 11,
    "start_time": "2023-05-26T19:26:38.535Z"
   },
   {
    "duration": 67,
    "start_time": "2023-05-26T19:26:38.548Z"
   },
   {
    "duration": 272,
    "start_time": "2023-05-26T19:26:38.617Z"
   },
   {
    "duration": 14,
    "start_time": "2023-05-26T19:26:38.891Z"
   },
   {
    "duration": 63,
    "start_time": "2023-05-26T19:26:38.909Z"
   },
   {
    "duration": 8,
    "start_time": "2023-05-26T19:26:38.974Z"
   },
   {
    "duration": 36,
    "start_time": "2023-05-26T19:26:38.983Z"
   },
   {
    "duration": 3,
    "start_time": "2023-05-26T19:26:39.024Z"
   },
   {
    "duration": 14,
    "start_time": "2023-05-26T19:26:39.029Z"
   },
   {
    "duration": 11,
    "start_time": "2023-05-26T19:26:39.045Z"
   },
   {
    "duration": 14,
    "start_time": "2023-05-26T19:26:39.057Z"
   },
   {
    "duration": 7,
    "start_time": "2023-05-26T19:26:39.073Z"
   },
   {
    "duration": 40,
    "start_time": "2023-05-26T19:26:39.082Z"
   },
   {
    "duration": 12,
    "start_time": "2023-05-26T19:26:39.124Z"
   },
   {
    "duration": 33,
    "start_time": "2023-05-26T19:26:39.137Z"
   },
   {
    "duration": 94,
    "start_time": "2023-05-26T19:26:39.173Z"
   },
   {
    "duration": 9,
    "start_time": "2023-05-26T19:26:39.269Z"
   },
   {
    "duration": 51,
    "start_time": "2023-05-26T19:26:39.279Z"
   },
   {
    "duration": 8,
    "start_time": "2023-05-26T19:26:39.332Z"
   },
   {
    "duration": 19,
    "start_time": "2023-05-26T19:26:39.341Z"
   },
   {
    "duration": 182,
    "start_time": "2023-05-26T19:26:39.361Z"
   },
   {
    "duration": 13,
    "start_time": "2023-05-26T19:26:39.545Z"
   },
   {
    "duration": 54,
    "start_time": "2023-05-26T19:26:39.560Z"
   },
   {
    "duration": 28,
    "start_time": "2023-05-26T19:26:39.616Z"
   },
   {
    "duration": 3,
    "start_time": "2023-05-26T19:26:39.646Z"
   },
   {
    "duration": 17,
    "start_time": "2023-05-26T19:26:39.651Z"
   },
   {
    "duration": 32,
    "start_time": "2023-05-26T19:26:39.670Z"
   },
   {
    "duration": 64,
    "start_time": "2023-05-26T19:26:39.711Z"
   },
   {
    "duration": 35,
    "start_time": "2023-05-26T19:26:39.777Z"
   },
   {
    "duration": 7,
    "start_time": "2023-05-26T19:26:39.813Z"
   },
   {
    "duration": 17,
    "start_time": "2023-05-26T19:26:39.822Z"
   },
   {
    "duration": 55,
    "start_time": "2023-05-26T19:26:39.841Z"
   },
   {
    "duration": 5,
    "start_time": "2023-05-26T19:26:39.898Z"
   },
   {
    "duration": 27,
    "start_time": "2023-05-26T19:26:39.905Z"
   },
   {
    "duration": 26,
    "start_time": "2023-05-26T19:26:39.933Z"
   },
   {
    "duration": 105,
    "start_time": "2023-05-26T19:26:39.960Z"
   },
   {
    "duration": 47,
    "start_time": "2023-05-26T19:26:40.067Z"
   },
   {
    "duration": 0,
    "start_time": "2023-05-26T19:26:40.116Z"
   },
   {
    "duration": 0,
    "start_time": "2023-05-26T19:26:40.117Z"
   },
   {
    "duration": 0,
    "start_time": "2023-05-26T19:26:40.118Z"
   },
   {
    "duration": 1,
    "start_time": "2023-05-26T19:26:40.119Z"
   },
   {
    "duration": 0,
    "start_time": "2023-05-26T19:26:40.121Z"
   },
   {
    "duration": 0,
    "start_time": "2023-05-26T19:26:40.122Z"
   },
   {
    "duration": 0,
    "start_time": "2023-05-26T19:26:40.123Z"
   },
   {
    "duration": 0,
    "start_time": "2023-05-26T19:26:40.124Z"
   },
   {
    "duration": 0,
    "start_time": "2023-05-26T19:26:40.125Z"
   },
   {
    "duration": 0,
    "start_time": "2023-05-26T19:26:40.127Z"
   },
   {
    "duration": 0,
    "start_time": "2023-05-26T19:26:40.127Z"
   },
   {
    "duration": 0,
    "start_time": "2023-05-26T19:26:40.129Z"
   },
   {
    "duration": 0,
    "start_time": "2023-05-26T19:26:40.130Z"
   },
   {
    "duration": 0,
    "start_time": "2023-05-26T19:26:40.131Z"
   },
   {
    "duration": 0,
    "start_time": "2023-05-26T19:26:40.132Z"
   },
   {
    "duration": 0,
    "start_time": "2023-05-26T19:26:40.134Z"
   },
   {
    "duration": 0,
    "start_time": "2023-05-26T19:26:40.135Z"
   },
   {
    "duration": 0,
    "start_time": "2023-05-26T19:26:40.136Z"
   },
   {
    "duration": 17,
    "start_time": "2023-05-26T19:27:26.348Z"
   },
   {
    "duration": 16,
    "start_time": "2023-05-26T19:28:16.707Z"
   },
   {
    "duration": 5,
    "start_time": "2023-05-26T19:28:27.934Z"
   },
   {
    "duration": 52,
    "start_time": "2023-05-26T19:29:38.513Z"
   },
   {
    "duration": 10,
    "start_time": "2023-05-26T19:29:54.111Z"
   },
   {
    "duration": 15,
    "start_time": "2023-05-26T19:30:54.751Z"
   },
   {
    "duration": 19,
    "start_time": "2023-05-26T19:31:44.607Z"
   },
   {
    "duration": 15,
    "start_time": "2023-05-26T19:33:12.432Z"
   },
   {
    "duration": 15,
    "start_time": "2023-05-26T19:33:54.148Z"
   },
   {
    "duration": 11,
    "start_time": "2023-05-26T19:34:41.047Z"
   },
   {
    "duration": 18,
    "start_time": "2023-05-26T19:35:34.460Z"
   },
   {
    "duration": 11,
    "start_time": "2023-05-26T19:37:20.748Z"
   },
   {
    "duration": 12,
    "start_time": "2023-05-26T19:38:14.333Z"
   },
   {
    "duration": 13,
    "start_time": "2023-05-26T19:39:21.907Z"
   },
   {
    "duration": 12,
    "start_time": "2023-05-26T19:40:45.327Z"
   },
   {
    "duration": 15,
    "start_time": "2023-05-26T19:53:25.173Z"
   },
   {
    "duration": 18,
    "start_time": "2023-05-26T19:54:15.281Z"
   },
   {
    "duration": 12,
    "start_time": "2023-05-26T19:54:16.935Z"
   },
   {
    "duration": 16,
    "start_time": "2023-05-26T19:55:08.173Z"
   },
   {
    "duration": 11,
    "start_time": "2023-05-26T19:57:06.736Z"
   },
   {
    "duration": 30,
    "start_time": "2023-05-26T19:57:10.080Z"
   },
   {
    "duration": 14,
    "start_time": "2023-05-26T20:00:44.611Z"
   },
   {
    "duration": 10,
    "start_time": "2023-05-26T20:04:36.713Z"
   },
   {
    "duration": 4,
    "start_time": "2023-05-26T20:04:51.140Z"
   },
   {
    "duration": 12,
    "start_time": "2023-05-26T20:05:02.815Z"
   },
   {
    "duration": 20,
    "start_time": "2023-05-26T20:06:42.489Z"
   },
   {
    "duration": 7,
    "start_time": "2023-05-26T20:08:45.766Z"
   },
   {
    "duration": 10,
    "start_time": "2023-05-26T20:54:55.799Z"
   },
   {
    "duration": 9,
    "start_time": "2023-05-26T20:58:22.048Z"
   },
   {
    "duration": 8,
    "start_time": "2023-05-26T20:58:23.132Z"
   },
   {
    "duration": 8,
    "start_time": "2023-05-26T20:58:25.641Z"
   },
   {
    "duration": 12,
    "start_time": "2023-05-26T20:59:01.616Z"
   },
   {
    "duration": 14,
    "start_time": "2023-05-26T20:59:28.089Z"
   },
   {
    "duration": 3,
    "start_time": "2023-05-26T20:59:37.452Z"
   },
   {
    "duration": 176,
    "start_time": "2023-05-26T20:59:37.457Z"
   },
   {
    "duration": 7,
    "start_time": "2023-05-26T20:59:37.634Z"
   },
   {
    "duration": 42,
    "start_time": "2023-05-26T20:59:37.643Z"
   },
   {
    "duration": 29,
    "start_time": "2023-05-26T20:59:37.687Z"
   },
   {
    "duration": 7,
    "start_time": "2023-05-26T20:59:37.717Z"
   },
   {
    "duration": 18,
    "start_time": "2023-05-26T20:59:37.725Z"
   },
   {
    "duration": 13,
    "start_time": "2023-05-26T20:59:37.744Z"
   },
   {
    "duration": 7,
    "start_time": "2023-05-26T20:59:37.784Z"
   },
   {
    "duration": 63,
    "start_time": "2023-05-26T20:59:37.793Z"
   },
   {
    "duration": 9,
    "start_time": "2023-05-26T20:59:37.857Z"
   },
   {
    "duration": 103,
    "start_time": "2023-05-26T20:59:37.868Z"
   },
   {
    "duration": 145,
    "start_time": "2023-05-26T20:59:37.973Z"
   },
   {
    "duration": 95,
    "start_time": "2023-05-26T20:59:38.120Z"
   },
   {
    "duration": 88,
    "start_time": "2023-05-26T20:59:38.217Z"
   },
   {
    "duration": 107,
    "start_time": "2023-05-26T20:59:38.308Z"
   },
   {
    "duration": 3,
    "start_time": "2023-05-26T20:59:38.417Z"
   },
   {
    "duration": 10,
    "start_time": "2023-05-26T20:59:38.422Z"
   },
   {
    "duration": 3,
    "start_time": "2023-05-26T20:59:38.434Z"
   },
   {
    "duration": 3,
    "start_time": "2023-05-26T20:59:38.439Z"
   },
   {
    "duration": 4,
    "start_time": "2023-05-26T20:59:38.444Z"
   },
   {
    "duration": 53,
    "start_time": "2023-05-26T20:59:38.450Z"
   },
   {
    "duration": 211,
    "start_time": "2023-05-26T20:59:38.505Z"
   },
   {
    "duration": 11,
    "start_time": "2023-05-26T20:59:38.719Z"
   },
   {
    "duration": 26,
    "start_time": "2023-05-26T20:59:38.731Z"
   },
   {
    "duration": 29,
    "start_time": "2023-05-26T20:59:38.759Z"
   },
   {
    "duration": 29,
    "start_time": "2023-05-26T20:59:38.791Z"
   },
   {
    "duration": 4,
    "start_time": "2023-05-26T20:59:38.821Z"
   },
   {
    "duration": 16,
    "start_time": "2023-05-26T20:59:38.826Z"
   },
   {
    "duration": 7,
    "start_time": "2023-05-26T20:59:38.843Z"
   },
   {
    "duration": 13,
    "start_time": "2023-05-26T20:59:38.851Z"
   },
   {
    "duration": 5,
    "start_time": "2023-05-26T20:59:38.866Z"
   },
   {
    "duration": 13,
    "start_time": "2023-05-26T20:59:38.884Z"
   },
   {
    "duration": 8,
    "start_time": "2023-05-26T20:59:38.899Z"
   },
   {
    "duration": 42,
    "start_time": "2023-05-26T20:59:38.909Z"
   },
   {
    "duration": 73,
    "start_time": "2023-05-26T20:59:38.952Z"
   },
   {
    "duration": 7,
    "start_time": "2023-05-26T20:59:39.027Z"
   },
   {
    "duration": 30,
    "start_time": "2023-05-26T20:59:39.036Z"
   },
   {
    "duration": 28,
    "start_time": "2023-05-26T20:59:39.067Z"
   },
   {
    "duration": 38,
    "start_time": "2023-05-26T20:59:39.097Z"
   },
   {
    "duration": 143,
    "start_time": "2023-05-26T20:59:39.137Z"
   },
   {
    "duration": 13,
    "start_time": "2023-05-26T20:59:39.282Z"
   },
   {
    "duration": 51,
    "start_time": "2023-05-26T20:59:39.297Z"
   },
   {
    "duration": 25,
    "start_time": "2023-05-26T20:59:39.350Z"
   },
   {
    "duration": 20,
    "start_time": "2023-05-26T20:59:39.377Z"
   },
   {
    "duration": 33,
    "start_time": "2023-05-26T20:59:39.399Z"
   },
   {
    "duration": 14,
    "start_time": "2023-05-26T20:59:39.434Z"
   },
   {
    "duration": 60,
    "start_time": "2023-05-26T20:59:39.450Z"
   },
   {
    "duration": 23,
    "start_time": "2023-05-26T20:59:39.512Z"
   },
   {
    "duration": 3,
    "start_time": "2023-05-26T20:59:39.537Z"
   },
   {
    "duration": 16,
    "start_time": "2023-05-26T20:59:39.542Z"
   },
   {
    "duration": 41,
    "start_time": "2023-05-26T20:59:39.559Z"
   },
   {
    "duration": 5,
    "start_time": "2023-05-26T20:59:39.602Z"
   },
   {
    "duration": 17,
    "start_time": "2023-05-26T20:59:39.609Z"
   },
   {
    "duration": 25,
    "start_time": "2023-05-26T20:59:39.627Z"
   },
   {
    "duration": 5,
    "start_time": "2023-05-26T20:59:39.654Z"
   },
   {
    "duration": 16,
    "start_time": "2023-05-26T20:59:39.660Z"
   },
   {
    "duration": 13,
    "start_time": "2023-05-26T20:59:39.677Z"
   },
   {
    "duration": 17,
    "start_time": "2023-05-26T20:59:39.692Z"
   },
   {
    "duration": 11,
    "start_time": "2023-05-26T20:59:39.711Z"
   },
   {
    "duration": 23,
    "start_time": "2023-05-26T20:59:39.724Z"
   },
   {
    "duration": 4,
    "start_time": "2023-05-26T20:59:39.748Z"
   },
   {
    "duration": 34,
    "start_time": "2023-05-26T20:59:39.753Z"
   },
   {
    "duration": 15,
    "start_time": "2023-05-26T20:59:39.789Z"
   },
   {
    "duration": 21,
    "start_time": "2023-05-26T20:59:39.806Z"
   },
   {
    "duration": 10,
    "start_time": "2023-05-26T20:59:39.829Z"
   },
   {
    "duration": 11,
    "start_time": "2023-05-26T20:59:39.840Z"
   },
   {
    "duration": 40,
    "start_time": "2023-05-26T20:59:39.852Z"
   },
   {
    "duration": 14,
    "start_time": "2023-05-26T20:59:39.899Z"
   },
   {
    "duration": 15,
    "start_time": "2023-05-26T20:59:39.914Z"
   },
   {
    "duration": 17,
    "start_time": "2023-05-26T20:59:39.931Z"
   },
   {
    "duration": 10,
    "start_time": "2023-05-26T20:59:39.949Z"
   },
   {
    "duration": 7,
    "start_time": "2023-05-26T20:59:39.961Z"
   },
   {
    "duration": 25,
    "start_time": "2023-05-26T20:59:39.969Z"
   },
   {
    "duration": 20,
    "start_time": "2023-05-26T20:59:39.996Z"
   },
   {
    "duration": 11,
    "start_time": "2023-05-26T20:59:40.018Z"
   },
   {
    "duration": 10,
    "start_time": "2023-05-26T20:59:40.030Z"
   },
   {
    "duration": 9,
    "start_time": "2023-05-26T20:59:40.042Z"
   },
   {
    "duration": 13,
    "start_time": "2023-05-26T21:00:05.810Z"
   },
   {
    "duration": 3,
    "start_time": "2023-05-26T21:27:10.038Z"
   },
   {
    "duration": 144,
    "start_time": "2023-05-26T21:27:10.044Z"
   },
   {
    "duration": 6,
    "start_time": "2023-05-26T21:27:10.190Z"
   },
   {
    "duration": 24,
    "start_time": "2023-05-26T21:27:10.198Z"
   },
   {
    "duration": 20,
    "start_time": "2023-05-26T21:27:10.224Z"
   },
   {
    "duration": 4,
    "start_time": "2023-05-26T21:27:10.246Z"
   },
   {
    "duration": 39,
    "start_time": "2023-05-26T21:27:10.251Z"
   },
   {
    "duration": 12,
    "start_time": "2023-05-26T21:27:10.291Z"
   },
   {
    "duration": 6,
    "start_time": "2023-05-26T21:27:10.304Z"
   },
   {
    "duration": 81,
    "start_time": "2023-05-26T21:27:10.311Z"
   },
   {
    "duration": 19,
    "start_time": "2023-05-26T21:27:10.396Z"
   },
   {
    "duration": 114,
    "start_time": "2023-05-26T21:27:10.417Z"
   },
   {
    "duration": 110,
    "start_time": "2023-05-26T21:27:10.533Z"
   },
   {
    "duration": 85,
    "start_time": "2023-05-26T21:27:10.644Z"
   },
   {
    "duration": 76,
    "start_time": "2023-05-26T21:27:10.731Z"
   },
   {
    "duration": 84,
    "start_time": "2023-05-26T21:27:10.809Z"
   },
   {
    "duration": 2,
    "start_time": "2023-05-26T21:27:10.895Z"
   },
   {
    "duration": 22,
    "start_time": "2023-05-26T21:27:10.898Z"
   },
   {
    "duration": 6,
    "start_time": "2023-05-26T21:27:10.922Z"
   },
   {
    "duration": 8,
    "start_time": "2023-05-26T21:27:10.929Z"
   },
   {
    "duration": 6,
    "start_time": "2023-05-26T21:27:10.938Z"
   },
   {
    "duration": 37,
    "start_time": "2023-05-26T21:27:10.946Z"
   },
   {
    "duration": 189,
    "start_time": "2023-05-26T21:27:10.984Z"
   },
   {
    "duration": 20,
    "start_time": "2023-05-26T21:27:11.174Z"
   },
   {
    "duration": 26,
    "start_time": "2023-05-26T21:27:11.196Z"
   },
   {
    "duration": 6,
    "start_time": "2023-05-26T21:27:11.224Z"
   },
   {
    "duration": 21,
    "start_time": "2023-05-26T21:27:11.231Z"
   },
   {
    "duration": 3,
    "start_time": "2023-05-26T21:27:11.254Z"
   },
   {
    "duration": 33,
    "start_time": "2023-05-26T21:27:11.260Z"
   },
   {
    "duration": 4,
    "start_time": "2023-05-26T21:27:11.294Z"
   },
   {
    "duration": 25,
    "start_time": "2023-05-26T21:27:11.299Z"
   },
   {
    "duration": 3,
    "start_time": "2023-05-26T21:27:11.325Z"
   },
   {
    "duration": 21,
    "start_time": "2023-05-26T21:27:11.330Z"
   },
   {
    "duration": 7,
    "start_time": "2023-05-26T21:27:11.353Z"
   },
   {
    "duration": 36,
    "start_time": "2023-05-26T21:27:11.361Z"
   },
   {
    "duration": 54,
    "start_time": "2023-05-26T21:27:11.399Z"
   },
   {
    "duration": 7,
    "start_time": "2023-05-26T21:27:11.455Z"
   },
   {
    "duration": 24,
    "start_time": "2023-05-26T21:27:11.463Z"
   },
   {
    "duration": 6,
    "start_time": "2023-05-26T21:27:11.488Z"
   },
   {
    "duration": 9,
    "start_time": "2023-05-26T21:27:11.496Z"
   },
   {
    "duration": 147,
    "start_time": "2023-05-26T21:27:11.507Z"
   },
   {
    "duration": 78,
    "start_time": "2023-05-26T21:27:11.655Z"
   },
   {
    "duration": 28,
    "start_time": "2023-05-26T21:27:11.735Z"
   },
   {
    "duration": 35,
    "start_time": "2023-05-26T21:27:11.764Z"
   },
   {
    "duration": 3,
    "start_time": "2023-05-26T21:27:11.801Z"
   },
   {
    "duration": 16,
    "start_time": "2023-05-26T21:27:11.805Z"
   },
   {
    "duration": 3,
    "start_time": "2023-05-26T21:27:11.822Z"
   },
   {
    "duration": 39,
    "start_time": "2023-05-26T21:27:11.826Z"
   },
   {
    "duration": 36,
    "start_time": "2023-05-26T21:27:11.867Z"
   },
   {
    "duration": 3,
    "start_time": "2023-05-26T21:27:11.904Z"
   },
   {
    "duration": 21,
    "start_time": "2023-05-26T21:27:11.909Z"
   },
   {
    "duration": 33,
    "start_time": "2023-05-26T21:27:11.932Z"
   },
   {
    "duration": 4,
    "start_time": "2023-05-26T21:27:11.966Z"
   },
   {
    "duration": 21,
    "start_time": "2023-05-26T21:27:11.971Z"
   },
   {
    "duration": 25,
    "start_time": "2023-05-26T21:27:11.993Z"
   },
   {
    "duration": 35,
    "start_time": "2023-05-26T21:27:12.020Z"
   },
   {
    "duration": 16,
    "start_time": "2023-05-26T21:27:12.057Z"
   },
   {
    "duration": 9,
    "start_time": "2023-05-26T21:27:12.075Z"
   },
   {
    "duration": 39,
    "start_time": "2023-05-26T21:27:12.086Z"
   },
   {
    "duration": 36,
    "start_time": "2023-05-26T21:27:12.127Z"
   },
   {
    "duration": 28,
    "start_time": "2023-05-26T21:27:12.164Z"
   },
   {
    "duration": 3,
    "start_time": "2023-05-26T21:27:12.194Z"
   },
   {
    "duration": 17,
    "start_time": "2023-05-26T21:27:12.199Z"
   },
   {
    "duration": 40,
    "start_time": "2023-05-26T21:27:12.218Z"
   },
   {
    "duration": 31,
    "start_time": "2023-05-26T21:27:12.259Z"
   },
   {
    "duration": 10,
    "start_time": "2023-05-26T21:27:12.291Z"
   },
   {
    "duration": 17,
    "start_time": "2023-05-26T21:27:12.302Z"
   },
   {
    "duration": 11,
    "start_time": "2023-05-26T21:27:12.320Z"
   },
   {
    "duration": 12,
    "start_time": "2023-05-26T21:27:12.332Z"
   },
   {
    "duration": 11,
    "start_time": "2023-05-26T21:27:12.345Z"
   },
   {
    "duration": 35,
    "start_time": "2023-05-26T21:27:12.358Z"
   },
   {
    "duration": 12,
    "start_time": "2023-05-26T21:27:12.395Z"
   },
   {
    "duration": 11,
    "start_time": "2023-05-26T21:27:12.409Z"
   },
   {
    "duration": 14,
    "start_time": "2023-05-26T21:27:12.422Z"
   },
   {
    "duration": 11,
    "start_time": "2023-05-26T21:27:12.438Z"
   },
   {
    "duration": 41,
    "start_time": "2023-05-26T21:27:12.451Z"
   },
   {
    "duration": 11,
    "start_time": "2023-05-26T21:27:12.494Z"
   },
   {
    "duration": 8,
    "start_time": "2023-05-26T21:27:12.507Z"
   },
   {
    "duration": 985,
    "start_time": "2023-05-26T21:29:20.747Z"
   },
   {
    "duration": 143,
    "start_time": "2023-05-26T21:29:21.734Z"
   },
   {
    "duration": 11,
    "start_time": "2023-05-26T21:29:21.878Z"
   },
   {
    "duration": 18,
    "start_time": "2023-05-26T21:29:21.892Z"
   },
   {
    "duration": 18,
    "start_time": "2023-05-26T21:29:21.912Z"
   },
   {
    "duration": 10,
    "start_time": "2023-05-26T21:29:21.932Z"
   },
   {
    "duration": 42,
    "start_time": "2023-05-26T21:29:21.943Z"
   },
   {
    "duration": 12,
    "start_time": "2023-05-26T21:29:21.987Z"
   },
   {
    "duration": 13,
    "start_time": "2023-05-26T21:29:22.001Z"
   },
   {
    "duration": 57,
    "start_time": "2023-05-26T21:29:22.016Z"
   },
   {
    "duration": 10,
    "start_time": "2023-05-26T21:29:22.084Z"
   },
   {
    "duration": 101,
    "start_time": "2023-05-26T21:29:22.095Z"
   },
   {
    "duration": 126,
    "start_time": "2023-05-26T21:29:22.198Z"
   },
   {
    "duration": 87,
    "start_time": "2023-05-26T21:29:22.326Z"
   },
   {
    "duration": 84,
    "start_time": "2023-05-26T21:29:22.415Z"
   },
   {
    "duration": 91,
    "start_time": "2023-05-26T21:29:22.500Z"
   },
   {
    "duration": 3,
    "start_time": "2023-05-26T21:29:22.592Z"
   },
   {
    "duration": 8,
    "start_time": "2023-05-26T21:29:22.597Z"
   },
   {
    "duration": 3,
    "start_time": "2023-05-26T21:29:22.606Z"
   },
   {
    "duration": 4,
    "start_time": "2023-05-26T21:29:22.611Z"
   },
   {
    "duration": 12,
    "start_time": "2023-05-26T21:29:22.616Z"
   },
   {
    "duration": 36,
    "start_time": "2023-05-26T21:29:22.629Z"
   },
   {
    "duration": 280,
    "start_time": "2023-05-26T21:29:22.667Z"
   },
   {
    "duration": 10,
    "start_time": "2023-05-26T21:29:22.949Z"
   },
   {
    "duration": 40,
    "start_time": "2023-05-26T21:29:22.961Z"
   },
   {
    "duration": 13,
    "start_time": "2023-05-26T21:29:23.003Z"
   },
   {
    "duration": 20,
    "start_time": "2023-05-26T21:29:23.017Z"
   },
   {
    "duration": 3,
    "start_time": "2023-05-26T21:29:23.041Z"
   },
   {
    "duration": 15,
    "start_time": "2023-05-26T21:29:23.046Z"
   },
   {
    "duration": 8,
    "start_time": "2023-05-26T21:29:23.063Z"
   },
   {
    "duration": 18,
    "start_time": "2023-05-26T21:29:23.073Z"
   },
   {
    "duration": 3,
    "start_time": "2023-05-26T21:29:23.093Z"
   },
   {
    "duration": 9,
    "start_time": "2023-05-26T21:29:23.097Z"
   },
   {
    "duration": 7,
    "start_time": "2023-05-26T21:29:23.108Z"
   },
   {
    "duration": 29,
    "start_time": "2023-05-26T21:29:23.116Z"
   },
   {
    "duration": 76,
    "start_time": "2023-05-26T21:29:23.146Z"
   },
   {
    "duration": 7,
    "start_time": "2023-05-26T21:29:23.224Z"
   },
   {
    "duration": 155,
    "start_time": "2023-05-26T21:29:23.232Z"
   },
   {
    "duration": 6,
    "start_time": "2023-05-26T21:29:23.388Z"
   },
   {
    "duration": 10,
    "start_time": "2023-05-26T21:29:23.396Z"
   },
   {
    "duration": 199,
    "start_time": "2023-05-26T21:29:23.407Z"
   },
   {
    "duration": 10,
    "start_time": "2023-05-26T21:29:23.608Z"
   },
   {
    "duration": 42,
    "start_time": "2023-05-26T21:29:23.619Z"
   },
   {
    "duration": 38,
    "start_time": "2023-05-26T21:29:23.663Z"
   },
   {
    "duration": 3,
    "start_time": "2023-05-26T21:29:23.702Z"
   },
   {
    "duration": 10,
    "start_time": "2023-05-26T21:29:23.707Z"
   },
   {
    "duration": 3,
    "start_time": "2023-05-26T21:29:23.719Z"
   },
   {
    "duration": 39,
    "start_time": "2023-05-26T21:29:23.724Z"
   },
   {
    "duration": 40,
    "start_time": "2023-05-26T21:29:23.764Z"
   },
   {
    "duration": 3,
    "start_time": "2023-05-26T21:29:23.806Z"
   },
   {
    "duration": 12,
    "start_time": "2023-05-26T21:29:23.811Z"
   },
   {
    "duration": 25,
    "start_time": "2023-05-26T21:29:23.824Z"
   },
   {
    "duration": 4,
    "start_time": "2023-05-26T21:29:23.850Z"
   },
   {
    "duration": 30,
    "start_time": "2023-05-26T21:29:23.855Z"
   },
   {
    "duration": 19,
    "start_time": "2023-05-26T21:29:23.887Z"
   },
   {
    "duration": 7,
    "start_time": "2023-05-26T21:29:23.907Z"
   },
   {
    "duration": 26,
    "start_time": "2023-05-26T21:29:23.916Z"
   },
   {
    "duration": 10,
    "start_time": "2023-05-26T21:29:23.943Z"
   },
   {
    "duration": 29,
    "start_time": "2023-05-26T21:29:23.955Z"
   },
   {
    "duration": 12,
    "start_time": "2023-05-26T21:29:23.986Z"
   },
   {
    "duration": 23,
    "start_time": "2023-05-26T21:29:24.000Z"
   },
   {
    "duration": 3,
    "start_time": "2023-05-26T21:29:24.025Z"
   },
   {
    "duration": 9,
    "start_time": "2023-05-26T21:29:24.030Z"
   },
   {
    "duration": 18,
    "start_time": "2023-05-26T21:29:24.040Z"
   },
   {
    "duration": 38,
    "start_time": "2023-05-26T21:29:24.059Z"
   },
   {
    "duration": 14,
    "start_time": "2023-05-26T21:29:24.100Z"
   },
   {
    "duration": 11,
    "start_time": "2023-05-26T21:29:24.115Z"
   },
   {
    "duration": 10,
    "start_time": "2023-05-26T21:29:24.127Z"
   },
   {
    "duration": 10,
    "start_time": "2023-05-26T21:29:24.138Z"
   },
   {
    "duration": 11,
    "start_time": "2023-05-26T21:29:24.185Z"
   },
   {
    "duration": 12,
    "start_time": "2023-05-26T21:29:24.197Z"
   },
   {
    "duration": 16,
    "start_time": "2023-05-26T21:29:24.211Z"
   },
   {
    "duration": 19,
    "start_time": "2023-05-26T21:29:24.228Z"
   },
   {
    "duration": 12,
    "start_time": "2023-05-26T21:29:24.248Z"
   },
   {
    "duration": 10,
    "start_time": "2023-05-26T21:29:24.284Z"
   },
   {
    "duration": 12,
    "start_time": "2023-05-26T21:29:24.296Z"
   },
   {
    "duration": 9,
    "start_time": "2023-05-26T21:29:24.309Z"
   },
   {
    "duration": 8,
    "start_time": "2023-05-26T21:29:24.319Z"
   },
   {
    "duration": 1330,
    "start_time": "2023-05-26T22:05:12.204Z"
   },
   {
    "duration": 203,
    "start_time": "2023-05-26T22:05:13.536Z"
   },
   {
    "duration": 26,
    "start_time": "2023-05-26T22:05:13.741Z"
   },
   {
    "duration": 33,
    "start_time": "2023-05-26T22:05:13.770Z"
   },
   {
    "duration": 31,
    "start_time": "2023-05-26T22:05:13.805Z"
   },
   {
    "duration": 26,
    "start_time": "2023-05-26T22:05:13.837Z"
   },
   {
    "duration": 42,
    "start_time": "2023-05-26T22:05:13.866Z"
   },
   {
    "duration": 20,
    "start_time": "2023-05-26T22:05:13.910Z"
   },
   {
    "duration": 25,
    "start_time": "2023-05-26T22:05:13.931Z"
   },
   {
    "duration": 106,
    "start_time": "2023-05-26T22:05:13.965Z"
   },
   {
    "duration": 10,
    "start_time": "2023-05-26T22:05:14.073Z"
   },
   {
    "duration": 151,
    "start_time": "2023-05-26T22:05:14.085Z"
   },
   {
    "duration": 157,
    "start_time": "2023-05-26T22:05:14.238Z"
   },
   {
    "duration": 124,
    "start_time": "2023-05-26T22:05:14.396Z"
   },
   {
    "duration": 100,
    "start_time": "2023-05-26T22:05:14.522Z"
   },
   {
    "duration": 140,
    "start_time": "2023-05-26T22:05:14.624Z"
   },
   {
    "duration": 8,
    "start_time": "2023-05-26T22:05:14.768Z"
   },
   {
    "duration": 22,
    "start_time": "2023-05-26T22:05:14.778Z"
   },
   {
    "duration": 16,
    "start_time": "2023-05-26T22:05:14.802Z"
   },
   {
    "duration": 13,
    "start_time": "2023-05-26T22:05:14.820Z"
   },
   {
    "duration": 20,
    "start_time": "2023-05-26T22:05:14.834Z"
   },
   {
    "duration": 68,
    "start_time": "2023-05-26T22:05:14.857Z"
   },
   {
    "duration": 356,
    "start_time": "2023-05-26T22:05:14.927Z"
   },
   {
    "duration": 14,
    "start_time": "2023-05-26T22:05:15.285Z"
   },
   {
    "duration": 58,
    "start_time": "2023-05-26T22:05:15.301Z"
   },
   {
    "duration": 14,
    "start_time": "2023-05-26T22:05:15.364Z"
   },
   {
    "duration": 42,
    "start_time": "2023-05-26T22:05:15.380Z"
   },
   {
    "duration": 3,
    "start_time": "2023-05-26T22:05:15.426Z"
   },
   {
    "duration": 20,
    "start_time": "2023-05-26T22:05:15.449Z"
   },
   {
    "duration": 12,
    "start_time": "2023-05-26T22:05:15.470Z"
   },
   {
    "duration": 32,
    "start_time": "2023-05-26T22:05:15.484Z"
   },
   {
    "duration": 11,
    "start_time": "2023-05-26T22:05:15.518Z"
   },
   {
    "duration": 21,
    "start_time": "2023-05-26T22:05:15.531Z"
   },
   {
    "duration": 25,
    "start_time": "2023-05-26T22:05:15.559Z"
   },
   {
    "duration": 44,
    "start_time": "2023-05-26T22:05:15.586Z"
   },
   {
    "duration": 70,
    "start_time": "2023-05-26T22:05:15.631Z"
   },
   {
    "duration": 8,
    "start_time": "2023-05-26T22:05:15.703Z"
   },
   {
    "duration": 402,
    "start_time": "2023-05-26T22:05:15.713Z"
   },
   {
    "duration": 8,
    "start_time": "2023-05-26T22:05:16.117Z"
   },
   {
    "duration": 24,
    "start_time": "2023-05-26T22:05:16.150Z"
   },
   {
    "duration": 262,
    "start_time": "2023-05-26T22:05:16.176Z"
   },
   {
    "duration": 18,
    "start_time": "2023-05-26T22:05:16.453Z"
   },
   {
    "duration": 44,
    "start_time": "2023-05-26T22:05:16.473Z"
   },
   {
    "duration": 61,
    "start_time": "2023-05-26T22:05:16.519Z"
   },
   {
    "duration": 4,
    "start_time": "2023-05-26T22:05:16.582Z"
   },
   {
    "duration": 16,
    "start_time": "2023-05-26T22:05:16.587Z"
   },
   {
    "duration": 11,
    "start_time": "2023-05-26T22:05:16.604Z"
   },
   {
    "duration": 61,
    "start_time": "2023-05-26T22:05:16.617Z"
   },
   {
    "duration": 33,
    "start_time": "2023-05-26T22:05:16.681Z"
   },
   {
    "duration": 4,
    "start_time": "2023-05-26T22:05:16.716Z"
   },
   {
    "duration": 39,
    "start_time": "2023-05-26T22:05:16.722Z"
   },
   {
    "duration": 50,
    "start_time": "2023-05-26T22:05:16.763Z"
   },
   {
    "duration": 4,
    "start_time": "2023-05-26T22:05:16.815Z"
   },
   {
    "duration": 17,
    "start_time": "2023-05-26T22:05:16.821Z"
   },
   {
    "duration": 71,
    "start_time": "2023-05-26T22:05:16.840Z"
   },
   {
    "duration": 12,
    "start_time": "2023-05-26T22:05:16.913Z"
   },
   {
    "duration": 18,
    "start_time": "2023-05-26T22:05:16.926Z"
   },
   {
    "duration": 20,
    "start_time": "2023-05-26T22:05:16.945Z"
   },
   {
    "duration": 33,
    "start_time": "2023-05-26T22:05:16.971Z"
   },
   {
    "duration": 16,
    "start_time": "2023-05-26T22:05:17.007Z"
   },
   {
    "duration": 33,
    "start_time": "2023-05-26T22:05:17.025Z"
   },
   {
    "duration": 7,
    "start_time": "2023-05-26T22:05:17.060Z"
   },
   {
    "duration": 16,
    "start_time": "2023-05-26T22:05:17.070Z"
   },
   {
    "duration": 19,
    "start_time": "2023-05-26T22:05:17.089Z"
   },
   {
    "duration": 20,
    "start_time": "2023-05-26T22:05:17.110Z"
   },
   {
    "duration": 32,
    "start_time": "2023-05-26T22:05:17.132Z"
   },
   {
    "duration": 18,
    "start_time": "2023-05-26T22:05:17.170Z"
   },
   {
    "duration": 12,
    "start_time": "2023-05-26T22:05:17.190Z"
   },
   {
    "duration": 22,
    "start_time": "2023-05-26T22:05:17.204Z"
   },
   {
    "duration": 28,
    "start_time": "2023-05-26T22:05:17.228Z"
   },
   {
    "duration": 12,
    "start_time": "2023-05-26T22:05:17.263Z"
   },
   {
    "duration": 23,
    "start_time": "2023-05-26T22:05:17.277Z"
   },
   {
    "duration": 20,
    "start_time": "2023-05-26T22:05:17.302Z"
   },
   {
    "duration": 20,
    "start_time": "2023-05-26T22:05:17.324Z"
   },
   {
    "duration": 30,
    "start_time": "2023-05-26T22:05:17.348Z"
   },
   {
    "duration": 15,
    "start_time": "2023-05-26T22:05:17.380Z"
   },
   {
    "duration": 10,
    "start_time": "2023-05-26T22:05:17.397Z"
   },
   {
    "duration": 13,
    "start_time": "2023-05-26T22:05:17.409Z"
   }
  ],
  "kernelspec": {
   "display_name": "Python 3 (ipykernel)",
   "language": "python",
   "name": "python3"
  },
  "language_info": {
   "codemirror_mode": {
    "name": "ipython",
    "version": 3
   },
   "file_extension": ".py",
   "mimetype": "text/x-python",
   "name": "python",
   "nbconvert_exporter": "python",
   "pygments_lexer": "ipython3",
   "version": "3.9.13"
  },
  "toc": {
   "base_numbering": 1,
   "nav_menu": {
    "height": "294.983px",
    "width": "548.264px"
   },
   "number_sections": true,
   "sideBar": true,
   "skip_h1_title": true,
   "title_cell": "Table of Contents",
   "title_sidebar": "Contents",
   "toc_cell": false,
   "toc_position": {},
   "toc_section_display": true,
   "toc_window_display": true
  }
 },
 "nbformat": 4,
 "nbformat_minor": 2
}
